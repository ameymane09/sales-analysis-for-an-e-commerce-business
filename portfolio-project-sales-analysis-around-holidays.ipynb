{
 "cells": [
  {
   "cell_type": "markdown",
   "id": "60d7982d",
   "metadata": {
    "id": "view-in-github",
    "papermill": {
     "duration": 0.015205,
     "end_time": "2022-12-29T13:38:33.268321",
     "exception": false,
     "start_time": "2022-12-29T13:38:33.253116",
     "status": "completed"
    },
    "tags": []
   },
   "source": [
    "<a href=\"https://colab.research.google.com/github/ameymane09/Holidays-analysis-for-marketing/blob/main/Portfolio_Project_1_Holiday_Marketing_Analysis.ipynb\" target=\"_parent\"><img src=\"https://colab.research.google.com/assets/colab-badge.svg\" alt=\"Open In Colab\"/></a>"
   ]
  },
  {
   "cell_type": "markdown",
   "id": "aaa291cc",
   "metadata": {
    "id": "iuXqEedMY6EQ",
    "papermill": {
     "duration": 0.015284,
     "end_time": "2022-12-29T13:38:33.297440",
     "exception": false,
     "start_time": "2022-12-29T13:38:33.282156",
     "status": "completed"
    },
    "tags": []
   },
   "source": [
    "# Problem Statement"
   ]
  },
  {
   "cell_type": "markdown",
   "id": "c5945776",
   "metadata": {
    "id": "_fRw5a3ZLJPo",
    "papermill": {
     "duration": 0.013471,
     "end_time": "2022-12-29T13:38:33.324711",
     "exception": false,
     "start_time": "2022-12-29T13:38:33.311240",
     "status": "completed"
    },
    "tags": []
   },
   "source": [
    "Having a great marketing strategy in place is key to the success of any business. Without a marketing strategy, you lack focus. And without focus, you will, quite simply, fail to reach any of the goals and objectives that you have set. Any information about customers allows marketers to gain a laser-sharp understanding of their target audience. The marketing budget is being set for the year 2023. The marketing director would like to know which holiday brings in the most money so the team can adjust the marketing dollars. <br><br>\n",
    "### Objective\n",
    "\n",
    "What holidays should the marketing team invest more marketing dollars in? Also, find out whatever other insights you can from the dataset. <br><br>\n",
    "\n",
    "### Instructions\n",
    "\n",
    "Answer the questions (using SQL, Python) and explain your rationale in the write-up:\n",
    "\n",
    "1. How would you segment holidays based on the expenditure of customers\n",
    "2. Which of these segments / sub-segments would you propose be approved?\n",
    "    - For e.g. Does a certain holiday drive the sales of a particular segment of people and how can the marketing team use that to optimize their plan? Would a holiday season’s duration affect the number of sales and how should the marketing team strategize around that?\n",
    "3. What other insights in general can you share about these segments?\n",
    "4. Tell us what your observations were on the data itself (completeness, skews) and how you would treat any anomalies (for eg - missing data)"
   ]
  },
  {
   "cell_type": "markdown",
   "id": "0a41fc8c",
   "metadata": {
    "id": "4WSLZG8PyxQ4",
    "papermill": {
     "duration": 0.01362,
     "end_time": "2022-12-29T13:38:33.352168",
     "exception": false,
     "start_time": "2022-12-29T13:38:33.338548",
     "status": "completed"
    },
    "tags": []
   },
   "source": [
    "# Importing, reading and cleaning the data"
   ]
  },
  {
   "cell_type": "code",
   "execution_count": 1,
   "id": "ef8adf46",
   "metadata": {
    "execution": {
     "iopub.execute_input": "2022-12-29T13:38:33.382055Z",
     "iopub.status.busy": "2022-12-29T13:38:33.381593Z",
     "iopub.status.idle": "2022-12-29T13:38:33.400563Z",
     "shell.execute_reply": "2022-12-29T13:38:33.399358Z"
    },
    "jupyter": {
     "source_hidden": true
    },
    "papermill": {
     "duration": 0.037098,
     "end_time": "2022-12-29T13:38:33.403254",
     "exception": false,
     "start_time": "2022-12-29T13:38:33.366156",
     "status": "completed"
    },
    "tags": []
   },
   "outputs": [
    {
     "name": "stdout",
     "output_type": "stream",
     "text": [
      "/kaggle/input/salesandholidaydata/US_Holiday_Dates_(2004-2021).csv\n",
      "/kaggle/input/salesandholidaydata/Ecommerce_Data.csv\n"
     ]
    }
   ],
   "source": [
    "import os\n",
    "for dirname, _, filenames in os.walk('/kaggle/input'):\n",
    "    for filename in filenames:\n",
    "        print(os.path.join(dirname, filename))"
   ]
  },
  {
   "cell_type": "code",
   "execution_count": 2,
   "id": "f471fcbb",
   "metadata": {
    "execution": {
     "iopub.execute_input": "2022-12-29T13:38:33.434005Z",
     "iopub.status.busy": "2022-12-29T13:38:33.433375Z",
     "iopub.status.idle": "2022-12-29T13:38:36.289240Z",
     "shell.execute_reply": "2022-12-29T13:38:36.287997Z"
    },
    "id": "60EF1of1LCuP",
    "jupyter": {
     "source_hidden": true
    },
    "papermill": {
     "duration": 2.874125,
     "end_time": "2022-12-29T13:38:36.292136",
     "exception": false,
     "start_time": "2022-12-29T13:38:33.418011",
     "status": "completed"
    },
    "tags": []
   },
   "outputs": [
    {
     "name": "stderr",
     "output_type": "stream",
     "text": [
      "/opt/conda/lib/python3.7/site-packages/geopandas/_compat.py:115: UserWarning: The Shapely GEOS version (3.9.1-CAPI-1.14.2) is incompatible with the GEOS version PyGEOS was compiled with (3.10.3-CAPI-1.16.1). Conversions between both will be slow.\n",
      "  shapely_geos_version, geos_capi_version_string\n"
     ]
    }
   ],
   "source": [
    "import numpy as np\n",
    "import pandas as pd\n",
    "import plotly.express as px\n",
    "import plotly.graph_objects as go\n",
    "from plotly.subplots import make_subplots\n",
    "import plotly.figure_factory as ff\n",
    "import calendar\n",
    "from datetime import datetime as dt\n",
    "pd.options.plotting.backend = \"plotly\""
   ]
  },
  {
   "cell_type": "code",
   "execution_count": 3,
   "id": "476a567d",
   "metadata": {
    "execution": {
     "iopub.execute_input": "2022-12-29T13:38:36.322847Z",
     "iopub.status.busy": "2022-12-29T13:38:36.322445Z",
     "iopub.status.idle": "2022-12-29T13:38:36.557391Z",
     "shell.execute_reply": "2022-12-29T13:38:36.556219Z"
    },
    "id": "FWx-o7g7L9Bu",
    "jupyter": {
     "source_hidden": true
    },
    "papermill": {
     "duration": 0.253264,
     "end_time": "2022-12-29T13:38:36.560160",
     "exception": false,
     "start_time": "2022-12-29T13:38:36.306896",
     "status": "completed"
    },
    "tags": []
   },
   "outputs": [],
   "source": [
    "ecom_df = pd.read_csv(\"/kaggle/input/salesandholidaydata/Ecommerce_Data.csv\")\n",
    "holiday_df = pd.read_csv(\"/kaggle/input/salesandholidaydata/US_Holiday_Dates_(2004-2021).csv\")"
   ]
  },
  {
   "cell_type": "code",
   "execution_count": 4,
   "id": "aa760a3a",
   "metadata": {
    "execution": {
     "iopub.execute_input": "2022-12-29T13:38:36.590945Z",
     "iopub.status.busy": "2022-12-29T13:38:36.590559Z",
     "iopub.status.idle": "2022-12-29T13:38:36.677969Z",
     "shell.execute_reply": "2022-12-29T13:38:36.676537Z"
    },
    "id": "W8NNSS0sMdGN",
    "jupyter": {
     "source_hidden": true
    },
    "outputId": "85e9f520-c0c4-47a1-8d92-7e43f96904b8",
    "papermill": {
     "duration": 0.107101,
     "end_time": "2022-12-29T13:38:36.681614",
     "exception": false,
     "start_time": "2022-12-29T13:38:36.574513",
     "status": "completed"
    },
    "tags": []
   },
   "outputs": [
    {
     "name": "stdout",
     "output_type": "stream",
     "text": [
      "<class 'pandas.core.frame.DataFrame'>\n",
      "RangeIndex: 81601 entries, 0 to 81600\n",
      "Data columns (total 10 columns):\n",
      " #   Column       Non-Null Count  Dtype  \n",
      "---  ------       --------------  -----  \n",
      " 0   Unnamed: 0   81601 non-null  int64  \n",
      " 1   InvoiceNo    81601 non-null  object \n",
      " 2   StockCode    81601 non-null  object \n",
      " 3   Description  81601 non-null  object \n",
      " 4   Quantity     81601 non-null  int64  \n",
      " 5   UnitPrice    81601 non-null  float64\n",
      " 6   CustomerID   81601 non-null  int64  \n",
      " 7   Country      81601 non-null  object \n",
      " 8   Date         81601 non-null  object \n",
      " 9   Hour         81601 non-null  int64  \n",
      "dtypes: float64(1), int64(4), object(5)\n",
      "memory usage: 6.2+ MB\n"
     ]
    },
    {
     "data": {
      "text/html": [
       "<div>\n",
       "<style scoped>\n",
       "    .dataframe tbody tr th:only-of-type {\n",
       "        vertical-align: middle;\n",
       "    }\n",
       "\n",
       "    .dataframe tbody tr th {\n",
       "        vertical-align: top;\n",
       "    }\n",
       "\n",
       "    .dataframe thead th {\n",
       "        text-align: right;\n",
       "    }\n",
       "</style>\n",
       "<table border=\"1\" class=\"dataframe\">\n",
       "  <thead>\n",
       "    <tr style=\"text-align: right;\">\n",
       "      <th></th>\n",
       "      <th>Unnamed: 0</th>\n",
       "      <th>Quantity</th>\n",
       "      <th>UnitPrice</th>\n",
       "      <th>CustomerID</th>\n",
       "      <th>Hour</th>\n",
       "    </tr>\n",
       "  </thead>\n",
       "  <tbody>\n",
       "    <tr>\n",
       "      <th>count</th>\n",
       "      <td>81601.000000</td>\n",
       "      <td>81601.000000</td>\n",
       "      <td>81601.000000</td>\n",
       "      <td>81601.000000</td>\n",
       "      <td>81601.000000</td>\n",
       "    </tr>\n",
       "    <tr>\n",
       "      <th>mean</th>\n",
       "      <td>278271.366772</td>\n",
       "      <td>11.965736</td>\n",
       "      <td>3.168721</td>\n",
       "      <td>15283.816215</td>\n",
       "      <td>12.729783</td>\n",
       "    </tr>\n",
       "    <tr>\n",
       "      <th>std</th>\n",
       "      <td>152483.054308</td>\n",
       "      <td>45.782018</td>\n",
       "      <td>18.731668</td>\n",
       "      <td>1713.292081</td>\n",
       "      <td>2.288777</td>\n",
       "    </tr>\n",
       "    <tr>\n",
       "      <th>min</th>\n",
       "      <td>2.000000</td>\n",
       "      <td>-3114.000000</td>\n",
       "      <td>0.000000</td>\n",
       "      <td>12347.000000</td>\n",
       "      <td>6.000000</td>\n",
       "    </tr>\n",
       "    <tr>\n",
       "      <th>25%</th>\n",
       "      <td>148283.000000</td>\n",
       "      <td>2.000000</td>\n",
       "      <td>1.250000</td>\n",
       "      <td>13949.000000</td>\n",
       "      <td>11.000000</td>\n",
       "    </tr>\n",
       "    <tr>\n",
       "      <th>50%</th>\n",
       "      <td>284742.000000</td>\n",
       "      <td>5.000000</td>\n",
       "      <td>1.950000</td>\n",
       "      <td>15144.000000</td>\n",
       "      <td>13.000000</td>\n",
       "    </tr>\n",
       "    <tr>\n",
       "      <th>75%</th>\n",
       "      <td>409445.000000</td>\n",
       "      <td>12.000000</td>\n",
       "      <td>3.750000</td>\n",
       "      <td>16790.000000</td>\n",
       "      <td>14.000000</td>\n",
       "    </tr>\n",
       "    <tr>\n",
       "      <th>max</th>\n",
       "      <td>541908.000000</td>\n",
       "      <td>3186.000000</td>\n",
       "      <td>4287.630000</td>\n",
       "      <td>18287.000000</td>\n",
       "      <td>20.000000</td>\n",
       "    </tr>\n",
       "  </tbody>\n",
       "</table>\n",
       "</div>"
      ],
      "text/plain": [
       "          Unnamed: 0      Quantity     UnitPrice    CustomerID          Hour\n",
       "count   81601.000000  81601.000000  81601.000000  81601.000000  81601.000000\n",
       "mean   278271.366772     11.965736      3.168721  15283.816215     12.729783\n",
       "std    152483.054308     45.782018     18.731668   1713.292081      2.288777\n",
       "min         2.000000  -3114.000000      0.000000  12347.000000      6.000000\n",
       "25%    148283.000000      2.000000      1.250000  13949.000000     11.000000\n",
       "50%    284742.000000      5.000000      1.950000  15144.000000     13.000000\n",
       "75%    409445.000000     12.000000      3.750000  16790.000000     14.000000\n",
       "max    541908.000000   3186.000000   4287.630000  18287.000000     20.000000"
      ]
     },
     "execution_count": 4,
     "metadata": {},
     "output_type": "execute_result"
    }
   ],
   "source": [
    "ecom_df.head()\n",
    "ecom_df.info()\n",
    "ecom_df.describe()"
   ]
  },
  {
   "cell_type": "markdown",
   "id": "7e901962",
   "metadata": {
    "id": "lHxSZ6ok6os1",
    "papermill": {
     "duration": 0.013939,
     "end_time": "2022-12-29T13:38:36.710006",
     "exception": false,
     "start_time": "2022-12-29T13:38:36.696067",
     "status": "completed"
    },
    "tags": []
   },
   "source": [
    "Since the unnamed column is not conveying any useful info, I've decided to drop it since it is impossible to figure out what it stands for."
   ]
  },
  {
   "cell_type": "code",
   "execution_count": 5,
   "id": "17e617a0",
   "metadata": {
    "execution": {
     "iopub.execute_input": "2022-12-29T13:38:36.740416Z",
     "iopub.status.busy": "2022-12-29T13:38:36.739518Z",
     "iopub.status.idle": "2022-12-29T13:38:36.753454Z",
     "shell.execute_reply": "2022-12-29T13:38:36.752511Z"
    },
    "id": "r0ngwlpd61ZZ",
    "jupyter": {
     "source_hidden": true
    },
    "outputId": "2d90ca7d-4327-470b-aad4-b1b81d4001ba",
    "papermill": {
     "duration": 0.031419,
     "end_time": "2022-12-29T13:38:36.755579",
     "exception": false,
     "start_time": "2022-12-29T13:38:36.724160",
     "status": "completed"
    },
    "tags": []
   },
   "outputs": [
    {
     "data": {
      "text/plain": [
       "Index(['InvoiceNo', 'StockCode', 'Description', 'Quantity', 'UnitPrice',\n",
       "       'CustomerID', 'Country', 'Date', 'Hour'],\n",
       "      dtype='object')"
      ]
     },
     "execution_count": 5,
     "metadata": {},
     "output_type": "execute_result"
    }
   ],
   "source": [
    "ecom_df.drop(labels=\"Unnamed: 0\", axis=1, inplace=True)\n",
    "ecom_df.columns"
   ]
  },
  {
   "cell_type": "code",
   "execution_count": 6,
   "id": "ab292139",
   "metadata": {
    "execution": {
     "iopub.execute_input": "2022-12-29T13:38:36.786095Z",
     "iopub.status.busy": "2022-12-29T13:38:36.785416Z",
     "iopub.status.idle": "2022-12-29T13:38:36.812695Z",
     "shell.execute_reply": "2022-12-29T13:38:36.811420Z"
    },
    "id": "KR2OPyHAMpnN",
    "jupyter": {
     "source_hidden": true
    },
    "outputId": "44dc8fd1-b104-4827-d62d-c132d6a8bd85",
    "papermill": {
     "duration": 0.045087,
     "end_time": "2022-12-29T13:38:36.814934",
     "exception": false,
     "start_time": "2022-12-29T13:38:36.769847",
     "status": "completed"
    },
    "tags": []
   },
   "outputs": [
    {
     "name": "stdout",
     "output_type": "stream",
     "text": [
      "<class 'pandas.core.frame.DataFrame'>\n",
      "RangeIndex: 342 entries, 0 to 341\n",
      "Data columns (total 6 columns):\n",
      " #   Column   Non-Null Count  Dtype \n",
      "---  ------   --------------  ----- \n",
      " 0   Date     342 non-null    object\n",
      " 1   Holiday  342 non-null    object\n",
      " 2   WeekDay  342 non-null    object\n",
      " 3   Month    342 non-null    int64 \n",
      " 4   Day      342 non-null    int64 \n",
      " 5   Year     342 non-null    int64 \n",
      "dtypes: int64(3), object(3)\n",
      "memory usage: 16.2+ KB\n"
     ]
    },
    {
     "data": {
      "text/html": [
       "<div>\n",
       "<style scoped>\n",
       "    .dataframe tbody tr th:only-of-type {\n",
       "        vertical-align: middle;\n",
       "    }\n",
       "\n",
       "    .dataframe tbody tr th {\n",
       "        vertical-align: top;\n",
       "    }\n",
       "\n",
       "    .dataframe thead th {\n",
       "        text-align: right;\n",
       "    }\n",
       "</style>\n",
       "<table border=\"1\" class=\"dataframe\">\n",
       "  <thead>\n",
       "    <tr style=\"text-align: right;\">\n",
       "      <th></th>\n",
       "      <th>Month</th>\n",
       "      <th>Day</th>\n",
       "      <th>Year</th>\n",
       "    </tr>\n",
       "  </thead>\n",
       "  <tbody>\n",
       "    <tr>\n",
       "      <th>count</th>\n",
       "      <td>342.000000</td>\n",
       "      <td>342.000000</td>\n",
       "      <td>342.000000</td>\n",
       "    </tr>\n",
       "    <tr>\n",
       "      <th>mean</th>\n",
       "      <td>7.263158</td>\n",
       "      <td>15.853801</td>\n",
       "      <td>2012.500000</td>\n",
       "    </tr>\n",
       "    <tr>\n",
       "      <th>std</th>\n",
       "      <td>3.899889</td>\n",
       "      <td>9.653330</td>\n",
       "      <td>5.195729</td>\n",
       "    </tr>\n",
       "    <tr>\n",
       "      <th>min</th>\n",
       "      <td>1.000000</td>\n",
       "      <td>1.000000</td>\n",
       "      <td>2004.000000</td>\n",
       "    </tr>\n",
       "    <tr>\n",
       "      <th>25%</th>\n",
       "      <td>4.000000</td>\n",
       "      <td>6.000000</td>\n",
       "      <td>2008.000000</td>\n",
       "    </tr>\n",
       "    <tr>\n",
       "      <th>50%</th>\n",
       "      <td>9.000000</td>\n",
       "      <td>16.500000</td>\n",
       "      <td>2012.500000</td>\n",
       "    </tr>\n",
       "    <tr>\n",
       "      <th>75%</th>\n",
       "      <td>11.000000</td>\n",
       "      <td>24.000000</td>\n",
       "      <td>2017.000000</td>\n",
       "    </tr>\n",
       "    <tr>\n",
       "      <th>max</th>\n",
       "      <td>12.000000</td>\n",
       "      <td>31.000000</td>\n",
       "      <td>2021.000000</td>\n",
       "    </tr>\n",
       "  </tbody>\n",
       "</table>\n",
       "</div>"
      ],
      "text/plain": [
       "            Month         Day         Year\n",
       "count  342.000000  342.000000   342.000000\n",
       "mean     7.263158   15.853801  2012.500000\n",
       "std      3.899889    9.653330     5.195729\n",
       "min      1.000000    1.000000  2004.000000\n",
       "25%      4.000000    6.000000  2008.000000\n",
       "50%      9.000000   16.500000  2012.500000\n",
       "75%     11.000000   24.000000  2017.000000\n",
       "max     12.000000   31.000000  2021.000000"
      ]
     },
     "execution_count": 6,
     "metadata": {},
     "output_type": "execute_result"
    }
   ],
   "source": [
    "holiday_df.head()\n",
    "holiday_df.info()\n",
    "holiday_df.describe()"
   ]
  },
  {
   "cell_type": "markdown",
   "id": "fda1c0eb",
   "metadata": {
    "id": "MEjdPVx7uE-b",
    "papermill": {
     "duration": 0.01425,
     "end_time": "2022-12-29T13:38:36.843620",
     "exception": false,
     "start_time": "2022-12-29T13:38:36.829370",
     "status": "completed"
    },
    "tags": []
   },
   "source": [
    "## Checking for null values"
   ]
  },
  {
   "cell_type": "code",
   "execution_count": 7,
   "id": "6638c1cc",
   "metadata": {
    "execution": {
     "iopub.execute_input": "2022-12-29T13:38:36.874157Z",
     "iopub.status.busy": "2022-12-29T13:38:36.873740Z",
     "iopub.status.idle": "2022-12-29T13:38:36.901169Z",
     "shell.execute_reply": "2022-12-29T13:38:36.899953Z"
    },
    "id": "70f6X9Q366iy",
    "jupyter": {
     "source_hidden": true
    },
    "outputId": "d1ec86f4-b597-482e-a7db-f4d3098c812a",
    "papermill": {
     "duration": 0.045772,
     "end_time": "2022-12-29T13:38:36.903860",
     "exception": false,
     "start_time": "2022-12-29T13:38:36.858088",
     "status": "completed"
    },
    "tags": []
   },
   "outputs": [
    {
     "data": {
      "text/plain": [
       "InvoiceNo      False\n",
       "StockCode      False\n",
       "Description    False\n",
       "Quantity       False\n",
       "UnitPrice      False\n",
       "CustomerID     False\n",
       "Country        False\n",
       "Date           False\n",
       "Hour           False\n",
       "dtype: bool"
      ]
     },
     "execution_count": 7,
     "metadata": {},
     "output_type": "execute_result"
    }
   ],
   "source": [
    "ecom_df.isna().any()"
   ]
  },
  {
   "cell_type": "code",
   "execution_count": 8,
   "id": "85286108",
   "metadata": {
    "execution": {
     "iopub.execute_input": "2022-12-29T13:38:36.934698Z",
     "iopub.status.busy": "2022-12-29T13:38:36.934229Z",
     "iopub.status.idle": "2022-12-29T13:38:36.944689Z",
     "shell.execute_reply": "2022-12-29T13:38:36.943501Z"
    },
    "id": "vWOSjt2m7IOV",
    "jupyter": {
     "source_hidden": true
    },
    "outputId": "e959e897-5d5b-4908-cf20-20cd50959138",
    "papermill": {
     "duration": 0.028539,
     "end_time": "2022-12-29T13:38:36.947104",
     "exception": false,
     "start_time": "2022-12-29T13:38:36.918565",
     "status": "completed"
    },
    "tags": []
   },
   "outputs": [
    {
     "data": {
      "text/plain": [
       "Date       False\n",
       "Holiday    False\n",
       "WeekDay    False\n",
       "Month      False\n",
       "Day        False\n",
       "Year       False\n",
       "dtype: bool"
      ]
     },
     "execution_count": 8,
     "metadata": {},
     "output_type": "execute_result"
    }
   ],
   "source": [
    "holiday_df.isna().any()"
   ]
  },
  {
   "cell_type": "markdown",
   "id": "22e6fdb9",
   "metadata": {
    "id": "9tFQm5d-7NtZ",
    "papermill": {
     "duration": 0.014352,
     "end_time": "2022-12-29T13:38:36.976255",
     "exception": false,
     "start_time": "2022-12-29T13:38:36.961903",
     "status": "completed"
    },
    "tags": []
   },
   "source": [
    "The data contains no null values so we can proceed with operations on data now."
   ]
  },
  {
   "cell_type": "markdown",
   "id": "a47f909e",
   "metadata": {
    "id": "jDNTyK3mWeR5",
    "papermill": {
     "duration": 0.014586,
     "end_time": "2022-12-29T13:38:37.006342",
     "exception": false,
     "start_time": "2022-12-29T13:38:36.991756",
     "status": "completed"
    },
    "tags": []
   },
   "source": [
    "## Fixing the date formatting"
   ]
  },
  {
   "cell_type": "code",
   "execution_count": 9,
   "id": "2d9349a1",
   "metadata": {
    "execution": {
     "iopub.execute_input": "2022-12-29T13:38:37.043994Z",
     "iopub.status.busy": "2022-12-29T13:38:37.043433Z",
     "iopub.status.idle": "2022-12-29T13:38:37.074249Z",
     "shell.execute_reply": "2022-12-29T13:38:37.073415Z"
    },
    "id": "FAaNCk8ZUj1N",
    "jupyter": {
     "source_hidden": true
    },
    "papermill": {
     "duration": 0.056466,
     "end_time": "2022-12-29T13:38:37.077622",
     "exception": false,
     "start_time": "2022-12-29T13:38:37.021156",
     "status": "completed"
    },
    "tags": []
   },
   "outputs": [],
   "source": [
    "ecom_df[\"Date\"] = pd.to_datetime(ecom_df[\"Date\"], format='%Y-%m-%d')\n",
    "holiday_df[\"Date\"] = pd.to_datetime(holiday_df[\"Date\"], format='%Y-%m-%d')"
   ]
  },
  {
   "cell_type": "code",
   "execution_count": 10,
   "id": "378a21df",
   "metadata": {
    "execution": {
     "iopub.execute_input": "2022-12-29T13:38:37.118400Z",
     "iopub.status.busy": "2022-12-29T13:38:37.117980Z",
     "iopub.status.idle": "2022-12-29T13:38:37.133371Z",
     "shell.execute_reply": "2022-12-29T13:38:37.132137Z"
    },
    "id": "qjQaxkk7Wje-",
    "jupyter": {
     "source_hidden": true
    },
    "outputId": "e34d6780-b41c-493e-8f13-38061c989340",
    "papermill": {
     "duration": 0.036519,
     "end_time": "2022-12-29T13:38:37.135823",
     "exception": false,
     "start_time": "2022-12-29T13:38:37.099304",
     "status": "completed"
    },
    "tags": []
   },
   "outputs": [
    {
     "name": "stdout",
     "output_type": "stream",
     "text": [
      "<class 'pandas.core.frame.DataFrame'>\n",
      "RangeIndex: 81601 entries, 0 to 81600\n",
      "Data columns (total 1 columns):\n",
      " #   Column  Non-Null Count  Dtype         \n",
      "---  ------  --------------  -----         \n",
      " 0   Date    81601 non-null  datetime64[ns]\n",
      "dtypes: datetime64[ns](1)\n",
      "memory usage: 637.6 KB\n"
     ]
    }
   ],
   "source": [
    "ecom_df[[\"Date\"]].info()"
   ]
  },
  {
   "cell_type": "markdown",
   "id": "c303a4cf",
   "metadata": {
    "id": "DpVlm8cGkbvl",
    "papermill": {
     "duration": 0.014534,
     "end_time": "2022-12-29T13:38:37.165398",
     "exception": false,
     "start_time": "2022-12-29T13:38:37.150864",
     "status": "completed"
    },
    "tags": []
   },
   "source": [
    "## ROCCC Analysis\n",
    "\n",
    "1. Reliability: The data originates from an e-commerce platform and collected internally through various tools and hence, it is highly reliable.\n",
    "2. Originality: As mentioned above, since it is internal data, we can be confident that it is original and specific to this business.\n",
    "3. Comprehensive: The data spans a year from 2010 to 2011 but we should have more to concretely identify and distinguish between one-off trends and established ones.\n",
    "4. Current: The data is more than 11 years old and hence, may not reflect current trends accurately.\n",
    "5. Cited: No need to be cited as data is internal."
   ]
  },
  {
   "cell_type": "markdown",
   "id": "13a597de",
   "metadata": {
    "id": "SOCCewJGy7RS",
    "papermill": {
     "duration": 0.014471,
     "end_time": "2022-12-29T13:38:37.194746",
     "exception": false,
     "start_time": "2022-12-29T13:38:37.180275",
     "status": "completed"
    },
    "tags": []
   },
   "source": [
    "# Analysing the Overall Data"
   ]
  },
  {
   "cell_type": "markdown",
   "id": "963106d5",
   "metadata": {
    "id": "1KQet1WoU2fl",
    "papermill": {
     "duration": 0.014465,
     "end_time": "2022-12-29T13:38:37.224825",
     "exception": false,
     "start_time": "2022-12-29T13:38:37.210360",
     "status": "completed"
    },
    "tags": []
   },
   "source": [
    "### Analysing the distribution of orders"
   ]
  },
  {
   "cell_type": "code",
   "execution_count": 11,
   "id": "f904efd0",
   "metadata": {
    "execution": {
     "iopub.execute_input": "2022-12-29T13:38:37.256683Z",
     "iopub.status.busy": "2022-12-29T13:38:37.255680Z",
     "iopub.status.idle": "2022-12-29T13:38:37.268847Z",
     "shell.execute_reply": "2022-12-29T13:38:37.267779Z"
    },
    "id": "MFGRQ2o3wiBQ",
    "jupyter": {
     "source_hidden": true
    },
    "outputId": "ef2994da-05e5-412e-9130-6e2235cd4a8a",
    "papermill": {
     "duration": 0.031411,
     "end_time": "2022-12-29T13:38:37.271054",
     "exception": false,
     "start_time": "2022-12-29T13:38:37.239643",
     "status": "completed"
    },
    "tags": []
   },
   "outputs": [
    {
     "name": "stdout",
     "output_type": "stream",
     "text": [
      "Total number of countries in the dataset:  37\n"
     ]
    }
   ],
   "source": [
    "print(\"Total number of countries in the dataset: \", ecom_df[\"Country\"].nunique())"
   ]
  },
  {
   "cell_type": "markdown",
   "id": "0e8b6888",
   "metadata": {
    "id": "wwQMQWoS9aa9",
    "papermill": {
     "duration": 0.01457,
     "end_time": "2022-12-29T13:38:37.300486",
     "exception": false,
     "start_time": "2022-12-29T13:38:37.285916",
     "status": "completed"
    },
    "tags": []
   },
   "source": [
    "There seem to be orders from many different countries. It looks like the E-commerce business operates worldwide. Let us find out the distribution of orders by country so we can narrow our analysis to specific regions for a more effective marketing strategy."
   ]
  },
  {
   "cell_type": "code",
   "execution_count": 12,
   "id": "f73bd606",
   "metadata": {
    "execution": {
     "iopub.execute_input": "2022-12-29T13:38:37.331840Z",
     "iopub.status.busy": "2022-12-29T13:38:37.331469Z",
     "iopub.status.idle": "2022-12-29T13:38:37.348214Z",
     "shell.execute_reply": "2022-12-29T13:38:37.347110Z"
    },
    "id": "rOtIuvL1Oacx",
    "jupyter": {
     "source_hidden": true
    },
    "outputId": "b9457599-0e77-40ef-eb8f-6059785e3e29",
    "papermill": {
     "duration": 0.035219,
     "end_time": "2022-12-29T13:38:37.350475",
     "exception": false,
     "start_time": "2022-12-29T13:38:37.315256",
     "status": "completed"
    },
    "tags": []
   },
   "outputs": [
    {
     "data": {
      "text/plain": [
       "Country\n",
       "United Kingdom    72617\n",
       "Germany            1898\n",
       "France             1689\n",
       "EIRE               1500\n",
       "Spain               504\n",
       "Name: Quantity, dtype: int64"
      ]
     },
     "execution_count": 12,
     "metadata": {},
     "output_type": "execute_result"
    }
   ],
   "source": [
    "orders_by_country = ecom_df.groupby(\"Country\")[\"Quantity\"].count().sort_values(ascending=False)\n",
    "orders_by_country.head()"
   ]
  },
  {
   "cell_type": "code",
   "execution_count": 13,
   "id": "a1f96a83",
   "metadata": {
    "execution": {
     "iopub.execute_input": "2022-12-29T13:38:37.382641Z",
     "iopub.status.busy": "2022-12-29T13:38:37.382268Z",
     "iopub.status.idle": "2022-12-29T13:38:38.334305Z",
     "shell.execute_reply": "2022-12-29T13:38:38.333338Z"
    },
    "id": "V_jfAbaE7tuQ",
    "jupyter": {
     "source_hidden": true
    },
    "outputId": "10a9e528-e7a1-43b0-f2ec-7ecd502260ee",
    "papermill": {
     "duration": 0.970783,
     "end_time": "2022-12-29T13:38:38.336631",
     "exception": false,
     "start_time": "2022-12-29T13:38:37.365848",
     "status": "completed"
    },
    "tags": []
   },
   "outputs": [
    {
     "data": {
      "text/html": [
       "        <script type=\"text/javascript\">\n",
       "        window.PlotlyConfig = {MathJaxConfig: 'local'};\n",
       "        if (window.MathJax && window.MathJax.Hub && window.MathJax.Hub.Config) {window.MathJax.Hub.Config({SVG: {font: \"STIX-Web\"}});}\n",
       "        if (typeof require !== 'undefined') {\n",
       "        require.undef(\"plotly\");\n",
       "        requirejs.config({\n",
       "            paths: {\n",
       "                'plotly': ['https://cdn.plot.ly/plotly-2.14.0.min']\n",
       "            }\n",
       "        });\n",
       "        require(['plotly'], function(Plotly) {\n",
       "            window._Plotly = Plotly;\n",
       "        });\n",
       "        }\n",
       "        </script>\n",
       "        "
      ]
     },
     "metadata": {},
     "output_type": "display_data"
    },
    {
     "data": {
      "text/html": [
       "<div>                            <div id=\"92839d06-bf99-499d-b43a-da6c93617ecb\" class=\"plotly-graph-div\" style=\"height:525px; width:100%;\"></div>            <script type=\"text/javascript\">                require([\"plotly\"], function(Plotly) {                    window.PLOTLYENV=window.PLOTLYENV || {};                                    if (document.getElementById(\"92839d06-bf99-499d-b43a-da6c93617ecb\")) {                    Plotly.newPlot(                        \"92839d06-bf99-499d-b43a-da6c93617ecb\",                        [{\"alignmentgroup\":\"True\",\"bingroup\":\"x\",\"histfunc\":\"sum\",\"hovertemplate\":\"=%{x}<br>sum of Number of orders=%{y}<extra></extra>\",\"legendgroup\":\"\",\"marker\":{\"color\":\"#636efa\",\"pattern\":{\"shape\":\"\"}},\"name\":\"\",\"offsetgroup\":\"\",\"orientation\":\"v\",\"showlegend\":false,\"x\":[\"United Kingdom\",\"Germany\",\"France\",\"EIRE\",\"Spain\",\"Netherlands\",\"Belgium\",\"Switzerland\",\"Portugal\",\"Australia\",\"Norway\",\"Italy\",\"Finland\",\"Channel Islands\",\"Cyprus\",\"Austria\",\"Sweden\",\"Japan\",\"Denmark\",\"USA\",\"Poland\",\"Unspecified\",\"Iceland\",\"Israel\",\"Singapore\",\"Greece\",\"Malta\",\"Canada\",\"RSA\",\"United Arab Emirates\",\"European Community\",\"Czech Republic\",\"Lithuania\",\"Brazil\",\"Bahrain\",\"Saudi Arabia\",\"Lebanon\"],\"xaxis\":\"x\",\"y\":[72617,1898,1689,1500,504,469,379,358,284,254,217,169,157,157,119,99,98,84,82,67,57,55,48,46,40,34,28,23,15,14,11,8,6,5,4,3,3],\"yaxis\":\"y\",\"type\":\"histogram\"}],                        {\"template\":{\"data\":{\"histogram2dcontour\":[{\"type\":\"histogram2dcontour\",\"colorbar\":{\"outlinewidth\":0,\"ticks\":\"\"},\"colorscale\":[[0.0,\"#0d0887\"],[0.1111111111111111,\"#46039f\"],[0.2222222222222222,\"#7201a8\"],[0.3333333333333333,\"#9c179e\"],[0.4444444444444444,\"#bd3786\"],[0.5555555555555556,\"#d8576b\"],[0.6666666666666666,\"#ed7953\"],[0.7777777777777778,\"#fb9f3a\"],[0.8888888888888888,\"#fdca26\"],[1.0,\"#f0f921\"]]}],\"choropleth\":[{\"type\":\"choropleth\",\"colorbar\":{\"outlinewidth\":0,\"ticks\":\"\"}}],\"histogram2d\":[{\"type\":\"histogram2d\",\"colorbar\":{\"outlinewidth\":0,\"ticks\":\"\"},\"colorscale\":[[0.0,\"#0d0887\"],[0.1111111111111111,\"#46039f\"],[0.2222222222222222,\"#7201a8\"],[0.3333333333333333,\"#9c179e\"],[0.4444444444444444,\"#bd3786\"],[0.5555555555555556,\"#d8576b\"],[0.6666666666666666,\"#ed7953\"],[0.7777777777777778,\"#fb9f3a\"],[0.8888888888888888,\"#fdca26\"],[1.0,\"#f0f921\"]]}],\"heatmap\":[{\"type\":\"heatmap\",\"colorbar\":{\"outlinewidth\":0,\"ticks\":\"\"},\"colorscale\":[[0.0,\"#0d0887\"],[0.1111111111111111,\"#46039f\"],[0.2222222222222222,\"#7201a8\"],[0.3333333333333333,\"#9c179e\"],[0.4444444444444444,\"#bd3786\"],[0.5555555555555556,\"#d8576b\"],[0.6666666666666666,\"#ed7953\"],[0.7777777777777778,\"#fb9f3a\"],[0.8888888888888888,\"#fdca26\"],[1.0,\"#f0f921\"]]}],\"heatmapgl\":[{\"type\":\"heatmapgl\",\"colorbar\":{\"outlinewidth\":0,\"ticks\":\"\"},\"colorscale\":[[0.0,\"#0d0887\"],[0.1111111111111111,\"#46039f\"],[0.2222222222222222,\"#7201a8\"],[0.3333333333333333,\"#9c179e\"],[0.4444444444444444,\"#bd3786\"],[0.5555555555555556,\"#d8576b\"],[0.6666666666666666,\"#ed7953\"],[0.7777777777777778,\"#fb9f3a\"],[0.8888888888888888,\"#fdca26\"],[1.0,\"#f0f921\"]]}],\"contourcarpet\":[{\"type\":\"contourcarpet\",\"colorbar\":{\"outlinewidth\":0,\"ticks\":\"\"}}],\"contour\":[{\"type\":\"contour\",\"colorbar\":{\"outlinewidth\":0,\"ticks\":\"\"},\"colorscale\":[[0.0,\"#0d0887\"],[0.1111111111111111,\"#46039f\"],[0.2222222222222222,\"#7201a8\"],[0.3333333333333333,\"#9c179e\"],[0.4444444444444444,\"#bd3786\"],[0.5555555555555556,\"#d8576b\"],[0.6666666666666666,\"#ed7953\"],[0.7777777777777778,\"#fb9f3a\"],[0.8888888888888888,\"#fdca26\"],[1.0,\"#f0f921\"]]}],\"surface\":[{\"type\":\"surface\",\"colorbar\":{\"outlinewidth\":0,\"ticks\":\"\"},\"colorscale\":[[0.0,\"#0d0887\"],[0.1111111111111111,\"#46039f\"],[0.2222222222222222,\"#7201a8\"],[0.3333333333333333,\"#9c179e\"],[0.4444444444444444,\"#bd3786\"],[0.5555555555555556,\"#d8576b\"],[0.6666666666666666,\"#ed7953\"],[0.7777777777777778,\"#fb9f3a\"],[0.8888888888888888,\"#fdca26\"],[1.0,\"#f0f921\"]]}],\"mesh3d\":[{\"type\":\"mesh3d\",\"colorbar\":{\"outlinewidth\":0,\"ticks\":\"\"}}],\"scatter\":[{\"fillpattern\":{\"fillmode\":\"overlay\",\"size\":10,\"solidity\":0.2},\"type\":\"scatter\"}],\"parcoords\":[{\"type\":\"parcoords\",\"line\":{\"colorbar\":{\"outlinewidth\":0,\"ticks\":\"\"}}}],\"scatterpolargl\":[{\"type\":\"scatterpolargl\",\"marker\":{\"colorbar\":{\"outlinewidth\":0,\"ticks\":\"\"}}}],\"bar\":[{\"error_x\":{\"color\":\"#2a3f5f\"},\"error_y\":{\"color\":\"#2a3f5f\"},\"marker\":{\"line\":{\"color\":\"#E5ECF6\",\"width\":0.5},\"pattern\":{\"fillmode\":\"overlay\",\"size\":10,\"solidity\":0.2}},\"type\":\"bar\"}],\"scattergeo\":[{\"type\":\"scattergeo\",\"marker\":{\"colorbar\":{\"outlinewidth\":0,\"ticks\":\"\"}}}],\"scatterpolar\":[{\"type\":\"scatterpolar\",\"marker\":{\"colorbar\":{\"outlinewidth\":0,\"ticks\":\"\"}}}],\"histogram\":[{\"marker\":{\"pattern\":{\"fillmode\":\"overlay\",\"size\":10,\"solidity\":0.2}},\"type\":\"histogram\"}],\"scattergl\":[{\"type\":\"scattergl\",\"marker\":{\"colorbar\":{\"outlinewidth\":0,\"ticks\":\"\"}}}],\"scatter3d\":[{\"type\":\"scatter3d\",\"line\":{\"colorbar\":{\"outlinewidth\":0,\"ticks\":\"\"}},\"marker\":{\"colorbar\":{\"outlinewidth\":0,\"ticks\":\"\"}}}],\"scattermapbox\":[{\"type\":\"scattermapbox\",\"marker\":{\"colorbar\":{\"outlinewidth\":0,\"ticks\":\"\"}}}],\"scatterternary\":[{\"type\":\"scatterternary\",\"marker\":{\"colorbar\":{\"outlinewidth\":0,\"ticks\":\"\"}}}],\"scattercarpet\":[{\"type\":\"scattercarpet\",\"marker\":{\"colorbar\":{\"outlinewidth\":0,\"ticks\":\"\"}}}],\"carpet\":[{\"aaxis\":{\"endlinecolor\":\"#2a3f5f\",\"gridcolor\":\"white\",\"linecolor\":\"white\",\"minorgridcolor\":\"white\",\"startlinecolor\":\"#2a3f5f\"},\"baxis\":{\"endlinecolor\":\"#2a3f5f\",\"gridcolor\":\"white\",\"linecolor\":\"white\",\"minorgridcolor\":\"white\",\"startlinecolor\":\"#2a3f5f\"},\"type\":\"carpet\"}],\"table\":[{\"cells\":{\"fill\":{\"color\":\"#EBF0F8\"},\"line\":{\"color\":\"white\"}},\"header\":{\"fill\":{\"color\":\"#C8D4E3\"},\"line\":{\"color\":\"white\"}},\"type\":\"table\"}],\"barpolar\":[{\"marker\":{\"line\":{\"color\":\"#E5ECF6\",\"width\":0.5},\"pattern\":{\"fillmode\":\"overlay\",\"size\":10,\"solidity\":0.2}},\"type\":\"barpolar\"}],\"pie\":[{\"automargin\":true,\"type\":\"pie\"}]},\"layout\":{\"autotypenumbers\":\"strict\",\"colorway\":[\"#636efa\",\"#EF553B\",\"#00cc96\",\"#ab63fa\",\"#FFA15A\",\"#19d3f3\",\"#FF6692\",\"#B6E880\",\"#FF97FF\",\"#FECB52\"],\"font\":{\"color\":\"#2a3f5f\"},\"hovermode\":\"closest\",\"hoverlabel\":{\"align\":\"left\"},\"paper_bgcolor\":\"white\",\"plot_bgcolor\":\"#E5ECF6\",\"polar\":{\"bgcolor\":\"#E5ECF6\",\"angularaxis\":{\"gridcolor\":\"white\",\"linecolor\":\"white\",\"ticks\":\"\"},\"radialaxis\":{\"gridcolor\":\"white\",\"linecolor\":\"white\",\"ticks\":\"\"}},\"ternary\":{\"bgcolor\":\"#E5ECF6\",\"aaxis\":{\"gridcolor\":\"white\",\"linecolor\":\"white\",\"ticks\":\"\"},\"baxis\":{\"gridcolor\":\"white\",\"linecolor\":\"white\",\"ticks\":\"\"},\"caxis\":{\"gridcolor\":\"white\",\"linecolor\":\"white\",\"ticks\":\"\"}},\"coloraxis\":{\"colorbar\":{\"outlinewidth\":0,\"ticks\":\"\"}},\"colorscale\":{\"sequential\":[[0.0,\"#0d0887\"],[0.1111111111111111,\"#46039f\"],[0.2222222222222222,\"#7201a8\"],[0.3333333333333333,\"#9c179e\"],[0.4444444444444444,\"#bd3786\"],[0.5555555555555556,\"#d8576b\"],[0.6666666666666666,\"#ed7953\"],[0.7777777777777778,\"#fb9f3a\"],[0.8888888888888888,\"#fdca26\"],[1.0,\"#f0f921\"]],\"sequentialminus\":[[0.0,\"#0d0887\"],[0.1111111111111111,\"#46039f\"],[0.2222222222222222,\"#7201a8\"],[0.3333333333333333,\"#9c179e\"],[0.4444444444444444,\"#bd3786\"],[0.5555555555555556,\"#d8576b\"],[0.6666666666666666,\"#ed7953\"],[0.7777777777777778,\"#fb9f3a\"],[0.8888888888888888,\"#fdca26\"],[1.0,\"#f0f921\"]],\"diverging\":[[0,\"#8e0152\"],[0.1,\"#c51b7d\"],[0.2,\"#de77ae\"],[0.3,\"#f1b6da\"],[0.4,\"#fde0ef\"],[0.5,\"#f7f7f7\"],[0.6,\"#e6f5d0\"],[0.7,\"#b8e186\"],[0.8,\"#7fbc41\"],[0.9,\"#4d9221\"],[1,\"#276419\"]]},\"xaxis\":{\"gridcolor\":\"white\",\"linecolor\":\"white\",\"ticks\":\"\",\"title\":{\"standoff\":15},\"zerolinecolor\":\"white\",\"automargin\":true,\"zerolinewidth\":2},\"yaxis\":{\"gridcolor\":\"white\",\"linecolor\":\"white\",\"ticks\":\"\",\"title\":{\"standoff\":15},\"zerolinecolor\":\"white\",\"automargin\":true,\"zerolinewidth\":2},\"scene\":{\"xaxis\":{\"backgroundcolor\":\"#E5ECF6\",\"gridcolor\":\"white\",\"linecolor\":\"white\",\"showbackground\":true,\"ticks\":\"\",\"zerolinecolor\":\"white\",\"gridwidth\":2},\"yaxis\":{\"backgroundcolor\":\"#E5ECF6\",\"gridcolor\":\"white\",\"linecolor\":\"white\",\"showbackground\":true,\"ticks\":\"\",\"zerolinecolor\":\"white\",\"gridwidth\":2},\"zaxis\":{\"backgroundcolor\":\"#E5ECF6\",\"gridcolor\":\"white\",\"linecolor\":\"white\",\"showbackground\":true,\"ticks\":\"\",\"zerolinecolor\":\"white\",\"gridwidth\":2}},\"shapedefaults\":{\"line\":{\"color\":\"#2a3f5f\"}},\"annotationdefaults\":{\"arrowcolor\":\"#2a3f5f\",\"arrowhead\":0,\"arrowwidth\":1},\"geo\":{\"bgcolor\":\"white\",\"landcolor\":\"#E5ECF6\",\"subunitcolor\":\"white\",\"showland\":true,\"showlakes\":true,\"lakecolor\":\"white\"},\"title\":{\"x\":0.05},\"mapbox\":{\"style\":\"light\"}}},\"xaxis\":{\"anchor\":\"y\",\"domain\":[0.0,1.0],\"title\":{\"text\":\"\"},\"tickangle\":45},\"yaxis\":{\"anchor\":\"x\",\"domain\":[0.0,1.0],\"title\":{\"text\":\"sum of Number of orders\"}},\"legend\":{\"tracegroupgap\":0},\"margin\":{\"t\":60},\"barmode\":\"relative\",\"title\":{\"font\":{\"size\":20,\"color\":\"black\"},\"text\":\"Distribution of Orders Worldwide\",\"y\":0.95,\"x\":0.5,\"xanchor\":\"center\",\"yanchor\":\"top\"}},                        {\"responsive\": true}                    ).then(function(){\n",
       "                            \n",
       "var gd = document.getElementById('92839d06-bf99-499d-b43a-da6c93617ecb');\n",
       "var x = new MutationObserver(function (mutations, observer) {{\n",
       "        var display = window.getComputedStyle(gd).display;\n",
       "        if (!display || display === 'none') {{\n",
       "            console.log([gd, 'removed!']);\n",
       "            Plotly.purge(gd);\n",
       "            observer.disconnect();\n",
       "        }}\n",
       "}});\n",
       "\n",
       "// Listen for the removal of the full notebook cells\n",
       "var notebookContainer = gd.closest('#notebook-container');\n",
       "if (notebookContainer) {{\n",
       "    x.observe(notebookContainer, {childList: true});\n",
       "}}\n",
       "\n",
       "// Listen for the clearing of the current output cell\n",
       "var outputEl = gd.closest('.output');\n",
       "if (outputEl) {{\n",
       "    x.observe(outputEl, {childList: true});\n",
       "}}\n",
       "\n",
       "                        })                };                });            </script>        </div>"
      ]
     },
     "metadata": {},
     "output_type": "display_data"
    }
   ],
   "source": [
    "orders_graph = px.histogram(x=orders_by_country.index, y=orders_by_country.values,\n",
    "                            labels=dict(\n",
    "                                x = \"\",\n",
    "                                y = \"Number of orders\"\n",
    "                                ))\n",
    "\n",
    "orders_graph.update_layout(titlefont=dict(size=20, color='black'),\n",
    "                      title=dict(\n",
    "                            text = \"Distribution of Orders Worldwide\",\n",
    "                            y = 0.95,\n",
    "                            x = 0.5,\n",
    "                            xanchor =  'center',\n",
    "                            yanchor = 'top'\n",
    "                      ))\n",
    "orders_graph.update_xaxes(tickangle=45)\n",
    "orders_graph.show()"
   ]
  },
  {
   "cell_type": "code",
   "execution_count": 14,
   "id": "e5345b6a",
   "metadata": {
    "execution": {
     "iopub.execute_input": "2022-12-29T13:38:38.370725Z",
     "iopub.status.busy": "2022-12-29T13:38:38.370335Z",
     "iopub.status.idle": "2022-12-29T13:38:38.451382Z",
     "shell.execute_reply": "2022-12-29T13:38:38.450264Z"
    },
    "id": "TgEYBp0N8qAD",
    "jupyter": {
     "source_hidden": true
    },
    "outputId": "96685113-446d-4abe-bcfa-1fc4a5763074",
    "papermill": {
     "duration": 0.101492,
     "end_time": "2022-12-29T13:38:38.453886",
     "exception": false,
     "start_time": "2022-12-29T13:38:38.352394",
     "status": "completed"
    },
    "tags": []
   },
   "outputs": [
    {
     "data": {
      "text/html": [
       "<div>                            <div id=\"54f2d595-531b-4f80-a60d-b5d196a4f4c3\" class=\"plotly-graph-div\" style=\"height:525px; width:100%;\"></div>            <script type=\"text/javascript\">                require([\"plotly\"], function(Plotly) {                    window.PLOTLYENV=window.PLOTLYENV || {};                                    if (document.getElementById(\"54f2d595-531b-4f80-a60d-b5d196a4f4c3\")) {                    Plotly.newPlot(                        \"54f2d595-531b-4f80-a60d-b5d196a4f4c3\",                        [{\"domain\":{\"x\":[0.0,1.0],\"y\":[0.0,1.0]},\"hovertemplate\":\"Country=%{label}<br>value=%{value}<extra></extra>\",\"labels\":[\"United Kingdom\",\"Germany\",\"France\",\"EIRE\",\"Spain\",\"Netherlands\",\"Belgium\",\"Switzerland\",\"Portugal\",\"Australia\",\"Norway\",\"Italy\",\"Finland\",\"Channel Islands\",\"Cyprus\",\"Austria\",\"Sweden\",\"Japan\",\"Denmark\",\"USA\",\"Poland\",\"Unspecified\",\"Iceland\",\"Israel\",\"Singapore\",\"Greece\",\"Malta\",\"Canada\",\"RSA\",\"United Arab Emirates\",\"European Community\",\"Czech Republic\",\"Lithuania\",\"Brazil\",\"Bahrain\",\"Saudi Arabia\",\"Lebanon\"],\"legendgroup\":\"\",\"name\":\"\",\"showlegend\":true,\"values\":[72617,1898,1689,1500,504,469,379,358,284,254,217,169,157,157,119,99,98,84,82,67,57,55,48,46,40,34,28,23,15,14,11,8,6,5,4,3,3],\"type\":\"pie\",\"textinfo\":\"percent+label\",\"textposition\":\"inside\"}],                        {\"template\":{\"data\":{\"histogram2dcontour\":[{\"type\":\"histogram2dcontour\",\"colorbar\":{\"outlinewidth\":0,\"ticks\":\"\"},\"colorscale\":[[0.0,\"#0d0887\"],[0.1111111111111111,\"#46039f\"],[0.2222222222222222,\"#7201a8\"],[0.3333333333333333,\"#9c179e\"],[0.4444444444444444,\"#bd3786\"],[0.5555555555555556,\"#d8576b\"],[0.6666666666666666,\"#ed7953\"],[0.7777777777777778,\"#fb9f3a\"],[0.8888888888888888,\"#fdca26\"],[1.0,\"#f0f921\"]]}],\"choropleth\":[{\"type\":\"choropleth\",\"colorbar\":{\"outlinewidth\":0,\"ticks\":\"\"}}],\"histogram2d\":[{\"type\":\"histogram2d\",\"colorbar\":{\"outlinewidth\":0,\"ticks\":\"\"},\"colorscale\":[[0.0,\"#0d0887\"],[0.1111111111111111,\"#46039f\"],[0.2222222222222222,\"#7201a8\"],[0.3333333333333333,\"#9c179e\"],[0.4444444444444444,\"#bd3786\"],[0.5555555555555556,\"#d8576b\"],[0.6666666666666666,\"#ed7953\"],[0.7777777777777778,\"#fb9f3a\"],[0.8888888888888888,\"#fdca26\"],[1.0,\"#f0f921\"]]}],\"heatmap\":[{\"type\":\"heatmap\",\"colorbar\":{\"outlinewidth\":0,\"ticks\":\"\"},\"colorscale\":[[0.0,\"#0d0887\"],[0.1111111111111111,\"#46039f\"],[0.2222222222222222,\"#7201a8\"],[0.3333333333333333,\"#9c179e\"],[0.4444444444444444,\"#bd3786\"],[0.5555555555555556,\"#d8576b\"],[0.6666666666666666,\"#ed7953\"],[0.7777777777777778,\"#fb9f3a\"],[0.8888888888888888,\"#fdca26\"],[1.0,\"#f0f921\"]]}],\"heatmapgl\":[{\"type\":\"heatmapgl\",\"colorbar\":{\"outlinewidth\":0,\"ticks\":\"\"},\"colorscale\":[[0.0,\"#0d0887\"],[0.1111111111111111,\"#46039f\"],[0.2222222222222222,\"#7201a8\"],[0.3333333333333333,\"#9c179e\"],[0.4444444444444444,\"#bd3786\"],[0.5555555555555556,\"#d8576b\"],[0.6666666666666666,\"#ed7953\"],[0.7777777777777778,\"#fb9f3a\"],[0.8888888888888888,\"#fdca26\"],[1.0,\"#f0f921\"]]}],\"contourcarpet\":[{\"type\":\"contourcarpet\",\"colorbar\":{\"outlinewidth\":0,\"ticks\":\"\"}}],\"contour\":[{\"type\":\"contour\",\"colorbar\":{\"outlinewidth\":0,\"ticks\":\"\"},\"colorscale\":[[0.0,\"#0d0887\"],[0.1111111111111111,\"#46039f\"],[0.2222222222222222,\"#7201a8\"],[0.3333333333333333,\"#9c179e\"],[0.4444444444444444,\"#bd3786\"],[0.5555555555555556,\"#d8576b\"],[0.6666666666666666,\"#ed7953\"],[0.7777777777777778,\"#fb9f3a\"],[0.8888888888888888,\"#fdca26\"],[1.0,\"#f0f921\"]]}],\"surface\":[{\"type\":\"surface\",\"colorbar\":{\"outlinewidth\":0,\"ticks\":\"\"},\"colorscale\":[[0.0,\"#0d0887\"],[0.1111111111111111,\"#46039f\"],[0.2222222222222222,\"#7201a8\"],[0.3333333333333333,\"#9c179e\"],[0.4444444444444444,\"#bd3786\"],[0.5555555555555556,\"#d8576b\"],[0.6666666666666666,\"#ed7953\"],[0.7777777777777778,\"#fb9f3a\"],[0.8888888888888888,\"#fdca26\"],[1.0,\"#f0f921\"]]}],\"mesh3d\":[{\"type\":\"mesh3d\",\"colorbar\":{\"outlinewidth\":0,\"ticks\":\"\"}}],\"scatter\":[{\"fillpattern\":{\"fillmode\":\"overlay\",\"size\":10,\"solidity\":0.2},\"type\":\"scatter\"}],\"parcoords\":[{\"type\":\"parcoords\",\"line\":{\"colorbar\":{\"outlinewidth\":0,\"ticks\":\"\"}}}],\"scatterpolargl\":[{\"type\":\"scatterpolargl\",\"marker\":{\"colorbar\":{\"outlinewidth\":0,\"ticks\":\"\"}}}],\"bar\":[{\"error_x\":{\"color\":\"#2a3f5f\"},\"error_y\":{\"color\":\"#2a3f5f\"},\"marker\":{\"line\":{\"color\":\"#E5ECF6\",\"width\":0.5},\"pattern\":{\"fillmode\":\"overlay\",\"size\":10,\"solidity\":0.2}},\"type\":\"bar\"}],\"scattergeo\":[{\"type\":\"scattergeo\",\"marker\":{\"colorbar\":{\"outlinewidth\":0,\"ticks\":\"\"}}}],\"scatterpolar\":[{\"type\":\"scatterpolar\",\"marker\":{\"colorbar\":{\"outlinewidth\":0,\"ticks\":\"\"}}}],\"histogram\":[{\"marker\":{\"pattern\":{\"fillmode\":\"overlay\",\"size\":10,\"solidity\":0.2}},\"type\":\"histogram\"}],\"scattergl\":[{\"type\":\"scattergl\",\"marker\":{\"colorbar\":{\"outlinewidth\":0,\"ticks\":\"\"}}}],\"scatter3d\":[{\"type\":\"scatter3d\",\"line\":{\"colorbar\":{\"outlinewidth\":0,\"ticks\":\"\"}},\"marker\":{\"colorbar\":{\"outlinewidth\":0,\"ticks\":\"\"}}}],\"scattermapbox\":[{\"type\":\"scattermapbox\",\"marker\":{\"colorbar\":{\"outlinewidth\":0,\"ticks\":\"\"}}}],\"scatterternary\":[{\"type\":\"scatterternary\",\"marker\":{\"colorbar\":{\"outlinewidth\":0,\"ticks\":\"\"}}}],\"scattercarpet\":[{\"type\":\"scattercarpet\",\"marker\":{\"colorbar\":{\"outlinewidth\":0,\"ticks\":\"\"}}}],\"carpet\":[{\"aaxis\":{\"endlinecolor\":\"#2a3f5f\",\"gridcolor\":\"white\",\"linecolor\":\"white\",\"minorgridcolor\":\"white\",\"startlinecolor\":\"#2a3f5f\"},\"baxis\":{\"endlinecolor\":\"#2a3f5f\",\"gridcolor\":\"white\",\"linecolor\":\"white\",\"minorgridcolor\":\"white\",\"startlinecolor\":\"#2a3f5f\"},\"type\":\"carpet\"}],\"table\":[{\"cells\":{\"fill\":{\"color\":\"#EBF0F8\"},\"line\":{\"color\":\"white\"}},\"header\":{\"fill\":{\"color\":\"#C8D4E3\"},\"line\":{\"color\":\"white\"}},\"type\":\"table\"}],\"barpolar\":[{\"marker\":{\"line\":{\"color\":\"#E5ECF6\",\"width\":0.5},\"pattern\":{\"fillmode\":\"overlay\",\"size\":10,\"solidity\":0.2}},\"type\":\"barpolar\"}],\"pie\":[{\"automargin\":true,\"type\":\"pie\"}]},\"layout\":{\"autotypenumbers\":\"strict\",\"colorway\":[\"#636efa\",\"#EF553B\",\"#00cc96\",\"#ab63fa\",\"#FFA15A\",\"#19d3f3\",\"#FF6692\",\"#B6E880\",\"#FF97FF\",\"#FECB52\"],\"font\":{\"color\":\"#2a3f5f\"},\"hovermode\":\"closest\",\"hoverlabel\":{\"align\":\"left\"},\"paper_bgcolor\":\"white\",\"plot_bgcolor\":\"#E5ECF6\",\"polar\":{\"bgcolor\":\"#E5ECF6\",\"angularaxis\":{\"gridcolor\":\"white\",\"linecolor\":\"white\",\"ticks\":\"\"},\"radialaxis\":{\"gridcolor\":\"white\",\"linecolor\":\"white\",\"ticks\":\"\"}},\"ternary\":{\"bgcolor\":\"#E5ECF6\",\"aaxis\":{\"gridcolor\":\"white\",\"linecolor\":\"white\",\"ticks\":\"\"},\"baxis\":{\"gridcolor\":\"white\",\"linecolor\":\"white\",\"ticks\":\"\"},\"caxis\":{\"gridcolor\":\"white\",\"linecolor\":\"white\",\"ticks\":\"\"}},\"coloraxis\":{\"colorbar\":{\"outlinewidth\":0,\"ticks\":\"\"}},\"colorscale\":{\"sequential\":[[0.0,\"#0d0887\"],[0.1111111111111111,\"#46039f\"],[0.2222222222222222,\"#7201a8\"],[0.3333333333333333,\"#9c179e\"],[0.4444444444444444,\"#bd3786\"],[0.5555555555555556,\"#d8576b\"],[0.6666666666666666,\"#ed7953\"],[0.7777777777777778,\"#fb9f3a\"],[0.8888888888888888,\"#fdca26\"],[1.0,\"#f0f921\"]],\"sequentialminus\":[[0.0,\"#0d0887\"],[0.1111111111111111,\"#46039f\"],[0.2222222222222222,\"#7201a8\"],[0.3333333333333333,\"#9c179e\"],[0.4444444444444444,\"#bd3786\"],[0.5555555555555556,\"#d8576b\"],[0.6666666666666666,\"#ed7953\"],[0.7777777777777778,\"#fb9f3a\"],[0.8888888888888888,\"#fdca26\"],[1.0,\"#f0f921\"]],\"diverging\":[[0,\"#8e0152\"],[0.1,\"#c51b7d\"],[0.2,\"#de77ae\"],[0.3,\"#f1b6da\"],[0.4,\"#fde0ef\"],[0.5,\"#f7f7f7\"],[0.6,\"#e6f5d0\"],[0.7,\"#b8e186\"],[0.8,\"#7fbc41\"],[0.9,\"#4d9221\"],[1,\"#276419\"]]},\"xaxis\":{\"gridcolor\":\"white\",\"linecolor\":\"white\",\"ticks\":\"\",\"title\":{\"standoff\":15},\"zerolinecolor\":\"white\",\"automargin\":true,\"zerolinewidth\":2},\"yaxis\":{\"gridcolor\":\"white\",\"linecolor\":\"white\",\"ticks\":\"\",\"title\":{\"standoff\":15},\"zerolinecolor\":\"white\",\"automargin\":true,\"zerolinewidth\":2},\"scene\":{\"xaxis\":{\"backgroundcolor\":\"#E5ECF6\",\"gridcolor\":\"white\",\"linecolor\":\"white\",\"showbackground\":true,\"ticks\":\"\",\"zerolinecolor\":\"white\",\"gridwidth\":2},\"yaxis\":{\"backgroundcolor\":\"#E5ECF6\",\"gridcolor\":\"white\",\"linecolor\":\"white\",\"showbackground\":true,\"ticks\":\"\",\"zerolinecolor\":\"white\",\"gridwidth\":2},\"zaxis\":{\"backgroundcolor\":\"#E5ECF6\",\"gridcolor\":\"white\",\"linecolor\":\"white\",\"showbackground\":true,\"ticks\":\"\",\"zerolinecolor\":\"white\",\"gridwidth\":2}},\"shapedefaults\":{\"line\":{\"color\":\"#2a3f5f\"}},\"annotationdefaults\":{\"arrowcolor\":\"#2a3f5f\",\"arrowhead\":0,\"arrowwidth\":1},\"geo\":{\"bgcolor\":\"white\",\"landcolor\":\"#E5ECF6\",\"subunitcolor\":\"white\",\"showland\":true,\"showlakes\":true,\"lakecolor\":\"white\"},\"title\":{\"x\":0.05},\"mapbox\":{\"style\":\"light\"}}},\"legend\":{\"tracegroupgap\":0,\"yanchor\":\"top\",\"y\":0.99,\"xanchor\":\"left\",\"x\":0.01},\"margin\":{\"t\":60},\"uniformtext\":{\"minsize\":16,\"mode\":\"hide\"},\"title\":{\"font\":{\"size\":20,\"color\":\"black\"},\"text\":\"Distribution of Orders Worldwide\",\"y\":0.95,\"x\":0.5,\"xanchor\":\"center\",\"yanchor\":\"top\"}},                        {\"responsive\": true}                    ).then(function(){\n",
       "                            \n",
       "var gd = document.getElementById('54f2d595-531b-4f80-a60d-b5d196a4f4c3');\n",
       "var x = new MutationObserver(function (mutations, observer) {{\n",
       "        var display = window.getComputedStyle(gd).display;\n",
       "        if (!display || display === 'none') {{\n",
       "            console.log([gd, 'removed!']);\n",
       "            Plotly.purge(gd);\n",
       "            observer.disconnect();\n",
       "        }}\n",
       "}});\n",
       "\n",
       "// Listen for the removal of the full notebook cells\n",
       "var notebookContainer = gd.closest('#notebook-container');\n",
       "if (notebookContainer) {{\n",
       "    x.observe(notebookContainer, {childList: true});\n",
       "}}\n",
       "\n",
       "// Listen for the clearing of the current output cell\n",
       "var outputEl = gd.closest('.output');\n",
       "if (outputEl) {{\n",
       "    x.observe(outputEl, {childList: true});\n",
       "}}\n",
       "\n",
       "                        })                };                });            </script>        </div>"
      ]
     },
     "metadata": {},
     "output_type": "display_data"
    }
   ],
   "source": [
    "orders_pie = px.pie(orders_by_country, values=orders_by_country.values, \n",
    "                    names=orders_by_country.index)\n",
    "orders_pie.update_traces(textposition='inside', textinfo='percent+label')\n",
    "orders_pie.update_layout(uniformtext_minsize=16, uniformtext_mode='hide')\n",
    "orders_pie.update_layout(titlefont=dict(size=20, color='black'),\n",
    "                      title=dict(\n",
    "                            text = \"Distribution of Orders Worldwide\",\n",
    "                            y = 0.95,\n",
    "                            x = 0.5,\n",
    "                            xanchor =  'center',\n",
    "                            yanchor = 'top'\n",
    "                      ))\n",
    "orders_pie.update_layout(legend=dict(\n",
    "                            yanchor=\"top\",\n",
    "                            y=0.99,\n",
    "                            xanchor=\"left\",\n",
    "                            x=0.01\n",
    "                        ))\n",
    "orders_pie.show()"
   ]
  },
  {
   "cell_type": "markdown",
   "id": "4bd081b6",
   "metadata": {
    "id": "Te_MW_TvPkQE",
    "papermill": {
     "duration": 0.015616,
     "end_time": "2022-12-29T13:38:38.485953",
     "exception": false,
     "start_time": "2022-12-29T13:38:38.470337",
     "status": "completed"
    },
    "tags": []
   },
   "source": [
    "Seems like the E-commerce company operates most of its business in the UK since we can see that most orders are from there itself with a few orders for other countries. <br> <br>\n",
    "Since most of the presence of this company is based in and around the UK, we will focus our analysis towards them and drop other countries."
   ]
  },
  {
   "cell_type": "code",
   "execution_count": 15,
   "id": "55df6162",
   "metadata": {
    "execution": {
     "iopub.execute_input": "2022-12-29T13:38:38.519265Z",
     "iopub.status.busy": "2022-12-29T13:38:38.518843Z",
     "iopub.status.idle": "2022-12-29T13:38:38.567621Z",
     "shell.execute_reply": "2022-12-29T13:38:38.566071Z"
    },
    "id": "aVCOY16DP50q",
    "jupyter": {
     "source_hidden": true
    },
    "outputId": "0e7b661b-9dba-44bb-931a-f90d160ed7ec",
    "papermill": {
     "duration": 0.068482,
     "end_time": "2022-12-29T13:38:38.570293",
     "exception": false,
     "start_time": "2022-12-29T13:38:38.501811",
     "status": "completed"
    },
    "tags": []
   },
   "outputs": [
    {
     "name": "stdout",
     "output_type": "stream",
     "text": [
      "The top countries are:  United Kingdom, Germany, France, EIRE, Spain, Netherlands, Belgium, Switzerland \n",
      "\n",
      "\n",
      "<class 'pandas.core.frame.DataFrame'>\n",
      "Int64Index: 79414 entries, 0 to 81600\n",
      "Data columns (total 9 columns):\n",
      " #   Column       Non-Null Count  Dtype         \n",
      "---  ------       --------------  -----         \n",
      " 0   InvoiceNo    79414 non-null  object        \n",
      " 1   StockCode    79414 non-null  object        \n",
      " 2   Description  79414 non-null  object        \n",
      " 3   Quantity     79414 non-null  int64         \n",
      " 4   UnitPrice    79414 non-null  float64       \n",
      " 5   CustomerID   79414 non-null  int64         \n",
      " 6   Country      79414 non-null  object        \n",
      " 7   Date         79414 non-null  datetime64[ns]\n",
      " 8   Hour         79414 non-null  int64         \n",
      "dtypes: datetime64[ns](1), float64(1), int64(3), object(4)\n",
      "memory usage: 6.1+ MB\n"
     ]
    }
   ],
   "source": [
    "top_list = pd.Series.to_list(ecom_df.value_counts(\"Country\").index[:8])\n",
    "print(\"The top countries are: \", \", \".join(top_list), \"\\n\\n\")\n",
    "\n",
    "eu_ecom_df = ecom_df[ecom_df[\"Country\"].isin(top_list)]\n",
    "eu_ecom_df.info()"
   ]
  },
  {
   "cell_type": "markdown",
   "id": "178b2b2c",
   "metadata": {
    "id": "UC0X6rRUWQnr",
    "papermill": {
     "duration": 0.015388,
     "end_time": "2022-12-29T13:38:38.601595",
     "exception": false,
     "start_time": "2022-12-29T13:38:38.586207",
     "status": "completed"
    },
    "tags": []
   },
   "source": [
    "### Analysing Trends Related to Customer Spending"
   ]
  },
  {
   "cell_type": "markdown",
   "id": "26fc5207",
   "metadata": {
    "id": "gywVwShtC7bz",
    "papermill": {
     "duration": 0.016083,
     "end_time": "2022-12-29T13:38:38.633592",
     "exception": false,
     "start_time": "2022-12-29T13:38:38.617509",
     "status": "completed"
    },
    "tags": []
   },
   "source": [
    "We will add a column named `MoneySpent` to show the amount of money spent by the customer for a particular order. <br>`MoneySpent` = `Quantity` * `UnitPrice` <br>This will also help us quantify data regarding customer spending habits."
   ]
  },
  {
   "cell_type": "code",
   "execution_count": 16,
   "id": "d1f82003",
   "metadata": {
    "execution": {
     "iopub.execute_input": "2022-12-29T13:38:38.667318Z",
     "iopub.status.busy": "2022-12-29T13:38:38.666891Z",
     "iopub.status.idle": "2022-12-29T13:38:38.685307Z",
     "shell.execute_reply": "2022-12-29T13:38:38.684246Z"
    },
    "id": "kel1Vvr0QtPj",
    "jupyter": {
     "source_hidden": true
    },
    "outputId": "e0291a9d-e55d-4bb7-de54-7ed906a0fbfd",
    "papermill": {
     "duration": 0.038089,
     "end_time": "2022-12-29T13:38:38.687641",
     "exception": false,
     "start_time": "2022-12-29T13:38:38.649552",
     "status": "completed"
    },
    "tags": []
   },
   "outputs": [
    {
     "data": {
      "text/html": [
       "<div>\n",
       "<style scoped>\n",
       "    .dataframe tbody tr th:only-of-type {\n",
       "        vertical-align: middle;\n",
       "    }\n",
       "\n",
       "    .dataframe tbody tr th {\n",
       "        vertical-align: top;\n",
       "    }\n",
       "\n",
       "    .dataframe thead th {\n",
       "        text-align: right;\n",
       "    }\n",
       "</style>\n",
       "<table border=\"1\" class=\"dataframe\">\n",
       "  <thead>\n",
       "    <tr style=\"text-align: right;\">\n",
       "      <th></th>\n",
       "      <th>InvoiceNo</th>\n",
       "      <th>StockCode</th>\n",
       "      <th>Description</th>\n",
       "      <th>Quantity</th>\n",
       "      <th>UnitPrice</th>\n",
       "      <th>CustomerID</th>\n",
       "      <th>Country</th>\n",
       "      <th>Date</th>\n",
       "      <th>Hour</th>\n",
       "      <th>MoneySpent</th>\n",
       "    </tr>\n",
       "  </thead>\n",
       "  <tbody>\n",
       "    <tr>\n",
       "      <th>0</th>\n",
       "      <td>536551</td>\n",
       "      <td>22112</td>\n",
       "      <td>CHOCOLATE HOT WATER BOTTLE</td>\n",
       "      <td>1</td>\n",
       "      <td>4.95</td>\n",
       "      <td>17346</td>\n",
       "      <td>United Kingdom</td>\n",
       "      <td>2010-12-01</td>\n",
       "      <td>14</td>\n",
       "      <td>4.95</td>\n",
       "    </tr>\n",
       "    <tr>\n",
       "      <th>1</th>\n",
       "      <td>536412</td>\n",
       "      <td>22900</td>\n",
       "      <td>SET 2 TEA TOWELS I LOVE LONDON</td>\n",
       "      <td>2</td>\n",
       "      <td>2.95</td>\n",
       "      <td>17920</td>\n",
       "      <td>United Kingdom</td>\n",
       "      <td>2010-12-01</td>\n",
       "      <td>11</td>\n",
       "      <td>5.90</td>\n",
       "    </tr>\n",
       "    <tr>\n",
       "      <th>2</th>\n",
       "      <td>536562</td>\n",
       "      <td>22313</td>\n",
       "      <td>OFFICE MUG WARMER PINK</td>\n",
       "      <td>6</td>\n",
       "      <td>2.95</td>\n",
       "      <td>13468</td>\n",
       "      <td>United Kingdom</td>\n",
       "      <td>2010-12-01</td>\n",
       "      <td>15</td>\n",
       "      <td>17.70</td>\n",
       "    </tr>\n",
       "    <tr>\n",
       "      <th>3</th>\n",
       "      <td>536528</td>\n",
       "      <td>22865</td>\n",
       "      <td>HAND WARMER OWL DESIGN</td>\n",
       "      <td>1</td>\n",
       "      <td>2.10</td>\n",
       "      <td>15525</td>\n",
       "      <td>United Kingdom</td>\n",
       "      <td>2010-12-01</td>\n",
       "      <td>13</td>\n",
       "      <td>2.10</td>\n",
       "    </tr>\n",
       "    <tr>\n",
       "      <th>4</th>\n",
       "      <td>536378</td>\n",
       "      <td>21975</td>\n",
       "      <td>PACK OF 60 DINOSAUR CAKE CASES</td>\n",
       "      <td>24</td>\n",
       "      <td>0.55</td>\n",
       "      <td>14688</td>\n",
       "      <td>United Kingdom</td>\n",
       "      <td>2010-12-01</td>\n",
       "      <td>9</td>\n",
       "      <td>13.20</td>\n",
       "    </tr>\n",
       "  </tbody>\n",
       "</table>\n",
       "</div>"
      ],
      "text/plain": [
       "  InvoiceNo StockCode                     Description  Quantity  UnitPrice  \\\n",
       "0    536551     22112      CHOCOLATE HOT WATER BOTTLE         1       4.95   \n",
       "1    536412     22900  SET 2 TEA TOWELS I LOVE LONDON         2       2.95   \n",
       "2    536562     22313          OFFICE MUG WARMER PINK         6       2.95   \n",
       "3    536528     22865          HAND WARMER OWL DESIGN         1       2.10   \n",
       "4    536378     21975  PACK OF 60 DINOSAUR CAKE CASES        24       0.55   \n",
       "\n",
       "   CustomerID         Country       Date  Hour  MoneySpent  \n",
       "0       17346  United Kingdom 2010-12-01    14        4.95  \n",
       "1       17920  United Kingdom 2010-12-01    11        5.90  \n",
       "2       13468  United Kingdom 2010-12-01    15       17.70  \n",
       "3       15525  United Kingdom 2010-12-01    13        2.10  \n",
       "4       14688  United Kingdom 2010-12-01     9       13.20  "
      ]
     },
     "execution_count": 16,
     "metadata": {},
     "output_type": "execute_result"
    }
   ],
   "source": [
    "eu_ecom_df[\"MoneySpent\"] = eu_ecom_df[\"Quantity\"] * eu_ecom_df[\"UnitPrice\"]\n",
    "eu_ecom_df.head()"
   ]
  },
  {
   "cell_type": "code",
   "execution_count": 17,
   "id": "4e3949c0",
   "metadata": {
    "execution": {
     "iopub.execute_input": "2022-12-29T13:38:38.722112Z",
     "iopub.status.busy": "2022-12-29T13:38:38.721720Z",
     "iopub.status.idle": "2022-12-29T13:38:38.782449Z",
     "shell.execute_reply": "2022-12-29T13:38:38.781247Z"
    },
    "id": "vl1tPWBPSYY5",
    "jupyter": {
     "source_hidden": true
    },
    "outputId": "4a9b4c4d-4dde-4597-a6c8-616c03b7df9f",
    "papermill": {
     "duration": 0.081104,
     "end_time": "2022-12-29T13:38:38.784980",
     "exception": false,
     "start_time": "2022-12-29T13:38:38.703876",
     "status": "completed"
    },
    "tags": []
   },
   "outputs": [
    {
     "data": {
      "text/html": [
       "<div>\n",
       "<style scoped>\n",
       "    .dataframe tbody tr th:only-of-type {\n",
       "        vertical-align: middle;\n",
       "    }\n",
       "\n",
       "    .dataframe tbody tr th {\n",
       "        vertical-align: top;\n",
       "    }\n",
       "\n",
       "    .dataframe thead th {\n",
       "        text-align: right;\n",
       "    }\n",
       "</style>\n",
       "<table border=\"1\" class=\"dataframe\">\n",
       "  <thead>\n",
       "    <tr style=\"text-align: right;\">\n",
       "      <th></th>\n",
       "      <th>Date</th>\n",
       "      <th>MoneySpent</th>\n",
       "      <th>Quantity</th>\n",
       "    </tr>\n",
       "  </thead>\n",
       "  <tbody>\n",
       "    <tr>\n",
       "      <th>0</th>\n",
       "      <td>2010-12-01</td>\n",
       "      <td>8025.85</td>\n",
       "      <td>3729</td>\n",
       "    </tr>\n",
       "    <tr>\n",
       "      <th>1</th>\n",
       "      <td>2010-12-02</td>\n",
       "      <td>7660.42</td>\n",
       "      <td>7154</td>\n",
       "    </tr>\n",
       "    <tr>\n",
       "      <th>2</th>\n",
       "      <td>2010-12-03</td>\n",
       "      <td>3362.06</td>\n",
       "      <td>1535</td>\n",
       "    </tr>\n",
       "    <tr>\n",
       "      <th>3</th>\n",
       "      <td>2010-12-05</td>\n",
       "      <td>6620.81</td>\n",
       "      <td>2916</td>\n",
       "    </tr>\n",
       "    <tr>\n",
       "      <th>4</th>\n",
       "      <td>2010-12-06</td>\n",
       "      <td>6375.55</td>\n",
       "      <td>3025</td>\n",
       "    </tr>\n",
       "  </tbody>\n",
       "</table>\n",
       "</div>"
      ],
      "text/plain": [
       "        Date  MoneySpent  Quantity\n",
       "0 2010-12-01     8025.85      3729\n",
       "1 2010-12-02     7660.42      7154\n",
       "2 2010-12-03     3362.06      1535\n",
       "3 2010-12-05     6620.81      2916\n",
       "4 2010-12-06     6375.55      3025"
      ]
     },
     "execution_count": 17,
     "metadata": {},
     "output_type": "execute_result"
    }
   ],
   "source": [
    "sorted_ecom_df = eu_ecom_df.groupby(\"Date\").agg({\"MoneySpent\": pd.Series.sum,\n",
    "                                                 \"Quantity\": pd.Series.sum})\n",
    "sorted_ecom_df.reset_index(inplace=True)\n",
    "sorted_ecom_df.head()"
   ]
  },
  {
   "cell_type": "code",
   "execution_count": 18,
   "id": "c58727fe",
   "metadata": {
    "execution": {
     "iopub.execute_input": "2022-12-29T13:38:38.819932Z",
     "iopub.status.busy": "2022-12-29T13:38:38.819526Z",
     "iopub.status.idle": "2022-12-29T13:38:39.057689Z",
     "shell.execute_reply": "2022-12-29T13:38:39.056569Z"
    },
    "id": "JXib0LkTUDg9",
    "jupyter": {
     "source_hidden": true
    },
    "outputId": "7cb6ceca-05d4-4871-93d1-bc529ff5f16a",
    "papermill": {
     "duration": 0.258974,
     "end_time": "2022-12-29T13:38:39.060543",
     "exception": false,
     "start_time": "2022-12-29T13:38:38.801569",
     "status": "completed"
    },
    "tags": []
   },
   "outputs": [
    {
     "data": {
      "text/html": [
       "<div>                            <div id=\"70fecb4c-2e24-4773-a4f0-6784903612e9\" class=\"plotly-graph-div\" style=\"height:525px; width:100%;\"></div>            <script type=\"text/javascript\">                require([\"plotly\"], function(Plotly) {                    window.PLOTLYENV=window.PLOTLYENV || {};                                    if (document.getElementById(\"70fecb4c-2e24-4773-a4f0-6784903612e9\")) {                    Plotly.newPlot(                        \"70fecb4c-2e24-4773-a4f0-6784903612e9\",                        [{\"fillpattern\":{\"shape\":\"\"},\"hovertemplate\":\"Country=EIRE<br>Date=%{x}<br>MoneySpent=%{y}<extra></extra>\",\"legendgroup\":\"EIRE\",\"line\":{\"color\":\"#3366CC\",\"shape\":\"linear\"},\"marker\":{\"symbol\":\"circle\"},\"mode\":\"lines\",\"name\":\"EIRE\",\"orientation\":\"v\",\"showlegend\":true,\"stackgroup\":\"1\",\"x\":[\"2010-12-01T00:00:00\",\"2010-12-03T00:00:00\",\"2010-12-06T00:00:00\",\"2010-12-09T00:00:00\",\"2010-12-10T00:00:00\",\"2010-12-16T00:00:00\",\"2010-12-17T00:00:00\",\"2010-12-19T00:00:00\",\"2010-12-20T00:00:00\",\"2010-12-21T00:00:00\",\"2010-12-23T00:00:00\",\"2011-01-05T00:00:00\",\"2011-01-09T00:00:00\",\"2011-01-14T00:00:00\",\"2011-01-18T00:00:00\",\"2011-01-20T00:00:00\",\"2011-01-24T00:00:00\",\"2011-01-26T00:00:00\",\"2011-01-27T00:00:00\",\"2011-02-01T00:00:00\",\"2011-02-03T00:00:00\",\"2011-02-04T00:00:00\",\"2011-02-08T00:00:00\",\"2011-02-14T00:00:00\",\"2011-02-15T00:00:00\",\"2011-02-17T00:00:00\",\"2011-02-18T00:00:00\",\"2011-02-23T00:00:00\",\"2011-02-25T00:00:00\",\"2011-03-01T00:00:00\",\"2011-03-04T00:00:00\",\"2011-03-10T00:00:00\",\"2011-03-14T00:00:00\",\"2011-03-15T00:00:00\",\"2011-03-17T00:00:00\",\"2011-03-18T00:00:00\",\"2011-03-20T00:00:00\",\"2011-03-24T00:00:00\",\"2011-03-25T00:00:00\",\"2011-03-28T00:00:00\",\"2011-03-31T00:00:00\",\"2011-04-01T00:00:00\",\"2011-04-04T00:00:00\",\"2011-04-06T00:00:00\",\"2011-04-07T00:00:00\",\"2011-04-11T00:00:00\",\"2011-04-17T00:00:00\",\"2011-04-19T00:00:00\",\"2011-04-27T00:00:00\",\"2011-05-03T00:00:00\",\"2011-05-05T00:00:00\",\"2011-05-06T00:00:00\",\"2011-05-08T00:00:00\",\"2011-05-15T00:00:00\",\"2011-05-16T00:00:00\",\"2011-05-17T00:00:00\",\"2011-05-18T00:00:00\",\"2011-05-19T00:00:00\",\"2011-05-20T00:00:00\",\"2011-05-23T00:00:00\",\"2011-05-26T00:00:00\",\"2011-06-06T00:00:00\",\"2011-06-07T00:00:00\",\"2011-06-08T00:00:00\",\"2011-06-09T00:00:00\",\"2011-06-13T00:00:00\",\"2011-06-15T00:00:00\",\"2011-06-16T00:00:00\",\"2011-06-17T00:00:00\",\"2011-06-19T00:00:00\",\"2011-06-21T00:00:00\",\"2011-06-22T00:00:00\",\"2011-06-23T00:00:00\",\"2011-06-24T00:00:00\",\"2011-06-27T00:00:00\",\"2011-06-29T00:00:00\",\"2011-06-30T00:00:00\",\"2011-07-01T00:00:00\",\"2011-07-05T00:00:00\",\"2011-07-14T00:00:00\",\"2011-07-18T00:00:00\",\"2011-07-19T00:00:00\",\"2011-07-21T00:00:00\",\"2011-07-26T00:00:00\",\"2011-07-27T00:00:00\",\"2011-07-28T00:00:00\",\"2011-07-29T00:00:00\",\"2011-07-31T00:00:00\",\"2011-08-04T00:00:00\",\"2011-08-05T00:00:00\",\"2011-08-08T00:00:00\",\"2011-08-10T00:00:00\",\"2011-08-11T00:00:00\",\"2011-08-12T00:00:00\",\"2011-08-15T00:00:00\",\"2011-08-16T00:00:00\",\"2011-08-17T00:00:00\",\"2011-08-18T00:00:00\",\"2011-08-19T00:00:00\",\"2011-08-21T00:00:00\",\"2011-08-26T00:00:00\",\"2011-08-30T00:00:00\",\"2011-09-01T00:00:00\",\"2011-09-02T00:00:00\",\"2011-09-04T00:00:00\",\"2011-09-05T00:00:00\",\"2011-09-06T00:00:00\",\"2011-09-07T00:00:00\",\"2011-09-14T00:00:00\",\"2011-09-15T00:00:00\",\"2011-09-19T00:00:00\",\"2011-09-20T00:00:00\",\"2011-09-21T00:00:00\",\"2011-09-22T00:00:00\",\"2011-09-23T00:00:00\",\"2011-09-26T00:00:00\",\"2011-09-27T00:00:00\",\"2011-09-28T00:00:00\",\"2011-09-30T00:00:00\",\"2011-10-06T00:00:00\",\"2011-10-07T00:00:00\",\"2011-10-10T00:00:00\",\"2011-10-11T00:00:00\",\"2011-10-12T00:00:00\",\"2011-10-14T00:00:00\",\"2011-10-17T00:00:00\",\"2011-10-18T00:00:00\",\"2011-10-19T00:00:00\",\"2011-10-20T00:00:00\",\"2011-10-21T00:00:00\",\"2011-10-24T00:00:00\",\"2011-10-30T00:00:00\",\"2011-10-31T00:00:00\",\"2011-11-01T00:00:00\",\"2011-11-04T00:00:00\",\"2011-11-07T00:00:00\",\"2011-11-08T00:00:00\",\"2011-11-09T00:00:00\",\"2011-11-10T00:00:00\",\"2011-11-11T00:00:00\",\"2011-11-13T00:00:00\",\"2011-11-14T00:00:00\",\"2011-11-15T00:00:00\",\"2011-11-16T00:00:00\",\"2011-11-17T00:00:00\",\"2011-11-18T00:00:00\",\"2011-11-20T00:00:00\",\"2011-11-21T00:00:00\",\"2011-11-22T00:00:00\",\"2011-11-23T00:00:00\",\"2011-11-24T00:00:00\",\"2011-11-25T00:00:00\",\"2011-11-27T00:00:00\",\"2011-11-28T00:00:00\",\"2011-11-30T00:00:00\",\"2011-12-01T00:00:00\",\"2011-12-04T00:00:00\",\"2011-12-05T00:00:00\",\"2011-12-07T00:00:00\",\"2011-12-08T00:00:00\"],\"xaxis\":\"x\",\"y\":[159.2,381.1499999999999,445.99999999999994,43.800000000000004,181.69999999999996,-31.19999999999999,80.7,34.0,-88.82000000000001,162.15,65.0,-83.86,65.3,3571.9500000000003,129.6,848.8800000000001,39.6,245.07,33.6,181.89999999999998,222.35,117.65,-25.8,467.21999999999997,711.7900000000001,12.600000000000001,11.7,595.2,-612.0,712.8,207.14999999999998,1600.92,482.55,590.41,93.0,179.29999999999998,17.700000000000003,65.0,213.31,96.16,27.2,242.5,848.1,184.82999999999998,161.45,221.70999999999998,103.9,97.86,127.9,311.38,77.1,111.84,121.38,140.70000000000002,545.0100000000001,-19.9,255.92999999999998,98.4,50.26,218.64999999999998,198.44000000000003,229.84,25.05,594.9799999999999,171.29999999999998,199.09999999999997,466.16,106.56000000000002,42.5,25.5,61.199999999999996,231.5,132.7,124.1,162.26999999999998,556.1400000000001,37.44,102.72,95.15,627.45,161.66,3626.73,189.1,206.85000000000002,95.69999999999999,1485.84,140.34,2855.51,-51.36000000000003,345.48,190.16,20.8,232.33999999999997,330.0,99.82,-17.0,258.25,10.1,203.17000000000002,63.900000000000006,226.1,-60.0,1725.3600000000001,103.4,403.2,1245.6000000000001,786.54,617.94,198.62,131.66,68.16,324.16,195.16000000000003,276.05000000000007,753.4599999999999,192.4,90.6,464.96,1280.4699999999998,92.2,171.02999999999997,278.06,238.08000000000004,243.76,58.4,1227.71,151.9,419.94000000000005,619.05,323.47999999999996,0.5600000000000005,176.16000000000003,146.39999999999998,478.79,-3.4,332.56,-5.9,141.84,172.35,545.25,528.18,61.7,474.79999999999995,1017.3599999999999,258.54,139.5,127.55000000000001,165.27,265.68000000000006,-9.95,18.72,178.64,169.10000000000002,376.54,364.12,178.91,60.0,60.4,867.8200000000002,421.09999999999997],\"yaxis\":\"y\",\"type\":\"scatter\"},{\"fillpattern\":{\"shape\":\"\"},\"hovertemplate\":\"Country=France<br>Date=%{x}<br>MoneySpent=%{y}<extra></extra>\",\"legendgroup\":\"France\",\"line\":{\"color\":\"#DC3912\",\"shape\":\"linear\"},\"marker\":{\"symbol\":\"circle\"},\"mode\":\"lines\",\"name\":\"France\",\"orientation\":\"v\",\"showlegend\":true,\"stackgroup\":\"1\",\"x\":[\"2010-12-01T00:00:00\",\"2010-12-03T00:00:00\",\"2010-12-05T00:00:00\",\"2010-12-07T00:00:00\",\"2010-12-08T00:00:00\",\"2010-12-09T00:00:00\",\"2010-12-10T00:00:00\",\"2010-12-15T00:00:00\",\"2010-12-16T00:00:00\",\"2010-12-17T00:00:00\",\"2010-12-20T00:00:00\",\"2010-12-21T00:00:00\",\"2010-12-22T00:00:00\",\"2011-01-05T00:00:00\",\"2011-01-06T00:00:00\",\"2011-01-07T00:00:00\",\"2011-01-09T00:00:00\",\"2011-01-10T00:00:00\",\"2011-01-11T00:00:00\",\"2011-01-12T00:00:00\",\"2011-01-14T00:00:00\",\"2011-01-17T00:00:00\",\"2011-01-19T00:00:00\",\"2011-01-20T00:00:00\",\"2011-01-21T00:00:00\",\"2011-01-23T00:00:00\",\"2011-01-25T00:00:00\",\"2011-01-27T00:00:00\",\"2011-01-28T00:00:00\",\"2011-01-31T00:00:00\",\"2011-02-01T00:00:00\",\"2011-02-02T00:00:00\",\"2011-02-04T00:00:00\",\"2011-02-08T00:00:00\",\"2011-02-09T00:00:00\",\"2011-02-10T00:00:00\",\"2011-02-15T00:00:00\",\"2011-02-16T00:00:00\",\"2011-02-17T00:00:00\",\"2011-02-18T00:00:00\",\"2011-02-21T00:00:00\",\"2011-02-22T00:00:00\",\"2011-02-23T00:00:00\",\"2011-02-27T00:00:00\",\"2011-02-28T00:00:00\",\"2011-03-01T00:00:00\",\"2011-03-03T00:00:00\",\"2011-03-04T00:00:00\",\"2011-03-08T00:00:00\",\"2011-03-11T00:00:00\",\"2011-03-13T00:00:00\",\"2011-03-14T00:00:00\",\"2011-03-15T00:00:00\",\"2011-03-16T00:00:00\",\"2011-03-20T00:00:00\",\"2011-03-21T00:00:00\",\"2011-03-22T00:00:00\",\"2011-03-23T00:00:00\",\"2011-03-25T00:00:00\",\"2011-03-27T00:00:00\",\"2011-03-28T00:00:00\",\"2011-03-31T00:00:00\",\"2011-04-01T00:00:00\",\"2011-04-04T00:00:00\",\"2011-04-07T00:00:00\",\"2011-04-14T00:00:00\",\"2011-04-17T00:00:00\",\"2011-04-18T00:00:00\",\"2011-04-20T00:00:00\",\"2011-04-21T00:00:00\",\"2011-04-26T00:00:00\",\"2011-04-28T00:00:00\",\"2011-05-03T00:00:00\",\"2011-05-05T00:00:00\",\"2011-05-08T00:00:00\",\"2011-05-09T00:00:00\",\"2011-05-10T00:00:00\",\"2011-05-11T00:00:00\",\"2011-05-12T00:00:00\",\"2011-05-13T00:00:00\",\"2011-05-16T00:00:00\",\"2011-05-17T00:00:00\",\"2011-05-18T00:00:00\",\"2011-05-19T00:00:00\",\"2011-05-20T00:00:00\",\"2011-05-22T00:00:00\",\"2011-05-23T00:00:00\",\"2011-05-24T00:00:00\",\"2011-05-25T00:00:00\",\"2011-05-26T00:00:00\",\"2011-05-27T00:00:00\",\"2011-05-31T00:00:00\",\"2011-06-05T00:00:00\",\"2011-06-06T00:00:00\",\"2011-06-08T00:00:00\",\"2011-06-09T00:00:00\",\"2011-06-10T00:00:00\",\"2011-06-12T00:00:00\",\"2011-06-13T00:00:00\",\"2011-06-15T00:00:00\",\"2011-06-16T00:00:00\",\"2011-06-17T00:00:00\",\"2011-06-20T00:00:00\",\"2011-06-21T00:00:00\",\"2011-06-22T00:00:00\",\"2011-06-24T00:00:00\",\"2011-06-27T00:00:00\",\"2011-07-01T00:00:00\",\"2011-07-04T00:00:00\",\"2011-07-05T00:00:00\",\"2011-07-06T00:00:00\",\"2011-07-08T00:00:00\",\"2011-07-11T00:00:00\",\"2011-07-12T00:00:00\",\"2011-07-13T00:00:00\",\"2011-07-17T00:00:00\",\"2011-07-18T00:00:00\",\"2011-07-19T00:00:00\",\"2011-07-24T00:00:00\",\"2011-07-27T00:00:00\",\"2011-07-29T00:00:00\",\"2011-08-02T00:00:00\",\"2011-08-03T00:00:00\",\"2011-08-04T00:00:00\",\"2011-08-05T00:00:00\",\"2011-08-10T00:00:00\",\"2011-08-12T00:00:00\",\"2011-08-14T00:00:00\",\"2011-08-15T00:00:00\",\"2011-08-17T00:00:00\",\"2011-08-18T00:00:00\",\"2011-08-19T00:00:00\",\"2011-08-21T00:00:00\",\"2011-08-23T00:00:00\",\"2011-08-25T00:00:00\",\"2011-08-26T00:00:00\",\"2011-08-31T00:00:00\",\"2011-09-02T00:00:00\",\"2011-09-04T00:00:00\",\"2011-09-05T00:00:00\",\"2011-09-07T00:00:00\",\"2011-09-08T00:00:00\",\"2011-09-09T00:00:00\",\"2011-09-14T00:00:00\",\"2011-09-15T00:00:00\",\"2011-09-16T00:00:00\",\"2011-09-19T00:00:00\",\"2011-09-20T00:00:00\",\"2011-09-21T00:00:00\",\"2011-09-22T00:00:00\",\"2011-09-23T00:00:00\",\"2011-09-25T00:00:00\",\"2011-09-26T00:00:00\",\"2011-09-27T00:00:00\",\"2011-09-28T00:00:00\",\"2011-09-29T00:00:00\",\"2011-09-30T00:00:00\",\"2011-10-03T00:00:00\",\"2011-10-04T00:00:00\",\"2011-10-05T00:00:00\",\"2011-10-06T00:00:00\",\"2011-10-07T00:00:00\",\"2011-10-10T00:00:00\",\"2011-10-11T00:00:00\",\"2011-10-12T00:00:00\",\"2011-10-13T00:00:00\",\"2011-10-14T00:00:00\",\"2011-10-18T00:00:00\",\"2011-10-19T00:00:00\",\"2011-10-20T00:00:00\",\"2011-10-27T00:00:00\",\"2011-10-28T00:00:00\",\"2011-10-30T00:00:00\",\"2011-10-31T00:00:00\",\"2011-11-01T00:00:00\",\"2011-11-02T00:00:00\",\"2011-11-03T00:00:00\",\"2011-11-04T00:00:00\",\"2011-11-08T00:00:00\",\"2011-11-09T00:00:00\",\"2011-11-10T00:00:00\",\"2011-11-11T00:00:00\",\"2011-11-13T00:00:00\",\"2011-11-14T00:00:00\",\"2011-11-15T00:00:00\",\"2011-11-16T00:00:00\",\"2011-11-17T00:00:00\",\"2011-11-18T00:00:00\",\"2011-11-20T00:00:00\",\"2011-11-21T00:00:00\",\"2011-11-22T00:00:00\",\"2011-11-23T00:00:00\",\"2011-11-24T00:00:00\",\"2011-11-25T00:00:00\",\"2011-11-28T00:00:00\",\"2011-11-29T00:00:00\",\"2011-11-30T00:00:00\",\"2011-12-01T00:00:00\",\"2011-12-02T00:00:00\",\"2011-12-04T00:00:00\",\"2011-12-05T00:00:00\",\"2011-12-06T00:00:00\",\"2011-12-07T00:00:00\",\"2011-12-08T00:00:00\",\"2011-12-09T00:00:00\"],\"xaxis\":\"x\",\"y\":[292.4,66.0,314.49,246.75000000000003,28.200000000000003,262.65000000000003,346.79999999999995,39.58,4.949999999999999,13.2,306.15000000000003,150.0,16.8,279.15,202.3,137.3,27.450000000000003,183.45,1003.8999999999999,164.14,318.65999999999997,128.39999999999998,108.9,374.15999999999997,-2.95,171.3,-7.6499999999999995,-6.25,242.42,455.85,19.799999999999997,288.75,222.59999999999997,66.4,58.400000000000006,72.6,117.3,245.88,46.1,334.81999999999994,180.23999999999998,-6.300000000000001,112.48,80.0,231.9,212.43999999999997,149.64,65.55,-11.7,99.9,95.33999999999999,95.7,175.39999999999998,25.2,43.8,35.11,80.3,482.52,25.500000000000004,28.15,195.24000000000004,1346.98,53.400000000000006,82.8,74.0,230.65,153.84,-75.0,89.4,284.54999999999995,40.7,41.400000000000006,386.5,102.6,179.49999999999997,145.5,71.28,697.59,17.0,160.67000000000002,186.72,181.98,236.45,195.14999999999998,16.95,267.7,119.64,157.0,255.31,46.5,34.2,50.099999999999994,598.54,46.25,235.68,116.26,204.0,72.92,762.84,283.50000000000006,128.44,254.7,98.9,99.9,222.94,58.0,71.8,150.1,34.8,115.5,43.14,234.42000000000002,92.02000000000001,139.54,145.0,63.8,130.94,11.7,66.6,25.35,185.62,19.799999999999997,135.0,73.6,203.20000000000002,35.0,123.78,33.9,208.5,118.19999999999999,207.56,133.5,104.75,97.80000000000001,463.46999999999997,110.1,766.9399999999998,120.6,123.5,164.87,624.1999999999998,333.96000000000004,447.26,82.98,307.98,-25.5,415.3,82.12,205.29999999999998,421.1,325.96000000000004,136.57999999999998,-11.049999999999999,54.8,160.89999999999998,268.09000000000003,228.27999999999997,75.52000000000001,145.39999999999998,457.24,15.0,56.199999999999996,7.640000000000001,728.8399999999999,219.2,96.7,54.059999999999995,-2.12,407.24999999999994,201.16,81.75999999999999,1615.1799999999996,13.200000000000001,109.7,347.83000000000004,40.2,125.61000000000001,98.34,280.14,164.82,342.79999999999995,435.1,19.8,398.92,169.98,237.0,589.12,116.9,217.0,30.799999999999997,166.3,63.31,336.57,217.25999999999996,214.89,320.73,547.0899999999999,101.4,216.34,228.50000000000003,254.88,261.48,221.64,51.45,43.050000000000004],\"yaxis\":\"y\",\"type\":\"scatter\"},{\"fillpattern\":{\"shape\":\"\"},\"hovertemplate\":\"Country=Germany<br>Date=%{x}<br>MoneySpent=%{y}<extra></extra>\",\"legendgroup\":\"Germany\",\"line\":{\"color\":\"#FF9900\",\"shape\":\"linear\"},\"marker\":{\"symbol\":\"circle\"},\"mode\":\"lines\",\"name\":\"Germany\",\"orientation\":\"v\",\"showlegend\":true,\"stackgroup\":\"1\",\"x\":[\"2010-12-01T00:00:00\",\"2010-12-02T00:00:00\",\"2010-12-03T00:00:00\",\"2010-12-05T00:00:00\",\"2010-12-06T00:00:00\",\"2010-12-07T00:00:00\",\"2010-12-09T00:00:00\",\"2010-12-10T00:00:00\",\"2010-12-13T00:00:00\",\"2010-12-15T00:00:00\",\"2010-12-17T00:00:00\",\"2010-12-19T00:00:00\",\"2010-12-20T00:00:00\",\"2010-12-23T00:00:00\",\"2011-01-05T00:00:00\",\"2011-01-06T00:00:00\",\"2011-01-07T00:00:00\",\"2011-01-10T00:00:00\",\"2011-01-11T00:00:00\",\"2011-01-12T00:00:00\",\"2011-01-13T00:00:00\",\"2011-01-14T00:00:00\",\"2011-01-17T00:00:00\",\"2011-01-18T00:00:00\",\"2011-01-21T00:00:00\",\"2011-01-24T00:00:00\",\"2011-01-25T00:00:00\",\"2011-01-26T00:00:00\",\"2011-01-27T00:00:00\",\"2011-01-28T00:00:00\",\"2011-01-31T00:00:00\",\"2011-02-01T00:00:00\",\"2011-02-02T00:00:00\",\"2011-02-03T00:00:00\",\"2011-02-04T00:00:00\",\"2011-02-07T00:00:00\",\"2011-02-08T00:00:00\",\"2011-02-09T00:00:00\",\"2011-02-10T00:00:00\",\"2011-02-11T00:00:00\",\"2011-02-14T00:00:00\",\"2011-02-17T00:00:00\",\"2011-02-18T00:00:00\",\"2011-02-21T00:00:00\",\"2011-02-23T00:00:00\",\"2011-02-25T00:00:00\",\"2011-03-01T00:00:00\",\"2011-03-03T00:00:00\",\"2011-03-07T00:00:00\",\"2011-03-08T00:00:00\",\"2011-03-11T00:00:00\",\"2011-03-14T00:00:00\",\"2011-03-16T00:00:00\",\"2011-03-17T00:00:00\",\"2011-03-18T00:00:00\",\"2011-03-20T00:00:00\",\"2011-03-22T00:00:00\",\"2011-03-24T00:00:00\",\"2011-03-25T00:00:00\",\"2011-03-28T00:00:00\",\"2011-03-30T00:00:00\",\"2011-03-31T00:00:00\",\"2011-04-01T00:00:00\",\"2011-04-04T00:00:00\",\"2011-04-05T00:00:00\",\"2011-04-07T00:00:00\",\"2011-04-08T00:00:00\",\"2011-04-11T00:00:00\",\"2011-04-14T00:00:00\",\"2011-04-19T00:00:00\",\"2011-04-20T00:00:00\",\"2011-04-21T00:00:00\",\"2011-04-26T00:00:00\",\"2011-04-27T00:00:00\",\"2011-04-28T00:00:00\",\"2011-05-01T00:00:00\",\"2011-05-04T00:00:00\",\"2011-05-05T00:00:00\",\"2011-05-06T00:00:00\",\"2011-05-09T00:00:00\",\"2011-05-10T00:00:00\",\"2011-05-11T00:00:00\",\"2011-05-12T00:00:00\",\"2011-05-13T00:00:00\",\"2011-05-17T00:00:00\",\"2011-05-19T00:00:00\",\"2011-05-22T00:00:00\",\"2011-05-23T00:00:00\",\"2011-05-24T00:00:00\",\"2011-05-26T00:00:00\",\"2011-05-27T00:00:00\",\"2011-05-29T00:00:00\",\"2011-06-01T00:00:00\",\"2011-06-02T00:00:00\",\"2011-06-03T00:00:00\",\"2011-06-05T00:00:00\",\"2011-06-06T00:00:00\",\"2011-06-07T00:00:00\",\"2011-06-09T00:00:00\",\"2011-06-12T00:00:00\",\"2011-06-13T00:00:00\",\"2011-06-16T00:00:00\",\"2011-06-20T00:00:00\",\"2011-06-21T00:00:00\",\"2011-06-23T00:00:00\",\"2011-06-24T00:00:00\",\"2011-06-30T00:00:00\",\"2011-07-01T00:00:00\",\"2011-07-04T00:00:00\",\"2011-07-07T00:00:00\",\"2011-07-08T00:00:00\",\"2011-07-12T00:00:00\",\"2011-07-13T00:00:00\",\"2011-07-14T00:00:00\",\"2011-07-15T00:00:00\",\"2011-07-19T00:00:00\",\"2011-07-20T00:00:00\",\"2011-07-21T00:00:00\",\"2011-07-22T00:00:00\",\"2011-07-24T00:00:00\",\"2011-07-25T00:00:00\",\"2011-07-27T00:00:00\",\"2011-07-28T00:00:00\",\"2011-07-29T00:00:00\",\"2011-08-01T00:00:00\",\"2011-08-02T00:00:00\",\"2011-08-04T00:00:00\",\"2011-08-05T00:00:00\",\"2011-08-07T00:00:00\",\"2011-08-08T00:00:00\",\"2011-08-09T00:00:00\",\"2011-08-12T00:00:00\",\"2011-08-15T00:00:00\",\"2011-08-16T00:00:00\",\"2011-08-17T00:00:00\",\"2011-08-19T00:00:00\",\"2011-08-21T00:00:00\",\"2011-08-22T00:00:00\",\"2011-08-23T00:00:00\",\"2011-08-24T00:00:00\",\"2011-08-25T00:00:00\",\"2011-08-26T00:00:00\",\"2011-08-30T00:00:00\",\"2011-08-31T00:00:00\",\"2011-09-02T00:00:00\",\"2011-09-04T00:00:00\",\"2011-09-06T00:00:00\",\"2011-09-08T00:00:00\",\"2011-09-09T00:00:00\",\"2011-09-11T00:00:00\",\"2011-09-16T00:00:00\",\"2011-09-19T00:00:00\",\"2011-09-20T00:00:00\",\"2011-09-21T00:00:00\",\"2011-09-22T00:00:00\",\"2011-09-23T00:00:00\",\"2011-09-26T00:00:00\",\"2011-09-27T00:00:00\",\"2011-09-28T00:00:00\",\"2011-09-29T00:00:00\",\"2011-09-30T00:00:00\",\"2011-10-04T00:00:00\",\"2011-10-05T00:00:00\",\"2011-10-06T00:00:00\",\"2011-10-07T00:00:00\",\"2011-10-10T00:00:00\",\"2011-10-11T00:00:00\",\"2011-10-12T00:00:00\",\"2011-10-13T00:00:00\",\"2011-10-14T00:00:00\",\"2011-10-17T00:00:00\",\"2011-10-18T00:00:00\",\"2011-10-19T00:00:00\",\"2011-10-20T00:00:00\",\"2011-10-21T00:00:00\",\"2011-10-24T00:00:00\",\"2011-10-25T00:00:00\",\"2011-10-26T00:00:00\",\"2011-10-27T00:00:00\",\"2011-10-28T00:00:00\",\"2011-10-31T00:00:00\",\"2011-11-02T00:00:00\",\"2011-11-03T00:00:00\",\"2011-11-06T00:00:00\",\"2011-11-07T00:00:00\",\"2011-11-08T00:00:00\",\"2011-11-10T00:00:00\",\"2011-11-11T00:00:00\",\"2011-11-14T00:00:00\",\"2011-11-15T00:00:00\",\"2011-11-16T00:00:00\",\"2011-11-17T00:00:00\",\"2011-11-18T00:00:00\",\"2011-11-20T00:00:00\",\"2011-11-21T00:00:00\",\"2011-11-22T00:00:00\",\"2011-11-23T00:00:00\",\"2011-11-24T00:00:00\",\"2011-11-25T00:00:00\",\"2011-11-28T00:00:00\",\"2011-11-29T00:00:00\",\"2011-12-01T00:00:00\",\"2011-12-04T00:00:00\",\"2011-12-05T00:00:00\",\"2011-12-07T00:00:00\",\"2011-12-08T00:00:00\",\"2011-12-09T00:00:00\"],\"xaxis\":\"x\",\"y\":[35.3,43.55,146.89999999999998,462.54,51.02,110.2,129.89999999999998,540.3,-4.55,-17.0,661.0600000000001,12.96,226.25000000000003,194.1,-48.05,-6.6,915.24,202.85,17.4,46.050000000000004,85.5,65.15,212.45,18.0,-11.75,753.3399999999999,306.0499999999999,263.12,142.82999999999998,-9.239999999999998,341.26,36.0,-25.5,643.0400000000001,-18.0,-20.2,-18.6,35.4,74.85000000000001,753.45,112.5,86.5,50.400000000000006,144.05,77.80000000000001,112.91,93.8,214.6,185.15,138.95,260.08000000000004,-34.0,17.85,269.53,597.02,75.18,245.82000000000005,-6.75,318.0,116.62,120.9,71.1,45.0,157.38,-19.799999999999997,89.80000000000001,351.0,169.35999999999999,784.3999999999999,734.9800000000001,57.4,80.70000000000002,-7.199999999999999,161.5,41.46,232.55999999999997,125.10000000000001,37.980000000000004,69.4,192.84,293.1,47.39999999999999,2318.32,445.02,105.88,311.43,298.0,197.89000000000001,144.54999999999998,250.73999999999998,66.98,78.78,127.12,569.0899999999999,32.7,189.53,50.519999999999996,-23.65,119.7,182.3,556.48,120.60000000000002,264.92999999999995,15.6,74.04,41.95,307.41999999999996,15.0,223.54000000000002,406.90000000000003,153.65,104.88,16.95,255.24,237.05,407.24999999999994,241.58999999999997,582.14,137.81,83.58000000000001,215.2,40.199999999999996,48.75,-12.5,274.49999999999994,227.25,344.66,122.8,7.800000000000001,137.04999999999998,30.5,-2.95,26.400000000000002,46.6,112.94000000000001,161.46000000000004,52.2,205.66,66.24,217.7,104.85,78.75,45.60000000000001,1393.4399999999998,102.88000000000001,489.2699999999999,167.63,267.08000000000004,-95.13000000000001,251.16,114.69999999999999,754.94,47.06,239.71,72.06,510.20000000000005,228.75000000000003,66.44999999999999,69.06,216.25000000000003,82.5,-2.89,780.64,677.72,908.82,16.6,195.44,214.35999999999999,388.13,411.25,752.78,136.42000000000002,302.37,276.58,124.10000000000001,-17.0,117.66,5.04,6.750000000000014,201.4,50.559999999999995,20.3,185.57999999999998,261.14,84.46000000000001,-52.050000000000004,48.5,529.4499999999999,79.6,65.28,1008.2199999999999,679.7600000000001,153.85,59.900000000000006,82.75,314.12,72.71000000000001,702.13,31.4,437.69,306.31999999999994,86.9,93.14,60.0,248.90000000000003,340.74,337.89000000000004],\"yaxis\":\"y\",\"type\":\"scatter\"},{\"fillpattern\":{\"shape\":\"\"},\"hovertemplate\":\"Country=United Kingdom<br>Date=%{x}<br>MoneySpent=%{y}<extra></extra>\",\"legendgroup\":\"United Kingdom\",\"line\":{\"color\":\"#109618\",\"shape\":\"linear\"},\"marker\":{\"symbol\":\"circle\"},\"mode\":\"lines\",\"name\":\"United Kingdom\",\"orientation\":\"v\",\"showlegend\":true,\"stackgroup\":\"1\",\"x\":[\"2010-12-01T00:00:00\",\"2010-12-02T00:00:00\",\"2010-12-03T00:00:00\",\"2010-12-05T00:00:00\",\"2010-12-06T00:00:00\",\"2010-12-07T00:00:00\",\"2010-12-08T00:00:00\",\"2010-12-09T00:00:00\",\"2010-12-10T00:00:00\",\"2010-12-12T00:00:00\",\"2010-12-13T00:00:00\",\"2010-12-14T00:00:00\",\"2010-12-15T00:00:00\",\"2010-12-16T00:00:00\",\"2010-12-17T00:00:00\",\"2010-12-19T00:00:00\",\"2010-12-20T00:00:00\",\"2010-12-21T00:00:00\",\"2010-12-22T00:00:00\",\"2010-12-23T00:00:00\",\"2011-01-04T00:00:00\",\"2011-01-05T00:00:00\",\"2011-01-06T00:00:00\",\"2011-01-07T00:00:00\",\"2011-01-09T00:00:00\",\"2011-01-10T00:00:00\",\"2011-01-11T00:00:00\",\"2011-01-12T00:00:00\",\"2011-01-13T00:00:00\",\"2011-01-14T00:00:00\",\"2011-01-16T00:00:00\",\"2011-01-17T00:00:00\",\"2011-01-18T00:00:00\",\"2011-01-19T00:00:00\",\"2011-01-20T00:00:00\",\"2011-01-21T00:00:00\",\"2011-01-23T00:00:00\",\"2011-01-24T00:00:00\",\"2011-01-25T00:00:00\",\"2011-01-26T00:00:00\",\"2011-01-27T00:00:00\",\"2011-01-28T00:00:00\",\"2011-01-30T00:00:00\",\"2011-01-31T00:00:00\",\"2011-02-01T00:00:00\",\"2011-02-02T00:00:00\",\"2011-02-03T00:00:00\",\"2011-02-04T00:00:00\",\"2011-02-06T00:00:00\",\"2011-02-07T00:00:00\",\"2011-02-08T00:00:00\",\"2011-02-09T00:00:00\",\"2011-02-10T00:00:00\",\"2011-02-11T00:00:00\",\"2011-02-13T00:00:00\",\"2011-02-14T00:00:00\",\"2011-02-15T00:00:00\",\"2011-02-16T00:00:00\",\"2011-02-17T00:00:00\",\"2011-02-18T00:00:00\",\"2011-02-20T00:00:00\",\"2011-02-21T00:00:00\",\"2011-02-22T00:00:00\",\"2011-02-23T00:00:00\",\"2011-02-24T00:00:00\",\"2011-02-25T00:00:00\",\"2011-02-27T00:00:00\",\"2011-02-28T00:00:00\",\"2011-03-01T00:00:00\",\"2011-03-02T00:00:00\",\"2011-03-03T00:00:00\",\"2011-03-04T00:00:00\",\"2011-03-06T00:00:00\",\"2011-03-07T00:00:00\",\"2011-03-08T00:00:00\",\"2011-03-09T00:00:00\",\"2011-03-10T00:00:00\",\"2011-03-11T00:00:00\",\"2011-03-13T00:00:00\",\"2011-03-14T00:00:00\",\"2011-03-15T00:00:00\",\"2011-03-16T00:00:00\",\"2011-03-17T00:00:00\",\"2011-03-18T00:00:00\",\"2011-03-20T00:00:00\",\"2011-03-21T00:00:00\",\"2011-03-22T00:00:00\",\"2011-03-23T00:00:00\",\"2011-03-24T00:00:00\",\"2011-03-25T00:00:00\",\"2011-03-27T00:00:00\",\"2011-03-28T00:00:00\",\"2011-03-29T00:00:00\",\"2011-03-30T00:00:00\",\"2011-03-31T00:00:00\",\"2011-04-01T00:00:00\",\"2011-04-03T00:00:00\",\"2011-04-04T00:00:00\",\"2011-04-05T00:00:00\",\"2011-04-06T00:00:00\",\"2011-04-07T00:00:00\",\"2011-04-08T00:00:00\",\"2011-04-10T00:00:00\",\"2011-04-11T00:00:00\",\"2011-04-12T00:00:00\",\"2011-04-13T00:00:00\",\"2011-04-14T00:00:00\",\"2011-04-15T00:00:00\",\"2011-04-17T00:00:00\",\"2011-04-18T00:00:00\",\"2011-04-19T00:00:00\",\"2011-04-20T00:00:00\",\"2011-04-21T00:00:00\",\"2011-04-26T00:00:00\",\"2011-04-27T00:00:00\",\"2011-04-28T00:00:00\",\"2011-05-01T00:00:00\",\"2011-05-03T00:00:00\",\"2011-05-04T00:00:00\",\"2011-05-05T00:00:00\",\"2011-05-06T00:00:00\",\"2011-05-08T00:00:00\",\"2011-05-09T00:00:00\",\"2011-05-10T00:00:00\",\"2011-05-11T00:00:00\",\"2011-05-12T00:00:00\",\"2011-05-13T00:00:00\",\"2011-05-15T00:00:00\",\"2011-05-16T00:00:00\",\"2011-05-17T00:00:00\",\"2011-05-18T00:00:00\",\"2011-05-19T00:00:00\",\"2011-05-20T00:00:00\",\"2011-05-22T00:00:00\",\"2011-05-23T00:00:00\",\"2011-05-24T00:00:00\",\"2011-05-25T00:00:00\",\"2011-05-26T00:00:00\",\"2011-05-27T00:00:00\",\"2011-05-29T00:00:00\",\"2011-05-31T00:00:00\",\"2011-06-01T00:00:00\",\"2011-06-02T00:00:00\",\"2011-06-03T00:00:00\",\"2011-06-05T00:00:00\",\"2011-06-06T00:00:00\",\"2011-06-07T00:00:00\",\"2011-06-08T00:00:00\",\"2011-06-09T00:00:00\",\"2011-06-10T00:00:00\",\"2011-06-12T00:00:00\",\"2011-06-13T00:00:00\",\"2011-06-14T00:00:00\",\"2011-06-15T00:00:00\",\"2011-06-16T00:00:00\",\"2011-06-17T00:00:00\",\"2011-06-19T00:00:00\",\"2011-06-20T00:00:00\",\"2011-06-21T00:00:00\",\"2011-06-22T00:00:00\",\"2011-06-23T00:00:00\",\"2011-06-24T00:00:00\",\"2011-06-26T00:00:00\",\"2011-06-27T00:00:00\",\"2011-06-28T00:00:00\",\"2011-06-29T00:00:00\",\"2011-06-30T00:00:00\",\"2011-07-01T00:00:00\",\"2011-07-03T00:00:00\",\"2011-07-04T00:00:00\",\"2011-07-05T00:00:00\",\"2011-07-06T00:00:00\",\"2011-07-07T00:00:00\",\"2011-07-08T00:00:00\",\"2011-07-10T00:00:00\",\"2011-07-11T00:00:00\",\"2011-07-12T00:00:00\",\"2011-07-13T00:00:00\",\"2011-07-14T00:00:00\",\"2011-07-15T00:00:00\",\"2011-07-17T00:00:00\",\"2011-07-18T00:00:00\",\"2011-07-19T00:00:00\",\"2011-07-20T00:00:00\",\"2011-07-21T00:00:00\",\"2011-07-22T00:00:00\",\"2011-07-24T00:00:00\",\"2011-07-25T00:00:00\",\"2011-07-26T00:00:00\",\"2011-07-27T00:00:00\",\"2011-07-28T00:00:00\",\"2011-07-29T00:00:00\",\"2011-07-31T00:00:00\",\"2011-08-01T00:00:00\",\"2011-08-02T00:00:00\",\"2011-08-03T00:00:00\",\"2011-08-04T00:00:00\",\"2011-08-05T00:00:00\",\"2011-08-07T00:00:00\",\"2011-08-08T00:00:00\",\"2011-08-09T00:00:00\",\"2011-08-10T00:00:00\",\"2011-08-11T00:00:00\",\"2011-08-12T00:00:00\",\"2011-08-14T00:00:00\",\"2011-08-15T00:00:00\",\"2011-08-16T00:00:00\",\"2011-08-17T00:00:00\",\"2011-08-18T00:00:00\",\"2011-08-19T00:00:00\",\"2011-08-21T00:00:00\",\"2011-08-22T00:00:00\",\"2011-08-23T00:00:00\",\"2011-08-24T00:00:00\",\"2011-08-25T00:00:00\",\"2011-08-26T00:00:00\",\"2011-08-28T00:00:00\",\"2011-08-30T00:00:00\",\"2011-08-31T00:00:00\",\"2011-09-01T00:00:00\",\"2011-09-02T00:00:00\",\"2011-09-04T00:00:00\",\"2011-09-05T00:00:00\",\"2011-09-06T00:00:00\",\"2011-09-07T00:00:00\",\"2011-09-08T00:00:00\",\"2011-09-09T00:00:00\",\"2011-09-11T00:00:00\",\"2011-09-12T00:00:00\",\"2011-09-13T00:00:00\",\"2011-09-14T00:00:00\",\"2011-09-15T00:00:00\",\"2011-09-16T00:00:00\",\"2011-09-18T00:00:00\",\"2011-09-19T00:00:00\",\"2011-09-20T00:00:00\",\"2011-09-21T00:00:00\",\"2011-09-22T00:00:00\",\"2011-09-23T00:00:00\",\"2011-09-25T00:00:00\",\"2011-09-26T00:00:00\",\"2011-09-27T00:00:00\",\"2011-09-28T00:00:00\",\"2011-09-29T00:00:00\",\"2011-09-30T00:00:00\",\"2011-10-02T00:00:00\",\"2011-10-03T00:00:00\",\"2011-10-04T00:00:00\",\"2011-10-05T00:00:00\",\"2011-10-06T00:00:00\",\"2011-10-07T00:00:00\",\"2011-10-09T00:00:00\",\"2011-10-10T00:00:00\",\"2011-10-11T00:00:00\",\"2011-10-12T00:00:00\",\"2011-10-13T00:00:00\",\"2011-10-14T00:00:00\",\"2011-10-16T00:00:00\",\"2011-10-17T00:00:00\",\"2011-10-18T00:00:00\",\"2011-10-19T00:00:00\",\"2011-10-20T00:00:00\",\"2011-10-21T00:00:00\",\"2011-10-23T00:00:00\",\"2011-10-24T00:00:00\",\"2011-10-25T00:00:00\",\"2011-10-26T00:00:00\",\"2011-10-27T00:00:00\",\"2011-10-28T00:00:00\",\"2011-10-30T00:00:00\",\"2011-10-31T00:00:00\",\"2011-11-01T00:00:00\",\"2011-11-02T00:00:00\",\"2011-11-03T00:00:00\",\"2011-11-04T00:00:00\",\"2011-11-06T00:00:00\",\"2011-11-07T00:00:00\",\"2011-11-08T00:00:00\",\"2011-11-09T00:00:00\",\"2011-11-10T00:00:00\",\"2011-11-11T00:00:00\",\"2011-11-13T00:00:00\",\"2011-11-14T00:00:00\",\"2011-11-15T00:00:00\",\"2011-11-16T00:00:00\",\"2011-11-17T00:00:00\",\"2011-11-18T00:00:00\",\"2011-11-20T00:00:00\",\"2011-11-21T00:00:00\",\"2011-11-22T00:00:00\",\"2011-11-23T00:00:00\",\"2011-11-24T00:00:00\",\"2011-11-25T00:00:00\",\"2011-11-27T00:00:00\",\"2011-11-28T00:00:00\",\"2011-11-29T00:00:00\",\"2011-11-30T00:00:00\",\"2011-12-01T00:00:00\",\"2011-12-02T00:00:00\",\"2011-12-04T00:00:00\",\"2011-12-05T00:00:00\",\"2011-12-06T00:00:00\",\"2011-12-07T00:00:00\",\"2011-12-08T00:00:00\",\"2011-12-09T00:00:00\"],\"xaxis\":\"x\",\"y\":[7538.949999999999,7616.87,2539.91,5843.780000000001,5878.530000000001,7588.300000000001,6651.12,5011.750000000001,5435.09,3437.0,4662.32,5185.900000000001,5242.040000000001,9181.779999999999,1718.12,1489.6599999999999,4092.64,1302.3400000000001,264.38000000000005,586.73,2107.4,4758.02,4721.29,3070.34,2679.3599999999997,2216.3399999999997,14767.86,2599.38,2941.67,1710.0900000000001,1165.8799999999999,2638.92,1199.96,2151.34,2512.5300000000007,2529.58,1937.48,2325.58,3837.16,2785.87,3686.0699999999997,2256.3399999999997,1401.65,2514.6399999999994,4450.639999999999,2634.21,3853.41,3834.83,568.03,7356.98,2547.3199999999997,848.9399999999999,2186.92,3665.83,1273.56,4102.2,2649.8900000000003,4437.36,2954.44,2145.19,2100.92,1802.1599999999999,4852.42,4164.04,4612.579999999999,3365.26,1698.81,2491.84,2792.2299999999996,2827.4,2216.58,2099.0,2152.4799999999996,3735.66,4441.2699999999995,3216.6000000000004,3855.47,3216.0099999999998,924.3899999999999,4016.91,1876.2099999999998,4115.54,5371.51,4116.3,3190.6,3372.55,2654.16,4258.219999999999,7173.859999999999,3767.6099999999997,1634.36,3117.58,4008.88,5020.83,2817.3999999999996,4980.360000000001,1032.8899999999999,3863.33,3649.0200000000004,2684.95,2881.2199999999993,4537.82,1615.8600000000001,3784.21,4063.5399999999995,4889.8,5739.05,3644.6,2695.99,7539.489999999998,3546.1400000000003,3735.7799999999997,5304.389999999999,4134.96,4127.57,3274.4700000000003,1568.4900000000002,3554.42,4813.16,3583.23,4457.59,3772.12,3521.15,4802.96,5104.530000000001,5051.049999999999,4406.82,1614.54,4723.299999999999,8069.67,5059.370000000001,4823.27,4625.64,5824.47,4370.02,4281.22,2752.81,3652.16,3036.6499999999996,991.45,4090.1099999999997,1555.98,4995.99,2158.62,3654.2299999999996,2448.9400000000005,4850.85,5132.549999999999,8442.78,1640.8400000000001,2332.24,2897.78,5195.93,2755.6400000000003,4268.139999999999,2236.27,3190.9799999999996,3268.92,2916.4399999999996,3456.7,3539.27,2874.7700000000004,1242.54,1878.94,3090.5599999999995,1737.7099999999998,5340.92,1785.69,1104.24,6292.130000000001,4914.68,3341.8100000000004,5818.12,4959.59,1073.6200000000001,4028.09,3370.1899999999996,2888.54,3890.0400000000004,1688.41,2917.3200000000006,-2214.4000000000005,5617.07,4884.570000000001,5106.17,2414.7000000000003,4685.1900000000005,2581.3100000000004,3278.54,2550.29,6154.740000000001,3282.56,2339.39,4129.780000000001,2738.82,5732.58,13027.27,2567.43,1623.6200000000001,4285.93,2874.05,3691.33,4868.6,4308.2,1238.0300000000002,2330.76,2866.6499999999996,9262.619999999999,5344.650000000001,2252.8199999999997,2170.05,3924.73,4070.75,6135.64,4234.370000000001,3215.9000000000005,1745.2199999999998,1652.4199999999998,-1699.0500000000006,6036.88,4411.34,2620.29,4860.349999999999,3863.8,3234.7300000000005,3301.08,3429.2799999999997,8081.83,5122.01,7094.75,3462.3900000000003,13789.099999999999,3895.4700000000003,3056.5299999999997,5040.39,22605.93,302.30000000000064,8550.57,3630.68,5587.0,6998.691,5618.129999999999,8256.349999999999,7795.870000000001,7620.6,2229.1,10771.869999999999,8853.51,8073.5,9656.29,9030.46,2611.03,8166.31,2105.2000000000003,3812.5,4173.34,4225.7,3282.5,6093.709999999999,5304.7300000000005,4206.15,5677.160000000001,5754.77,2400.59,6809.3099999999995,5447.99,4463.8,6423.21,4353.4400000000005,6592.02,6487.76,4944.200000000001,5482.83,8657.75,10064.380000000001,7095.719999999999,4532.4400000000005,6433.12,11711.82,12560.899999999998,5404.1,4487.76,11032.95,7313.22,7848.530000000001,6725.53,5878.12,5576.96,7399.62,9183.43,10948.24,4913.46,4653.08,3162.71,7640.45,9150.130000000001,5710.219999999999,8051.69,7653.44,3565.7,10959.28,6795.080000000001,15626.8,5752.85,2142.7699999999995],\"yaxis\":\"y\",\"type\":\"scatter\"},{\"fillpattern\":{\"shape\":\"\"},\"hovertemplate\":\"Country=Switzerland<br>Date=%{x}<br>MoneySpent=%{y}<extra></extra>\",\"legendgroup\":\"Switzerland\",\"line\":{\"color\":\"#990099\",\"shape\":\"linear\"},\"marker\":{\"symbol\":\"circle\"},\"mode\":\"lines\",\"name\":\"Switzerland\",\"orientation\":\"v\",\"showlegend\":true,\"stackgroup\":\"1\",\"x\":[\"2010-12-03T00:00:00\",\"2010-12-20T00:00:00\",\"2011-01-19T00:00:00\",\"2011-01-28T00:00:00\",\"2011-02-04T00:00:00\",\"2011-02-24T00:00:00\",\"2011-02-25T00:00:00\",\"2011-02-28T00:00:00\",\"2011-03-09T00:00:00\",\"2011-03-25T00:00:00\",\"2011-03-30T00:00:00\",\"2011-04-14T00:00:00\",\"2011-04-21T00:00:00\",\"2011-05-05T00:00:00\",\"2011-05-09T00:00:00\",\"2011-05-31T00:00:00\",\"2011-06-08T00:00:00\",\"2011-06-10T00:00:00\",\"2011-06-24T00:00:00\",\"2011-06-26T00:00:00\",\"2011-07-01T00:00:00\",\"2011-07-08T00:00:00\",\"2011-07-25T00:00:00\",\"2011-07-26T00:00:00\",\"2011-07-31T00:00:00\",\"2011-08-02T00:00:00\",\"2011-08-10T00:00:00\",\"2011-08-19T00:00:00\",\"2011-08-23T00:00:00\",\"2011-09-14T00:00:00\",\"2011-09-21T00:00:00\",\"2011-09-22T00:00:00\",\"2011-09-28T00:00:00\",\"2011-09-29T00:00:00\",\"2011-10-05T00:00:00\",\"2011-10-11T00:00:00\",\"2011-10-12T00:00:00\",\"2011-10-25T00:00:00\",\"2011-10-26T00:00:00\",\"2011-11-06T00:00:00\",\"2011-11-11T00:00:00\",\"2011-11-18T00:00:00\",\"2011-11-23T00:00:00\",\"2011-11-29T00:00:00\"],\"xaxis\":\"x\",\"y\":[228.1,222.0,585.06,106.32000000000001,155.1,283.95,40.0,105.0,80.0,159.4,149.51,146.25,159.69,418.11,126.9,117.81,110.14,1442.94,73.50000000000001,159.55,116.4,52.89,139.2,102.94000000000003,300.02,830.9899999999999,43.2,84.47999999999999,-15.35,99.54,-3.32,794.7,280.63,56.46,511.29999999999995,245.7,89.6,335.40000000000003,59.88000000000001,1174.5099999999998,34.35,176.64000000000001,69.55000000000001,20.0],\"yaxis\":\"y\",\"type\":\"scatter\"},{\"fillpattern\":{\"shape\":\"\"},\"hovertemplate\":\"Country=Spain<br>Date=%{x}<br>MoneySpent=%{y}<extra></extra>\",\"legendgroup\":\"Spain\",\"line\":{\"color\":\"#0099C6\",\"shape\":\"linear\"},\"marker\":{\"symbol\":\"circle\"},\"mode\":\"lines\",\"name\":\"Spain\",\"orientation\":\"v\",\"showlegend\":true,\"stackgroup\":\"1\",\"x\":[\"2010-12-09T00:00:00\",\"2010-12-13T00:00:00\",\"2010-12-17T00:00:00\",\"2011-01-07T00:00:00\",\"2011-01-10T00:00:00\",\"2011-01-11T00:00:00\",\"2011-01-18T00:00:00\",\"2011-01-19T00:00:00\",\"2011-01-24T00:00:00\",\"2011-01-27T00:00:00\",\"2011-02-01T00:00:00\",\"2011-02-03T00:00:00\",\"2011-02-09T00:00:00\",\"2011-02-18T00:00:00\",\"2011-03-04T00:00:00\",\"2011-03-07T00:00:00\",\"2011-03-16T00:00:00\",\"2011-03-22T00:00:00\",\"2011-03-24T00:00:00\",\"2011-03-25T00:00:00\",\"2011-04-21T00:00:00\",\"2011-04-28T00:00:00\",\"2011-05-04T00:00:00\",\"2011-05-06T00:00:00\",\"2011-05-26T00:00:00\",\"2011-05-31T00:00:00\",\"2011-06-03T00:00:00\",\"2011-06-06T00:00:00\",\"2011-06-09T00:00:00\",\"2011-06-16T00:00:00\",\"2011-06-19T00:00:00\",\"2011-06-26T00:00:00\",\"2011-07-04T00:00:00\",\"2011-07-06T00:00:00\",\"2011-07-07T00:00:00\",\"2011-07-11T00:00:00\",\"2011-07-20T00:00:00\",\"2011-07-25T00:00:00\",\"2011-07-28T00:00:00\",\"2011-08-04T00:00:00\",\"2011-08-16T00:00:00\",\"2011-08-17T00:00:00\",\"2011-08-21T00:00:00\",\"2011-08-24T00:00:00\",\"2011-08-28T00:00:00\",\"2011-08-31T00:00:00\",\"2011-09-05T00:00:00\",\"2011-09-08T00:00:00\",\"2011-09-19T00:00:00\",\"2011-09-21T00:00:00\",\"2011-09-23T00:00:00\",\"2011-09-25T00:00:00\",\"2011-09-27T00:00:00\",\"2011-10-04T00:00:00\",\"2011-10-07T00:00:00\",\"2011-10-14T00:00:00\",\"2011-10-17T00:00:00\",\"2011-10-18T00:00:00\",\"2011-10-19T00:00:00\",\"2011-10-20T00:00:00\",\"2011-10-24T00:00:00\",\"2011-10-26T00:00:00\",\"2011-10-30T00:00:00\",\"2011-11-03T00:00:00\",\"2011-11-04T00:00:00\",\"2011-11-07T00:00:00\",\"2011-11-08T00:00:00\",\"2011-11-10T00:00:00\",\"2011-11-17T00:00:00\",\"2011-11-20T00:00:00\",\"2011-11-21T00:00:00\",\"2011-11-24T00:00:00\",\"2011-11-29T00:00:00\",\"2011-12-06T00:00:00\",\"2011-12-07T00:00:00\"],\"xaxis\":\"x\",\"y\":[4.35,309.6,12.5,127.34,186.35,1454.4,284.0,31.22,10.08,262.9,25.08,84.45,93.98,-2.95,63.85,-25.5,184.25,307.79999999999995,287.5,174.14999999999998,181.58,114.0,116.22,127.9,20.4,282.98,98.3,47.150000000000006,127.49000000000001,265.34999999999997,204.54,17.4,226.28,27.0,73.28,59.019999999999996,31.8,238.03,225.28,156.94,46.39,117.10000000000001,-12.75,29.700000000000003,322.17,7.45,360.5,107.01,210.29999999999998,217.68,155.16,30.099999999999998,66.60000000000001,-20.0,145.56,350.4,-1026.5,314.96000000000004,52.74,51.39,12.600000000000001,28.93,416.07,53.42,187.84,-54.55,110.33999999999997,230.27,326.58,191.0,40.589999999999996,40.72,28.29,84.72,47.74],\"yaxis\":\"y\",\"type\":\"scatter\"},{\"fillpattern\":{\"shape\":\"\"},\"hovertemplate\":\"Country=Belgium<br>Date=%{x}<br>MoneySpent=%{y}<extra></extra>\",\"legendgroup\":\"Belgium\",\"line\":{\"color\":\"#DD4477\",\"shape\":\"linear\"},\"marker\":{\"symbol\":\"circle\"},\"mode\":\"lines\",\"name\":\"Belgium\",\"orientation\":\"v\",\"showlegend\":true,\"stackgroup\":\"1\",\"x\":[\"2010-12-17T00:00:00\",\"2010-12-21T00:00:00\",\"2010-12-22T00:00:00\",\"2011-01-12T00:00:00\",\"2011-01-25T00:00:00\",\"2011-02-09T00:00:00\",\"2011-02-11T00:00:00\",\"2011-02-17T00:00:00\",\"2011-02-21T00:00:00\",\"2011-02-25T00:00:00\",\"2011-02-28T00:00:00\",\"2011-03-01T00:00:00\",\"2011-03-03T00:00:00\",\"2011-03-10T00:00:00\",\"2011-03-14T00:00:00\",\"2011-03-20T00:00:00\",\"2011-03-21T00:00:00\",\"2011-03-23T00:00:00\",\"2011-03-24T00:00:00\",\"2011-04-07T00:00:00\",\"2011-04-10T00:00:00\",\"2011-04-12T00:00:00\",\"2011-04-15T00:00:00\",\"2011-04-18T00:00:00\",\"2011-04-28T00:00:00\",\"2011-05-05T00:00:00\",\"2011-05-06T00:00:00\",\"2011-05-10T00:00:00\",\"2011-05-12T00:00:00\",\"2011-05-17T00:00:00\",\"2011-05-23T00:00:00\",\"2011-05-27T00:00:00\",\"2011-06-05T00:00:00\",\"2011-06-07T00:00:00\",\"2011-06-08T00:00:00\",\"2011-06-17T00:00:00\",\"2011-06-22T00:00:00\",\"2011-06-23T00:00:00\",\"2011-07-06T00:00:00\",\"2011-07-07T00:00:00\",\"2011-07-27T00:00:00\",\"2011-07-28T00:00:00\",\"2011-08-02T00:00:00\",\"2011-08-04T00:00:00\",\"2011-08-11T00:00:00\",\"2011-08-12T00:00:00\",\"2011-08-19T00:00:00\",\"2011-08-25T00:00:00\",\"2011-08-31T00:00:00\",\"2011-09-02T00:00:00\",\"2011-09-09T00:00:00\",\"2011-09-19T00:00:00\",\"2011-09-21T00:00:00\",\"2011-09-22T00:00:00\",\"2011-09-28T00:00:00\",\"2011-10-04T00:00:00\",\"2011-10-10T00:00:00\",\"2011-10-11T00:00:00\",\"2011-10-13T00:00:00\",\"2011-10-14T00:00:00\",\"2011-10-17T00:00:00\",\"2011-10-21T00:00:00\",\"2011-10-24T00:00:00\",\"2011-10-26T00:00:00\",\"2011-10-28T00:00:00\",\"2011-10-30T00:00:00\",\"2011-10-31T00:00:00\",\"2011-11-04T00:00:00\",\"2011-11-07T00:00:00\",\"2011-11-08T00:00:00\",\"2011-11-17T00:00:00\",\"2011-11-18T00:00:00\",\"2011-11-20T00:00:00\",\"2011-11-22T00:00:00\",\"2011-11-28T00:00:00\",\"2011-11-29T00:00:00\",\"2011-12-02T00:00:00\",\"2011-12-06T00:00:00\",\"2011-12-09T00:00:00\"],\"xaxis\":\"x\",\"y\":[231.64,22.8,121.08000000000001,153.22000000000003,41.3,17.85,50.459999999999994,194.39999999999998,54.21,16.5,15.299999999999999,83.35,160.60000000000002,-8.5,74.02,42.4,67.2,229.07999999999998,92.25,59.4,45.6,44.4,10.08,52.95,89.30000000000001,21.64,56.3,63.9,15.0,68.39999999999999,137.4,158.04000000000002,255.41,85.9,42.5,119.0,156.99999999999997,48.4,86.75,47.550000000000004,251.6,7.800000000000001,80.34,69.15,84.1,24.96,207.3,166.6,17.159999999999997,139.98000000000002,111.3,41.5,70.5,70.6,167.9,148.74,55.800000000000004,53.4,260.40000000000003,64.5,169.64000000000001,15.6,-9.95,240.6,71.75,58.2,109.30000000000001,296.35999999999996,243.39999999999998,152.45,199.8,14.75,57.78,82.7,-17.0,136.6,21.0,199.6,30.240000000000002],\"yaxis\":\"y\",\"type\":\"scatter\"},{\"fillpattern\":{\"shape\":\"\"},\"hovertemplate\":\"Country=Netherlands<br>Date=%{x}<br>MoneySpent=%{y}<extra></extra>\",\"legendgroup\":\"Netherlands\",\"line\":{\"color\":\"#66AA00\",\"shape\":\"linear\"},\"marker\":{\"symbol\":\"circle\"},\"mode\":\"lines\",\"name\":\"Netherlands\",\"orientation\":\"v\",\"showlegend\":true,\"stackgroup\":\"1\",\"x\":[\"2010-12-20T00:00:00\",\"2010-12-21T00:00:00\",\"2011-01-14T00:00:00\",\"2011-01-19T00:00:00\",\"2011-01-21T00:00:00\",\"2011-02-01T00:00:00\",\"2011-02-08T00:00:00\",\"2011-02-21T00:00:00\",\"2011-02-22T00:00:00\",\"2011-03-09T00:00:00\",\"2011-03-14T00:00:00\",\"2011-03-22T00:00:00\",\"2011-03-25T00:00:00\",\"2011-03-29T00:00:00\",\"2011-03-30T00:00:00\",\"2011-04-05T00:00:00\",\"2011-04-28T00:00:00\",\"2011-05-12T00:00:00\",\"2011-05-18T00:00:00\",\"2011-05-20T00:00:00\",\"2011-05-26T00:00:00\",\"2011-05-31T00:00:00\",\"2011-06-01T00:00:00\",\"2011-06-03T00:00:00\",\"2011-06-06T00:00:00\",\"2011-06-09T00:00:00\",\"2011-06-19T00:00:00\",\"2011-06-20T00:00:00\",\"2011-06-21T00:00:00\",\"2011-06-28T00:00:00\",\"2011-08-09T00:00:00\",\"2011-08-11T00:00:00\",\"2011-08-12T00:00:00\",\"2011-08-26T00:00:00\",\"2011-08-31T00:00:00\",\"2011-09-08T00:00:00\",\"2011-09-09T00:00:00\",\"2011-09-13T00:00:00\",\"2011-09-19T00:00:00\",\"2011-09-22T00:00:00\",\"2011-10-06T00:00:00\",\"2011-10-07T00:00:00\",\"2011-10-18T00:00:00\",\"2011-10-20T00:00:00\",\"2011-10-21T00:00:00\",\"2011-10-27T00:00:00\",\"2011-11-02T00:00:00\",\"2011-11-10T00:00:00\",\"2011-11-18T00:00:00\",\"2011-11-20T00:00:00\",\"2011-11-22T00:00:00\",\"2011-11-23T00:00:00\",\"2011-12-07T00:00:00\"],\"xaxis\":\"x\",\"y\":[20.75,2269.64,2047.7000000000003,1813.8000000000002,1128.74,76.5,720.58,3184.38,303.72,90.30000000000001,10.2,91.08000000000001,90.0,2749.7599999999998,76.32000000000001,511.79999999999995,72.0,4358.64,179.0,65.69999999999999,1500.0000000000002,130.76,1045.3999999999999,50.4,91.08,20.4,1010.3799999999999,20.52,90.69999999999999,2818.2799999999997,2233.58,3620.98,288.0,2011.84,-266.40000000000003,281.90000000000003,17.0,1735.36,2414.9199999999996,170.3,243.1,56.55,106.95,4695.760000000001,397.32000000000005,463.44,880.33,1642.88,136.0,15.48,307.65999999999997,2064.7200000000003,2240.0400000000004],\"yaxis\":\"y\",\"type\":\"scatter\"}],                        {\"template\":{\"data\":{\"histogram2dcontour\":[{\"type\":\"histogram2dcontour\",\"colorbar\":{\"outlinewidth\":0,\"ticks\":\"\"},\"colorscale\":[[0.0,\"#0d0887\"],[0.1111111111111111,\"#46039f\"],[0.2222222222222222,\"#7201a8\"],[0.3333333333333333,\"#9c179e\"],[0.4444444444444444,\"#bd3786\"],[0.5555555555555556,\"#d8576b\"],[0.6666666666666666,\"#ed7953\"],[0.7777777777777778,\"#fb9f3a\"],[0.8888888888888888,\"#fdca26\"],[1.0,\"#f0f921\"]]}],\"choropleth\":[{\"type\":\"choropleth\",\"colorbar\":{\"outlinewidth\":0,\"ticks\":\"\"}}],\"histogram2d\":[{\"type\":\"histogram2d\",\"colorbar\":{\"outlinewidth\":0,\"ticks\":\"\"},\"colorscale\":[[0.0,\"#0d0887\"],[0.1111111111111111,\"#46039f\"],[0.2222222222222222,\"#7201a8\"],[0.3333333333333333,\"#9c179e\"],[0.4444444444444444,\"#bd3786\"],[0.5555555555555556,\"#d8576b\"],[0.6666666666666666,\"#ed7953\"],[0.7777777777777778,\"#fb9f3a\"],[0.8888888888888888,\"#fdca26\"],[1.0,\"#f0f921\"]]}],\"heatmap\":[{\"type\":\"heatmap\",\"colorbar\":{\"outlinewidth\":0,\"ticks\":\"\"},\"colorscale\":[[0.0,\"#0d0887\"],[0.1111111111111111,\"#46039f\"],[0.2222222222222222,\"#7201a8\"],[0.3333333333333333,\"#9c179e\"],[0.4444444444444444,\"#bd3786\"],[0.5555555555555556,\"#d8576b\"],[0.6666666666666666,\"#ed7953\"],[0.7777777777777778,\"#fb9f3a\"],[0.8888888888888888,\"#fdca26\"],[1.0,\"#f0f921\"]]}],\"heatmapgl\":[{\"type\":\"heatmapgl\",\"colorbar\":{\"outlinewidth\":0,\"ticks\":\"\"},\"colorscale\":[[0.0,\"#0d0887\"],[0.1111111111111111,\"#46039f\"],[0.2222222222222222,\"#7201a8\"],[0.3333333333333333,\"#9c179e\"],[0.4444444444444444,\"#bd3786\"],[0.5555555555555556,\"#d8576b\"],[0.6666666666666666,\"#ed7953\"],[0.7777777777777778,\"#fb9f3a\"],[0.8888888888888888,\"#fdca26\"],[1.0,\"#f0f921\"]]}],\"contourcarpet\":[{\"type\":\"contourcarpet\",\"colorbar\":{\"outlinewidth\":0,\"ticks\":\"\"}}],\"contour\":[{\"type\":\"contour\",\"colorbar\":{\"outlinewidth\":0,\"ticks\":\"\"},\"colorscale\":[[0.0,\"#0d0887\"],[0.1111111111111111,\"#46039f\"],[0.2222222222222222,\"#7201a8\"],[0.3333333333333333,\"#9c179e\"],[0.4444444444444444,\"#bd3786\"],[0.5555555555555556,\"#d8576b\"],[0.6666666666666666,\"#ed7953\"],[0.7777777777777778,\"#fb9f3a\"],[0.8888888888888888,\"#fdca26\"],[1.0,\"#f0f921\"]]}],\"surface\":[{\"type\":\"surface\",\"colorbar\":{\"outlinewidth\":0,\"ticks\":\"\"},\"colorscale\":[[0.0,\"#0d0887\"],[0.1111111111111111,\"#46039f\"],[0.2222222222222222,\"#7201a8\"],[0.3333333333333333,\"#9c179e\"],[0.4444444444444444,\"#bd3786\"],[0.5555555555555556,\"#d8576b\"],[0.6666666666666666,\"#ed7953\"],[0.7777777777777778,\"#fb9f3a\"],[0.8888888888888888,\"#fdca26\"],[1.0,\"#f0f921\"]]}],\"mesh3d\":[{\"type\":\"mesh3d\",\"colorbar\":{\"outlinewidth\":0,\"ticks\":\"\"}}],\"scatter\":[{\"fillpattern\":{\"fillmode\":\"overlay\",\"size\":10,\"solidity\":0.2},\"type\":\"scatter\"}],\"parcoords\":[{\"type\":\"parcoords\",\"line\":{\"colorbar\":{\"outlinewidth\":0,\"ticks\":\"\"}}}],\"scatterpolargl\":[{\"type\":\"scatterpolargl\",\"marker\":{\"colorbar\":{\"outlinewidth\":0,\"ticks\":\"\"}}}],\"bar\":[{\"error_x\":{\"color\":\"#2a3f5f\"},\"error_y\":{\"color\":\"#2a3f5f\"},\"marker\":{\"line\":{\"color\":\"#E5ECF6\",\"width\":0.5},\"pattern\":{\"fillmode\":\"overlay\",\"size\":10,\"solidity\":0.2}},\"type\":\"bar\"}],\"scattergeo\":[{\"type\":\"scattergeo\",\"marker\":{\"colorbar\":{\"outlinewidth\":0,\"ticks\":\"\"}}}],\"scatterpolar\":[{\"type\":\"scatterpolar\",\"marker\":{\"colorbar\":{\"outlinewidth\":0,\"ticks\":\"\"}}}],\"histogram\":[{\"marker\":{\"pattern\":{\"fillmode\":\"overlay\",\"size\":10,\"solidity\":0.2}},\"type\":\"histogram\"}],\"scattergl\":[{\"type\":\"scattergl\",\"marker\":{\"colorbar\":{\"outlinewidth\":0,\"ticks\":\"\"}}}],\"scatter3d\":[{\"type\":\"scatter3d\",\"line\":{\"colorbar\":{\"outlinewidth\":0,\"ticks\":\"\"}},\"marker\":{\"colorbar\":{\"outlinewidth\":0,\"ticks\":\"\"}}}],\"scattermapbox\":[{\"type\":\"scattermapbox\",\"marker\":{\"colorbar\":{\"outlinewidth\":0,\"ticks\":\"\"}}}],\"scatterternary\":[{\"type\":\"scatterternary\",\"marker\":{\"colorbar\":{\"outlinewidth\":0,\"ticks\":\"\"}}}],\"scattercarpet\":[{\"type\":\"scattercarpet\",\"marker\":{\"colorbar\":{\"outlinewidth\":0,\"ticks\":\"\"}}}],\"carpet\":[{\"aaxis\":{\"endlinecolor\":\"#2a3f5f\",\"gridcolor\":\"white\",\"linecolor\":\"white\",\"minorgridcolor\":\"white\",\"startlinecolor\":\"#2a3f5f\"},\"baxis\":{\"endlinecolor\":\"#2a3f5f\",\"gridcolor\":\"white\",\"linecolor\":\"white\",\"minorgridcolor\":\"white\",\"startlinecolor\":\"#2a3f5f\"},\"type\":\"carpet\"}],\"table\":[{\"cells\":{\"fill\":{\"color\":\"#EBF0F8\"},\"line\":{\"color\":\"white\"}},\"header\":{\"fill\":{\"color\":\"#C8D4E3\"},\"line\":{\"color\":\"white\"}},\"type\":\"table\"}],\"barpolar\":[{\"marker\":{\"line\":{\"color\":\"#E5ECF6\",\"width\":0.5},\"pattern\":{\"fillmode\":\"overlay\",\"size\":10,\"solidity\":0.2}},\"type\":\"barpolar\"}],\"pie\":[{\"automargin\":true,\"type\":\"pie\"}]},\"layout\":{\"autotypenumbers\":\"strict\",\"colorway\":[\"#636efa\",\"#EF553B\",\"#00cc96\",\"#ab63fa\",\"#FFA15A\",\"#19d3f3\",\"#FF6692\",\"#B6E880\",\"#FF97FF\",\"#FECB52\"],\"font\":{\"color\":\"#2a3f5f\"},\"hovermode\":\"closest\",\"hoverlabel\":{\"align\":\"left\"},\"paper_bgcolor\":\"white\",\"plot_bgcolor\":\"#E5ECF6\",\"polar\":{\"bgcolor\":\"#E5ECF6\",\"angularaxis\":{\"gridcolor\":\"white\",\"linecolor\":\"white\",\"ticks\":\"\"},\"radialaxis\":{\"gridcolor\":\"white\",\"linecolor\":\"white\",\"ticks\":\"\"}},\"ternary\":{\"bgcolor\":\"#E5ECF6\",\"aaxis\":{\"gridcolor\":\"white\",\"linecolor\":\"white\",\"ticks\":\"\"},\"baxis\":{\"gridcolor\":\"white\",\"linecolor\":\"white\",\"ticks\":\"\"},\"caxis\":{\"gridcolor\":\"white\",\"linecolor\":\"white\",\"ticks\":\"\"}},\"coloraxis\":{\"colorbar\":{\"outlinewidth\":0,\"ticks\":\"\"}},\"colorscale\":{\"sequential\":[[0.0,\"#0d0887\"],[0.1111111111111111,\"#46039f\"],[0.2222222222222222,\"#7201a8\"],[0.3333333333333333,\"#9c179e\"],[0.4444444444444444,\"#bd3786\"],[0.5555555555555556,\"#d8576b\"],[0.6666666666666666,\"#ed7953\"],[0.7777777777777778,\"#fb9f3a\"],[0.8888888888888888,\"#fdca26\"],[1.0,\"#f0f921\"]],\"sequentialminus\":[[0.0,\"#0d0887\"],[0.1111111111111111,\"#46039f\"],[0.2222222222222222,\"#7201a8\"],[0.3333333333333333,\"#9c179e\"],[0.4444444444444444,\"#bd3786\"],[0.5555555555555556,\"#d8576b\"],[0.6666666666666666,\"#ed7953\"],[0.7777777777777778,\"#fb9f3a\"],[0.8888888888888888,\"#fdca26\"],[1.0,\"#f0f921\"]],\"diverging\":[[0,\"#8e0152\"],[0.1,\"#c51b7d\"],[0.2,\"#de77ae\"],[0.3,\"#f1b6da\"],[0.4,\"#fde0ef\"],[0.5,\"#f7f7f7\"],[0.6,\"#e6f5d0\"],[0.7,\"#b8e186\"],[0.8,\"#7fbc41\"],[0.9,\"#4d9221\"],[1,\"#276419\"]]},\"xaxis\":{\"gridcolor\":\"white\",\"linecolor\":\"white\",\"ticks\":\"\",\"title\":{\"standoff\":15},\"zerolinecolor\":\"white\",\"automargin\":true,\"zerolinewidth\":2},\"yaxis\":{\"gridcolor\":\"white\",\"linecolor\":\"white\",\"ticks\":\"\",\"title\":{\"standoff\":15},\"zerolinecolor\":\"white\",\"automargin\":true,\"zerolinewidth\":2},\"scene\":{\"xaxis\":{\"backgroundcolor\":\"#E5ECF6\",\"gridcolor\":\"white\",\"linecolor\":\"white\",\"showbackground\":true,\"ticks\":\"\",\"zerolinecolor\":\"white\",\"gridwidth\":2},\"yaxis\":{\"backgroundcolor\":\"#E5ECF6\",\"gridcolor\":\"white\",\"linecolor\":\"white\",\"showbackground\":true,\"ticks\":\"\",\"zerolinecolor\":\"white\",\"gridwidth\":2},\"zaxis\":{\"backgroundcolor\":\"#E5ECF6\",\"gridcolor\":\"white\",\"linecolor\":\"white\",\"showbackground\":true,\"ticks\":\"\",\"zerolinecolor\":\"white\",\"gridwidth\":2}},\"shapedefaults\":{\"line\":{\"color\":\"#2a3f5f\"}},\"annotationdefaults\":{\"arrowcolor\":\"#2a3f5f\",\"arrowhead\":0,\"arrowwidth\":1},\"geo\":{\"bgcolor\":\"white\",\"landcolor\":\"#E5ECF6\",\"subunitcolor\":\"white\",\"showland\":true,\"showlakes\":true,\"lakecolor\":\"white\"},\"title\":{\"x\":0.05},\"mapbox\":{\"style\":\"light\"}}},\"xaxis\":{\"anchor\":\"y\",\"domain\":[0.0,1.0],\"title\":{\"text\":\"Date\"}},\"yaxis\":{\"anchor\":\"x\",\"domain\":[0.0,1.0],\"title\":{\"text\":\"MoneySpent\"}},\"legend\":{\"title\":{\"text\":\"Country\"},\"tracegroupgap\":0,\"orientation\":\"h\",\"yanchor\":\"bottom\",\"y\":0.9,\"xanchor\":\"left\",\"x\":0},\"margin\":{\"t\":60},\"title\":{\"font\":{\"size\":20,\"color\":\"black\"},\"text\":\"Customer Spending Throughout the Year Per Country\",\"y\":0.95,\"x\":0.5,\"xanchor\":\"center\",\"yanchor\":\"top\"}},                        {\"responsive\": true}                    ).then(function(){\n",
       "                            \n",
       "var gd = document.getElementById('70fecb4c-2e24-4773-a4f0-6784903612e9');\n",
       "var x = new MutationObserver(function (mutations, observer) {{\n",
       "        var display = window.getComputedStyle(gd).display;\n",
       "        if (!display || display === 'none') {{\n",
       "            console.log([gd, 'removed!']);\n",
       "            Plotly.purge(gd);\n",
       "            observer.disconnect();\n",
       "        }}\n",
       "}});\n",
       "\n",
       "// Listen for the removal of the full notebook cells\n",
       "var notebookContainer = gd.closest('#notebook-container');\n",
       "if (notebookContainer) {{\n",
       "    x.observe(notebookContainer, {childList: true});\n",
       "}}\n",
       "\n",
       "// Listen for the clearing of the current output cell\n",
       "var outputEl = gd.closest('.output');\n",
       "if (outputEl) {{\n",
       "    x.observe(outputEl, {childList: true});\n",
       "}}\n",
       "\n",
       "                        })                };                });            </script>        </div>"
      ]
     },
     "metadata": {},
     "output_type": "display_data"
    }
   ],
   "source": [
    "# Line Graph\n",
    "# money_spent = go.Figure()\n",
    "# money_spent.add_scatter(x=sorted_ecom_df[\"Date\"], y=sorted_ecom_df[\"MoneySpent\"], \n",
    "#                         fill='tozeroy', name=\"MoneySpent\")\n",
    "# money_spent.add_scatter(x=sorted_ecom_df[\"Date\"], y=sorted_ecom_df[\"Quantity\"],\n",
    "#                         name=\"Quantity\")\n",
    "\n",
    "# money_spent.update_layout(titlefont=dict(size=20, color='black'),\n",
    "#                       title=dict(\n",
    "#                           text = \"Customer Spending Throughout the Year\",\n",
    "#                           y = 0.95,\n",
    "#                           x = 0.5,\n",
    "#                           xanchor = 'center',\n",
    "#                           yanchor = 'top'\n",
    "#                           ),\n",
    "#                       legend=dict(\n",
    "#                           orientation = \"h\", \n",
    "#                           yanchor = \"bottom\", \n",
    "#                           y = 1.02, \n",
    "#                           xanchor = \"right\",\n",
    "#                           x = 1))\n",
    "# money_spent.show()\n",
    "\n",
    "country_df = eu_ecom_df.groupby([\"Date\", \"Country\"]).agg({\n",
    "    \"MoneySpent\": pd.Series.sum\n",
    "})\n",
    "country_df.reset_index(inplace=True)\n",
    "\n",
    "orders_from_countries = px.area(country_df, x=\"Date\", y=\"MoneySpent\", \n",
    "                                color=\"Country\",\n",
    "                                color_discrete_sequence=px.colors.qualitative.G10,\n",
    "                                line_shape='linear')\n",
    "\n",
    "orders_from_countries.update_layout(titlefont=dict(size=20, color='black'),\n",
    "                      title=dict(\n",
    "                          text = \"Customer Spending Throughout the Year Per Country\",\n",
    "                          y = 0.95,\n",
    "                          x = 0.5,\n",
    "                          xanchor = 'center',\n",
    "                          yanchor = 'top'\n",
    "                          ),\n",
    "                      legend=dict(\n",
    "                          orientation = \"h\", \n",
    "                          yanchor = \"bottom\", \n",
    "                          y = 0.9, \n",
    "                          xanchor = \"left\",\n",
    "                          x = 0))\n",
    "\n",
    "orders_from_countries.show()"
   ]
  },
  {
   "cell_type": "code",
   "execution_count": 19,
   "id": "5ab62c9c",
   "metadata": {
    "execution": {
     "iopub.execute_input": "2022-12-29T13:38:39.097167Z",
     "iopub.status.busy": "2022-12-29T13:38:39.096782Z",
     "iopub.status.idle": "2022-12-29T13:38:39.208237Z",
     "shell.execute_reply": "2022-12-29T13:38:39.206780Z"
    },
    "id": "N4xYlJyQzmTE",
    "jupyter": {
     "source_hidden": true
    },
    "outputId": "801e7797-01f6-47b7-dcf4-711a7da9c819",
    "papermill": {
     "duration": 0.135173,
     "end_time": "2022-12-29T13:38:39.213666",
     "exception": false,
     "start_time": "2022-12-29T13:38:39.078493",
     "status": "completed"
    },
    "tags": []
   },
   "outputs": [
    {
     "data": {
      "text/html": [
       "<div>                            <div id=\"e9b3570e-6aea-471f-841d-cc33a0c44f79\" class=\"plotly-graph-div\" style=\"height:525px; width:100%;\"></div>            <script type=\"text/javascript\">                require([\"plotly\"], function(Plotly) {                    window.PLOTLYENV=window.PLOTLYENV || {};                                    if (document.getElementById(\"e9b3570e-6aea-471f-841d-cc33a0c44f79\")) {                    Plotly.newPlot(                        \"e9b3570e-6aea-471f-841d-cc33a0c44f79\",                        [{\"alignmentgroup\":\"True\",\"hovertemplate\":\"=%{x}<br>MoneySpent=%{y}<extra></extra>\",\"legendgroup\":\"\",\"marker\":{\"color\":\"#636efa\"},\"name\":\"\",\"notched\":false,\"offsetgroup\":\"\",\"orientation\":\"v\",\"showlegend\":false,\"x\":[12,12,12,12,12,12,12,12,12,12,12,12,12,12,12,12,12,12,12,12,1,1,1,1,1,1,1,1,1,1,1,1,1,1,1,1,1,1,1,1,1,1,1,1,2,2,2,2,2,2,2,2,2,2,2,2,2,2,2,2,2,2,2,2,2,2,2,2,3,3,3,3,3,3,3,3,3,3,3,3,3,3,3,3,3,3,3,3,3,3,3,3,3,3,3,4,4,4,4,4,4,4,4,4,4,4,4,4,4,4,4,4,4,4,4,4,5,5,5,5,5,5,5,5,5,5,5,5,5,5,5,5,5,5,5,5,5,5,5,5,5,6,6,6,6,6,6,6,6,6,6,6,6,6,6,6,6,6,6,6,6,6,6,6,6,6,6,7,7,7,7,7,7,7,7,7,7,7,7,7,7,7,7,7,7,7,7,7,7,7,7,7,7,8,8,8,8,8,8,8,8,8,8,8,8,8,8,8,8,8,8,8,8,8,8,8,8,8,8,9,9,9,9,9,9,9,9,9,9,9,9,9,9,9,9,9,9,9,9,9,9,9,9,9,9,10,10,10,10,10,10,10,10,10,10,10,10,10,10,10,10,10,10,10,10,10,10,10,10,10,10,11,11,11,11,11,11,11,11,11,11,11,11,11,11,11,11,11,11,11,11,11,11,11,11,11,11,12,12,12,12,12,12,12,12],\"x0\":\" \",\"xaxis\":\"x\",\"y\":[8025.85,7660.42,3362.06,6620.81,6375.55,7945.25,6679.32,5452.45,6503.889999999999,3437.0,4967.370000000001,5185.900000000001,5264.620000000001,9155.53,2717.2200000000003,1536.62,4778.97,3906.93,402.25999999999993,845.83,2107.4,4905.26,4916.99,4250.22,2772.1100000000006,2788.99,17243.559999999998,2962.79,3027.17,7713.549999999999,1165.8799999999999,2979.77,1631.56,4690.32,3735.5699999999997,3643.62,2108.7799999999997,3128.6000000000004,4176.86,3294.0600000000004,4119.15,2595.84,1401.65,3311.75,4789.92,2897.46,4803.249999999999,4312.18,568.03,7336.779999999999,3289.9000000000005,1054.57,2334.3700000000003,4469.74,1273.56,4681.92,3478.98,4683.24,3294.04,2539.1600000000003,2100.92,5365.04,5149.84,4949.5199999999995,4896.530000000001,2922.67,1778.81,2844.04,3894.62,2827.4,2741.42,2435.55,2152.4799999999996,3895.31,4568.5199999999995,3386.9000000000005,5447.889999999999,3575.99,1019.7299999999999,4645.38,2642.0200000000004,4342.84,5734.04,4892.62,3369.6800000000003,3474.86,3379.16,4969.82,7611.86,4747.97,1662.51,3525.6000000000004,6758.639999999999,5367.5599999999995,4262.68,5321.26,1032.8899999999999,4951.61,4141.02,2869.78,3265.87,4888.82,1661.46,4175.28,4107.9400000000005,4889.8,6900.35,3654.6800000000003,2953.73,7517.439999999999,4378.98,3882.58,6010.91,4168.459999999999,4416.969999999999,3632.63,1801.05,4252.299999999999,5054.48,4240.66,4823.030000000001,4073.0,3986.3900000000003,5231.24,5849.52,11760.01,5012.51,1755.24,5455.030000000001,8406.03,5730.75,5428.25,4758.55,6390.17,5043.6,4582.77,3008.12,5668.24,3295.8700000000003,1070.23,4671.759999999999,2728.5,5565.080000000001,2340.0199999999995,4697.71,2913.7800000000007,4938.150000000001,6115.85,8997.93,3287.7799999999997,2587.46,4416.2,5195.93,3505.3,4889.089999999999,2652.4700000000003,4431.4,3653.27,3183.84,4068.1400000000003,3794.4100000000003,3172.3199999999997,1419.4899999999998,2113.01,5908.84,2293.8500000000004,5685.78,2169.9100000000003,1104.24,6776.749999999999,5125.330000000001,3498.7,6345.849999999999,5400.550000000001,1073.6200000000001,4179.13,3614.6099999999997,3050.49,4772.7300000000005,1925.46,2981.12,-1921.8000000000006,9662.75,5157.959999999999,5877.41,2552.51,4835.370000000001,3173.74,3588.33,2963.1400000000003,7922.41,3596.02,5494.92,4404.28,3897.2,5867.58,13620.259999999998,3238.91,1631.42,4613.14,5138.130000000001,3790.3300000000004,8806.02,5071.99,1271.93,2665.4800000000005,2942.6400000000003,9869.11,5562.31,3042.73,2378.15,4130.389999999999,4219.4400000000005,6383.04,4969.290000000001,5642.69,2067.39,1638.0199999999998,219.53999999999974,7762.24,4878.200000000001,3636.26,6631.32,4817.97,4476.870000000001,4291.03,3909.7099999999996,8332.99,5122.01,8830.11,3843.53,14228.740000000002,3984.67,3056.5299999999997,8945.51,23059.269999999997,1227.3300000000013,10355.380000000001,5375.46,5753.68,7408.790999999999,5896.58,9399.800000000001,8336.67,9211.849999999999,2229.1,10847.39,9124.76,9822.68,10684.310000000001,10368.619999999999,2611.03,8524.41,3566.66,4579.42,4918.57,5164.3099999999995,3282.5,7217.34,6012.840000000001,5388.45,11521.099999999999,6615.27,2400.59,6795.5199999999995,5901.05,4798.25,6975.16,6241.77,7255.65,6903.719999999999,5770.82,6423.66,9022.36,10643.52,8531.369999999999,5138.31,6918.099999999999,12018.48,14997.7,6948.25,5035.74,11573.170000000002,8023.279999999999,10111.11,8779.33,6615.76,6245.67,7719.029999999999,10319.89,13208.579999999998,6011.6,5080.380000000001,3331.81,8652.57,9962.07,6621.43,8418.9,7890.780000000001,3947.34,11334.56,7340.88,19252.94,6566.139999999999,2553.9500000000003],\"y0\":\" \",\"yaxis\":\"y\",\"type\":\"box\"}],                        {\"template\":{\"data\":{\"histogram2dcontour\":[{\"type\":\"histogram2dcontour\",\"colorbar\":{\"outlinewidth\":0,\"ticks\":\"\"},\"colorscale\":[[0.0,\"#0d0887\"],[0.1111111111111111,\"#46039f\"],[0.2222222222222222,\"#7201a8\"],[0.3333333333333333,\"#9c179e\"],[0.4444444444444444,\"#bd3786\"],[0.5555555555555556,\"#d8576b\"],[0.6666666666666666,\"#ed7953\"],[0.7777777777777778,\"#fb9f3a\"],[0.8888888888888888,\"#fdca26\"],[1.0,\"#f0f921\"]]}],\"choropleth\":[{\"type\":\"choropleth\",\"colorbar\":{\"outlinewidth\":0,\"ticks\":\"\"}}],\"histogram2d\":[{\"type\":\"histogram2d\",\"colorbar\":{\"outlinewidth\":0,\"ticks\":\"\"},\"colorscale\":[[0.0,\"#0d0887\"],[0.1111111111111111,\"#46039f\"],[0.2222222222222222,\"#7201a8\"],[0.3333333333333333,\"#9c179e\"],[0.4444444444444444,\"#bd3786\"],[0.5555555555555556,\"#d8576b\"],[0.6666666666666666,\"#ed7953\"],[0.7777777777777778,\"#fb9f3a\"],[0.8888888888888888,\"#fdca26\"],[1.0,\"#f0f921\"]]}],\"heatmap\":[{\"type\":\"heatmap\",\"colorbar\":{\"outlinewidth\":0,\"ticks\":\"\"},\"colorscale\":[[0.0,\"#0d0887\"],[0.1111111111111111,\"#46039f\"],[0.2222222222222222,\"#7201a8\"],[0.3333333333333333,\"#9c179e\"],[0.4444444444444444,\"#bd3786\"],[0.5555555555555556,\"#d8576b\"],[0.6666666666666666,\"#ed7953\"],[0.7777777777777778,\"#fb9f3a\"],[0.8888888888888888,\"#fdca26\"],[1.0,\"#f0f921\"]]}],\"heatmapgl\":[{\"type\":\"heatmapgl\",\"colorbar\":{\"outlinewidth\":0,\"ticks\":\"\"},\"colorscale\":[[0.0,\"#0d0887\"],[0.1111111111111111,\"#46039f\"],[0.2222222222222222,\"#7201a8\"],[0.3333333333333333,\"#9c179e\"],[0.4444444444444444,\"#bd3786\"],[0.5555555555555556,\"#d8576b\"],[0.6666666666666666,\"#ed7953\"],[0.7777777777777778,\"#fb9f3a\"],[0.8888888888888888,\"#fdca26\"],[1.0,\"#f0f921\"]]}],\"contourcarpet\":[{\"type\":\"contourcarpet\",\"colorbar\":{\"outlinewidth\":0,\"ticks\":\"\"}}],\"contour\":[{\"type\":\"contour\",\"colorbar\":{\"outlinewidth\":0,\"ticks\":\"\"},\"colorscale\":[[0.0,\"#0d0887\"],[0.1111111111111111,\"#46039f\"],[0.2222222222222222,\"#7201a8\"],[0.3333333333333333,\"#9c179e\"],[0.4444444444444444,\"#bd3786\"],[0.5555555555555556,\"#d8576b\"],[0.6666666666666666,\"#ed7953\"],[0.7777777777777778,\"#fb9f3a\"],[0.8888888888888888,\"#fdca26\"],[1.0,\"#f0f921\"]]}],\"surface\":[{\"type\":\"surface\",\"colorbar\":{\"outlinewidth\":0,\"ticks\":\"\"},\"colorscale\":[[0.0,\"#0d0887\"],[0.1111111111111111,\"#46039f\"],[0.2222222222222222,\"#7201a8\"],[0.3333333333333333,\"#9c179e\"],[0.4444444444444444,\"#bd3786\"],[0.5555555555555556,\"#d8576b\"],[0.6666666666666666,\"#ed7953\"],[0.7777777777777778,\"#fb9f3a\"],[0.8888888888888888,\"#fdca26\"],[1.0,\"#f0f921\"]]}],\"mesh3d\":[{\"type\":\"mesh3d\",\"colorbar\":{\"outlinewidth\":0,\"ticks\":\"\"}}],\"scatter\":[{\"fillpattern\":{\"fillmode\":\"overlay\",\"size\":10,\"solidity\":0.2},\"type\":\"scatter\"}],\"parcoords\":[{\"type\":\"parcoords\",\"line\":{\"colorbar\":{\"outlinewidth\":0,\"ticks\":\"\"}}}],\"scatterpolargl\":[{\"type\":\"scatterpolargl\",\"marker\":{\"colorbar\":{\"outlinewidth\":0,\"ticks\":\"\"}}}],\"bar\":[{\"error_x\":{\"color\":\"#2a3f5f\"},\"error_y\":{\"color\":\"#2a3f5f\"},\"marker\":{\"line\":{\"color\":\"#E5ECF6\",\"width\":0.5},\"pattern\":{\"fillmode\":\"overlay\",\"size\":10,\"solidity\":0.2}},\"type\":\"bar\"}],\"scattergeo\":[{\"type\":\"scattergeo\",\"marker\":{\"colorbar\":{\"outlinewidth\":0,\"ticks\":\"\"}}}],\"scatterpolar\":[{\"type\":\"scatterpolar\",\"marker\":{\"colorbar\":{\"outlinewidth\":0,\"ticks\":\"\"}}}],\"histogram\":[{\"marker\":{\"pattern\":{\"fillmode\":\"overlay\",\"size\":10,\"solidity\":0.2}},\"type\":\"histogram\"}],\"scattergl\":[{\"type\":\"scattergl\",\"marker\":{\"colorbar\":{\"outlinewidth\":0,\"ticks\":\"\"}}}],\"scatter3d\":[{\"type\":\"scatter3d\",\"line\":{\"colorbar\":{\"outlinewidth\":0,\"ticks\":\"\"}},\"marker\":{\"colorbar\":{\"outlinewidth\":0,\"ticks\":\"\"}}}],\"scattermapbox\":[{\"type\":\"scattermapbox\",\"marker\":{\"colorbar\":{\"outlinewidth\":0,\"ticks\":\"\"}}}],\"scatterternary\":[{\"type\":\"scatterternary\",\"marker\":{\"colorbar\":{\"outlinewidth\":0,\"ticks\":\"\"}}}],\"scattercarpet\":[{\"type\":\"scattercarpet\",\"marker\":{\"colorbar\":{\"outlinewidth\":0,\"ticks\":\"\"}}}],\"carpet\":[{\"aaxis\":{\"endlinecolor\":\"#2a3f5f\",\"gridcolor\":\"white\",\"linecolor\":\"white\",\"minorgridcolor\":\"white\",\"startlinecolor\":\"#2a3f5f\"},\"baxis\":{\"endlinecolor\":\"#2a3f5f\",\"gridcolor\":\"white\",\"linecolor\":\"white\",\"minorgridcolor\":\"white\",\"startlinecolor\":\"#2a3f5f\"},\"type\":\"carpet\"}],\"table\":[{\"cells\":{\"fill\":{\"color\":\"#EBF0F8\"},\"line\":{\"color\":\"white\"}},\"header\":{\"fill\":{\"color\":\"#C8D4E3\"},\"line\":{\"color\":\"white\"}},\"type\":\"table\"}],\"barpolar\":[{\"marker\":{\"line\":{\"color\":\"#E5ECF6\",\"width\":0.5},\"pattern\":{\"fillmode\":\"overlay\",\"size\":10,\"solidity\":0.2}},\"type\":\"barpolar\"}],\"pie\":[{\"automargin\":true,\"type\":\"pie\"}]},\"layout\":{\"autotypenumbers\":\"strict\",\"colorway\":[\"#636efa\",\"#EF553B\",\"#00cc96\",\"#ab63fa\",\"#FFA15A\",\"#19d3f3\",\"#FF6692\",\"#B6E880\",\"#FF97FF\",\"#FECB52\"],\"font\":{\"color\":\"#2a3f5f\"},\"hovermode\":\"closest\",\"hoverlabel\":{\"align\":\"left\"},\"paper_bgcolor\":\"white\",\"plot_bgcolor\":\"#E5ECF6\",\"polar\":{\"bgcolor\":\"#E5ECF6\",\"angularaxis\":{\"gridcolor\":\"white\",\"linecolor\":\"white\",\"ticks\":\"\"},\"radialaxis\":{\"gridcolor\":\"white\",\"linecolor\":\"white\",\"ticks\":\"\"}},\"ternary\":{\"bgcolor\":\"#E5ECF6\",\"aaxis\":{\"gridcolor\":\"white\",\"linecolor\":\"white\",\"ticks\":\"\"},\"baxis\":{\"gridcolor\":\"white\",\"linecolor\":\"white\",\"ticks\":\"\"},\"caxis\":{\"gridcolor\":\"white\",\"linecolor\":\"white\",\"ticks\":\"\"}},\"coloraxis\":{\"colorbar\":{\"outlinewidth\":0,\"ticks\":\"\"}},\"colorscale\":{\"sequential\":[[0.0,\"#0d0887\"],[0.1111111111111111,\"#46039f\"],[0.2222222222222222,\"#7201a8\"],[0.3333333333333333,\"#9c179e\"],[0.4444444444444444,\"#bd3786\"],[0.5555555555555556,\"#d8576b\"],[0.6666666666666666,\"#ed7953\"],[0.7777777777777778,\"#fb9f3a\"],[0.8888888888888888,\"#fdca26\"],[1.0,\"#f0f921\"]],\"sequentialminus\":[[0.0,\"#0d0887\"],[0.1111111111111111,\"#46039f\"],[0.2222222222222222,\"#7201a8\"],[0.3333333333333333,\"#9c179e\"],[0.4444444444444444,\"#bd3786\"],[0.5555555555555556,\"#d8576b\"],[0.6666666666666666,\"#ed7953\"],[0.7777777777777778,\"#fb9f3a\"],[0.8888888888888888,\"#fdca26\"],[1.0,\"#f0f921\"]],\"diverging\":[[0,\"#8e0152\"],[0.1,\"#c51b7d\"],[0.2,\"#de77ae\"],[0.3,\"#f1b6da\"],[0.4,\"#fde0ef\"],[0.5,\"#f7f7f7\"],[0.6,\"#e6f5d0\"],[0.7,\"#b8e186\"],[0.8,\"#7fbc41\"],[0.9,\"#4d9221\"],[1,\"#276419\"]]},\"xaxis\":{\"gridcolor\":\"white\",\"linecolor\":\"white\",\"ticks\":\"\",\"title\":{\"standoff\":15},\"zerolinecolor\":\"white\",\"automargin\":true,\"zerolinewidth\":2},\"yaxis\":{\"gridcolor\":\"white\",\"linecolor\":\"white\",\"ticks\":\"\",\"title\":{\"standoff\":15},\"zerolinecolor\":\"white\",\"automargin\":true,\"zerolinewidth\":2},\"scene\":{\"xaxis\":{\"backgroundcolor\":\"#E5ECF6\",\"gridcolor\":\"white\",\"linecolor\":\"white\",\"showbackground\":true,\"ticks\":\"\",\"zerolinecolor\":\"white\",\"gridwidth\":2},\"yaxis\":{\"backgroundcolor\":\"#E5ECF6\",\"gridcolor\":\"white\",\"linecolor\":\"white\",\"showbackground\":true,\"ticks\":\"\",\"zerolinecolor\":\"white\",\"gridwidth\":2},\"zaxis\":{\"backgroundcolor\":\"#E5ECF6\",\"gridcolor\":\"white\",\"linecolor\":\"white\",\"showbackground\":true,\"ticks\":\"\",\"zerolinecolor\":\"white\",\"gridwidth\":2}},\"shapedefaults\":{\"line\":{\"color\":\"#2a3f5f\"}},\"annotationdefaults\":{\"arrowcolor\":\"#2a3f5f\",\"arrowhead\":0,\"arrowwidth\":1},\"geo\":{\"bgcolor\":\"white\",\"landcolor\":\"#E5ECF6\",\"subunitcolor\":\"white\",\"showland\":true,\"showlakes\":true,\"lakecolor\":\"white\"},\"title\":{\"x\":0.05},\"mapbox\":{\"style\":\"light\"}}},\"xaxis\":{\"anchor\":\"y\",\"domain\":[0.0,1.0],\"title\":{\"text\":\"\"},\"tickmode\":\"array\",\"tickvals\":[0,1,2,3,4,5,6,7,8,9,10,11,12],\"ticktext\":[\"\",\"January\",\"February\",\"March\",\"April\",\"May\",\"June\",\"July\",\"August\",\"September\",\"October\",\"November\",\"December\"]},\"yaxis\":{\"anchor\":\"x\",\"domain\":[0.0,1.0],\"title\":{\"text\":\"MoneySpent\"}},\"legend\":{\"tracegroupgap\":0},\"margin\":{\"t\":60},\"boxmode\":\"group\",\"shapes\":[{\"fillcolor\":\"green\",\"line\":{\"width\":0},\"opacity\":0.25,\"type\":\"rect\",\"x0\":9,\"x1\":12,\"xref\":\"x\",\"y0\":0,\"y1\":1,\"yref\":\"y domain\"}],\"annotations\":[{\"showarrow\":false,\"text\":\"Jump in Spending\",\"x\":9,\"xanchor\":\"left\",\"xref\":\"x\",\"y\":1,\"yanchor\":\"top\",\"yref\":\"y domain\"}],\"title\":{\"font\":{\"size\":20,\"color\":\"black\"},\"text\":\"Money Spent Per Month\",\"y\":0.95,\"x\":0.5,\"xanchor\":\"center\",\"yanchor\":\"top\"}},                        {\"responsive\": true}                    ).then(function(){\n",
       "                            \n",
       "var gd = document.getElementById('e9b3570e-6aea-471f-841d-cc33a0c44f79');\n",
       "var x = new MutationObserver(function (mutations, observer) {{\n",
       "        var display = window.getComputedStyle(gd).display;\n",
       "        if (!display || display === 'none') {{\n",
       "            console.log([gd, 'removed!']);\n",
       "            Plotly.purge(gd);\n",
       "            observer.disconnect();\n",
       "        }}\n",
       "}});\n",
       "\n",
       "// Listen for the removal of the full notebook cells\n",
       "var notebookContainer = gd.closest('#notebook-container');\n",
       "if (notebookContainer) {{\n",
       "    x.observe(notebookContainer, {childList: true});\n",
       "}}\n",
       "\n",
       "// Listen for the clearing of the current output cell\n",
       "var outputEl = gd.closest('.output');\n",
       "if (outputEl) {{\n",
       "    x.observe(outputEl, {childList: true});\n",
       "}}\n",
       "\n",
       "                        })                };                });            </script>        </div>"
      ]
     },
     "metadata": {},
     "output_type": "display_data"
    }
   ],
   "source": [
    "# Box Plot for Money Spent Per Month\n",
    "money_spent_per_month = px.box(sorted_ecom_df, \n",
    "                               x=sorted_ecom_df[\"Date\"].dt.month, \n",
    "                               y=\"MoneySpent\", \n",
    "                               labels={\n",
    "                                      \"x\": \"\"\n",
    "                                      })\n",
    "\n",
    "money_spent_per_month.add_vrect(x0=9, x1=12, \n",
    "              annotation_text=\"Jump in Spending\", annotation_position=\"top left\",\n",
    "              fillcolor=\"green\", opacity=0.25, line_width=0)\n",
    "\n",
    "money_spent_per_month.update_layout(titlefont=dict(size=20, color='black'),\n",
    "                      title=dict(\n",
    "                            text = \"Money Spent Per Month\",\n",
    "                            y = 0.95,\n",
    "                            x = 0.5,\n",
    "                            xanchor = 'center',\n",
    "                            yanchor = 'top'\n",
    "                      ))\n",
    "\n",
    "money_spent_per_month.update_layout(\n",
    "                    xaxis = dict(\n",
    "                        tickmode = 'array',\n",
    "                        tickvals = [0, 1, 2, 3, 4, 5, 6, 7, 8, 9, 10, 11, 12],\n",
    "                        ticktext = list(calendar.month_name)\n",
    "                    )\n",
    "                )\n",
    "\n",
    "money_spent_per_month.show()"
   ]
  },
  {
   "cell_type": "code",
   "execution_count": 20,
   "id": "efdd9902",
   "metadata": {
    "execution": {
     "iopub.execute_input": "2022-12-29T13:38:39.262135Z",
     "iopub.status.busy": "2022-12-29T13:38:39.261674Z",
     "iopub.status.idle": "2022-12-29T13:38:39.352180Z",
     "shell.execute_reply": "2022-12-29T13:38:39.351402Z"
    },
    "id": "gKcWR7Kyzs6B",
    "jupyter": {
     "source_hidden": true
    },
    "outputId": "0725d118-33c6-4a84-e482-835735623f13",
    "papermill": {
     "duration": 0.117564,
     "end_time": "2022-12-29T13:38:39.354701",
     "exception": false,
     "start_time": "2022-12-29T13:38:39.237137",
     "status": "completed"
    },
    "tags": []
   },
   "outputs": [
    {
     "data": {
      "text/html": [
       "<div>                            <div id=\"8422b9c2-5e1d-4276-b89f-9cdfd5747c72\" class=\"plotly-graph-div\" style=\"height:525px; width:100%;\"></div>            <script type=\"text/javascript\">                require([\"plotly\"], function(Plotly) {                    window.PLOTLYENV=window.PLOTLYENV || {};                                    if (document.getElementById(\"8422b9c2-5e1d-4276-b89f-9cdfd5747c72\")) {                    Plotly.newPlot(                        \"8422b9c2-5e1d-4276-b89f-9cdfd5747c72\",                        [{\"alignmentgroup\":\"True\",\"hovertemplate\":\"Week Number=%{x}<br>MoneySpent=%{y}<extra></extra>\",\"legendgroup\":\"\",\"marker\":{\"color\":\"#636efa\"},\"name\":\"\",\"notched\":false,\"offsetgroup\":\"\",\"orientation\":\"v\",\"showlegend\":false,\"x\":[48,48,48,48,49,49,49,49,49,49,50,50,50,50,50,50,51,51,51,51,1,1,1,1,1,2,2,2,2,2,2,3,3,3,3,3,3,4,4,4,4,4,4,5,5,5,5,5,5,6,6,6,6,6,6,7,7,7,7,7,7,8,8,8,8,8,8,9,9,9,9,9,9,10,10,10,10,10,10,11,11,11,11,11,11,12,12,12,12,12,12,13,13,13,13,13,13,14,14,14,14,14,14,15,15,15,15,15,15,16,16,16,16,17,17,17,17,18,18,18,18,18,19,19,19,19,19,19,20,20,20,20,20,20,21,21,21,21,21,21,22,22,22,22,22,23,23,23,23,23,23,24,24,24,24,24,24,25,25,25,25,25,25,26,26,26,26,26,26,27,27,27,27,27,27,28,28,28,28,28,28,29,29,29,29,29,29,30,30,30,30,30,30,31,31,31,31,31,31,32,32,32,32,32,32,33,33,33,33,33,33,34,34,34,34,34,34,35,35,35,35,35,36,36,36,36,36,36,37,37,37,37,37,37,38,38,38,38,38,38,39,39,39,39,39,39,40,40,40,40,40,40,41,41,41,41,41,41,42,42,42,42,42,42,43,43,43,43,43,43,44,44,44,44,44,44,45,45,45,45,45,45,46,46,46,46,46,46,47,47,47,47,47,47,48,48,48,48,48,48,49,49,49,49,49],\"x0\":\" \",\"xaxis\":\"x\",\"y\":[8025.85,7660.42,3362.06,6620.81,6375.55,7945.25,6679.32,5452.45,6503.889999999999,3437.0,4967.370000000001,5185.900000000001,5264.620000000001,9155.53,2717.2200000000003,1536.62,4778.97,3906.93,402.25999999999993,845.83,2107.4,4905.26,4916.99,4250.22,2772.1100000000006,2788.99,17243.559999999998,2962.79,3027.17,7713.549999999999,1165.8799999999999,2979.77,1631.56,4690.32,3735.5699999999997,3643.62,2108.7799999999997,3128.6000000000004,4176.86,3294.0600000000004,4119.15,2595.84,1401.65,3311.75,4789.92,2897.46,4803.249999999999,4312.18,568.03,7336.779999999999,3289.9000000000005,1054.57,2334.3700000000003,4469.74,1273.56,4681.92,3478.98,4683.24,3294.04,2539.1600000000003,2100.92,5365.04,5149.84,4949.5199999999995,4896.530000000001,2922.67,1778.81,2844.04,3894.62,2827.4,2741.42,2435.55,2152.4799999999996,3895.31,4568.5199999999995,3386.9000000000005,5447.889999999999,3575.99,1019.7299999999999,4645.38,2642.0200000000004,4342.84,5734.04,4892.62,3369.6800000000003,3474.86,3379.16,4969.82,7611.86,4747.97,1662.51,3525.6000000000004,6758.639999999999,5367.5599999999995,4262.68,5321.26,1032.8899999999999,4951.61,4141.02,2869.78,3265.87,4888.82,1661.46,4175.28,4107.9400000000005,4889.8,6900.35,3654.6800000000003,2953.73,7517.439999999999,4378.98,3882.58,6010.91,4168.459999999999,4416.969999999999,3632.63,1801.05,4252.299999999999,5054.48,4240.66,4823.030000000001,4073.0,3986.3900000000003,5231.24,5849.52,11760.01,5012.51,1755.24,5455.030000000001,8406.03,5730.75,5428.25,4758.55,6390.17,5043.6,4582.77,3008.12,5668.24,3295.8700000000003,1070.23,4671.759999999999,2728.5,5565.080000000001,2340.0199999999995,4697.71,2913.7800000000007,4938.150000000001,6115.85,8997.93,3287.7799999999997,2587.46,4416.2,5195.93,3505.3,4889.089999999999,2652.4700000000003,4431.4,3653.27,3183.84,4068.1400000000003,3794.4100000000003,3172.3199999999997,1419.4899999999998,2113.01,5908.84,2293.8500000000004,5685.78,2169.9100000000003,1104.24,6776.749999999999,5125.330000000001,3498.7,6345.849999999999,5400.550000000001,1073.6200000000001,4179.13,3614.6099999999997,3050.49,4772.7300000000005,1925.46,2981.12,-1921.8000000000006,9662.75,5157.959999999999,5877.41,2552.51,4835.370000000001,3173.74,3588.33,2963.1400000000003,7922.41,3596.02,5494.92,4404.28,3897.2,5867.58,13620.259999999998,3238.91,1631.42,4613.14,5138.130000000001,3790.3300000000004,8806.02,5071.99,1271.93,2665.4800000000005,2942.6400000000003,9869.11,5562.31,3042.73,2378.15,4130.389999999999,4219.4400000000005,6383.04,4969.290000000001,5642.69,2067.39,1638.0199999999998,219.53999999999974,7762.24,4878.200000000001,3636.26,6631.32,4817.97,4476.870000000001,4291.03,3909.7099999999996,8332.99,5122.01,8830.11,3843.53,14228.740000000002,3984.67,3056.5299999999997,8945.51,23059.269999999997,1227.3300000000013,10355.380000000001,5375.46,5753.68,7408.790999999999,5896.58,9399.800000000001,8336.67,9211.849999999999,2229.1,10847.39,9124.76,9822.68,10684.310000000001,10368.619999999999,2611.03,8524.41,3566.66,4579.42,4918.57,5164.3099999999995,3282.5,7217.34,6012.840000000001,5388.45,11521.099999999999,6615.27,2400.59,6795.5199999999995,5901.05,4798.25,6975.16,6241.77,7255.65,6903.719999999999,5770.82,6423.66,9022.36,10643.52,8531.369999999999,5138.31,6918.099999999999,12018.48,14997.7,6948.25,5035.74,11573.170000000002,8023.279999999999,10111.11,8779.33,6615.76,6245.67,7719.029999999999,10319.89,13208.579999999998,6011.6,5080.380000000001,3331.81,8652.57,9962.07,6621.43,8418.9,7890.780000000001,3947.34,11334.56,7340.88,19252.94,6566.139999999999,2553.9500000000003],\"y0\":\" \",\"yaxis\":\"y\",\"type\":\"box\"}],                        {\"template\":{\"data\":{\"histogram2dcontour\":[{\"type\":\"histogram2dcontour\",\"colorbar\":{\"outlinewidth\":0,\"ticks\":\"\"},\"colorscale\":[[0.0,\"#0d0887\"],[0.1111111111111111,\"#46039f\"],[0.2222222222222222,\"#7201a8\"],[0.3333333333333333,\"#9c179e\"],[0.4444444444444444,\"#bd3786\"],[0.5555555555555556,\"#d8576b\"],[0.6666666666666666,\"#ed7953\"],[0.7777777777777778,\"#fb9f3a\"],[0.8888888888888888,\"#fdca26\"],[1.0,\"#f0f921\"]]}],\"choropleth\":[{\"type\":\"choropleth\",\"colorbar\":{\"outlinewidth\":0,\"ticks\":\"\"}}],\"histogram2d\":[{\"type\":\"histogram2d\",\"colorbar\":{\"outlinewidth\":0,\"ticks\":\"\"},\"colorscale\":[[0.0,\"#0d0887\"],[0.1111111111111111,\"#46039f\"],[0.2222222222222222,\"#7201a8\"],[0.3333333333333333,\"#9c179e\"],[0.4444444444444444,\"#bd3786\"],[0.5555555555555556,\"#d8576b\"],[0.6666666666666666,\"#ed7953\"],[0.7777777777777778,\"#fb9f3a\"],[0.8888888888888888,\"#fdca26\"],[1.0,\"#f0f921\"]]}],\"heatmap\":[{\"type\":\"heatmap\",\"colorbar\":{\"outlinewidth\":0,\"ticks\":\"\"},\"colorscale\":[[0.0,\"#0d0887\"],[0.1111111111111111,\"#46039f\"],[0.2222222222222222,\"#7201a8\"],[0.3333333333333333,\"#9c179e\"],[0.4444444444444444,\"#bd3786\"],[0.5555555555555556,\"#d8576b\"],[0.6666666666666666,\"#ed7953\"],[0.7777777777777778,\"#fb9f3a\"],[0.8888888888888888,\"#fdca26\"],[1.0,\"#f0f921\"]]}],\"heatmapgl\":[{\"type\":\"heatmapgl\",\"colorbar\":{\"outlinewidth\":0,\"ticks\":\"\"},\"colorscale\":[[0.0,\"#0d0887\"],[0.1111111111111111,\"#46039f\"],[0.2222222222222222,\"#7201a8\"],[0.3333333333333333,\"#9c179e\"],[0.4444444444444444,\"#bd3786\"],[0.5555555555555556,\"#d8576b\"],[0.6666666666666666,\"#ed7953\"],[0.7777777777777778,\"#fb9f3a\"],[0.8888888888888888,\"#fdca26\"],[1.0,\"#f0f921\"]]}],\"contourcarpet\":[{\"type\":\"contourcarpet\",\"colorbar\":{\"outlinewidth\":0,\"ticks\":\"\"}}],\"contour\":[{\"type\":\"contour\",\"colorbar\":{\"outlinewidth\":0,\"ticks\":\"\"},\"colorscale\":[[0.0,\"#0d0887\"],[0.1111111111111111,\"#46039f\"],[0.2222222222222222,\"#7201a8\"],[0.3333333333333333,\"#9c179e\"],[0.4444444444444444,\"#bd3786\"],[0.5555555555555556,\"#d8576b\"],[0.6666666666666666,\"#ed7953\"],[0.7777777777777778,\"#fb9f3a\"],[0.8888888888888888,\"#fdca26\"],[1.0,\"#f0f921\"]]}],\"surface\":[{\"type\":\"surface\",\"colorbar\":{\"outlinewidth\":0,\"ticks\":\"\"},\"colorscale\":[[0.0,\"#0d0887\"],[0.1111111111111111,\"#46039f\"],[0.2222222222222222,\"#7201a8\"],[0.3333333333333333,\"#9c179e\"],[0.4444444444444444,\"#bd3786\"],[0.5555555555555556,\"#d8576b\"],[0.6666666666666666,\"#ed7953\"],[0.7777777777777778,\"#fb9f3a\"],[0.8888888888888888,\"#fdca26\"],[1.0,\"#f0f921\"]]}],\"mesh3d\":[{\"type\":\"mesh3d\",\"colorbar\":{\"outlinewidth\":0,\"ticks\":\"\"}}],\"scatter\":[{\"fillpattern\":{\"fillmode\":\"overlay\",\"size\":10,\"solidity\":0.2},\"type\":\"scatter\"}],\"parcoords\":[{\"type\":\"parcoords\",\"line\":{\"colorbar\":{\"outlinewidth\":0,\"ticks\":\"\"}}}],\"scatterpolargl\":[{\"type\":\"scatterpolargl\",\"marker\":{\"colorbar\":{\"outlinewidth\":0,\"ticks\":\"\"}}}],\"bar\":[{\"error_x\":{\"color\":\"#2a3f5f\"},\"error_y\":{\"color\":\"#2a3f5f\"},\"marker\":{\"line\":{\"color\":\"#E5ECF6\",\"width\":0.5},\"pattern\":{\"fillmode\":\"overlay\",\"size\":10,\"solidity\":0.2}},\"type\":\"bar\"}],\"scattergeo\":[{\"type\":\"scattergeo\",\"marker\":{\"colorbar\":{\"outlinewidth\":0,\"ticks\":\"\"}}}],\"scatterpolar\":[{\"type\":\"scatterpolar\",\"marker\":{\"colorbar\":{\"outlinewidth\":0,\"ticks\":\"\"}}}],\"histogram\":[{\"marker\":{\"pattern\":{\"fillmode\":\"overlay\",\"size\":10,\"solidity\":0.2}},\"type\":\"histogram\"}],\"scattergl\":[{\"type\":\"scattergl\",\"marker\":{\"colorbar\":{\"outlinewidth\":0,\"ticks\":\"\"}}}],\"scatter3d\":[{\"type\":\"scatter3d\",\"line\":{\"colorbar\":{\"outlinewidth\":0,\"ticks\":\"\"}},\"marker\":{\"colorbar\":{\"outlinewidth\":0,\"ticks\":\"\"}}}],\"scattermapbox\":[{\"type\":\"scattermapbox\",\"marker\":{\"colorbar\":{\"outlinewidth\":0,\"ticks\":\"\"}}}],\"scatterternary\":[{\"type\":\"scatterternary\",\"marker\":{\"colorbar\":{\"outlinewidth\":0,\"ticks\":\"\"}}}],\"scattercarpet\":[{\"type\":\"scattercarpet\",\"marker\":{\"colorbar\":{\"outlinewidth\":0,\"ticks\":\"\"}}}],\"carpet\":[{\"aaxis\":{\"endlinecolor\":\"#2a3f5f\",\"gridcolor\":\"white\",\"linecolor\":\"white\",\"minorgridcolor\":\"white\",\"startlinecolor\":\"#2a3f5f\"},\"baxis\":{\"endlinecolor\":\"#2a3f5f\",\"gridcolor\":\"white\",\"linecolor\":\"white\",\"minorgridcolor\":\"white\",\"startlinecolor\":\"#2a3f5f\"},\"type\":\"carpet\"}],\"table\":[{\"cells\":{\"fill\":{\"color\":\"#EBF0F8\"},\"line\":{\"color\":\"white\"}},\"header\":{\"fill\":{\"color\":\"#C8D4E3\"},\"line\":{\"color\":\"white\"}},\"type\":\"table\"}],\"barpolar\":[{\"marker\":{\"line\":{\"color\":\"#E5ECF6\",\"width\":0.5},\"pattern\":{\"fillmode\":\"overlay\",\"size\":10,\"solidity\":0.2}},\"type\":\"barpolar\"}],\"pie\":[{\"automargin\":true,\"type\":\"pie\"}]},\"layout\":{\"autotypenumbers\":\"strict\",\"colorway\":[\"#636efa\",\"#EF553B\",\"#00cc96\",\"#ab63fa\",\"#FFA15A\",\"#19d3f3\",\"#FF6692\",\"#B6E880\",\"#FF97FF\",\"#FECB52\"],\"font\":{\"color\":\"#2a3f5f\"},\"hovermode\":\"closest\",\"hoverlabel\":{\"align\":\"left\"},\"paper_bgcolor\":\"white\",\"plot_bgcolor\":\"#E5ECF6\",\"polar\":{\"bgcolor\":\"#E5ECF6\",\"angularaxis\":{\"gridcolor\":\"white\",\"linecolor\":\"white\",\"ticks\":\"\"},\"radialaxis\":{\"gridcolor\":\"white\",\"linecolor\":\"white\",\"ticks\":\"\"}},\"ternary\":{\"bgcolor\":\"#E5ECF6\",\"aaxis\":{\"gridcolor\":\"white\",\"linecolor\":\"white\",\"ticks\":\"\"},\"baxis\":{\"gridcolor\":\"white\",\"linecolor\":\"white\",\"ticks\":\"\"},\"caxis\":{\"gridcolor\":\"white\",\"linecolor\":\"white\",\"ticks\":\"\"}},\"coloraxis\":{\"colorbar\":{\"outlinewidth\":0,\"ticks\":\"\"}},\"colorscale\":{\"sequential\":[[0.0,\"#0d0887\"],[0.1111111111111111,\"#46039f\"],[0.2222222222222222,\"#7201a8\"],[0.3333333333333333,\"#9c179e\"],[0.4444444444444444,\"#bd3786\"],[0.5555555555555556,\"#d8576b\"],[0.6666666666666666,\"#ed7953\"],[0.7777777777777778,\"#fb9f3a\"],[0.8888888888888888,\"#fdca26\"],[1.0,\"#f0f921\"]],\"sequentialminus\":[[0.0,\"#0d0887\"],[0.1111111111111111,\"#46039f\"],[0.2222222222222222,\"#7201a8\"],[0.3333333333333333,\"#9c179e\"],[0.4444444444444444,\"#bd3786\"],[0.5555555555555556,\"#d8576b\"],[0.6666666666666666,\"#ed7953\"],[0.7777777777777778,\"#fb9f3a\"],[0.8888888888888888,\"#fdca26\"],[1.0,\"#f0f921\"]],\"diverging\":[[0,\"#8e0152\"],[0.1,\"#c51b7d\"],[0.2,\"#de77ae\"],[0.3,\"#f1b6da\"],[0.4,\"#fde0ef\"],[0.5,\"#f7f7f7\"],[0.6,\"#e6f5d0\"],[0.7,\"#b8e186\"],[0.8,\"#7fbc41\"],[0.9,\"#4d9221\"],[1,\"#276419\"]]},\"xaxis\":{\"gridcolor\":\"white\",\"linecolor\":\"white\",\"ticks\":\"\",\"title\":{\"standoff\":15},\"zerolinecolor\":\"white\",\"automargin\":true,\"zerolinewidth\":2},\"yaxis\":{\"gridcolor\":\"white\",\"linecolor\":\"white\",\"ticks\":\"\",\"title\":{\"standoff\":15},\"zerolinecolor\":\"white\",\"automargin\":true,\"zerolinewidth\":2},\"scene\":{\"xaxis\":{\"backgroundcolor\":\"#E5ECF6\",\"gridcolor\":\"white\",\"linecolor\":\"white\",\"showbackground\":true,\"ticks\":\"\",\"zerolinecolor\":\"white\",\"gridwidth\":2},\"yaxis\":{\"backgroundcolor\":\"#E5ECF6\",\"gridcolor\":\"white\",\"linecolor\":\"white\",\"showbackground\":true,\"ticks\":\"\",\"zerolinecolor\":\"white\",\"gridwidth\":2},\"zaxis\":{\"backgroundcolor\":\"#E5ECF6\",\"gridcolor\":\"white\",\"linecolor\":\"white\",\"showbackground\":true,\"ticks\":\"\",\"zerolinecolor\":\"white\",\"gridwidth\":2}},\"shapedefaults\":{\"line\":{\"color\":\"#2a3f5f\"}},\"annotationdefaults\":{\"arrowcolor\":\"#2a3f5f\",\"arrowhead\":0,\"arrowwidth\":1},\"geo\":{\"bgcolor\":\"white\",\"landcolor\":\"#E5ECF6\",\"subunitcolor\":\"white\",\"showland\":true,\"showlakes\":true,\"lakecolor\":\"white\"},\"title\":{\"x\":0.05},\"mapbox\":{\"style\":\"light\"}}},\"xaxis\":{\"anchor\":\"y\",\"domain\":[0.0,1.0],\"title\":{\"text\":\"Week Number\"},\"tickmode\":\"linear\",\"tick0\":0,\"dtick\":1},\"yaxis\":{\"anchor\":\"x\",\"domain\":[0.0,1.0],\"title\":{\"text\":\"MoneySpent\"}},\"legend\":{\"tracegroupgap\":0},\"margin\":{\"t\":60},\"boxmode\":\"group\",\"shapes\":[{\"fillcolor\":\"green\",\"line\":{\"width\":0},\"opacity\":0.25,\"type\":\"rect\",\"x0\":35,\"x1\":40,\"xref\":\"x\",\"y0\":0,\"y1\":1,\"yref\":\"y domain\"},{\"fillcolor\":\"green\",\"line\":{\"width\":0},\"opacity\":0.25,\"type\":\"rect\",\"x0\":44,\"x1\":48,\"xref\":\"x\",\"y0\":0,\"y1\":1,\"yref\":\"y domain\"}],\"annotations\":[{\"showarrow\":false,\"text\":\"Jump in Spending\",\"x\":35,\"xanchor\":\"left\",\"xref\":\"x\",\"y\":1,\"yanchor\":\"top\",\"yref\":\"y domain\"},{\"showarrow\":false,\"text\":\"Jump in Spending\",\"x\":44,\"xanchor\":\"left\",\"xref\":\"x\",\"y\":1,\"yanchor\":\"top\",\"yref\":\"y domain\"}],\"title\":{\"font\":{\"size\":20,\"color\":\"black\"},\"text\":\"Money Spent Per Week\",\"y\":0.95,\"x\":0.5,\"xanchor\":\"center\",\"yanchor\":\"top\"}},                        {\"responsive\": true}                    ).then(function(){\n",
       "                            \n",
       "var gd = document.getElementById('8422b9c2-5e1d-4276-b89f-9cdfd5747c72');\n",
       "var x = new MutationObserver(function (mutations, observer) {{\n",
       "        var display = window.getComputedStyle(gd).display;\n",
       "        if (!display || display === 'none') {{\n",
       "            console.log([gd, 'removed!']);\n",
       "            Plotly.purge(gd);\n",
       "            observer.disconnect();\n",
       "        }}\n",
       "}});\n",
       "\n",
       "// Listen for the removal of the full notebook cells\n",
       "var notebookContainer = gd.closest('#notebook-container');\n",
       "if (notebookContainer) {{\n",
       "    x.observe(notebookContainer, {childList: true});\n",
       "}}\n",
       "\n",
       "// Listen for the clearing of the current output cell\n",
       "var outputEl = gd.closest('.output');\n",
       "if (outputEl) {{\n",
       "    x.observe(outputEl, {childList: true});\n",
       "}}\n",
       "\n",
       "                        })                };                });            </script>        </div>"
      ]
     },
     "metadata": {},
     "output_type": "display_data"
    }
   ],
   "source": [
    "# Box Plot for Money Spent Per Week\n",
    "money_spent_per_week = px.box(sorted_ecom_df, \n",
    "                               x=sorted_ecom_df[\"Date\"].dt.isocalendar().week, \n",
    "                               y=\"MoneySpent\", \n",
    "                               labels=dict(\n",
    "                                      x = \"Week Number\"\n",
    "                                      ))\n",
    "\n",
    "money_spent_per_week.add_vrect(x0=35, x1=40, \n",
    "              annotation_text=\"Jump in Spending\", annotation_position=\"top left\",\n",
    "              fillcolor=\"green\", opacity=0.25, line_width=0)\n",
    "\n",
    "money_spent_per_week.add_vrect(x0=44, x1=48, \n",
    "              annotation_text=\"Jump in Spending\", annotation_position=\"top left\",\n",
    "              fillcolor=\"green\", opacity=0.25, line_width=0)\n",
    "\n",
    "\n",
    "money_spent_per_week.update_layout(titlefont=dict(size=20, color='black'),\n",
    "                      title=dict(\n",
    "                            text = \"Money Spent Per Week\",\n",
    "                            y = 0.95,\n",
    "                            x = 0.5,\n",
    "                            xanchor = 'center',\n",
    "                            yanchor = 'top'),\n",
    "                      xaxis = dict(\n",
    "                              tickmode = 'linear',\n",
    "                              tick0 = 0,\n",
    "                              dtick = 1\n",
    "    ))\n",
    "\n",
    "money_spent_per_week.show()"
   ]
  },
  {
   "cell_type": "code",
   "execution_count": 21,
   "id": "1f184708",
   "metadata": {
    "execution": {
     "iopub.execute_input": "2022-12-29T13:38:39.400868Z",
     "iopub.status.busy": "2022-12-29T13:38:39.400443Z",
     "iopub.status.idle": "2022-12-29T13:38:39.474290Z",
     "shell.execute_reply": "2022-12-29T13:38:39.472897Z"
    },
    "id": "fu4wXHJzz3sN",
    "jupyter": {
     "source_hidden": true
    },
    "outputId": "025014b6-ba2c-45b3-8df3-e7438467821a",
    "papermill": {
     "duration": 0.095932,
     "end_time": "2022-12-29T13:38:39.477037",
     "exception": false,
     "start_time": "2022-12-29T13:38:39.381105",
     "status": "completed"
    },
    "tags": []
   },
   "outputs": [
    {
     "data": {
      "text/html": [
       "<div>                            <div id=\"ebd44983-e451-4d0f-868a-2280720d864a\" class=\"plotly-graph-div\" style=\"height:525px; width:100%;\"></div>            <script type=\"text/javascript\">                require([\"plotly\"], function(Plotly) {                    window.PLOTLYENV=window.PLOTLYENV || {};                                    if (document.getElementById(\"ebd44983-e451-4d0f-868a-2280720d864a\")) {                    Plotly.newPlot(                        \"ebd44983-e451-4d0f-868a-2280720d864a\",                        [{\"alignmentgroup\":\"True\",\"hovertemplate\":\"=%{x}<br>MoneySpent=%{y}<extra></extra>\",\"legendgroup\":\"\",\"marker\":{\"color\":\"#636efa\"},\"name\":\"\",\"notched\":false,\"offsetgroup\":\"\",\"orientation\":\"v\",\"showlegend\":false,\"x\":[2,3,4,6,0,1,2,3,4,6,0,1,2,3,4,6,0,1,2,3,1,2,3,4,6,0,1,2,3,4,6,0,1,2,3,4,6,0,1,2,3,4,6,0,1,2,3,4,6,0,1,2,3,4,6,0,1,2,3,4,6,0,1,2,3,4,6,0,1,2,3,4,6,0,1,2,3,4,6,0,1,2,3,4,6,0,1,2,3,4,6,0,1,2,3,4,6,0,1,2,3,4,6,0,1,2,3,4,6,0,1,2,3,1,2,3,6,1,2,3,4,6,0,1,2,3,4,6,0,1,2,3,4,6,0,1,2,3,4,6,1,2,3,4,6,0,1,2,3,4,6,0,1,2,3,4,6,0,1,2,3,4,6,0,1,2,3,4,6,0,1,2,3,4,6,0,1,2,3,4,6,0,1,2,3,4,6,0,1,2,3,4,6,0,1,2,3,4,6,0,1,2,3,4,6,0,1,2,3,4,6,0,1,2,3,4,6,1,2,3,4,6,0,1,2,3,4,6,0,1,2,3,4,6,0,1,2,3,4,6,0,1,2,3,4,6,0,1,2,3,4,6,0,1,2,3,4,6,0,1,2,3,4,6,0,1,2,3,4,6,0,1,2,3,4,6,0,1,2,3,4,6,0,1,2,3,4,6,0,1,2,3,4,6,0,1,2,3,4,6,0,1,2,3,4],\"x0\":\" \",\"xaxis\":\"x\",\"y\":[8025.85,7660.42,3362.06,6620.81,6375.55,7945.25,6679.32,5452.45,6503.889999999999,3437.0,4967.370000000001,5185.900000000001,5264.620000000001,9155.53,2717.2200000000003,1536.62,4778.97,3906.93,402.25999999999993,845.83,2107.4,4905.26,4916.99,4250.22,2772.1100000000006,2788.99,17243.559999999998,2962.79,3027.17,7713.549999999999,1165.8799999999999,2979.77,1631.56,4690.32,3735.5699999999997,3643.62,2108.7799999999997,3128.6000000000004,4176.86,3294.0600000000004,4119.15,2595.84,1401.65,3311.75,4789.92,2897.46,4803.249999999999,4312.18,568.03,7336.779999999999,3289.9000000000005,1054.57,2334.3700000000003,4469.74,1273.56,4681.92,3478.98,4683.24,3294.04,2539.1600000000003,2100.92,5365.04,5149.84,4949.5199999999995,4896.530000000001,2922.67,1778.81,2844.04,3894.62,2827.4,2741.42,2435.55,2152.4799999999996,3895.31,4568.5199999999995,3386.9000000000005,5447.889999999999,3575.99,1019.7299999999999,4645.38,2642.0200000000004,4342.84,5734.04,4892.62,3369.6800000000003,3474.86,3379.16,4969.82,7611.86,4747.97,1662.51,3525.6000000000004,6758.639999999999,5367.5599999999995,4262.68,5321.26,1032.8899999999999,4951.61,4141.02,2869.78,3265.87,4888.82,1661.46,4175.28,4107.9400000000005,4889.8,6900.35,3654.6800000000003,2953.73,7517.439999999999,4378.98,3882.58,6010.91,4168.459999999999,4416.969999999999,3632.63,1801.05,4252.299999999999,5054.48,4240.66,4823.030000000001,4073.0,3986.3900000000003,5231.24,5849.52,11760.01,5012.51,1755.24,5455.030000000001,8406.03,5730.75,5428.25,4758.55,6390.17,5043.6,4582.77,3008.12,5668.24,3295.8700000000003,1070.23,4671.759999999999,2728.5,5565.080000000001,2340.0199999999995,4697.71,2913.7800000000007,4938.150000000001,6115.85,8997.93,3287.7799999999997,2587.46,4416.2,5195.93,3505.3,4889.089999999999,2652.4700000000003,4431.4,3653.27,3183.84,4068.1400000000003,3794.4100000000003,3172.3199999999997,1419.4899999999998,2113.01,5908.84,2293.8500000000004,5685.78,2169.9100000000003,1104.24,6776.749999999999,5125.330000000001,3498.7,6345.849999999999,5400.550000000001,1073.6200000000001,4179.13,3614.6099999999997,3050.49,4772.7300000000005,1925.46,2981.12,-1921.8000000000006,9662.75,5157.959999999999,5877.41,2552.51,4835.370000000001,3173.74,3588.33,2963.1400000000003,7922.41,3596.02,5494.92,4404.28,3897.2,5867.58,13620.259999999998,3238.91,1631.42,4613.14,5138.130000000001,3790.3300000000004,8806.02,5071.99,1271.93,2665.4800000000005,2942.6400000000003,9869.11,5562.31,3042.73,2378.15,4130.389999999999,4219.4400000000005,6383.04,4969.290000000001,5642.69,2067.39,1638.0199999999998,219.53999999999974,7762.24,4878.200000000001,3636.26,6631.32,4817.97,4476.870000000001,4291.03,3909.7099999999996,8332.99,5122.01,8830.11,3843.53,14228.740000000002,3984.67,3056.5299999999997,8945.51,23059.269999999997,1227.3300000000013,10355.380000000001,5375.46,5753.68,7408.790999999999,5896.58,9399.800000000001,8336.67,9211.849999999999,2229.1,10847.39,9124.76,9822.68,10684.310000000001,10368.619999999999,2611.03,8524.41,3566.66,4579.42,4918.57,5164.3099999999995,3282.5,7217.34,6012.840000000001,5388.45,11521.099999999999,6615.27,2400.59,6795.5199999999995,5901.05,4798.25,6975.16,6241.77,7255.65,6903.719999999999,5770.82,6423.66,9022.36,10643.52,8531.369999999999,5138.31,6918.099999999999,12018.48,14997.7,6948.25,5035.74,11573.170000000002,8023.279999999999,10111.11,8779.33,6615.76,6245.67,7719.029999999999,10319.89,13208.579999999998,6011.6,5080.380000000001,3331.81,8652.57,9962.07,6621.43,8418.9,7890.780000000001,3947.34,11334.56,7340.88,19252.94,6566.139999999999,2553.9500000000003],\"y0\":\" \",\"yaxis\":\"y\",\"type\":\"box\"}],                        {\"template\":{\"data\":{\"histogram2dcontour\":[{\"type\":\"histogram2dcontour\",\"colorbar\":{\"outlinewidth\":0,\"ticks\":\"\"},\"colorscale\":[[0.0,\"#0d0887\"],[0.1111111111111111,\"#46039f\"],[0.2222222222222222,\"#7201a8\"],[0.3333333333333333,\"#9c179e\"],[0.4444444444444444,\"#bd3786\"],[0.5555555555555556,\"#d8576b\"],[0.6666666666666666,\"#ed7953\"],[0.7777777777777778,\"#fb9f3a\"],[0.8888888888888888,\"#fdca26\"],[1.0,\"#f0f921\"]]}],\"choropleth\":[{\"type\":\"choropleth\",\"colorbar\":{\"outlinewidth\":0,\"ticks\":\"\"}}],\"histogram2d\":[{\"type\":\"histogram2d\",\"colorbar\":{\"outlinewidth\":0,\"ticks\":\"\"},\"colorscale\":[[0.0,\"#0d0887\"],[0.1111111111111111,\"#46039f\"],[0.2222222222222222,\"#7201a8\"],[0.3333333333333333,\"#9c179e\"],[0.4444444444444444,\"#bd3786\"],[0.5555555555555556,\"#d8576b\"],[0.6666666666666666,\"#ed7953\"],[0.7777777777777778,\"#fb9f3a\"],[0.8888888888888888,\"#fdca26\"],[1.0,\"#f0f921\"]]}],\"heatmap\":[{\"type\":\"heatmap\",\"colorbar\":{\"outlinewidth\":0,\"ticks\":\"\"},\"colorscale\":[[0.0,\"#0d0887\"],[0.1111111111111111,\"#46039f\"],[0.2222222222222222,\"#7201a8\"],[0.3333333333333333,\"#9c179e\"],[0.4444444444444444,\"#bd3786\"],[0.5555555555555556,\"#d8576b\"],[0.6666666666666666,\"#ed7953\"],[0.7777777777777778,\"#fb9f3a\"],[0.8888888888888888,\"#fdca26\"],[1.0,\"#f0f921\"]]}],\"heatmapgl\":[{\"type\":\"heatmapgl\",\"colorbar\":{\"outlinewidth\":0,\"ticks\":\"\"},\"colorscale\":[[0.0,\"#0d0887\"],[0.1111111111111111,\"#46039f\"],[0.2222222222222222,\"#7201a8\"],[0.3333333333333333,\"#9c179e\"],[0.4444444444444444,\"#bd3786\"],[0.5555555555555556,\"#d8576b\"],[0.6666666666666666,\"#ed7953\"],[0.7777777777777778,\"#fb9f3a\"],[0.8888888888888888,\"#fdca26\"],[1.0,\"#f0f921\"]]}],\"contourcarpet\":[{\"type\":\"contourcarpet\",\"colorbar\":{\"outlinewidth\":0,\"ticks\":\"\"}}],\"contour\":[{\"type\":\"contour\",\"colorbar\":{\"outlinewidth\":0,\"ticks\":\"\"},\"colorscale\":[[0.0,\"#0d0887\"],[0.1111111111111111,\"#46039f\"],[0.2222222222222222,\"#7201a8\"],[0.3333333333333333,\"#9c179e\"],[0.4444444444444444,\"#bd3786\"],[0.5555555555555556,\"#d8576b\"],[0.6666666666666666,\"#ed7953\"],[0.7777777777777778,\"#fb9f3a\"],[0.8888888888888888,\"#fdca26\"],[1.0,\"#f0f921\"]]}],\"surface\":[{\"type\":\"surface\",\"colorbar\":{\"outlinewidth\":0,\"ticks\":\"\"},\"colorscale\":[[0.0,\"#0d0887\"],[0.1111111111111111,\"#46039f\"],[0.2222222222222222,\"#7201a8\"],[0.3333333333333333,\"#9c179e\"],[0.4444444444444444,\"#bd3786\"],[0.5555555555555556,\"#d8576b\"],[0.6666666666666666,\"#ed7953\"],[0.7777777777777778,\"#fb9f3a\"],[0.8888888888888888,\"#fdca26\"],[1.0,\"#f0f921\"]]}],\"mesh3d\":[{\"type\":\"mesh3d\",\"colorbar\":{\"outlinewidth\":0,\"ticks\":\"\"}}],\"scatter\":[{\"fillpattern\":{\"fillmode\":\"overlay\",\"size\":10,\"solidity\":0.2},\"type\":\"scatter\"}],\"parcoords\":[{\"type\":\"parcoords\",\"line\":{\"colorbar\":{\"outlinewidth\":0,\"ticks\":\"\"}}}],\"scatterpolargl\":[{\"type\":\"scatterpolargl\",\"marker\":{\"colorbar\":{\"outlinewidth\":0,\"ticks\":\"\"}}}],\"bar\":[{\"error_x\":{\"color\":\"#2a3f5f\"},\"error_y\":{\"color\":\"#2a3f5f\"},\"marker\":{\"line\":{\"color\":\"#E5ECF6\",\"width\":0.5},\"pattern\":{\"fillmode\":\"overlay\",\"size\":10,\"solidity\":0.2}},\"type\":\"bar\"}],\"scattergeo\":[{\"type\":\"scattergeo\",\"marker\":{\"colorbar\":{\"outlinewidth\":0,\"ticks\":\"\"}}}],\"scatterpolar\":[{\"type\":\"scatterpolar\",\"marker\":{\"colorbar\":{\"outlinewidth\":0,\"ticks\":\"\"}}}],\"histogram\":[{\"marker\":{\"pattern\":{\"fillmode\":\"overlay\",\"size\":10,\"solidity\":0.2}},\"type\":\"histogram\"}],\"scattergl\":[{\"type\":\"scattergl\",\"marker\":{\"colorbar\":{\"outlinewidth\":0,\"ticks\":\"\"}}}],\"scatter3d\":[{\"type\":\"scatter3d\",\"line\":{\"colorbar\":{\"outlinewidth\":0,\"ticks\":\"\"}},\"marker\":{\"colorbar\":{\"outlinewidth\":0,\"ticks\":\"\"}}}],\"scattermapbox\":[{\"type\":\"scattermapbox\",\"marker\":{\"colorbar\":{\"outlinewidth\":0,\"ticks\":\"\"}}}],\"scatterternary\":[{\"type\":\"scatterternary\",\"marker\":{\"colorbar\":{\"outlinewidth\":0,\"ticks\":\"\"}}}],\"scattercarpet\":[{\"type\":\"scattercarpet\",\"marker\":{\"colorbar\":{\"outlinewidth\":0,\"ticks\":\"\"}}}],\"carpet\":[{\"aaxis\":{\"endlinecolor\":\"#2a3f5f\",\"gridcolor\":\"white\",\"linecolor\":\"white\",\"minorgridcolor\":\"white\",\"startlinecolor\":\"#2a3f5f\"},\"baxis\":{\"endlinecolor\":\"#2a3f5f\",\"gridcolor\":\"white\",\"linecolor\":\"white\",\"minorgridcolor\":\"white\",\"startlinecolor\":\"#2a3f5f\"},\"type\":\"carpet\"}],\"table\":[{\"cells\":{\"fill\":{\"color\":\"#EBF0F8\"},\"line\":{\"color\":\"white\"}},\"header\":{\"fill\":{\"color\":\"#C8D4E3\"},\"line\":{\"color\":\"white\"}},\"type\":\"table\"}],\"barpolar\":[{\"marker\":{\"line\":{\"color\":\"#E5ECF6\",\"width\":0.5},\"pattern\":{\"fillmode\":\"overlay\",\"size\":10,\"solidity\":0.2}},\"type\":\"barpolar\"}],\"pie\":[{\"automargin\":true,\"type\":\"pie\"}]},\"layout\":{\"autotypenumbers\":\"strict\",\"colorway\":[\"#636efa\",\"#EF553B\",\"#00cc96\",\"#ab63fa\",\"#FFA15A\",\"#19d3f3\",\"#FF6692\",\"#B6E880\",\"#FF97FF\",\"#FECB52\"],\"font\":{\"color\":\"#2a3f5f\"},\"hovermode\":\"closest\",\"hoverlabel\":{\"align\":\"left\"},\"paper_bgcolor\":\"white\",\"plot_bgcolor\":\"#E5ECF6\",\"polar\":{\"bgcolor\":\"#E5ECF6\",\"angularaxis\":{\"gridcolor\":\"white\",\"linecolor\":\"white\",\"ticks\":\"\"},\"radialaxis\":{\"gridcolor\":\"white\",\"linecolor\":\"white\",\"ticks\":\"\"}},\"ternary\":{\"bgcolor\":\"#E5ECF6\",\"aaxis\":{\"gridcolor\":\"white\",\"linecolor\":\"white\",\"ticks\":\"\"},\"baxis\":{\"gridcolor\":\"white\",\"linecolor\":\"white\",\"ticks\":\"\"},\"caxis\":{\"gridcolor\":\"white\",\"linecolor\":\"white\",\"ticks\":\"\"}},\"coloraxis\":{\"colorbar\":{\"outlinewidth\":0,\"ticks\":\"\"}},\"colorscale\":{\"sequential\":[[0.0,\"#0d0887\"],[0.1111111111111111,\"#46039f\"],[0.2222222222222222,\"#7201a8\"],[0.3333333333333333,\"#9c179e\"],[0.4444444444444444,\"#bd3786\"],[0.5555555555555556,\"#d8576b\"],[0.6666666666666666,\"#ed7953\"],[0.7777777777777778,\"#fb9f3a\"],[0.8888888888888888,\"#fdca26\"],[1.0,\"#f0f921\"]],\"sequentialminus\":[[0.0,\"#0d0887\"],[0.1111111111111111,\"#46039f\"],[0.2222222222222222,\"#7201a8\"],[0.3333333333333333,\"#9c179e\"],[0.4444444444444444,\"#bd3786\"],[0.5555555555555556,\"#d8576b\"],[0.6666666666666666,\"#ed7953\"],[0.7777777777777778,\"#fb9f3a\"],[0.8888888888888888,\"#fdca26\"],[1.0,\"#f0f921\"]],\"diverging\":[[0,\"#8e0152\"],[0.1,\"#c51b7d\"],[0.2,\"#de77ae\"],[0.3,\"#f1b6da\"],[0.4,\"#fde0ef\"],[0.5,\"#f7f7f7\"],[0.6,\"#e6f5d0\"],[0.7,\"#b8e186\"],[0.8,\"#7fbc41\"],[0.9,\"#4d9221\"],[1,\"#276419\"]]},\"xaxis\":{\"gridcolor\":\"white\",\"linecolor\":\"white\",\"ticks\":\"\",\"title\":{\"standoff\":15},\"zerolinecolor\":\"white\",\"automargin\":true,\"zerolinewidth\":2},\"yaxis\":{\"gridcolor\":\"white\",\"linecolor\":\"white\",\"ticks\":\"\",\"title\":{\"standoff\":15},\"zerolinecolor\":\"white\",\"automargin\":true,\"zerolinewidth\":2},\"scene\":{\"xaxis\":{\"backgroundcolor\":\"#E5ECF6\",\"gridcolor\":\"white\",\"linecolor\":\"white\",\"showbackground\":true,\"ticks\":\"\",\"zerolinecolor\":\"white\",\"gridwidth\":2},\"yaxis\":{\"backgroundcolor\":\"#E5ECF6\",\"gridcolor\":\"white\",\"linecolor\":\"white\",\"showbackground\":true,\"ticks\":\"\",\"zerolinecolor\":\"white\",\"gridwidth\":2},\"zaxis\":{\"backgroundcolor\":\"#E5ECF6\",\"gridcolor\":\"white\",\"linecolor\":\"white\",\"showbackground\":true,\"ticks\":\"\",\"zerolinecolor\":\"white\",\"gridwidth\":2}},\"shapedefaults\":{\"line\":{\"color\":\"#2a3f5f\"}},\"annotationdefaults\":{\"arrowcolor\":\"#2a3f5f\",\"arrowhead\":0,\"arrowwidth\":1},\"geo\":{\"bgcolor\":\"white\",\"landcolor\":\"#E5ECF6\",\"subunitcolor\":\"white\",\"showland\":true,\"showlakes\":true,\"lakecolor\":\"white\"},\"title\":{\"x\":0.05},\"mapbox\":{\"style\":\"light\"}}},\"xaxis\":{\"anchor\":\"y\",\"domain\":[0.0,1.0],\"title\":{\"text\":\"\"},\"tickmode\":\"array\",\"tickvals\":[0,1,2,3,4,5,6],\"ticktext\":[\"Monday\",\"Tuesday\",\"Wednesday\",\"Thursday\",\"Friday\",\"Saturday\",\"Sunday\"]},\"yaxis\":{\"anchor\":\"x\",\"domain\":[0.0,1.0],\"title\":{\"text\":\"MoneySpent\"}},\"legend\":{\"tracegroupgap\":0},\"margin\":{\"t\":60},\"boxmode\":\"group\",\"shapes\":[{\"fillcolor\":\"red\",\"line\":{\"width\":0},\"opacity\":0.25,\"type\":\"rect\",\"x0\":5.5,\"x1\":6.5,\"xref\":\"x\",\"y0\":0,\"y1\":1,\"yref\":\"y domain\"}],\"annotations\":[{\"showarrow\":false,\"text\":\"Least Money Spent\",\"x\":5.5,\"xanchor\":\"left\",\"xref\":\"x\",\"y\":1,\"yanchor\":\"top\",\"yref\":\"y domain\"}],\"title\":{\"font\":{\"size\":20,\"color\":\"black\"},\"text\":\"Money Spent Per Day of the Week\",\"y\":0.95,\"x\":0.5,\"xanchor\":\"center\",\"yanchor\":\"top\"}},                        {\"responsive\": true}                    ).then(function(){\n",
       "                            \n",
       "var gd = document.getElementById('ebd44983-e451-4d0f-868a-2280720d864a');\n",
       "var x = new MutationObserver(function (mutations, observer) {{\n",
       "        var display = window.getComputedStyle(gd).display;\n",
       "        if (!display || display === 'none') {{\n",
       "            console.log([gd, 'removed!']);\n",
       "            Plotly.purge(gd);\n",
       "            observer.disconnect();\n",
       "        }}\n",
       "}});\n",
       "\n",
       "// Listen for the removal of the full notebook cells\n",
       "var notebookContainer = gd.closest('#notebook-container');\n",
       "if (notebookContainer) {{\n",
       "    x.observe(notebookContainer, {childList: true});\n",
       "}}\n",
       "\n",
       "// Listen for the clearing of the current output cell\n",
       "var outputEl = gd.closest('.output');\n",
       "if (outputEl) {{\n",
       "    x.observe(outputEl, {childList: true});\n",
       "}}\n",
       "\n",
       "                        })                };                });            </script>        </div>"
      ]
     },
     "metadata": {},
     "output_type": "display_data"
    }
   ],
   "source": [
    "# Box Plot for Money Spent Per Weekday\n",
    "money_spent_per_weekday = px.box(sorted_ecom_df, \n",
    "                               x=sorted_ecom_df[\"Date\"].dt.weekday, \n",
    "                               y=\"MoneySpent\", \n",
    "                               labels={\n",
    "                                      \"x\": \"\"\n",
    "                                      })\n",
    "\n",
    "money_spent_per_weekday.add_vrect(x0=5.5, x1=6.5, \n",
    "              annotation_text=\"Least Money Spent\", annotation_position=\"top left\",\n",
    "              fillcolor=\"red\", opacity=0.25, line_width=0)\n",
    "\n",
    "money_spent_per_weekday.update_layout(titlefont=dict(size=20, color='black'),\n",
    "                      title=dict(\n",
    "                            text = \"Money Spent Per Day of the Week\",\n",
    "                            y = 0.95,\n",
    "                            x = 0.5,\n",
    "                            xanchor =  'center',\n",
    "                            yanchor = 'top'),\n",
    "                      xaxis = dict(\n",
    "                            tickmode = 'array',\n",
    "                            tickvals = [0, 1, 2, 3, 4, 5, 6],\n",
    "                            ticktext = list(calendar.day_name)))\n",
    "\n",
    "money_spent_per_weekday.show()"
   ]
  },
  {
   "cell_type": "code",
   "execution_count": 22,
   "id": "890fe736",
   "metadata": {
    "execution": {
     "iopub.execute_input": "2022-12-29T13:38:39.515644Z",
     "iopub.status.busy": "2022-12-29T13:38:39.514726Z",
     "iopub.status.idle": "2022-12-29T13:38:39.603162Z",
     "shell.execute_reply": "2022-12-29T13:38:39.602087Z"
    },
    "id": "CH21dppOTgpy",
    "jupyter": {
     "source_hidden": true
    },
    "outputId": "75824f97-e6d2-410a-ecb1-4991e555bc20",
    "papermill": {
     "duration": 0.110646,
     "end_time": "2022-12-29T13:38:39.605735",
     "exception": false,
     "start_time": "2022-12-29T13:38:39.495089",
     "status": "completed"
    },
    "tags": []
   },
   "outputs": [
    {
     "data": {
      "text/html": [
       "<div>                            <div id=\"cb3a85b4-cf0b-4082-9285-6faff926e63e\" class=\"plotly-graph-div\" style=\"height:525px; width:100%;\"></div>            <script type=\"text/javascript\">                require([\"plotly\"], function(Plotly) {                    window.PLOTLYENV=window.PLOTLYENV || {};                                    if (document.getElementById(\"cb3a85b4-cf0b-4082-9285-6faff926e63e\")) {                    Plotly.newPlot(                        \"cb3a85b4-cf0b-4082-9285-6faff926e63e\",                        [{\"alignmentgroup\":\"True\",\"bingroup\":\"x\",\"histfunc\":\"avg\",\"hovertemplate\":\"Hour=%{x}<br>avg of MoneySpent=%{y}<extra></extra>\",\"legendgroup\":\"\",\"marker\":{\"color\":\"#636efa\",\"pattern\":{\"shape\":\"\"}},\"name\":\"\",\"nbinsx\":48,\"offsetgroup\":\"\",\"orientation\":\"v\",\"showlegend\":false,\"texttemplate\":\"%{value}\",\"x\":[12,13,10,11,14,15,9,16,8,17,18,19,7,20,6],\"xaxis\":\"x\",\"y\":[256224.02,213052.02000000002,206118.55,204086.15,180866.35000000003,169950.56,118530.94,79640.21,51602.55,44083.751000000004,19782.83,6374.719999999999,5260.69,3409.25,-77.8],\"yaxis\":\"y\",\"type\":\"histogram\"}],                        {\"template\":{\"data\":{\"histogram2dcontour\":[{\"type\":\"histogram2dcontour\",\"colorbar\":{\"outlinewidth\":0,\"ticks\":\"\"},\"colorscale\":[[0.0,\"#0d0887\"],[0.1111111111111111,\"#46039f\"],[0.2222222222222222,\"#7201a8\"],[0.3333333333333333,\"#9c179e\"],[0.4444444444444444,\"#bd3786\"],[0.5555555555555556,\"#d8576b\"],[0.6666666666666666,\"#ed7953\"],[0.7777777777777778,\"#fb9f3a\"],[0.8888888888888888,\"#fdca26\"],[1.0,\"#f0f921\"]]}],\"choropleth\":[{\"type\":\"choropleth\",\"colorbar\":{\"outlinewidth\":0,\"ticks\":\"\"}}],\"histogram2d\":[{\"type\":\"histogram2d\",\"colorbar\":{\"outlinewidth\":0,\"ticks\":\"\"},\"colorscale\":[[0.0,\"#0d0887\"],[0.1111111111111111,\"#46039f\"],[0.2222222222222222,\"#7201a8\"],[0.3333333333333333,\"#9c179e\"],[0.4444444444444444,\"#bd3786\"],[0.5555555555555556,\"#d8576b\"],[0.6666666666666666,\"#ed7953\"],[0.7777777777777778,\"#fb9f3a\"],[0.8888888888888888,\"#fdca26\"],[1.0,\"#f0f921\"]]}],\"heatmap\":[{\"type\":\"heatmap\",\"colorbar\":{\"outlinewidth\":0,\"ticks\":\"\"},\"colorscale\":[[0.0,\"#0d0887\"],[0.1111111111111111,\"#46039f\"],[0.2222222222222222,\"#7201a8\"],[0.3333333333333333,\"#9c179e\"],[0.4444444444444444,\"#bd3786\"],[0.5555555555555556,\"#d8576b\"],[0.6666666666666666,\"#ed7953\"],[0.7777777777777778,\"#fb9f3a\"],[0.8888888888888888,\"#fdca26\"],[1.0,\"#f0f921\"]]}],\"heatmapgl\":[{\"type\":\"heatmapgl\",\"colorbar\":{\"outlinewidth\":0,\"ticks\":\"\"},\"colorscale\":[[0.0,\"#0d0887\"],[0.1111111111111111,\"#46039f\"],[0.2222222222222222,\"#7201a8\"],[0.3333333333333333,\"#9c179e\"],[0.4444444444444444,\"#bd3786\"],[0.5555555555555556,\"#d8576b\"],[0.6666666666666666,\"#ed7953\"],[0.7777777777777778,\"#fb9f3a\"],[0.8888888888888888,\"#fdca26\"],[1.0,\"#f0f921\"]]}],\"contourcarpet\":[{\"type\":\"contourcarpet\",\"colorbar\":{\"outlinewidth\":0,\"ticks\":\"\"}}],\"contour\":[{\"type\":\"contour\",\"colorbar\":{\"outlinewidth\":0,\"ticks\":\"\"},\"colorscale\":[[0.0,\"#0d0887\"],[0.1111111111111111,\"#46039f\"],[0.2222222222222222,\"#7201a8\"],[0.3333333333333333,\"#9c179e\"],[0.4444444444444444,\"#bd3786\"],[0.5555555555555556,\"#d8576b\"],[0.6666666666666666,\"#ed7953\"],[0.7777777777777778,\"#fb9f3a\"],[0.8888888888888888,\"#fdca26\"],[1.0,\"#f0f921\"]]}],\"surface\":[{\"type\":\"surface\",\"colorbar\":{\"outlinewidth\":0,\"ticks\":\"\"},\"colorscale\":[[0.0,\"#0d0887\"],[0.1111111111111111,\"#46039f\"],[0.2222222222222222,\"#7201a8\"],[0.3333333333333333,\"#9c179e\"],[0.4444444444444444,\"#bd3786\"],[0.5555555555555556,\"#d8576b\"],[0.6666666666666666,\"#ed7953\"],[0.7777777777777778,\"#fb9f3a\"],[0.8888888888888888,\"#fdca26\"],[1.0,\"#f0f921\"]]}],\"mesh3d\":[{\"type\":\"mesh3d\",\"colorbar\":{\"outlinewidth\":0,\"ticks\":\"\"}}],\"scatter\":[{\"fillpattern\":{\"fillmode\":\"overlay\",\"size\":10,\"solidity\":0.2},\"type\":\"scatter\"}],\"parcoords\":[{\"type\":\"parcoords\",\"line\":{\"colorbar\":{\"outlinewidth\":0,\"ticks\":\"\"}}}],\"scatterpolargl\":[{\"type\":\"scatterpolargl\",\"marker\":{\"colorbar\":{\"outlinewidth\":0,\"ticks\":\"\"}}}],\"bar\":[{\"error_x\":{\"color\":\"#2a3f5f\"},\"error_y\":{\"color\":\"#2a3f5f\"},\"marker\":{\"line\":{\"color\":\"#E5ECF6\",\"width\":0.5},\"pattern\":{\"fillmode\":\"overlay\",\"size\":10,\"solidity\":0.2}},\"type\":\"bar\"}],\"scattergeo\":[{\"type\":\"scattergeo\",\"marker\":{\"colorbar\":{\"outlinewidth\":0,\"ticks\":\"\"}}}],\"scatterpolar\":[{\"type\":\"scatterpolar\",\"marker\":{\"colorbar\":{\"outlinewidth\":0,\"ticks\":\"\"}}}],\"histogram\":[{\"marker\":{\"pattern\":{\"fillmode\":\"overlay\",\"size\":10,\"solidity\":0.2}},\"type\":\"histogram\"}],\"scattergl\":[{\"type\":\"scattergl\",\"marker\":{\"colorbar\":{\"outlinewidth\":0,\"ticks\":\"\"}}}],\"scatter3d\":[{\"type\":\"scatter3d\",\"line\":{\"colorbar\":{\"outlinewidth\":0,\"ticks\":\"\"}},\"marker\":{\"colorbar\":{\"outlinewidth\":0,\"ticks\":\"\"}}}],\"scattermapbox\":[{\"type\":\"scattermapbox\",\"marker\":{\"colorbar\":{\"outlinewidth\":0,\"ticks\":\"\"}}}],\"scatterternary\":[{\"type\":\"scatterternary\",\"marker\":{\"colorbar\":{\"outlinewidth\":0,\"ticks\":\"\"}}}],\"scattercarpet\":[{\"type\":\"scattercarpet\",\"marker\":{\"colorbar\":{\"outlinewidth\":0,\"ticks\":\"\"}}}],\"carpet\":[{\"aaxis\":{\"endlinecolor\":\"#2a3f5f\",\"gridcolor\":\"white\",\"linecolor\":\"white\",\"minorgridcolor\":\"white\",\"startlinecolor\":\"#2a3f5f\"},\"baxis\":{\"endlinecolor\":\"#2a3f5f\",\"gridcolor\":\"white\",\"linecolor\":\"white\",\"minorgridcolor\":\"white\",\"startlinecolor\":\"#2a3f5f\"},\"type\":\"carpet\"}],\"table\":[{\"cells\":{\"fill\":{\"color\":\"#EBF0F8\"},\"line\":{\"color\":\"white\"}},\"header\":{\"fill\":{\"color\":\"#C8D4E3\"},\"line\":{\"color\":\"white\"}},\"type\":\"table\"}],\"barpolar\":[{\"marker\":{\"line\":{\"color\":\"#E5ECF6\",\"width\":0.5},\"pattern\":{\"fillmode\":\"overlay\",\"size\":10,\"solidity\":0.2}},\"type\":\"barpolar\"}],\"pie\":[{\"automargin\":true,\"type\":\"pie\"}]},\"layout\":{\"autotypenumbers\":\"strict\",\"colorway\":[\"#636efa\",\"#EF553B\",\"#00cc96\",\"#ab63fa\",\"#FFA15A\",\"#19d3f3\",\"#FF6692\",\"#B6E880\",\"#FF97FF\",\"#FECB52\"],\"font\":{\"color\":\"#2a3f5f\"},\"hovermode\":\"closest\",\"hoverlabel\":{\"align\":\"left\"},\"paper_bgcolor\":\"white\",\"plot_bgcolor\":\"#E5ECF6\",\"polar\":{\"bgcolor\":\"#E5ECF6\",\"angularaxis\":{\"gridcolor\":\"white\",\"linecolor\":\"white\",\"ticks\":\"\"},\"radialaxis\":{\"gridcolor\":\"white\",\"linecolor\":\"white\",\"ticks\":\"\"}},\"ternary\":{\"bgcolor\":\"#E5ECF6\",\"aaxis\":{\"gridcolor\":\"white\",\"linecolor\":\"white\",\"ticks\":\"\"},\"baxis\":{\"gridcolor\":\"white\",\"linecolor\":\"white\",\"ticks\":\"\"},\"caxis\":{\"gridcolor\":\"white\",\"linecolor\":\"white\",\"ticks\":\"\"}},\"coloraxis\":{\"colorbar\":{\"outlinewidth\":0,\"ticks\":\"\"}},\"colorscale\":{\"sequential\":[[0.0,\"#0d0887\"],[0.1111111111111111,\"#46039f\"],[0.2222222222222222,\"#7201a8\"],[0.3333333333333333,\"#9c179e\"],[0.4444444444444444,\"#bd3786\"],[0.5555555555555556,\"#d8576b\"],[0.6666666666666666,\"#ed7953\"],[0.7777777777777778,\"#fb9f3a\"],[0.8888888888888888,\"#fdca26\"],[1.0,\"#f0f921\"]],\"sequentialminus\":[[0.0,\"#0d0887\"],[0.1111111111111111,\"#46039f\"],[0.2222222222222222,\"#7201a8\"],[0.3333333333333333,\"#9c179e\"],[0.4444444444444444,\"#bd3786\"],[0.5555555555555556,\"#d8576b\"],[0.6666666666666666,\"#ed7953\"],[0.7777777777777778,\"#fb9f3a\"],[0.8888888888888888,\"#fdca26\"],[1.0,\"#f0f921\"]],\"diverging\":[[0,\"#8e0152\"],[0.1,\"#c51b7d\"],[0.2,\"#de77ae\"],[0.3,\"#f1b6da\"],[0.4,\"#fde0ef\"],[0.5,\"#f7f7f7\"],[0.6,\"#e6f5d0\"],[0.7,\"#b8e186\"],[0.8,\"#7fbc41\"],[0.9,\"#4d9221\"],[1,\"#276419\"]]},\"xaxis\":{\"gridcolor\":\"white\",\"linecolor\":\"white\",\"ticks\":\"\",\"title\":{\"standoff\":15},\"zerolinecolor\":\"white\",\"automargin\":true,\"zerolinewidth\":2},\"yaxis\":{\"gridcolor\":\"white\",\"linecolor\":\"white\",\"ticks\":\"\",\"title\":{\"standoff\":15},\"zerolinecolor\":\"white\",\"automargin\":true,\"zerolinewidth\":2},\"scene\":{\"xaxis\":{\"backgroundcolor\":\"#E5ECF6\",\"gridcolor\":\"white\",\"linecolor\":\"white\",\"showbackground\":true,\"ticks\":\"\",\"zerolinecolor\":\"white\",\"gridwidth\":2},\"yaxis\":{\"backgroundcolor\":\"#E5ECF6\",\"gridcolor\":\"white\",\"linecolor\":\"white\",\"showbackground\":true,\"ticks\":\"\",\"zerolinecolor\":\"white\",\"gridwidth\":2},\"zaxis\":{\"backgroundcolor\":\"#E5ECF6\",\"gridcolor\":\"white\",\"linecolor\":\"white\",\"showbackground\":true,\"ticks\":\"\",\"zerolinecolor\":\"white\",\"gridwidth\":2}},\"shapedefaults\":{\"line\":{\"color\":\"#2a3f5f\"}},\"annotationdefaults\":{\"arrowcolor\":\"#2a3f5f\",\"arrowhead\":0,\"arrowwidth\":1},\"geo\":{\"bgcolor\":\"white\",\"landcolor\":\"#E5ECF6\",\"subunitcolor\":\"white\",\"showland\":true,\"showlakes\":true,\"lakecolor\":\"white\"},\"title\":{\"x\":0.05},\"mapbox\":{\"style\":\"light\"}}},\"xaxis\":{\"anchor\":\"y\",\"domain\":[0.0,1.0],\"title\":{\"text\":\"Hour\"}},\"yaxis\":{\"anchor\":\"x\",\"domain\":[0.0,1.0],\"title\":{\"text\":\"avg of MoneySpent\"}},\"legend\":{\"tracegroupgap\":0},\"margin\":{\"t\":60},\"barmode\":\"relative\",\"title\":{\"font\":{\"size\":20,\"color\":\"black\"},\"text\":\"Hourly Customer Spending\",\"y\":0.95,\"x\":0.5,\"xanchor\":\"center\",\"yanchor\":\"top\"}},                        {\"responsive\": true}                    ).then(function(){\n",
       "                            \n",
       "var gd = document.getElementById('cb3a85b4-cf0b-4082-9285-6faff926e63e');\n",
       "var x = new MutationObserver(function (mutations, observer) {{\n",
       "        var display = window.getComputedStyle(gd).display;\n",
       "        if (!display || display === 'none') {{\n",
       "            console.log([gd, 'removed!']);\n",
       "            Plotly.purge(gd);\n",
       "            observer.disconnect();\n",
       "        }}\n",
       "}});\n",
       "\n",
       "// Listen for the removal of the full notebook cells\n",
       "var notebookContainer = gd.closest('#notebook-container');\n",
       "if (notebookContainer) {{\n",
       "    x.observe(notebookContainer, {childList: true});\n",
       "}}\n",
       "\n",
       "// Listen for the clearing of the current output cell\n",
       "var outputEl = gd.closest('.output');\n",
       "if (outputEl) {{\n",
       "    x.observe(outputEl, {childList: true});\n",
       "}}\n",
       "\n",
       "                        })                };                });            </script>        </div>"
      ]
     },
     "metadata": {},
     "output_type": "display_data"
    }
   ],
   "source": [
    "hourly_stats = eu_ecom_df.groupby(\"Hour\").agg({\"MoneySpent\": pd.Series.sum,\n",
    "                                               \"Quantity\": pd.Series.sum})\n",
    "hourly_stats.sort_values(\"MoneySpent\", ascending=False, inplace=True)\n",
    "\n",
    "hourly_spending = px.histogram(hourly_stats, x=hourly_stats.index,\n",
    "                               y=\"MoneySpent\", nbins=48, histfunc=\"avg\",\n",
    "                               hover_data=hourly_stats.columns, text_auto=True)\n",
    "hourly_spending.update_layout(titlefont=dict(size=20, color='black'),\n",
    "                              title={\n",
    "                                    'text': \"Hourly Customer Spending\",\n",
    "                                    'y':0.95,\n",
    "                                    'x':0.5,\n",
    "                                    'xanchor': 'center',\n",
    "                                    'yanchor': 'top'},\n",
    "                              )\n",
    "hourly_spending.show()"
   ]
  },
  {
   "cell_type": "markdown",
   "id": "0ca482eb",
   "metadata": {
    "id": "SlF6kOleFMqQ",
    "papermill": {
     "duration": 0.018231,
     "end_time": "2022-12-29T13:38:39.643329",
     "exception": false,
     "start_time": "2022-12-29T13:38:39.625098",
     "status": "completed"
    },
    "tags": []
   },
   "source": [
    "#### Insights:\n",
    "\n",
    "1. From the graphs above, it is evident that there are spikes in both, number of orders and customer spending as a whole throughout the year. \n",
    "2. We can also see that the there is a jump in customer spending from September to December with the highest being in November.\n",
    "3. Data is missing for Week 52 (last week). This maybe due to the business being shut for the winter holidays.\n",
    "3. There is no data for any Saturday. It seems like the business is closed on Saturdays but it is quite strange for an e-commerce business.\n",
    "4. Thursday is most popular while Sunday is the least.\n",
    "5. Most active spending hours are from  10 AM to 3 PM."
   ]
  },
  {
   "cell_type": "markdown",
   "id": "0a228e90",
   "metadata": {
    "id": "8gilBU_SIG8J",
    "papermill": {
     "duration": 0.01781,
     "end_time": "2022-12-29T13:38:39.679990",
     "exception": false,
     "start_time": "2022-12-29T13:38:39.662180",
     "status": "completed"
    },
    "tags": []
   },
   "source": [
    "### Investigating Top Products Overall"
   ]
  },
  {
   "cell_type": "code",
   "execution_count": 23,
   "id": "d2097da9",
   "metadata": {
    "execution": {
     "iopub.execute_input": "2022-12-29T13:38:39.718160Z",
     "iopub.status.busy": "2022-12-29T13:38:39.717789Z",
     "iopub.status.idle": "2022-12-29T13:38:40.185003Z",
     "shell.execute_reply": "2022-12-29T13:38:40.183925Z"
    },
    "id": "uJYKronbnujT",
    "outputId": "bf5bf09f-53a0-43c2-cf00-0ed1fba617dd",
    "papermill": {
     "duration": 0.489489,
     "end_time": "2022-12-29T13:38:40.187477",
     "exception": false,
     "start_time": "2022-12-29T13:38:39.697988",
     "status": "completed"
    },
    "tags": []
   },
   "outputs": [
    {
     "data": {
      "text/html": [
       "<div>                            <div id=\"1f8f43ff-9b9e-4d73-993f-940721372abf\" class=\"plotly-graph-div\" style=\"height:800px; width:1800px;\"></div>            <script type=\"text/javascript\">                require([\"plotly\"], function(Plotly) {                    window.PLOTLYENV=window.PLOTLYENV || {};                                    if (document.getElementById(\"1f8f43ff-9b9e-4d73-993f-940721372abf\")) {                    Plotly.newPlot(                        \"1f8f43ff-9b9e-4d73-993f-940721372abf\",                        [{\"alignmentgroup\":\"True\",\"hovertemplate\":\"Quantity=%{x}<br>Description=%{y}<extra></extra>\",\"legendgroup\":\"\",\"marker\":{\"color\":\"#636efa\",\"pattern\":{\"shape\":\"\"}},\"name\":\"\",\"offsetgroup\":\"\",\"orientation\":\"h\",\"showlegend\":false,\"textposition\":\"auto\",\"x\":[8902,8210,6970,6664,6491,6368,6014,5333,4303,4278,4009,3743,3743,3737,3665,3648,3521,3492,3313,3255,3204,3203,2965,2940,2910,2862,2859,2814,2813,2807],\"xaxis\":\"x\",\"y\":[\"WORLD WAR 2 GLIDERS ASSTD DESIGNS\",\"POPCORN HOLDER\",\"ASSORTED COLOUR BIRD ORNAMENT\",\"JUMBO BAG RED RETROSPOT\",\"WHITE HANGING HEART T-LIGHT HOLDER\",\"PACK OF 72 RETROSPOT CAKE CASES\",\"BROCADE RING PURSE\",\"RED  HARMONICA IN BOX\",\"PACK OF 12 LONDON TISSUES\",\"HEART OF WICKER SMALL\",\"60 TEATIME FAIRY CAKE CASES\",\"FAIRY CAKE FLANNEL ASSORTED COLOUR\",\"MINI PAINT SET VINTAGE\",\"60 CAKE CASES VINTAGE CHRISTMAS\",\"LUNCH BAG RED RETROSPOT\",\"ASSORTED COLOURS SILK FAN\",\"PARTY BUNTING\",\"HOMEMADE JAM SCENTED CANDLES\",\"GROW A FLYTRAP OR SUNFLOWER IN TIN\",\"ESSENTIAL BALM 3.5g TIN IN ENVELOPE\",\"JUMBO BAG PINK POLKADOT\",\"VICTORIAN GLASS HANGING T-LIGHT\",\"JUMBO BAG PINK VINTAGE PAISLEY\",\"72 SWEETHEART FAIRY CAKE CASES\",\"SET/20 RED RETROSPOT PAPER NAPKINS\",\"PACK OF 60 PINK PAISLEY CAKE CASES\",\"TRAVEL CARD WALLET KEEP CALM\",\"RED RETROSPOT CHARLOTTE BAG\",\"JAM MAKING SET PRINTED\",\"VINTAGE SNAP CARDS\"],\"yaxis\":\"y\",\"type\":\"bar\"}],                        {\"template\":{\"data\":{\"histogram2dcontour\":[{\"type\":\"histogram2dcontour\",\"colorbar\":{\"outlinewidth\":0,\"ticks\":\"\"},\"colorscale\":[[0.0,\"#0d0887\"],[0.1111111111111111,\"#46039f\"],[0.2222222222222222,\"#7201a8\"],[0.3333333333333333,\"#9c179e\"],[0.4444444444444444,\"#bd3786\"],[0.5555555555555556,\"#d8576b\"],[0.6666666666666666,\"#ed7953\"],[0.7777777777777778,\"#fb9f3a\"],[0.8888888888888888,\"#fdca26\"],[1.0,\"#f0f921\"]]}],\"choropleth\":[{\"type\":\"choropleth\",\"colorbar\":{\"outlinewidth\":0,\"ticks\":\"\"}}],\"histogram2d\":[{\"type\":\"histogram2d\",\"colorbar\":{\"outlinewidth\":0,\"ticks\":\"\"},\"colorscale\":[[0.0,\"#0d0887\"],[0.1111111111111111,\"#46039f\"],[0.2222222222222222,\"#7201a8\"],[0.3333333333333333,\"#9c179e\"],[0.4444444444444444,\"#bd3786\"],[0.5555555555555556,\"#d8576b\"],[0.6666666666666666,\"#ed7953\"],[0.7777777777777778,\"#fb9f3a\"],[0.8888888888888888,\"#fdca26\"],[1.0,\"#f0f921\"]]}],\"heatmap\":[{\"type\":\"heatmap\",\"colorbar\":{\"outlinewidth\":0,\"ticks\":\"\"},\"colorscale\":[[0.0,\"#0d0887\"],[0.1111111111111111,\"#46039f\"],[0.2222222222222222,\"#7201a8\"],[0.3333333333333333,\"#9c179e\"],[0.4444444444444444,\"#bd3786\"],[0.5555555555555556,\"#d8576b\"],[0.6666666666666666,\"#ed7953\"],[0.7777777777777778,\"#fb9f3a\"],[0.8888888888888888,\"#fdca26\"],[1.0,\"#f0f921\"]]}],\"heatmapgl\":[{\"type\":\"heatmapgl\",\"colorbar\":{\"outlinewidth\":0,\"ticks\":\"\"},\"colorscale\":[[0.0,\"#0d0887\"],[0.1111111111111111,\"#46039f\"],[0.2222222222222222,\"#7201a8\"],[0.3333333333333333,\"#9c179e\"],[0.4444444444444444,\"#bd3786\"],[0.5555555555555556,\"#d8576b\"],[0.6666666666666666,\"#ed7953\"],[0.7777777777777778,\"#fb9f3a\"],[0.8888888888888888,\"#fdca26\"],[1.0,\"#f0f921\"]]}],\"contourcarpet\":[{\"type\":\"contourcarpet\",\"colorbar\":{\"outlinewidth\":0,\"ticks\":\"\"}}],\"contour\":[{\"type\":\"contour\",\"colorbar\":{\"outlinewidth\":0,\"ticks\":\"\"},\"colorscale\":[[0.0,\"#0d0887\"],[0.1111111111111111,\"#46039f\"],[0.2222222222222222,\"#7201a8\"],[0.3333333333333333,\"#9c179e\"],[0.4444444444444444,\"#bd3786\"],[0.5555555555555556,\"#d8576b\"],[0.6666666666666666,\"#ed7953\"],[0.7777777777777778,\"#fb9f3a\"],[0.8888888888888888,\"#fdca26\"],[1.0,\"#f0f921\"]]}],\"surface\":[{\"type\":\"surface\",\"colorbar\":{\"outlinewidth\":0,\"ticks\":\"\"},\"colorscale\":[[0.0,\"#0d0887\"],[0.1111111111111111,\"#46039f\"],[0.2222222222222222,\"#7201a8\"],[0.3333333333333333,\"#9c179e\"],[0.4444444444444444,\"#bd3786\"],[0.5555555555555556,\"#d8576b\"],[0.6666666666666666,\"#ed7953\"],[0.7777777777777778,\"#fb9f3a\"],[0.8888888888888888,\"#fdca26\"],[1.0,\"#f0f921\"]]}],\"mesh3d\":[{\"type\":\"mesh3d\",\"colorbar\":{\"outlinewidth\":0,\"ticks\":\"\"}}],\"scatter\":[{\"fillpattern\":{\"fillmode\":\"overlay\",\"size\":10,\"solidity\":0.2},\"type\":\"scatter\"}],\"parcoords\":[{\"type\":\"parcoords\",\"line\":{\"colorbar\":{\"outlinewidth\":0,\"ticks\":\"\"}}}],\"scatterpolargl\":[{\"type\":\"scatterpolargl\",\"marker\":{\"colorbar\":{\"outlinewidth\":0,\"ticks\":\"\"}}}],\"bar\":[{\"error_x\":{\"color\":\"#2a3f5f\"},\"error_y\":{\"color\":\"#2a3f5f\"},\"marker\":{\"line\":{\"color\":\"#E5ECF6\",\"width\":0.5},\"pattern\":{\"fillmode\":\"overlay\",\"size\":10,\"solidity\":0.2}},\"type\":\"bar\"}],\"scattergeo\":[{\"type\":\"scattergeo\",\"marker\":{\"colorbar\":{\"outlinewidth\":0,\"ticks\":\"\"}}}],\"scatterpolar\":[{\"type\":\"scatterpolar\",\"marker\":{\"colorbar\":{\"outlinewidth\":0,\"ticks\":\"\"}}}],\"histogram\":[{\"marker\":{\"pattern\":{\"fillmode\":\"overlay\",\"size\":10,\"solidity\":0.2}},\"type\":\"histogram\"}],\"scattergl\":[{\"type\":\"scattergl\",\"marker\":{\"colorbar\":{\"outlinewidth\":0,\"ticks\":\"\"}}}],\"scatter3d\":[{\"type\":\"scatter3d\",\"line\":{\"colorbar\":{\"outlinewidth\":0,\"ticks\":\"\"}},\"marker\":{\"colorbar\":{\"outlinewidth\":0,\"ticks\":\"\"}}}],\"scattermapbox\":[{\"type\":\"scattermapbox\",\"marker\":{\"colorbar\":{\"outlinewidth\":0,\"ticks\":\"\"}}}],\"scatterternary\":[{\"type\":\"scatterternary\",\"marker\":{\"colorbar\":{\"outlinewidth\":0,\"ticks\":\"\"}}}],\"scattercarpet\":[{\"type\":\"scattercarpet\",\"marker\":{\"colorbar\":{\"outlinewidth\":0,\"ticks\":\"\"}}}],\"carpet\":[{\"aaxis\":{\"endlinecolor\":\"#2a3f5f\",\"gridcolor\":\"white\",\"linecolor\":\"white\",\"minorgridcolor\":\"white\",\"startlinecolor\":\"#2a3f5f\"},\"baxis\":{\"endlinecolor\":\"#2a3f5f\",\"gridcolor\":\"white\",\"linecolor\":\"white\",\"minorgridcolor\":\"white\",\"startlinecolor\":\"#2a3f5f\"},\"type\":\"carpet\"}],\"table\":[{\"cells\":{\"fill\":{\"color\":\"#EBF0F8\"},\"line\":{\"color\":\"white\"}},\"header\":{\"fill\":{\"color\":\"#C8D4E3\"},\"line\":{\"color\":\"white\"}},\"type\":\"table\"}],\"barpolar\":[{\"marker\":{\"line\":{\"color\":\"#E5ECF6\",\"width\":0.5},\"pattern\":{\"fillmode\":\"overlay\",\"size\":10,\"solidity\":0.2}},\"type\":\"barpolar\"}],\"pie\":[{\"automargin\":true,\"type\":\"pie\"}]},\"layout\":{\"autotypenumbers\":\"strict\",\"colorway\":[\"#636efa\",\"#EF553B\",\"#00cc96\",\"#ab63fa\",\"#FFA15A\",\"#19d3f3\",\"#FF6692\",\"#B6E880\",\"#FF97FF\",\"#FECB52\"],\"font\":{\"color\":\"#2a3f5f\"},\"hovermode\":\"closest\",\"hoverlabel\":{\"align\":\"left\"},\"paper_bgcolor\":\"white\",\"plot_bgcolor\":\"#E5ECF6\",\"polar\":{\"bgcolor\":\"#E5ECF6\",\"angularaxis\":{\"gridcolor\":\"white\",\"linecolor\":\"white\",\"ticks\":\"\"},\"radialaxis\":{\"gridcolor\":\"white\",\"linecolor\":\"white\",\"ticks\":\"\"}},\"ternary\":{\"bgcolor\":\"#E5ECF6\",\"aaxis\":{\"gridcolor\":\"white\",\"linecolor\":\"white\",\"ticks\":\"\"},\"baxis\":{\"gridcolor\":\"white\",\"linecolor\":\"white\",\"ticks\":\"\"},\"caxis\":{\"gridcolor\":\"white\",\"linecolor\":\"white\",\"ticks\":\"\"}},\"coloraxis\":{\"colorbar\":{\"outlinewidth\":0,\"ticks\":\"\"}},\"colorscale\":{\"sequential\":[[0.0,\"#0d0887\"],[0.1111111111111111,\"#46039f\"],[0.2222222222222222,\"#7201a8\"],[0.3333333333333333,\"#9c179e\"],[0.4444444444444444,\"#bd3786\"],[0.5555555555555556,\"#d8576b\"],[0.6666666666666666,\"#ed7953\"],[0.7777777777777778,\"#fb9f3a\"],[0.8888888888888888,\"#fdca26\"],[1.0,\"#f0f921\"]],\"sequentialminus\":[[0.0,\"#0d0887\"],[0.1111111111111111,\"#46039f\"],[0.2222222222222222,\"#7201a8\"],[0.3333333333333333,\"#9c179e\"],[0.4444444444444444,\"#bd3786\"],[0.5555555555555556,\"#d8576b\"],[0.6666666666666666,\"#ed7953\"],[0.7777777777777778,\"#fb9f3a\"],[0.8888888888888888,\"#fdca26\"],[1.0,\"#f0f921\"]],\"diverging\":[[0,\"#8e0152\"],[0.1,\"#c51b7d\"],[0.2,\"#de77ae\"],[0.3,\"#f1b6da\"],[0.4,\"#fde0ef\"],[0.5,\"#f7f7f7\"],[0.6,\"#e6f5d0\"],[0.7,\"#b8e186\"],[0.8,\"#7fbc41\"],[0.9,\"#4d9221\"],[1,\"#276419\"]]},\"xaxis\":{\"gridcolor\":\"white\",\"linecolor\":\"white\",\"ticks\":\"\",\"title\":{\"standoff\":15},\"zerolinecolor\":\"white\",\"automargin\":true,\"zerolinewidth\":2},\"yaxis\":{\"gridcolor\":\"white\",\"linecolor\":\"white\",\"ticks\":\"\",\"title\":{\"standoff\":15},\"zerolinecolor\":\"white\",\"automargin\":true,\"zerolinewidth\":2},\"scene\":{\"xaxis\":{\"backgroundcolor\":\"#E5ECF6\",\"gridcolor\":\"white\",\"linecolor\":\"white\",\"showbackground\":true,\"ticks\":\"\",\"zerolinecolor\":\"white\",\"gridwidth\":2},\"yaxis\":{\"backgroundcolor\":\"#E5ECF6\",\"gridcolor\":\"white\",\"linecolor\":\"white\",\"showbackground\":true,\"ticks\":\"\",\"zerolinecolor\":\"white\",\"gridwidth\":2},\"zaxis\":{\"backgroundcolor\":\"#E5ECF6\",\"gridcolor\":\"white\",\"linecolor\":\"white\",\"showbackground\":true,\"ticks\":\"\",\"zerolinecolor\":\"white\",\"gridwidth\":2}},\"shapedefaults\":{\"line\":{\"color\":\"#2a3f5f\"}},\"annotationdefaults\":{\"arrowcolor\":\"#2a3f5f\",\"arrowhead\":0,\"arrowwidth\":1},\"geo\":{\"bgcolor\":\"white\",\"landcolor\":\"#E5ECF6\",\"subunitcolor\":\"white\",\"showland\":true,\"showlakes\":true,\"lakecolor\":\"white\"},\"title\":{\"x\":0.05},\"mapbox\":{\"style\":\"light\"}}},\"xaxis\":{\"anchor\":\"y\",\"domain\":[0.0,1.0],\"title\":{\"text\":\"Quantity\"}},\"yaxis\":{\"anchor\":\"x\",\"domain\":[0.0,1.0],\"title\":{\"text\":\"Description\"}},\"legend\":{\"tracegroupgap\":0},\"margin\":{\"t\":60},\"barmode\":\"relative\",\"autosize\":false,\"width\":1800,\"height\":800,\"title\":{\"font\":{\"size\":20,\"color\":\"black\"},\"text\":\"Top 30 Most Popular Items at the Business\",\"y\":0.97,\"x\":0.5,\"xanchor\":\"center\",\"yanchor\":\"top\"},\"showlegend\":false},                        {\"responsive\": true}                    ).then(function(){\n",
       "                            \n",
       "var gd = document.getElementById('1f8f43ff-9b9e-4d73-993f-940721372abf');\n",
       "var x = new MutationObserver(function (mutations, observer) {{\n",
       "        var display = window.getComputedStyle(gd).display;\n",
       "        if (!display || display === 'none') {{\n",
       "            console.log([gd, 'removed!']);\n",
       "            Plotly.purge(gd);\n",
       "            observer.disconnect();\n",
       "        }}\n",
       "}});\n",
       "\n",
       "// Listen for the removal of the full notebook cells\n",
       "var notebookContainer = gd.closest('#notebook-container');\n",
       "if (notebookContainer) {{\n",
       "    x.observe(notebookContainer, {childList: true});\n",
       "}}\n",
       "\n",
       "// Listen for the clearing of the current output cell\n",
       "var outputEl = gd.closest('.output');\n",
       "if (outputEl) {{\n",
       "    x.observe(outputEl, {childList: true});\n",
       "}}\n",
       "\n",
       "                        })                };                });            </script>        </div>"
      ]
     },
     "metadata": {},
     "output_type": "display_data"
    }
   ],
   "source": [
    "top_spends = eu_ecom_df.groupby(\"Description\").agg({\n",
    "    \"Quantity\": pd.Series.sum,\n",
    "    \"MoneySpent\": pd.Series.sum})\n",
    "top_spends.reset_index(inplace=True)\n",
    "top_spends.sort_values(\"Quantity\", ascending=False, inplace=True)\n",
    "\n",
    "most_popular_items = px.bar(top_spends[:30], y=\"Description\", x=\"Quantity\")\n",
    "most_popular_items.update_layout(autosize=False,\n",
    "                                 width=1800,\n",
    "                                 height=800)\n",
    "\n",
    "most_popular_items.update_layout(showlegend=False,\n",
    "                      titlefont=dict(size=20, color='black'),\n",
    "                      title=dict(\n",
    "                            text = \"Top 30 Most Popular Items at the Business\",\n",
    "                            y = 0.97,\n",
    "                            x = 0.5,\n",
    "                            xanchor =  'center',\n",
    "                            yanchor = 'top'\n",
    "                      ))\n",
    "most_popular_items.show()"
   ]
  },
  {
   "cell_type": "markdown",
   "id": "611f311f",
   "metadata": {
    "id": "HOKBNW9IKZSu",
    "papermill": {
     "duration": 0.018473,
     "end_time": "2022-12-29T13:38:40.224491",
     "exception": false,
     "start_time": "2022-12-29T13:38:40.206018",
     "status": "completed"
    },
    "tags": []
   },
   "source": [
    "Most popular product overall is the `WORLD WAR 2 GLIDERS ASSTD DESIGNS` with 8902 items sold. <br>\n",
    "Most spent on product is the `REGENCY CAKESTAND 3 TIER` with $23500.14 in revenue.\n",
    "\n"
   ]
  },
  {
   "cell_type": "markdown",
   "id": "4f78d13a",
   "metadata": {
    "id": "apfmmyiDGhCU",
    "papermill": {
     "duration": 0.017668,
     "end_time": "2022-12-29T13:38:40.260367",
     "exception": false,
     "start_time": "2022-12-29T13:38:40.242699",
     "status": "completed"
    },
    "tags": []
   },
   "source": [
    "### Returns"
   ]
  },
  {
   "cell_type": "markdown",
   "id": "a2e1a8cd",
   "metadata": {
    "id": "Rj-LEDTvEKzB",
    "papermill": {
     "duration": 0.01793,
     "end_time": "2022-12-29T13:38:40.296533",
     "exception": false,
     "start_time": "2022-12-29T13:38:40.278603",
     "status": "completed"
    },
    "tags": []
   },
   "source": [
    "From the graphs above, we can see that the `Quantity` data contains some negative values. I'm assuming this means that the particular item was returned. <br>\n",
    "There are also some days where the `MoneySpent` is in negative (which means people have returned items worth more that day than they have purchased in total).\n",
    "\n",
    "It will be interesting to see why such incidents happen where people return more items than they buy but that is out of our scope for now."
   ]
  },
  {
   "cell_type": "code",
   "execution_count": 24,
   "id": "ba47e9c7",
   "metadata": {
    "execution": {
     "iopub.execute_input": "2022-12-29T13:38:40.335797Z",
     "iopub.status.busy": "2022-12-29T13:38:40.335409Z",
     "iopub.status.idle": "2022-12-29T13:38:40.361478Z",
     "shell.execute_reply": "2022-12-29T13:38:40.360392Z"
    },
    "id": "nT6nl3FOEiU1",
    "jupyter": {
     "source_hidden": true
    },
    "outputId": "11ddf2fd-2158-41a9-aad4-2d16d2aa2c13",
    "papermill": {
     "duration": 0.048121,
     "end_time": "2022-12-29T13:38:40.363920",
     "exception": false,
     "start_time": "2022-12-29T13:38:40.315799",
     "status": "completed"
    },
    "tags": []
   },
   "outputs": [
    {
     "data": {
      "text/html": [
       "<div>\n",
       "<style scoped>\n",
       "    .dataframe tbody tr th:only-of-type {\n",
       "        vertical-align: middle;\n",
       "    }\n",
       "\n",
       "    .dataframe tbody tr th {\n",
       "        vertical-align: top;\n",
       "    }\n",
       "\n",
       "    .dataframe thead th {\n",
       "        text-align: right;\n",
       "    }\n",
       "</style>\n",
       "<table border=\"1\" class=\"dataframe\">\n",
       "  <thead>\n",
       "    <tr style=\"text-align: right;\">\n",
       "      <th></th>\n",
       "      <th>InvoiceNo</th>\n",
       "      <th>StockCode</th>\n",
       "      <th>Description</th>\n",
       "      <th>Quantity</th>\n",
       "      <th>UnitPrice</th>\n",
       "      <th>CustomerID</th>\n",
       "      <th>Country</th>\n",
       "      <th>Date</th>\n",
       "      <th>Hour</th>\n",
       "      <th>MoneySpent</th>\n",
       "    </tr>\n",
       "  </thead>\n",
       "  <tbody>\n",
       "    <tr>\n",
       "      <th>96</th>\n",
       "      <td>C536548</td>\n",
       "      <td>22168</td>\n",
       "      <td>ORGANISER WOOD ANTIQUE WHITE</td>\n",
       "      <td>-2</td>\n",
       "      <td>8.50</td>\n",
       "      <td>12472</td>\n",
       "      <td>Germany</td>\n",
       "      <td>2010-12-01</td>\n",
       "      <td>14</td>\n",
       "      <td>-17.00</td>\n",
       "    </tr>\n",
       "    <tr>\n",
       "      <th>194</th>\n",
       "      <td>C536548</td>\n",
       "      <td>22077</td>\n",
       "      <td>6 RIBBONS RUSTIC CHARM</td>\n",
       "      <td>-6</td>\n",
       "      <td>1.65</td>\n",
       "      <td>12472</td>\n",
       "      <td>Germany</td>\n",
       "      <td>2010-12-01</td>\n",
       "      <td>14</td>\n",
       "      <td>-9.90</td>\n",
       "    </tr>\n",
       "    <tr>\n",
       "      <th>230</th>\n",
       "      <td>C536548</td>\n",
       "      <td>20914</td>\n",
       "      <td>SET/5 RED RETROSPOT LID GLASS BOWLS</td>\n",
       "      <td>-1</td>\n",
       "      <td>2.95</td>\n",
       "      <td>12472</td>\n",
       "      <td>Germany</td>\n",
       "      <td>2010-12-01</td>\n",
       "      <td>14</td>\n",
       "      <td>-2.95</td>\n",
       "    </tr>\n",
       "    <tr>\n",
       "      <th>231</th>\n",
       "      <td>C536391</td>\n",
       "      <td>21984</td>\n",
       "      <td>PACK OF 12 PINK PAISLEY TISSUES</td>\n",
       "      <td>-24</td>\n",
       "      <td>0.29</td>\n",
       "      <td>17548</td>\n",
       "      <td>United Kingdom</td>\n",
       "      <td>2010-12-01</td>\n",
       "      <td>10</td>\n",
       "      <td>-6.96</td>\n",
       "    </tr>\n",
       "    <tr>\n",
       "      <th>266</th>\n",
       "      <td>C536548</td>\n",
       "      <td>22654</td>\n",
       "      <td>DELUXE SEWING KIT</td>\n",
       "      <td>-1</td>\n",
       "      <td>5.95</td>\n",
       "      <td>12472</td>\n",
       "      <td>Germany</td>\n",
       "      <td>2010-12-01</td>\n",
       "      <td>14</td>\n",
       "      <td>-5.95</td>\n",
       "    </tr>\n",
       "    <tr>\n",
       "      <th>...</th>\n",
       "      <td>...</td>\n",
       "      <td>...</td>\n",
       "      <td>...</td>\n",
       "      <td>...</td>\n",
       "      <td>...</td>\n",
       "      <td>...</td>\n",
       "      <td>...</td>\n",
       "      <td>...</td>\n",
       "      <td>...</td>\n",
       "      <td>...</td>\n",
       "    </tr>\n",
       "    <tr>\n",
       "      <th>81315</th>\n",
       "      <td>C581330</td>\n",
       "      <td>22959</td>\n",
       "      <td>WRAP CHRISTMAS VILLAGE</td>\n",
       "      <td>-25</td>\n",
       "      <td>0.42</td>\n",
       "      <td>15877</td>\n",
       "      <td>United Kingdom</td>\n",
       "      <td>2011-12-08</td>\n",
       "      <td>11</td>\n",
       "      <td>-10.50</td>\n",
       "    </tr>\n",
       "    <tr>\n",
       "      <th>81366</th>\n",
       "      <td>C581468</td>\n",
       "      <td>22098</td>\n",
       "      <td>BOUDOIR SQUARE TISSUE BOX</td>\n",
       "      <td>-12</td>\n",
       "      <td>0.39</td>\n",
       "      <td>13599</td>\n",
       "      <td>United Kingdom</td>\n",
       "      <td>2011-12-08</td>\n",
       "      <td>19</td>\n",
       "      <td>-4.68</td>\n",
       "    </tr>\n",
       "    <tr>\n",
       "      <th>81382</th>\n",
       "      <td>C581316</td>\n",
       "      <td>21531</td>\n",
       "      <td>RED RETROSPOT SUGAR JAM BOWL</td>\n",
       "      <td>-1</td>\n",
       "      <td>2.55</td>\n",
       "      <td>12523</td>\n",
       "      <td>France</td>\n",
       "      <td>2011-12-08</td>\n",
       "      <td>11</td>\n",
       "      <td>-2.55</td>\n",
       "    </tr>\n",
       "    <tr>\n",
       "      <th>81398</th>\n",
       "      <td>C581465</td>\n",
       "      <td>22171</td>\n",
       "      <td>3 HOOK PHOTO SHELF ANTIQUE WHITE</td>\n",
       "      <td>-1</td>\n",
       "      <td>8.50</td>\n",
       "      <td>15755</td>\n",
       "      <td>United Kingdom</td>\n",
       "      <td>2011-12-08</td>\n",
       "      <td>18</td>\n",
       "      <td>-8.50</td>\n",
       "    </tr>\n",
       "    <tr>\n",
       "      <th>81422</th>\n",
       "      <td>C581393</td>\n",
       "      <td>22780</td>\n",
       "      <td>LIGHT GARLAND BUTTERFILES PINK</td>\n",
       "      <td>-3</td>\n",
       "      <td>4.25</td>\n",
       "      <td>16892</td>\n",
       "      <td>United Kingdom</td>\n",
       "      <td>2011-12-08</td>\n",
       "      <td>13</td>\n",
       "      <td>-12.75</td>\n",
       "    </tr>\n",
       "  </tbody>\n",
       "</table>\n",
       "<p>1710 rows × 10 columns</p>\n",
       "</div>"
      ],
      "text/plain": [
       "      InvoiceNo StockCode                          Description  Quantity  \\\n",
       "96      C536548     22168         ORGANISER WOOD ANTIQUE WHITE        -2   \n",
       "194     C536548     22077               6 RIBBONS RUSTIC CHARM        -6   \n",
       "230     C536548     20914  SET/5 RED RETROSPOT LID GLASS BOWLS        -1   \n",
       "231     C536391     21984      PACK OF 12 PINK PAISLEY TISSUES       -24   \n",
       "266     C536548     22654                    DELUXE SEWING KIT        -1   \n",
       "...         ...       ...                                  ...       ...   \n",
       "81315   C581330     22959               WRAP CHRISTMAS VILLAGE       -25   \n",
       "81366   C581468     22098            BOUDOIR SQUARE TISSUE BOX       -12   \n",
       "81382   C581316     21531         RED RETROSPOT SUGAR JAM BOWL        -1   \n",
       "81398   C581465     22171     3 HOOK PHOTO SHELF ANTIQUE WHITE        -1   \n",
       "81422   C581393     22780       LIGHT GARLAND BUTTERFILES PINK        -3   \n",
       "\n",
       "       UnitPrice  CustomerID         Country       Date  Hour  MoneySpent  \n",
       "96          8.50       12472         Germany 2010-12-01    14      -17.00  \n",
       "194         1.65       12472         Germany 2010-12-01    14       -9.90  \n",
       "230         2.95       12472         Germany 2010-12-01    14       -2.95  \n",
       "231         0.29       17548  United Kingdom 2010-12-01    10       -6.96  \n",
       "266         5.95       12472         Germany 2010-12-01    14       -5.95  \n",
       "...          ...         ...             ...        ...   ...         ...  \n",
       "81315       0.42       15877  United Kingdom 2011-12-08    11      -10.50  \n",
       "81366       0.39       13599  United Kingdom 2011-12-08    19       -4.68  \n",
       "81382       2.55       12523          France 2011-12-08    11       -2.55  \n",
       "81398       8.50       15755  United Kingdom 2011-12-08    18       -8.50  \n",
       "81422       4.25       16892  United Kingdom 2011-12-08    13      -12.75  \n",
       "\n",
       "[1710 rows x 10 columns]"
      ]
     },
     "execution_count": 24,
     "metadata": {},
     "output_type": "execute_result"
    }
   ],
   "source": [
    "eu_ecom_df[eu_ecom_df[\"MoneySpent\"] < 0]"
   ]
  },
  {
   "cell_type": "markdown",
   "id": "c320c437",
   "metadata": {
    "id": "2yE2B6liVMTX",
    "papermill": {
     "duration": 0.018507,
     "end_time": "2022-12-29T13:38:40.401291",
     "exception": false,
     "start_time": "2022-12-29T13:38:40.382784",
     "status": "completed"
    },
    "tags": []
   },
   "source": [
    "# Holidays vs Purchases"
   ]
  },
  {
   "cell_type": "markdown",
   "id": "7bd3129a",
   "metadata": {
    "id": "86VQoYHKY6bz",
    "papermill": {
     "duration": 0.018457,
     "end_time": "2022-12-29T13:38:40.438479",
     "exception": false,
     "start_time": "2022-12-29T13:38:40.420022",
     "status": "completed"
    },
    "tags": []
   },
   "source": [
    "Now let us try to visualize customer spending around the holidays. The holidays have been marked with a vertical dotted line so we can clearly spot any trends."
   ]
  },
  {
   "cell_type": "code",
   "execution_count": 25,
   "id": "38298fa4",
   "metadata": {
    "execution": {
     "iopub.execute_input": "2022-12-29T13:38:40.477761Z",
     "iopub.status.busy": "2022-12-29T13:38:40.477317Z",
     "iopub.status.idle": "2022-12-29T13:38:40.496777Z",
     "shell.execute_reply": "2022-12-29T13:38:40.495734Z"
    },
    "id": "jYVXYxa2Qbfy",
    "jupyter": {
     "source_hidden": true
    },
    "outputId": "3346453e-d28f-49eb-9eb0-bbc6ad4c9565",
    "papermill": {
     "duration": 0.041797,
     "end_time": "2022-12-29T13:38:40.498944",
     "exception": false,
     "start_time": "2022-12-29T13:38:40.457147",
     "status": "completed"
    },
    "tags": []
   },
   "outputs": [
    {
     "data": {
      "text/html": [
       "<div>\n",
       "<style scoped>\n",
       "    .dataframe tbody tr th:only-of-type {\n",
       "        vertical-align: middle;\n",
       "    }\n",
       "\n",
       "    .dataframe tbody tr th {\n",
       "        vertical-align: top;\n",
       "    }\n",
       "\n",
       "    .dataframe thead th {\n",
       "        text-align: right;\n",
       "    }\n",
       "</style>\n",
       "<table border=\"1\" class=\"dataframe\">\n",
       "  <thead>\n",
       "    <tr style=\"text-align: right;\">\n",
       "      <th></th>\n",
       "      <th>index</th>\n",
       "      <th>Date</th>\n",
       "      <th>Holiday</th>\n",
       "      <th>WeekDay</th>\n",
       "      <th>Month</th>\n",
       "      <th>Day</th>\n",
       "      <th>Year</th>\n",
       "    </tr>\n",
       "  </thead>\n",
       "  <tbody>\n",
       "    <tr>\n",
       "      <th>0</th>\n",
       "      <td>42</td>\n",
       "      <td>2010-12-24</td>\n",
       "      <td>Christmas Eve</td>\n",
       "      <td>Friday</td>\n",
       "      <td>12</td>\n",
       "      <td>24</td>\n",
       "      <td>2010</td>\n",
       "    </tr>\n",
       "    <tr>\n",
       "      <th>1</th>\n",
       "      <td>24</td>\n",
       "      <td>2010-12-25</td>\n",
       "      <td>Christmas Day</td>\n",
       "      <td>Saturday</td>\n",
       "      <td>12</td>\n",
       "      <td>25</td>\n",
       "      <td>2010</td>\n",
       "    </tr>\n",
       "    <tr>\n",
       "      <th>2</th>\n",
       "      <td>222</td>\n",
       "      <td>2010-12-31</td>\n",
       "      <td>New Year’s Eve</td>\n",
       "      <td>Friday</td>\n",
       "      <td>12</td>\n",
       "      <td>31</td>\n",
       "      <td>2010</td>\n",
       "    </tr>\n",
       "    <tr>\n",
       "      <th>3</th>\n",
       "      <td>207</td>\n",
       "      <td>2011-01-01</td>\n",
       "      <td>New Year's Day</td>\n",
       "      <td>Saturday</td>\n",
       "      <td>1</td>\n",
       "      <td>1</td>\n",
       "      <td>2011</td>\n",
       "    </tr>\n",
       "    <tr>\n",
       "      <th>4</th>\n",
       "      <td>168</td>\n",
       "      <td>2011-01-17</td>\n",
       "      <td>Martin Luther King, Jr. Day</td>\n",
       "      <td>Monday</td>\n",
       "      <td>1</td>\n",
       "      <td>17</td>\n",
       "      <td>2011</td>\n",
       "    </tr>\n",
       "    <tr>\n",
       "      <th>5</th>\n",
       "      <td>277</td>\n",
       "      <td>2011-02-14</td>\n",
       "      <td>Valentine’s Day</td>\n",
       "      <td>Monday</td>\n",
       "      <td>2</td>\n",
       "      <td>14</td>\n",
       "      <td>2011</td>\n",
       "    </tr>\n",
       "    <tr>\n",
       "      <th>6</th>\n",
       "      <td>315</td>\n",
       "      <td>2011-02-21</td>\n",
       "      <td>Washington's Birthday</td>\n",
       "      <td>Monday</td>\n",
       "      <td>2</td>\n",
       "      <td>21</td>\n",
       "      <td>2011</td>\n",
       "    </tr>\n",
       "    <tr>\n",
       "      <th>7</th>\n",
       "      <td>341</td>\n",
       "      <td>2011-04-24</td>\n",
       "      <td>Western Easter</td>\n",
       "      <td>Sunday</td>\n",
       "      <td>4</td>\n",
       "      <td>24</td>\n",
       "      <td>2011</td>\n",
       "    </tr>\n",
       "    <tr>\n",
       "      <th>8</th>\n",
       "      <td>83</td>\n",
       "      <td>2011-04-24</td>\n",
       "      <td>Eastern Easter</td>\n",
       "      <td>Sunday</td>\n",
       "      <td>4</td>\n",
       "      <td>24</td>\n",
       "      <td>2011</td>\n",
       "    </tr>\n",
       "    <tr>\n",
       "      <th>9</th>\n",
       "      <td>193</td>\n",
       "      <td>2011-05-30</td>\n",
       "      <td>Memorial Day</td>\n",
       "      <td>Monday</td>\n",
       "      <td>5</td>\n",
       "      <td>30</td>\n",
       "      <td>2011</td>\n",
       "    </tr>\n",
       "    <tr>\n",
       "      <th>10</th>\n",
       "      <td>99</td>\n",
       "      <td>2011-06-19</td>\n",
       "      <td>Juneteenth</td>\n",
       "      <td>Sunday</td>\n",
       "      <td>6</td>\n",
       "      <td>19</td>\n",
       "      <td>2011</td>\n",
       "    </tr>\n",
       "    <tr>\n",
       "      <th>11</th>\n",
       "      <td>7</td>\n",
       "      <td>2011-07-04</td>\n",
       "      <td>4th of July</td>\n",
       "      <td>Monday</td>\n",
       "      <td>7</td>\n",
       "      <td>4</td>\n",
       "      <td>2011</td>\n",
       "    </tr>\n",
       "    <tr>\n",
       "      <th>12</th>\n",
       "      <td>145</td>\n",
       "      <td>2011-09-03</td>\n",
       "      <td>Labor Day Weekend</td>\n",
       "      <td>Saturday</td>\n",
       "      <td>9</td>\n",
       "      <td>3</td>\n",
       "      <td>2011</td>\n",
       "    </tr>\n",
       "    <tr>\n",
       "      <th>13</th>\n",
       "      <td>148</td>\n",
       "      <td>2011-09-04</td>\n",
       "      <td>Labor Day Weekend</td>\n",
       "      <td>Sunday</td>\n",
       "      <td>9</td>\n",
       "      <td>4</td>\n",
       "      <td>2011</td>\n",
       "    </tr>\n",
       "    <tr>\n",
       "      <th>14</th>\n",
       "      <td>118</td>\n",
       "      <td>2011-09-05</td>\n",
       "      <td>Labor Day</td>\n",
       "      <td>Monday</td>\n",
       "      <td>9</td>\n",
       "      <td>5</td>\n",
       "      <td>2011</td>\n",
       "    </tr>\n",
       "    <tr>\n",
       "      <th>15</th>\n",
       "      <td>60</td>\n",
       "      <td>2011-10-10</td>\n",
       "      <td>Columbus Day</td>\n",
       "      <td>Monday</td>\n",
       "      <td>10</td>\n",
       "      <td>10</td>\n",
       "      <td>2011</td>\n",
       "    </tr>\n",
       "    <tr>\n",
       "      <th>16</th>\n",
       "      <td>295</td>\n",
       "      <td>2011-11-11</td>\n",
       "      <td>Veterans Day</td>\n",
       "      <td>Friday</td>\n",
       "      <td>11</td>\n",
       "      <td>11</td>\n",
       "      <td>2011</td>\n",
       "    </tr>\n",
       "    <tr>\n",
       "      <th>17</th>\n",
       "      <td>258</td>\n",
       "      <td>2011-11-23</td>\n",
       "      <td>Thanksgiving Eve</td>\n",
       "      <td>Wednesday</td>\n",
       "      <td>11</td>\n",
       "      <td>23</td>\n",
       "      <td>2011</td>\n",
       "    </tr>\n",
       "    <tr>\n",
       "      <th>18</th>\n",
       "      <td>240</td>\n",
       "      <td>2011-11-24</td>\n",
       "      <td>Thanksgiving Day</td>\n",
       "      <td>Thursday</td>\n",
       "      <td>11</td>\n",
       "      <td>24</td>\n",
       "      <td>2011</td>\n",
       "    </tr>\n",
       "  </tbody>\n",
       "</table>\n",
       "</div>"
      ],
      "text/plain": [
       "    index       Date                      Holiday    WeekDay  Month  Day  Year\n",
       "0      42 2010-12-24                Christmas Eve     Friday     12   24  2010\n",
       "1      24 2010-12-25                Christmas Day   Saturday     12   25  2010\n",
       "2     222 2010-12-31               New Year’s Eve     Friday     12   31  2010\n",
       "3     207 2011-01-01               New Year's Day   Saturday      1    1  2011\n",
       "4     168 2011-01-17  Martin Luther King, Jr. Day     Monday      1   17  2011\n",
       "5     277 2011-02-14              Valentine’s Day     Monday      2   14  2011\n",
       "6     315 2011-02-21        Washington's Birthday     Monday      2   21  2011\n",
       "7     341 2011-04-24               Western Easter     Sunday      4   24  2011\n",
       "8      83 2011-04-24               Eastern Easter     Sunday      4   24  2011\n",
       "9     193 2011-05-30                 Memorial Day     Monday      5   30  2011\n",
       "10     99 2011-06-19                   Juneteenth     Sunday      6   19  2011\n",
       "11      7 2011-07-04                  4th of July     Monday      7    4  2011\n",
       "12    145 2011-09-03            Labor Day Weekend   Saturday      9    3  2011\n",
       "13    148 2011-09-04            Labor Day Weekend     Sunday      9    4  2011\n",
       "14    118 2011-09-05                    Labor Day     Monday      9    5  2011\n",
       "15     60 2011-10-10                 Columbus Day     Monday     10   10  2011\n",
       "16    295 2011-11-11                 Veterans Day     Friday     11   11  2011\n",
       "17    258 2011-11-23             Thanksgiving Eve  Wednesday     11   23  2011\n",
       "18    240 2011-11-24             Thanksgiving Day   Thursday     11   24  2011"
      ]
     },
     "execution_count": 25,
     "metadata": {},
     "output_type": "execute_result"
    }
   ],
   "source": [
    "new_holiday = holiday_df[(holiday_df[\"Date\"] >= \"2010-12-01\") & (holiday_df[\"Date\"] <= \"2011-12-07\")].sort_values(\"Date\")\n",
    "new_holiday.reset_index(inplace=True)\n",
    "new_holiday"
   ]
  },
  {
   "cell_type": "code",
   "execution_count": 26,
   "id": "3c9a4115",
   "metadata": {
    "execution": {
     "iopub.execute_input": "2022-12-29T13:38:40.539911Z",
     "iopub.status.busy": "2022-12-29T13:38:40.539504Z",
     "iopub.status.idle": "2022-12-29T13:38:40.888240Z",
     "shell.execute_reply": "2022-12-29T13:38:40.887086Z"
    },
    "id": "7lftbDNnAi_u",
    "jupyter": {
     "source_hidden": true
    },
    "outputId": "0e169130-105e-4490-84ae-6dd02de0735e",
    "papermill": {
     "duration": 0.372693,
     "end_time": "2022-12-29T13:38:40.890633",
     "exception": false,
     "start_time": "2022-12-29T13:38:40.517940",
     "status": "completed"
    },
    "tags": []
   },
   "outputs": [
    {
     "data": {
      "text/html": [
       "<div>                            <div id=\"6e13353e-8606-41e9-89f9-4bd1d03eebcc\" class=\"plotly-graph-div\" style=\"height:525px; width:100%;\"></div>            <script type=\"text/javascript\">                require([\"plotly\"], function(Plotly) {                    window.PLOTLYENV=window.PLOTLYENV || {};                                    if (document.getElementById(\"6e13353e-8606-41e9-89f9-4bd1d03eebcc\")) {                    Plotly.newPlot(                        \"6e13353e-8606-41e9-89f9-4bd1d03eebcc\",                        [{\"alignmentgroup\":\"True\",\"hovertemplate\":\"Date=%{x}<br>MoneySpent=%{y}<extra></extra>\",\"legendgroup\":\"\",\"marker\":{\"color\":\"#636efa\",\"pattern\":{\"shape\":\"\"}},\"name\":\"\",\"offsetgroup\":\"\",\"orientation\":\"v\",\"showlegend\":false,\"textposition\":\"auto\",\"x\":[\"2010-12-01T00:00:00\",\"2010-12-02T00:00:00\",\"2010-12-03T00:00:00\",\"2010-12-05T00:00:00\",\"2010-12-06T00:00:00\",\"2010-12-07T00:00:00\",\"2010-12-08T00:00:00\",\"2010-12-09T00:00:00\",\"2010-12-10T00:00:00\",\"2010-12-12T00:00:00\",\"2010-12-13T00:00:00\",\"2010-12-14T00:00:00\",\"2010-12-15T00:00:00\",\"2010-12-16T00:00:00\",\"2010-12-17T00:00:00\",\"2010-12-19T00:00:00\",\"2010-12-20T00:00:00\",\"2010-12-21T00:00:00\",\"2010-12-22T00:00:00\",\"2010-12-23T00:00:00\",\"2011-01-04T00:00:00\",\"2011-01-05T00:00:00\",\"2011-01-06T00:00:00\",\"2011-01-07T00:00:00\",\"2011-01-09T00:00:00\",\"2011-01-10T00:00:00\",\"2011-01-11T00:00:00\",\"2011-01-12T00:00:00\",\"2011-01-13T00:00:00\",\"2011-01-14T00:00:00\",\"2011-01-16T00:00:00\",\"2011-01-17T00:00:00\",\"2011-01-18T00:00:00\",\"2011-01-19T00:00:00\",\"2011-01-20T00:00:00\",\"2011-01-21T00:00:00\",\"2011-01-23T00:00:00\",\"2011-01-24T00:00:00\",\"2011-01-25T00:00:00\",\"2011-01-26T00:00:00\",\"2011-01-27T00:00:00\",\"2011-01-28T00:00:00\",\"2011-01-30T00:00:00\",\"2011-01-31T00:00:00\",\"2011-02-01T00:00:00\",\"2011-02-02T00:00:00\",\"2011-02-03T00:00:00\",\"2011-02-04T00:00:00\",\"2011-02-06T00:00:00\",\"2011-02-07T00:00:00\",\"2011-02-08T00:00:00\",\"2011-02-09T00:00:00\",\"2011-02-10T00:00:00\",\"2011-02-11T00:00:00\",\"2011-02-13T00:00:00\",\"2011-02-14T00:00:00\",\"2011-02-15T00:00:00\",\"2011-02-16T00:00:00\",\"2011-02-17T00:00:00\",\"2011-02-18T00:00:00\",\"2011-02-20T00:00:00\",\"2011-02-21T00:00:00\",\"2011-02-22T00:00:00\",\"2011-02-23T00:00:00\",\"2011-02-24T00:00:00\",\"2011-02-25T00:00:00\",\"2011-02-27T00:00:00\",\"2011-02-28T00:00:00\",\"2011-03-01T00:00:00\",\"2011-03-02T00:00:00\",\"2011-03-03T00:00:00\",\"2011-03-04T00:00:00\",\"2011-03-06T00:00:00\",\"2011-03-07T00:00:00\",\"2011-03-08T00:00:00\",\"2011-03-09T00:00:00\",\"2011-03-10T00:00:00\",\"2011-03-11T00:00:00\",\"2011-03-13T00:00:00\",\"2011-03-14T00:00:00\",\"2011-03-15T00:00:00\",\"2011-03-16T00:00:00\",\"2011-03-17T00:00:00\",\"2011-03-18T00:00:00\",\"2011-03-20T00:00:00\",\"2011-03-21T00:00:00\",\"2011-03-22T00:00:00\",\"2011-03-23T00:00:00\",\"2011-03-24T00:00:00\",\"2011-03-25T00:00:00\",\"2011-03-27T00:00:00\",\"2011-03-28T00:00:00\",\"2011-03-29T00:00:00\",\"2011-03-30T00:00:00\",\"2011-03-31T00:00:00\",\"2011-04-01T00:00:00\",\"2011-04-03T00:00:00\",\"2011-04-04T00:00:00\",\"2011-04-05T00:00:00\",\"2011-04-06T00:00:00\",\"2011-04-07T00:00:00\",\"2011-04-08T00:00:00\",\"2011-04-10T00:00:00\",\"2011-04-11T00:00:00\",\"2011-04-12T00:00:00\",\"2011-04-13T00:00:00\",\"2011-04-14T00:00:00\",\"2011-04-15T00:00:00\",\"2011-04-17T00:00:00\",\"2011-04-18T00:00:00\",\"2011-04-19T00:00:00\",\"2011-04-20T00:00:00\",\"2011-04-21T00:00:00\",\"2011-04-26T00:00:00\",\"2011-04-27T00:00:00\",\"2011-04-28T00:00:00\",\"2011-05-01T00:00:00\",\"2011-05-03T00:00:00\",\"2011-05-04T00:00:00\",\"2011-05-05T00:00:00\",\"2011-05-06T00:00:00\",\"2011-05-08T00:00:00\",\"2011-05-09T00:00:00\",\"2011-05-10T00:00:00\",\"2011-05-11T00:00:00\",\"2011-05-12T00:00:00\",\"2011-05-13T00:00:00\",\"2011-05-15T00:00:00\",\"2011-05-16T00:00:00\",\"2011-05-17T00:00:00\",\"2011-05-18T00:00:00\",\"2011-05-19T00:00:00\",\"2011-05-20T00:00:00\",\"2011-05-22T00:00:00\",\"2011-05-23T00:00:00\",\"2011-05-24T00:00:00\",\"2011-05-25T00:00:00\",\"2011-05-26T00:00:00\",\"2011-05-27T00:00:00\",\"2011-05-29T00:00:00\",\"2011-05-31T00:00:00\",\"2011-06-01T00:00:00\",\"2011-06-02T00:00:00\",\"2011-06-03T00:00:00\",\"2011-06-05T00:00:00\",\"2011-06-06T00:00:00\",\"2011-06-07T00:00:00\",\"2011-06-08T00:00:00\",\"2011-06-09T00:00:00\",\"2011-06-10T00:00:00\",\"2011-06-12T00:00:00\",\"2011-06-13T00:00:00\",\"2011-06-14T00:00:00\",\"2011-06-15T00:00:00\",\"2011-06-16T00:00:00\",\"2011-06-17T00:00:00\",\"2011-06-19T00:00:00\",\"2011-06-20T00:00:00\",\"2011-06-21T00:00:00\",\"2011-06-22T00:00:00\",\"2011-06-23T00:00:00\",\"2011-06-24T00:00:00\",\"2011-06-26T00:00:00\",\"2011-06-27T00:00:00\",\"2011-06-28T00:00:00\",\"2011-06-29T00:00:00\",\"2011-06-30T00:00:00\",\"2011-07-01T00:00:00\",\"2011-07-03T00:00:00\",\"2011-07-04T00:00:00\",\"2011-07-05T00:00:00\",\"2011-07-06T00:00:00\",\"2011-07-07T00:00:00\",\"2011-07-08T00:00:00\",\"2011-07-10T00:00:00\",\"2011-07-11T00:00:00\",\"2011-07-12T00:00:00\",\"2011-07-13T00:00:00\",\"2011-07-14T00:00:00\",\"2011-07-15T00:00:00\",\"2011-07-17T00:00:00\",\"2011-07-18T00:00:00\",\"2011-07-19T00:00:00\",\"2011-07-20T00:00:00\",\"2011-07-21T00:00:00\",\"2011-07-22T00:00:00\",\"2011-07-24T00:00:00\",\"2011-07-25T00:00:00\",\"2011-07-26T00:00:00\",\"2011-07-27T00:00:00\",\"2011-07-28T00:00:00\",\"2011-07-29T00:00:00\",\"2011-07-31T00:00:00\",\"2011-08-01T00:00:00\",\"2011-08-02T00:00:00\",\"2011-08-03T00:00:00\",\"2011-08-04T00:00:00\",\"2011-08-05T00:00:00\",\"2011-08-07T00:00:00\",\"2011-08-08T00:00:00\",\"2011-08-09T00:00:00\",\"2011-08-10T00:00:00\",\"2011-08-11T00:00:00\",\"2011-08-12T00:00:00\",\"2011-08-14T00:00:00\",\"2011-08-15T00:00:00\",\"2011-08-16T00:00:00\",\"2011-08-17T00:00:00\",\"2011-08-18T00:00:00\",\"2011-08-19T00:00:00\",\"2011-08-21T00:00:00\",\"2011-08-22T00:00:00\",\"2011-08-23T00:00:00\",\"2011-08-24T00:00:00\",\"2011-08-25T00:00:00\",\"2011-08-26T00:00:00\",\"2011-08-28T00:00:00\",\"2011-08-30T00:00:00\",\"2011-08-31T00:00:00\",\"2011-09-01T00:00:00\",\"2011-09-02T00:00:00\",\"2011-09-04T00:00:00\",\"2011-09-05T00:00:00\",\"2011-09-06T00:00:00\",\"2011-09-07T00:00:00\",\"2011-09-08T00:00:00\",\"2011-09-09T00:00:00\",\"2011-09-11T00:00:00\",\"2011-09-12T00:00:00\",\"2011-09-13T00:00:00\",\"2011-09-14T00:00:00\",\"2011-09-15T00:00:00\",\"2011-09-16T00:00:00\",\"2011-09-18T00:00:00\",\"2011-09-19T00:00:00\",\"2011-09-20T00:00:00\",\"2011-09-21T00:00:00\",\"2011-09-22T00:00:00\",\"2011-09-23T00:00:00\",\"2011-09-25T00:00:00\",\"2011-09-26T00:00:00\",\"2011-09-27T00:00:00\",\"2011-09-28T00:00:00\",\"2011-09-29T00:00:00\",\"2011-09-30T00:00:00\",\"2011-10-02T00:00:00\",\"2011-10-03T00:00:00\",\"2011-10-04T00:00:00\",\"2011-10-05T00:00:00\",\"2011-10-06T00:00:00\",\"2011-10-07T00:00:00\",\"2011-10-09T00:00:00\",\"2011-10-10T00:00:00\",\"2011-10-11T00:00:00\",\"2011-10-12T00:00:00\",\"2011-10-13T00:00:00\",\"2011-10-14T00:00:00\",\"2011-10-16T00:00:00\",\"2011-10-17T00:00:00\",\"2011-10-18T00:00:00\",\"2011-10-19T00:00:00\",\"2011-10-20T00:00:00\",\"2011-10-21T00:00:00\",\"2011-10-23T00:00:00\",\"2011-10-24T00:00:00\",\"2011-10-25T00:00:00\",\"2011-10-26T00:00:00\",\"2011-10-27T00:00:00\",\"2011-10-28T00:00:00\",\"2011-10-30T00:00:00\",\"2011-10-31T00:00:00\",\"2011-11-01T00:00:00\",\"2011-11-02T00:00:00\",\"2011-11-03T00:00:00\",\"2011-11-04T00:00:00\",\"2011-11-06T00:00:00\",\"2011-11-07T00:00:00\",\"2011-11-08T00:00:00\",\"2011-11-09T00:00:00\",\"2011-11-10T00:00:00\",\"2011-11-11T00:00:00\",\"2011-11-13T00:00:00\",\"2011-11-14T00:00:00\",\"2011-11-15T00:00:00\",\"2011-11-16T00:00:00\",\"2011-11-17T00:00:00\",\"2011-11-18T00:00:00\",\"2011-11-20T00:00:00\",\"2011-11-21T00:00:00\",\"2011-11-22T00:00:00\",\"2011-11-23T00:00:00\",\"2011-11-24T00:00:00\",\"2011-11-25T00:00:00\",\"2011-11-27T00:00:00\",\"2011-11-28T00:00:00\",\"2011-11-29T00:00:00\",\"2011-11-30T00:00:00\",\"2011-12-01T00:00:00\",\"2011-12-02T00:00:00\",\"2011-12-04T00:00:00\",\"2011-12-05T00:00:00\",\"2011-12-06T00:00:00\",\"2011-12-07T00:00:00\",\"2011-12-08T00:00:00\",\"2011-12-09T00:00:00\"],\"xaxis\":\"x\",\"y\":[8025.85,7660.42,3362.06,6620.81,6375.55,7945.25,6679.32,5452.45,6503.889999999999,3437.0,4967.370000000001,5185.900000000001,5264.620000000001,9155.53,2717.2200000000003,1536.62,4778.97,3906.93,402.25999999999993,845.83,2107.4,4905.26,4916.99,4250.22,2772.1100000000006,2788.99,17243.559999999998,2962.79,3027.17,7713.549999999999,1165.8799999999999,2979.77,1631.56,4690.32,3735.5699999999997,3643.62,2108.7799999999997,3128.6000000000004,4176.86,3294.0600000000004,4119.15,2595.84,1401.65,3311.75,4789.92,2897.46,4803.249999999999,4312.18,568.03,7336.779999999999,3289.9000000000005,1054.57,2334.3700000000003,4469.74,1273.56,4681.92,3478.98,4683.24,3294.04,2539.1600000000003,2100.92,5365.04,5149.84,4949.5199999999995,4896.530000000001,2922.67,1778.81,2844.04,3894.62,2827.4,2741.42,2435.55,2152.4799999999996,3895.31,4568.5199999999995,3386.9000000000005,5447.889999999999,3575.99,1019.7299999999999,4645.38,2642.0200000000004,4342.84,5734.04,4892.62,3369.6800000000003,3474.86,3379.16,4969.82,7611.86,4747.97,1662.51,3525.6000000000004,6758.639999999999,5367.5599999999995,4262.68,5321.26,1032.8899999999999,4951.61,4141.02,2869.78,3265.87,4888.82,1661.46,4175.28,4107.9400000000005,4889.8,6900.35,3654.6800000000003,2953.73,7517.439999999999,4378.98,3882.58,6010.91,4168.459999999999,4416.969999999999,3632.63,1801.05,4252.299999999999,5054.48,4240.66,4823.030000000001,4073.0,3986.3900000000003,5231.24,5849.52,11760.01,5012.51,1755.24,5455.030000000001,8406.03,5730.75,5428.25,4758.55,6390.17,5043.6,4582.77,3008.12,5668.24,3295.8700000000003,1070.23,4671.759999999999,2728.5,5565.080000000001,2340.0199999999995,4697.71,2913.7800000000007,4938.150000000001,6115.85,8997.93,3287.7799999999997,2587.46,4416.2,5195.93,3505.3,4889.089999999999,2652.4700000000003,4431.4,3653.27,3183.84,4068.1400000000003,3794.4100000000003,3172.3199999999997,1419.4899999999998,2113.01,5908.84,2293.8500000000004,5685.78,2169.9100000000003,1104.24,6776.749999999999,5125.330000000001,3498.7,6345.849999999999,5400.550000000001,1073.6200000000001,4179.13,3614.6099999999997,3050.49,4772.7300000000005,1925.46,2981.12,-1921.8000000000006,9662.75,5157.959999999999,5877.41,2552.51,4835.370000000001,3173.74,3588.33,2963.1400000000003,7922.41,3596.02,5494.92,4404.28,3897.2,5867.58,13620.259999999998,3238.91,1631.42,4613.14,5138.130000000001,3790.3300000000004,8806.02,5071.99,1271.93,2665.4800000000005,2942.6400000000003,9869.11,5562.31,3042.73,2378.15,4130.389999999999,4219.4400000000005,6383.04,4969.290000000001,5642.69,2067.39,1638.0199999999998,219.53999999999974,7762.24,4878.200000000001,3636.26,6631.32,4817.97,4476.870000000001,4291.03,3909.7099999999996,8332.99,5122.01,8830.11,3843.53,14228.740000000002,3984.67,3056.5299999999997,8945.51,23059.269999999997,1227.3300000000013,10355.380000000001,5375.46,5753.68,7408.790999999999,5896.58,9399.800000000001,8336.67,9211.849999999999,2229.1,10847.39,9124.76,9822.68,10684.310000000001,10368.619999999999,2611.03,8524.41,3566.66,4579.42,4918.57,5164.3099999999995,3282.5,7217.34,6012.840000000001,5388.45,11521.099999999999,6615.27,2400.59,6795.5199999999995,5901.05,4798.25,6975.16,6241.77,7255.65,6903.719999999999,5770.82,6423.66,9022.36,10643.52,8531.369999999999,5138.31,6918.099999999999,12018.48,14997.7,6948.25,5035.74,11573.170000000002,8023.279999999999,10111.11,8779.33,6615.76,6245.67,7719.029999999999,10319.89,13208.579999999998,6011.6,5080.380000000001,3331.81,8652.57,9962.07,6621.43,8418.9,7890.780000000001,3947.34,11334.56,7340.88,19252.94,6566.139999999999,2553.9500000000003],\"yaxis\":\"y\",\"type\":\"bar\"}],                        {\"template\":{\"data\":{\"histogram2dcontour\":[{\"type\":\"histogram2dcontour\",\"colorbar\":{\"outlinewidth\":0,\"ticks\":\"\"},\"colorscale\":[[0.0,\"#0d0887\"],[0.1111111111111111,\"#46039f\"],[0.2222222222222222,\"#7201a8\"],[0.3333333333333333,\"#9c179e\"],[0.4444444444444444,\"#bd3786\"],[0.5555555555555556,\"#d8576b\"],[0.6666666666666666,\"#ed7953\"],[0.7777777777777778,\"#fb9f3a\"],[0.8888888888888888,\"#fdca26\"],[1.0,\"#f0f921\"]]}],\"choropleth\":[{\"type\":\"choropleth\",\"colorbar\":{\"outlinewidth\":0,\"ticks\":\"\"}}],\"histogram2d\":[{\"type\":\"histogram2d\",\"colorbar\":{\"outlinewidth\":0,\"ticks\":\"\"},\"colorscale\":[[0.0,\"#0d0887\"],[0.1111111111111111,\"#46039f\"],[0.2222222222222222,\"#7201a8\"],[0.3333333333333333,\"#9c179e\"],[0.4444444444444444,\"#bd3786\"],[0.5555555555555556,\"#d8576b\"],[0.6666666666666666,\"#ed7953\"],[0.7777777777777778,\"#fb9f3a\"],[0.8888888888888888,\"#fdca26\"],[1.0,\"#f0f921\"]]}],\"heatmap\":[{\"type\":\"heatmap\",\"colorbar\":{\"outlinewidth\":0,\"ticks\":\"\"},\"colorscale\":[[0.0,\"#0d0887\"],[0.1111111111111111,\"#46039f\"],[0.2222222222222222,\"#7201a8\"],[0.3333333333333333,\"#9c179e\"],[0.4444444444444444,\"#bd3786\"],[0.5555555555555556,\"#d8576b\"],[0.6666666666666666,\"#ed7953\"],[0.7777777777777778,\"#fb9f3a\"],[0.8888888888888888,\"#fdca26\"],[1.0,\"#f0f921\"]]}],\"heatmapgl\":[{\"type\":\"heatmapgl\",\"colorbar\":{\"outlinewidth\":0,\"ticks\":\"\"},\"colorscale\":[[0.0,\"#0d0887\"],[0.1111111111111111,\"#46039f\"],[0.2222222222222222,\"#7201a8\"],[0.3333333333333333,\"#9c179e\"],[0.4444444444444444,\"#bd3786\"],[0.5555555555555556,\"#d8576b\"],[0.6666666666666666,\"#ed7953\"],[0.7777777777777778,\"#fb9f3a\"],[0.8888888888888888,\"#fdca26\"],[1.0,\"#f0f921\"]]}],\"contourcarpet\":[{\"type\":\"contourcarpet\",\"colorbar\":{\"outlinewidth\":0,\"ticks\":\"\"}}],\"contour\":[{\"type\":\"contour\",\"colorbar\":{\"outlinewidth\":0,\"ticks\":\"\"},\"colorscale\":[[0.0,\"#0d0887\"],[0.1111111111111111,\"#46039f\"],[0.2222222222222222,\"#7201a8\"],[0.3333333333333333,\"#9c179e\"],[0.4444444444444444,\"#bd3786\"],[0.5555555555555556,\"#d8576b\"],[0.6666666666666666,\"#ed7953\"],[0.7777777777777778,\"#fb9f3a\"],[0.8888888888888888,\"#fdca26\"],[1.0,\"#f0f921\"]]}],\"surface\":[{\"type\":\"surface\",\"colorbar\":{\"outlinewidth\":0,\"ticks\":\"\"},\"colorscale\":[[0.0,\"#0d0887\"],[0.1111111111111111,\"#46039f\"],[0.2222222222222222,\"#7201a8\"],[0.3333333333333333,\"#9c179e\"],[0.4444444444444444,\"#bd3786\"],[0.5555555555555556,\"#d8576b\"],[0.6666666666666666,\"#ed7953\"],[0.7777777777777778,\"#fb9f3a\"],[0.8888888888888888,\"#fdca26\"],[1.0,\"#f0f921\"]]}],\"mesh3d\":[{\"type\":\"mesh3d\",\"colorbar\":{\"outlinewidth\":0,\"ticks\":\"\"}}],\"scatter\":[{\"fillpattern\":{\"fillmode\":\"overlay\",\"size\":10,\"solidity\":0.2},\"type\":\"scatter\"}],\"parcoords\":[{\"type\":\"parcoords\",\"line\":{\"colorbar\":{\"outlinewidth\":0,\"ticks\":\"\"}}}],\"scatterpolargl\":[{\"type\":\"scatterpolargl\",\"marker\":{\"colorbar\":{\"outlinewidth\":0,\"ticks\":\"\"}}}],\"bar\":[{\"error_x\":{\"color\":\"#2a3f5f\"},\"error_y\":{\"color\":\"#2a3f5f\"},\"marker\":{\"line\":{\"color\":\"#E5ECF6\",\"width\":0.5},\"pattern\":{\"fillmode\":\"overlay\",\"size\":10,\"solidity\":0.2}},\"type\":\"bar\"}],\"scattergeo\":[{\"type\":\"scattergeo\",\"marker\":{\"colorbar\":{\"outlinewidth\":0,\"ticks\":\"\"}}}],\"scatterpolar\":[{\"type\":\"scatterpolar\",\"marker\":{\"colorbar\":{\"outlinewidth\":0,\"ticks\":\"\"}}}],\"histogram\":[{\"marker\":{\"pattern\":{\"fillmode\":\"overlay\",\"size\":10,\"solidity\":0.2}},\"type\":\"histogram\"}],\"scattergl\":[{\"type\":\"scattergl\",\"marker\":{\"colorbar\":{\"outlinewidth\":0,\"ticks\":\"\"}}}],\"scatter3d\":[{\"type\":\"scatter3d\",\"line\":{\"colorbar\":{\"outlinewidth\":0,\"ticks\":\"\"}},\"marker\":{\"colorbar\":{\"outlinewidth\":0,\"ticks\":\"\"}}}],\"scattermapbox\":[{\"type\":\"scattermapbox\",\"marker\":{\"colorbar\":{\"outlinewidth\":0,\"ticks\":\"\"}}}],\"scatterternary\":[{\"type\":\"scatterternary\",\"marker\":{\"colorbar\":{\"outlinewidth\":0,\"ticks\":\"\"}}}],\"scattercarpet\":[{\"type\":\"scattercarpet\",\"marker\":{\"colorbar\":{\"outlinewidth\":0,\"ticks\":\"\"}}}],\"carpet\":[{\"aaxis\":{\"endlinecolor\":\"#2a3f5f\",\"gridcolor\":\"white\",\"linecolor\":\"white\",\"minorgridcolor\":\"white\",\"startlinecolor\":\"#2a3f5f\"},\"baxis\":{\"endlinecolor\":\"#2a3f5f\",\"gridcolor\":\"white\",\"linecolor\":\"white\",\"minorgridcolor\":\"white\",\"startlinecolor\":\"#2a3f5f\"},\"type\":\"carpet\"}],\"table\":[{\"cells\":{\"fill\":{\"color\":\"#EBF0F8\"},\"line\":{\"color\":\"white\"}},\"header\":{\"fill\":{\"color\":\"#C8D4E3\"},\"line\":{\"color\":\"white\"}},\"type\":\"table\"}],\"barpolar\":[{\"marker\":{\"line\":{\"color\":\"#E5ECF6\",\"width\":0.5},\"pattern\":{\"fillmode\":\"overlay\",\"size\":10,\"solidity\":0.2}},\"type\":\"barpolar\"}],\"pie\":[{\"automargin\":true,\"type\":\"pie\"}]},\"layout\":{\"autotypenumbers\":\"strict\",\"colorway\":[\"#636efa\",\"#EF553B\",\"#00cc96\",\"#ab63fa\",\"#FFA15A\",\"#19d3f3\",\"#FF6692\",\"#B6E880\",\"#FF97FF\",\"#FECB52\"],\"font\":{\"color\":\"#2a3f5f\"},\"hovermode\":\"closest\",\"hoverlabel\":{\"align\":\"left\"},\"paper_bgcolor\":\"white\",\"plot_bgcolor\":\"#E5ECF6\",\"polar\":{\"bgcolor\":\"#E5ECF6\",\"angularaxis\":{\"gridcolor\":\"white\",\"linecolor\":\"white\",\"ticks\":\"\"},\"radialaxis\":{\"gridcolor\":\"white\",\"linecolor\":\"white\",\"ticks\":\"\"}},\"ternary\":{\"bgcolor\":\"#E5ECF6\",\"aaxis\":{\"gridcolor\":\"white\",\"linecolor\":\"white\",\"ticks\":\"\"},\"baxis\":{\"gridcolor\":\"white\",\"linecolor\":\"white\",\"ticks\":\"\"},\"caxis\":{\"gridcolor\":\"white\",\"linecolor\":\"white\",\"ticks\":\"\"}},\"coloraxis\":{\"colorbar\":{\"outlinewidth\":0,\"ticks\":\"\"}},\"colorscale\":{\"sequential\":[[0.0,\"#0d0887\"],[0.1111111111111111,\"#46039f\"],[0.2222222222222222,\"#7201a8\"],[0.3333333333333333,\"#9c179e\"],[0.4444444444444444,\"#bd3786\"],[0.5555555555555556,\"#d8576b\"],[0.6666666666666666,\"#ed7953\"],[0.7777777777777778,\"#fb9f3a\"],[0.8888888888888888,\"#fdca26\"],[1.0,\"#f0f921\"]],\"sequentialminus\":[[0.0,\"#0d0887\"],[0.1111111111111111,\"#46039f\"],[0.2222222222222222,\"#7201a8\"],[0.3333333333333333,\"#9c179e\"],[0.4444444444444444,\"#bd3786\"],[0.5555555555555556,\"#d8576b\"],[0.6666666666666666,\"#ed7953\"],[0.7777777777777778,\"#fb9f3a\"],[0.8888888888888888,\"#fdca26\"],[1.0,\"#f0f921\"]],\"diverging\":[[0,\"#8e0152\"],[0.1,\"#c51b7d\"],[0.2,\"#de77ae\"],[0.3,\"#f1b6da\"],[0.4,\"#fde0ef\"],[0.5,\"#f7f7f7\"],[0.6,\"#e6f5d0\"],[0.7,\"#b8e186\"],[0.8,\"#7fbc41\"],[0.9,\"#4d9221\"],[1,\"#276419\"]]},\"xaxis\":{\"gridcolor\":\"white\",\"linecolor\":\"white\",\"ticks\":\"\",\"title\":{\"standoff\":15},\"zerolinecolor\":\"white\",\"automargin\":true,\"zerolinewidth\":2},\"yaxis\":{\"gridcolor\":\"white\",\"linecolor\":\"white\",\"ticks\":\"\",\"title\":{\"standoff\":15},\"zerolinecolor\":\"white\",\"automargin\":true,\"zerolinewidth\":2},\"scene\":{\"xaxis\":{\"backgroundcolor\":\"#E5ECF6\",\"gridcolor\":\"white\",\"linecolor\":\"white\",\"showbackground\":true,\"ticks\":\"\",\"zerolinecolor\":\"white\",\"gridwidth\":2},\"yaxis\":{\"backgroundcolor\":\"#E5ECF6\",\"gridcolor\":\"white\",\"linecolor\":\"white\",\"showbackground\":true,\"ticks\":\"\",\"zerolinecolor\":\"white\",\"gridwidth\":2},\"zaxis\":{\"backgroundcolor\":\"#E5ECF6\",\"gridcolor\":\"white\",\"linecolor\":\"white\",\"showbackground\":true,\"ticks\":\"\",\"zerolinecolor\":\"white\",\"gridwidth\":2}},\"shapedefaults\":{\"line\":{\"color\":\"#2a3f5f\"}},\"annotationdefaults\":{\"arrowcolor\":\"#2a3f5f\",\"arrowhead\":0,\"arrowwidth\":1},\"geo\":{\"bgcolor\":\"white\",\"landcolor\":\"#E5ECF6\",\"subunitcolor\":\"white\",\"showland\":true,\"showlakes\":true,\"lakecolor\":\"white\"},\"title\":{\"x\":0.05},\"mapbox\":{\"style\":\"light\"}}},\"xaxis\":{\"anchor\":\"y\",\"domain\":[0.0,1.0],\"title\":{\"text\":\"Date\"}},\"yaxis\":{\"anchor\":\"x\",\"domain\":[0.0,1.0],\"title\":{\"text\":\"MoneySpent\"}},\"legend\":{\"tracegroupgap\":0},\"margin\":{\"t\":60},\"barmode\":\"relative\",\"shapes\":[{\"line\":{\"dash\":\"dot\",\"width\":1},\"type\":\"line\",\"x0\":\"2010-12-24T00:00:00\",\"x1\":\"2010-12-24T00:00:00\",\"xref\":\"x\",\"y0\":0,\"y1\":1,\"yref\":\"y domain\"},{\"line\":{\"dash\":\"dot\",\"width\":1},\"type\":\"line\",\"x0\":\"2010-12-25T00:00:00\",\"x1\":\"2010-12-25T00:00:00\",\"xref\":\"x\",\"y0\":0,\"y1\":1,\"yref\":\"y domain\"},{\"line\":{\"dash\":\"dot\",\"width\":1},\"type\":\"line\",\"x0\":\"2010-12-31T00:00:00\",\"x1\":\"2010-12-31T00:00:00\",\"xref\":\"x\",\"y0\":0,\"y1\":1,\"yref\":\"y domain\"},{\"line\":{\"dash\":\"dot\",\"width\":1},\"type\":\"line\",\"x0\":\"2011-01-01T00:00:00\",\"x1\":\"2011-01-01T00:00:00\",\"xref\":\"x\",\"y0\":0,\"y1\":1,\"yref\":\"y domain\"},{\"line\":{\"dash\":\"dot\",\"width\":1},\"type\":\"line\",\"x0\":\"2011-01-17T00:00:00\",\"x1\":\"2011-01-17T00:00:00\",\"xref\":\"x\",\"y0\":0,\"y1\":1,\"yref\":\"y domain\"},{\"line\":{\"dash\":\"dot\",\"width\":1},\"type\":\"line\",\"x0\":\"2011-02-14T00:00:00\",\"x1\":\"2011-02-14T00:00:00\",\"xref\":\"x\",\"y0\":0,\"y1\":1,\"yref\":\"y domain\"},{\"line\":{\"dash\":\"dot\",\"width\":1},\"type\":\"line\",\"x0\":\"2011-02-21T00:00:00\",\"x1\":\"2011-02-21T00:00:00\",\"xref\":\"x\",\"y0\":0,\"y1\":1,\"yref\":\"y domain\"},{\"line\":{\"dash\":\"dot\",\"width\":1},\"type\":\"line\",\"x0\":\"2011-04-24T00:00:00\",\"x1\":\"2011-04-24T00:00:00\",\"xref\":\"x\",\"y0\":0,\"y1\":1,\"yref\":\"y domain\"},{\"line\":{\"dash\":\"dot\",\"width\":1},\"type\":\"line\",\"x0\":\"2011-04-24T00:00:00\",\"x1\":\"2011-04-24T00:00:00\",\"xref\":\"x\",\"y0\":0,\"y1\":1,\"yref\":\"y domain\"},{\"line\":{\"dash\":\"dot\",\"width\":1},\"type\":\"line\",\"x0\":\"2011-05-30T00:00:00\",\"x1\":\"2011-05-30T00:00:00\",\"xref\":\"x\",\"y0\":0,\"y1\":1,\"yref\":\"y domain\"},{\"line\":{\"dash\":\"dot\",\"width\":1},\"type\":\"line\",\"x0\":\"2011-06-19T00:00:00\",\"x1\":\"2011-06-19T00:00:00\",\"xref\":\"x\",\"y0\":0,\"y1\":1,\"yref\":\"y domain\"},{\"line\":{\"dash\":\"dot\",\"width\":1},\"type\":\"line\",\"x0\":\"2011-07-04T00:00:00\",\"x1\":\"2011-07-04T00:00:00\",\"xref\":\"x\",\"y0\":0,\"y1\":1,\"yref\":\"y domain\"},{\"line\":{\"dash\":\"dot\",\"width\":1},\"type\":\"line\",\"x0\":\"2011-09-03T00:00:00\",\"x1\":\"2011-09-03T00:00:00\",\"xref\":\"x\",\"y0\":0,\"y1\":1,\"yref\":\"y domain\"},{\"line\":{\"dash\":\"dot\",\"width\":1},\"type\":\"line\",\"x0\":\"2011-09-04T00:00:00\",\"x1\":\"2011-09-04T00:00:00\",\"xref\":\"x\",\"y0\":0,\"y1\":1,\"yref\":\"y domain\"},{\"line\":{\"dash\":\"dot\",\"width\":1},\"type\":\"line\",\"x0\":\"2011-09-05T00:00:00\",\"x1\":\"2011-09-05T00:00:00\",\"xref\":\"x\",\"y0\":0,\"y1\":1,\"yref\":\"y domain\"},{\"line\":{\"dash\":\"dot\",\"width\":1},\"type\":\"line\",\"x0\":\"2011-10-10T00:00:00\",\"x1\":\"2011-10-10T00:00:00\",\"xref\":\"x\",\"y0\":0,\"y1\":1,\"yref\":\"y domain\"},{\"line\":{\"dash\":\"dot\",\"width\":1},\"type\":\"line\",\"x0\":\"2011-11-11T00:00:00\",\"x1\":\"2011-11-11T00:00:00\",\"xref\":\"x\",\"y0\":0,\"y1\":1,\"yref\":\"y domain\"},{\"line\":{\"dash\":\"dot\",\"width\":1},\"type\":\"line\",\"x0\":\"2011-11-23T00:00:00\",\"x1\":\"2011-11-23T00:00:00\",\"xref\":\"x\",\"y0\":0,\"y1\":1,\"yref\":\"y domain\"},{\"line\":{\"dash\":\"dot\",\"width\":1},\"type\":\"line\",\"x0\":\"2011-11-24T00:00:00\",\"x1\":\"2011-11-24T00:00:00\",\"xref\":\"x\",\"y0\":0,\"y1\":1,\"yref\":\"y domain\"}],\"title\":{\"font\":{\"size\":20,\"color\":\"black\"},\"text\":\"Customer Spending Around the Holidays\",\"y\":0.95,\"x\":0.5,\"xanchor\":\"center\",\"yanchor\":\"top\"},\"showlegend\":false},                        {\"responsive\": true}                    ).then(function(){\n",
       "                            \n",
       "var gd = document.getElementById('6e13353e-8606-41e9-89f9-4bd1d03eebcc');\n",
       "var x = new MutationObserver(function (mutations, observer) {{\n",
       "        var display = window.getComputedStyle(gd).display;\n",
       "        if (!display || display === 'none') {{\n",
       "            console.log([gd, 'removed!']);\n",
       "            Plotly.purge(gd);\n",
       "            observer.disconnect();\n",
       "        }}\n",
       "}});\n",
       "\n",
       "// Listen for the removal of the full notebook cells\n",
       "var notebookContainer = gd.closest('#notebook-container');\n",
       "if (notebookContainer) {{\n",
       "    x.observe(notebookContainer, {childList: true});\n",
       "}}\n",
       "\n",
       "// Listen for the clearing of the current output cell\n",
       "var outputEl = gd.closest('.output');\n",
       "if (outputEl) {{\n",
       "    x.observe(outputEl, {childList: true});\n",
       "}}\n",
       "\n",
       "                        })                };                });            </script>        </div>"
      ]
     },
     "metadata": {},
     "output_type": "display_data"
    }
   ],
   "source": [
    "# color_discrete_sequence = ['#00ABB3']*len(sorted_ecom_df)\n",
    "# sorted_ecom_df['Category'] = [str(i) for i in sorted_ecom_df.index]\n",
    "\n",
    "# # If date is a holiday, mark it in a different colour\n",
    "# bar_counter = 0\n",
    "# for date in sorted_ecom_df.Date:\n",
    "#   for hol_date in holiday_df.Date:\n",
    "#     if date == hol_date:\n",
    "#       color_discrete_sequence[bar_counter] = \"#CF0A0A\"\n",
    "#   bar_counter += 1\n",
    "\n",
    "spending_vs_holidays = px.bar(data_frame=sorted_ecom_df,\n",
    "              x=\"Date\", \n",
    "              y=\"MoneySpent\",)\n",
    "              # color=sorted_ecom_df['Category'],\n",
    "              # color_discrete_sequence=color_discrete_sequence)\n",
    "\n",
    "for holiday in range(len(new_holiday)):\n",
    "  spending_vs_holidays.add_vline(x=new_holiday.loc[holiday][\"Date\"], line_width=1, line_dash=\"dot\")\n",
    "\n",
    "# def add_vertical_lines(date, holiday_name):\n",
    "#   spending_vs_holidays.add_vline(x=date, line_width=1, line_dash=\"dot\", annotation_text=holiday_name)\n",
    "\n",
    "# add_vertical_lines(\"2011-10-10\", \"asdc\")\n",
    "\n",
    "spending_vs_holidays.update_layout(showlegend=False,\n",
    "                      titlefont=dict(size=20, color='black'),\n",
    "                      title=dict(\n",
    "                            text = \"Customer Spending Around the Holidays\",\n",
    "                            y = 0.95,\n",
    "                            x = 0.5,\n",
    "                            xanchor =  'center',\n",
    "                            yanchor = 'top'\n",
    "                      ))\n",
    "spending_vs_holidays.show()"
   ]
  },
  {
   "cell_type": "markdown",
   "id": "f361f140",
   "metadata": {
    "id": "xIkq1DasMHZB",
    "papermill": {
     "duration": 0.018964,
     "end_time": "2022-12-29T13:38:40.929284",
     "exception": false,
     "start_time": "2022-12-29T13:38:40.910320",
     "status": "completed"
    },
    "tags": []
   },
   "source": [
    "It is clear from the above graph that spending is definitely influenced by holidays but not on the exact date, rather some time before that. It makes sense since people tend to buy gifts in advance and are also aware of the shipping delays. <br><br>\n",
    "Insights:\n",
    "\n",
    "\n",
    "1.   September to December is the busy season as a lot of spending is concentrated there.\n",
    "2.   There is a spike in spending before most holidays (some more than others).\n",
    "Especially on holidays where gifting items is a tradtion, we see a massive spike in customer spending. For example, just before Valentine's Day.\n",
    "\n"
   ]
  },
  {
   "cell_type": "code",
   "execution_count": 27,
   "id": "3a41b278",
   "metadata": {
    "execution": {
     "iopub.execute_input": "2022-12-29T13:38:40.969689Z",
     "iopub.status.busy": "2022-12-29T13:38:40.969299Z",
     "iopub.status.idle": "2022-12-29T13:38:40.996957Z",
     "shell.execute_reply": "2022-12-29T13:38:40.995974Z"
    },
    "id": "2u1n01f0afqu",
    "jupyter": {
     "source_hidden": true
    },
    "outputId": "b343c979-d6b2-4992-ef22-3db34c5fa5de",
    "papermill": {
     "duration": 0.050715,
     "end_time": "2022-12-29T13:38:40.999314",
     "exception": false,
     "start_time": "2022-12-29T13:38:40.948599",
     "status": "completed"
    },
    "tags": []
   },
   "outputs": [
    {
     "data": {
      "text/html": [
       "<div>                            <div id=\"68faa6c1-a393-4b0c-8975-6714bbb54f82\" class=\"plotly-graph-div\" style=\"height:500px; width:800px;\"></div>            <script type=\"text/javascript\">                require([\"plotly\"], function(Plotly) {                    window.PLOTLYENV=window.PLOTLYENV || {};                                    if (document.getElementById(\"68faa6c1-a393-4b0c-8975-6714bbb54f82\")) {                    Plotly.newPlot(                        \"68faa6c1-a393-4b0c-8975-6714bbb54f82\",                        [{\"x\":[\"Jan-Aug\",\"Sept-Dec\"],\"y\":[4143.459748743719,7273.998240506328],\"type\":\"bar\"}],                        {\"template\":{\"data\":{\"histogram2dcontour\":[{\"type\":\"histogram2dcontour\",\"colorbar\":{\"outlinewidth\":0,\"ticks\":\"\"},\"colorscale\":[[0.0,\"#0d0887\"],[0.1111111111111111,\"#46039f\"],[0.2222222222222222,\"#7201a8\"],[0.3333333333333333,\"#9c179e\"],[0.4444444444444444,\"#bd3786\"],[0.5555555555555556,\"#d8576b\"],[0.6666666666666666,\"#ed7953\"],[0.7777777777777778,\"#fb9f3a\"],[0.8888888888888888,\"#fdca26\"],[1.0,\"#f0f921\"]]}],\"choropleth\":[{\"type\":\"choropleth\",\"colorbar\":{\"outlinewidth\":0,\"ticks\":\"\"}}],\"histogram2d\":[{\"type\":\"histogram2d\",\"colorbar\":{\"outlinewidth\":0,\"ticks\":\"\"},\"colorscale\":[[0.0,\"#0d0887\"],[0.1111111111111111,\"#46039f\"],[0.2222222222222222,\"#7201a8\"],[0.3333333333333333,\"#9c179e\"],[0.4444444444444444,\"#bd3786\"],[0.5555555555555556,\"#d8576b\"],[0.6666666666666666,\"#ed7953\"],[0.7777777777777778,\"#fb9f3a\"],[0.8888888888888888,\"#fdca26\"],[1.0,\"#f0f921\"]]}],\"heatmap\":[{\"type\":\"heatmap\",\"colorbar\":{\"outlinewidth\":0,\"ticks\":\"\"},\"colorscale\":[[0.0,\"#0d0887\"],[0.1111111111111111,\"#46039f\"],[0.2222222222222222,\"#7201a8\"],[0.3333333333333333,\"#9c179e\"],[0.4444444444444444,\"#bd3786\"],[0.5555555555555556,\"#d8576b\"],[0.6666666666666666,\"#ed7953\"],[0.7777777777777778,\"#fb9f3a\"],[0.8888888888888888,\"#fdca26\"],[1.0,\"#f0f921\"]]}],\"heatmapgl\":[{\"type\":\"heatmapgl\",\"colorbar\":{\"outlinewidth\":0,\"ticks\":\"\"},\"colorscale\":[[0.0,\"#0d0887\"],[0.1111111111111111,\"#46039f\"],[0.2222222222222222,\"#7201a8\"],[0.3333333333333333,\"#9c179e\"],[0.4444444444444444,\"#bd3786\"],[0.5555555555555556,\"#d8576b\"],[0.6666666666666666,\"#ed7953\"],[0.7777777777777778,\"#fb9f3a\"],[0.8888888888888888,\"#fdca26\"],[1.0,\"#f0f921\"]]}],\"contourcarpet\":[{\"type\":\"contourcarpet\",\"colorbar\":{\"outlinewidth\":0,\"ticks\":\"\"}}],\"contour\":[{\"type\":\"contour\",\"colorbar\":{\"outlinewidth\":0,\"ticks\":\"\"},\"colorscale\":[[0.0,\"#0d0887\"],[0.1111111111111111,\"#46039f\"],[0.2222222222222222,\"#7201a8\"],[0.3333333333333333,\"#9c179e\"],[0.4444444444444444,\"#bd3786\"],[0.5555555555555556,\"#d8576b\"],[0.6666666666666666,\"#ed7953\"],[0.7777777777777778,\"#fb9f3a\"],[0.8888888888888888,\"#fdca26\"],[1.0,\"#f0f921\"]]}],\"surface\":[{\"type\":\"surface\",\"colorbar\":{\"outlinewidth\":0,\"ticks\":\"\"},\"colorscale\":[[0.0,\"#0d0887\"],[0.1111111111111111,\"#46039f\"],[0.2222222222222222,\"#7201a8\"],[0.3333333333333333,\"#9c179e\"],[0.4444444444444444,\"#bd3786\"],[0.5555555555555556,\"#d8576b\"],[0.6666666666666666,\"#ed7953\"],[0.7777777777777778,\"#fb9f3a\"],[0.8888888888888888,\"#fdca26\"],[1.0,\"#f0f921\"]]}],\"mesh3d\":[{\"type\":\"mesh3d\",\"colorbar\":{\"outlinewidth\":0,\"ticks\":\"\"}}],\"scatter\":[{\"fillpattern\":{\"fillmode\":\"overlay\",\"size\":10,\"solidity\":0.2},\"type\":\"scatter\"}],\"parcoords\":[{\"type\":\"parcoords\",\"line\":{\"colorbar\":{\"outlinewidth\":0,\"ticks\":\"\"}}}],\"scatterpolargl\":[{\"type\":\"scatterpolargl\",\"marker\":{\"colorbar\":{\"outlinewidth\":0,\"ticks\":\"\"}}}],\"bar\":[{\"error_x\":{\"color\":\"#2a3f5f\"},\"error_y\":{\"color\":\"#2a3f5f\"},\"marker\":{\"line\":{\"color\":\"#E5ECF6\",\"width\":0.5},\"pattern\":{\"fillmode\":\"overlay\",\"size\":10,\"solidity\":0.2}},\"type\":\"bar\"}],\"scattergeo\":[{\"type\":\"scattergeo\",\"marker\":{\"colorbar\":{\"outlinewidth\":0,\"ticks\":\"\"}}}],\"scatterpolar\":[{\"type\":\"scatterpolar\",\"marker\":{\"colorbar\":{\"outlinewidth\":0,\"ticks\":\"\"}}}],\"histogram\":[{\"marker\":{\"pattern\":{\"fillmode\":\"overlay\",\"size\":10,\"solidity\":0.2}},\"type\":\"histogram\"}],\"scattergl\":[{\"type\":\"scattergl\",\"marker\":{\"colorbar\":{\"outlinewidth\":0,\"ticks\":\"\"}}}],\"scatter3d\":[{\"type\":\"scatter3d\",\"line\":{\"colorbar\":{\"outlinewidth\":0,\"ticks\":\"\"}},\"marker\":{\"colorbar\":{\"outlinewidth\":0,\"ticks\":\"\"}}}],\"scattermapbox\":[{\"type\":\"scattermapbox\",\"marker\":{\"colorbar\":{\"outlinewidth\":0,\"ticks\":\"\"}}}],\"scatterternary\":[{\"type\":\"scatterternary\",\"marker\":{\"colorbar\":{\"outlinewidth\":0,\"ticks\":\"\"}}}],\"scattercarpet\":[{\"type\":\"scattercarpet\",\"marker\":{\"colorbar\":{\"outlinewidth\":0,\"ticks\":\"\"}}}],\"carpet\":[{\"aaxis\":{\"endlinecolor\":\"#2a3f5f\",\"gridcolor\":\"white\",\"linecolor\":\"white\",\"minorgridcolor\":\"white\",\"startlinecolor\":\"#2a3f5f\"},\"baxis\":{\"endlinecolor\":\"#2a3f5f\",\"gridcolor\":\"white\",\"linecolor\":\"white\",\"minorgridcolor\":\"white\",\"startlinecolor\":\"#2a3f5f\"},\"type\":\"carpet\"}],\"table\":[{\"cells\":{\"fill\":{\"color\":\"#EBF0F8\"},\"line\":{\"color\":\"white\"}},\"header\":{\"fill\":{\"color\":\"#C8D4E3\"},\"line\":{\"color\":\"white\"}},\"type\":\"table\"}],\"barpolar\":[{\"marker\":{\"line\":{\"color\":\"#E5ECF6\",\"width\":0.5},\"pattern\":{\"fillmode\":\"overlay\",\"size\":10,\"solidity\":0.2}},\"type\":\"barpolar\"}],\"pie\":[{\"automargin\":true,\"type\":\"pie\"}]},\"layout\":{\"autotypenumbers\":\"strict\",\"colorway\":[\"#636efa\",\"#EF553B\",\"#00cc96\",\"#ab63fa\",\"#FFA15A\",\"#19d3f3\",\"#FF6692\",\"#B6E880\",\"#FF97FF\",\"#FECB52\"],\"font\":{\"color\":\"#2a3f5f\"},\"hovermode\":\"closest\",\"hoverlabel\":{\"align\":\"left\"},\"paper_bgcolor\":\"white\",\"plot_bgcolor\":\"#E5ECF6\",\"polar\":{\"bgcolor\":\"#E5ECF6\",\"angularaxis\":{\"gridcolor\":\"white\",\"linecolor\":\"white\",\"ticks\":\"\"},\"radialaxis\":{\"gridcolor\":\"white\",\"linecolor\":\"white\",\"ticks\":\"\"}},\"ternary\":{\"bgcolor\":\"#E5ECF6\",\"aaxis\":{\"gridcolor\":\"white\",\"linecolor\":\"white\",\"ticks\":\"\"},\"baxis\":{\"gridcolor\":\"white\",\"linecolor\":\"white\",\"ticks\":\"\"},\"caxis\":{\"gridcolor\":\"white\",\"linecolor\":\"white\",\"ticks\":\"\"}},\"coloraxis\":{\"colorbar\":{\"outlinewidth\":0,\"ticks\":\"\"}},\"colorscale\":{\"sequential\":[[0.0,\"#0d0887\"],[0.1111111111111111,\"#46039f\"],[0.2222222222222222,\"#7201a8\"],[0.3333333333333333,\"#9c179e\"],[0.4444444444444444,\"#bd3786\"],[0.5555555555555556,\"#d8576b\"],[0.6666666666666666,\"#ed7953\"],[0.7777777777777778,\"#fb9f3a\"],[0.8888888888888888,\"#fdca26\"],[1.0,\"#f0f921\"]],\"sequentialminus\":[[0.0,\"#0d0887\"],[0.1111111111111111,\"#46039f\"],[0.2222222222222222,\"#7201a8\"],[0.3333333333333333,\"#9c179e\"],[0.4444444444444444,\"#bd3786\"],[0.5555555555555556,\"#d8576b\"],[0.6666666666666666,\"#ed7953\"],[0.7777777777777778,\"#fb9f3a\"],[0.8888888888888888,\"#fdca26\"],[1.0,\"#f0f921\"]],\"diverging\":[[0,\"#8e0152\"],[0.1,\"#c51b7d\"],[0.2,\"#de77ae\"],[0.3,\"#f1b6da\"],[0.4,\"#fde0ef\"],[0.5,\"#f7f7f7\"],[0.6,\"#e6f5d0\"],[0.7,\"#b8e186\"],[0.8,\"#7fbc41\"],[0.9,\"#4d9221\"],[1,\"#276419\"]]},\"xaxis\":{\"gridcolor\":\"white\",\"linecolor\":\"white\",\"ticks\":\"\",\"title\":{\"standoff\":15},\"zerolinecolor\":\"white\",\"automargin\":true,\"zerolinewidth\":2},\"yaxis\":{\"gridcolor\":\"white\",\"linecolor\":\"white\",\"ticks\":\"\",\"title\":{\"standoff\":15},\"zerolinecolor\":\"white\",\"automargin\":true,\"zerolinewidth\":2},\"scene\":{\"xaxis\":{\"backgroundcolor\":\"#E5ECF6\",\"gridcolor\":\"white\",\"linecolor\":\"white\",\"showbackground\":true,\"ticks\":\"\",\"zerolinecolor\":\"white\",\"gridwidth\":2},\"yaxis\":{\"backgroundcolor\":\"#E5ECF6\",\"gridcolor\":\"white\",\"linecolor\":\"white\",\"showbackground\":true,\"ticks\":\"\",\"zerolinecolor\":\"white\",\"gridwidth\":2},\"zaxis\":{\"backgroundcolor\":\"#E5ECF6\",\"gridcolor\":\"white\",\"linecolor\":\"white\",\"showbackground\":true,\"ticks\":\"\",\"zerolinecolor\":\"white\",\"gridwidth\":2}},\"shapedefaults\":{\"line\":{\"color\":\"#2a3f5f\"}},\"annotationdefaults\":{\"arrowcolor\":\"#2a3f5f\",\"arrowhead\":0,\"arrowwidth\":1},\"geo\":{\"bgcolor\":\"white\",\"landcolor\":\"#E5ECF6\",\"subunitcolor\":\"white\",\"showland\":true,\"showlakes\":true,\"lakecolor\":\"white\"},\"title\":{\"x\":0.05},\"mapbox\":{\"style\":\"light\"}}},\"title\":{\"font\":{\"size\":20,\"color\":\"black\"},\"text\":\"Comparing Average Spendings from Jan-Aug to Sep-Dec\",\"y\":0.95,\"x\":0.5,\"xanchor\":\"center\",\"yanchor\":\"top\"},\"yaxis\":{\"title\":{\"text\":\"Total Money Spent\"}},\"autosize\":false,\"width\":800,\"height\":500},                        {\"responsive\": true}                    ).then(function(){\n",
       "                            \n",
       "var gd = document.getElementById('68faa6c1-a393-4b0c-8975-6714bbb54f82');\n",
       "var x = new MutationObserver(function (mutations, observer) {{\n",
       "        var display = window.getComputedStyle(gd).display;\n",
       "        if (!display || display === 'none') {{\n",
       "            console.log([gd, 'removed!']);\n",
       "            Plotly.purge(gd);\n",
       "            observer.disconnect();\n",
       "        }}\n",
       "}});\n",
       "\n",
       "// Listen for the removal of the full notebook cells\n",
       "var notebookContainer = gd.closest('#notebook-container');\n",
       "if (notebookContainer) {{\n",
       "    x.observe(notebookContainer, {childList: true});\n",
       "}}\n",
       "\n",
       "// Listen for the clearing of the current output cell\n",
       "var outputEl = gd.closest('.output');\n",
       "if (outputEl) {{\n",
       "    x.observe(outputEl, {childList: true});\n",
       "}}\n",
       "\n",
       "                        })                };                });            </script>        </div>"
      ]
     },
     "metadata": {},
     "output_type": "display_data"
    }
   ],
   "source": [
    "jan_to_aug_spend = sorted_ecom_df[(sorted_ecom_df[\"Date\"] > \"Jan, 2011\") & \n",
    "                                  (sorted_ecom_df[\"Date\"] < \"Sep, 2011\")].agg({\n",
    "                                      \"MoneySpent\": pd.Series.mean\n",
    "                                      })\n",
    "                                  \n",
    "sep_to_dec_spend = sorted_ecom_df[(sorted_ecom_df[\"Date\"] >= \"Sep, 2011\") & \n",
    "                                  (sorted_ecom_df[\"Date\"] <= \"Dec, 2011\")].agg({\n",
    "                                      \"MoneySpent\": pd.Series.mean\n",
    "                                      })\n",
    "\n",
    "spend_jump = go.Figure()\n",
    "spend_jump.add_bar(x=[\"Jan-Aug\", \"Sept-Dec\"], \n",
    "                   y=[jan_to_aug_spend[\"MoneySpent\"].sum(), \n",
    "                      sep_to_dec_spend[\"MoneySpent\"].sum()])\n",
    "spend_jump.update_layout(titlefont=dict(size=20, color='black'),\n",
    "                         autosize=False, width=800, height=500,\n",
    "                         title=dict(\n",
    "                             text = \"Comparing Average Spendings from Jan-Aug to Sep-Dec\",\n",
    "                             y = 0.95,\n",
    "                             x = 0.5,\n",
    "                             xanchor =  'center',\n",
    "                             yanchor = 'top'),\n",
    "                         yaxis=dict(title_text=\"Total Money Spent\"))\n",
    "spend_jump.show()\n",
    "                                  \n",
    "# print(f\"January to August average spending: {round(jan_to_aug_spend, 2)}\")\n",
    "# print(f\"September to December average spending: {round(sep_to_dec_spend, 2)}\")\n",
    "# print(f\"It equates to nearly {round(sep_to_dec_spend/jan_to_aug_spend, 1)}x more.\")"
   ]
  },
  {
   "cell_type": "markdown",
   "id": "22144de5",
   "metadata": {
    "id": "WqMJQ5ySafqv",
    "papermill": {
     "duration": 0.019324,
     "end_time": "2022-12-29T13:38:41.038825",
     "exception": false,
     "start_time": "2022-12-29T13:38:41.019501",
     "status": "completed"
    },
    "tags": []
   },
   "source": [
    "Also, we can see that the months of September to December are more hectic than the first 8 months.\n",
    "January to August has consistent spending of around 4k whereas September to December, the average spending increases significantly.\n",
    "\n",
    "We can see the increase in spending is almost 1.8x. Hence, more marketing budget should be allotted to advertising products from September to December.\n"
   ]
  },
  {
   "cell_type": "markdown",
   "id": "f0c6eec0",
   "metadata": {
    "id": "bvox_gzUEZmt",
    "papermill": {
     "duration": 0.01953,
     "end_time": "2022-12-29T13:38:41.078247",
     "exception": false,
     "start_time": "2022-12-29T13:38:41.058717",
     "status": "completed"
    },
    "tags": []
   },
   "source": [
    "### Valentine's Day and Christmas\n",
    "We will now track the popularity of christmas and valentine's items throughout the year since these two holidays are quite popular.\n",
    "\n",
    "\n"
   ]
  },
  {
   "cell_type": "code",
   "execution_count": 28,
   "id": "e3739f5e",
   "metadata": {
    "execution": {
     "iopub.execute_input": "2022-12-29T13:38:41.120032Z",
     "iopub.status.busy": "2022-12-29T13:38:41.119239Z",
     "iopub.status.idle": "2022-12-29T13:38:41.461739Z",
     "shell.execute_reply": "2022-12-29T13:38:41.460555Z"
    },
    "id": "6jj0QLLKVe30",
    "jupyter": {
     "source_hidden": true
    },
    "outputId": "521d7b39-f736-4af7-c000-bbc51cdc0bad",
    "papermill": {
     "duration": 0.366181,
     "end_time": "2022-12-29T13:38:41.464210",
     "exception": false,
     "start_time": "2022-12-29T13:38:41.098029",
     "status": "completed"
    },
    "tags": []
   },
   "outputs": [
    {
     "data": {
      "text/html": [
       "<div>                            <div id=\"5b2c0fc8-7bec-4c5d-a3bc-0f4b00ee06cf\" class=\"plotly-graph-div\" style=\"height:525px; width:100%;\"></div>            <script type=\"text/javascript\">                require([\"plotly\"], function(Plotly) {                    window.PLOTLYENV=window.PLOTLYENV || {};                                    if (document.getElementById(\"5b2c0fc8-7bec-4c5d-a3bc-0f4b00ee06cf\")) {                    Plotly.newPlot(                        \"5b2c0fc8-7bec-4c5d-a3bc-0f4b00ee06cf\",                        [{\"fill\":\"tozeroy\",\"mode\":\"lines\",\"name\":\"Christmas Items\",\"opacity\":1,\"x\":[\"2010-12-01T00:00:00\",\"2010-12-02T00:00:00\",\"2010-12-03T00:00:00\",\"2010-12-05T00:00:00\",\"2010-12-06T00:00:00\",\"2010-12-07T00:00:00\",\"2010-12-08T00:00:00\",\"2010-12-09T00:00:00\",\"2010-12-10T00:00:00\",\"2010-12-12T00:00:00\",\"2010-12-13T00:00:00\",\"2010-12-14T00:00:00\",\"2010-12-15T00:00:00\",\"2010-12-16T00:00:00\",\"2010-12-17T00:00:00\",\"2010-12-19T00:00:00\",\"2010-12-20T00:00:00\",\"2010-12-22T00:00:00\",\"2011-01-05T00:00:00\",\"2011-01-06T00:00:00\",\"2011-01-07T00:00:00\",\"2011-01-10T00:00:00\",\"2011-01-11T00:00:00\",\"2011-01-12T00:00:00\",\"2011-01-13T00:00:00\",\"2011-01-17T00:00:00\",\"2011-01-23T00:00:00\",\"2011-01-26T00:00:00\",\"2011-01-27T00:00:00\",\"2011-01-28T00:00:00\",\"2011-01-30T00:00:00\",\"2011-02-10T00:00:00\",\"2011-02-11T00:00:00\",\"2011-02-14T00:00:00\",\"2011-02-15T00:00:00\",\"2011-02-22T00:00:00\",\"2011-02-23T00:00:00\",\"2011-02-24T00:00:00\",\"2011-02-28T00:00:00\",\"2011-03-01T00:00:00\",\"2011-03-02T00:00:00\",\"2011-03-04T00:00:00\",\"2011-03-15T00:00:00\",\"2011-03-18T00:00:00\",\"2011-03-31T00:00:00\",\"2011-04-03T00:00:00\",\"2011-04-07T00:00:00\",\"2011-04-08T00:00:00\",\"2011-04-17T00:00:00\",\"2011-05-01T00:00:00\",\"2011-05-06T00:00:00\",\"2011-05-08T00:00:00\",\"2011-05-10T00:00:00\",\"2011-05-15T00:00:00\",\"2011-05-18T00:00:00\",\"2011-05-19T00:00:00\",\"2011-05-25T00:00:00\",\"2011-06-02T00:00:00\",\"2011-06-05T00:00:00\",\"2011-06-08T00:00:00\",\"2011-06-09T00:00:00\",\"2011-06-15T00:00:00\",\"2011-06-16T00:00:00\",\"2011-06-17T00:00:00\",\"2011-06-19T00:00:00\",\"2011-06-20T00:00:00\",\"2011-06-21T00:00:00\",\"2011-06-23T00:00:00\",\"2011-06-26T00:00:00\",\"2011-06-29T00:00:00\",\"2011-06-30T00:00:00\",\"2011-07-04T00:00:00\",\"2011-07-05T00:00:00\",\"2011-07-06T00:00:00\",\"2011-07-10T00:00:00\",\"2011-07-11T00:00:00\",\"2011-07-13T00:00:00\",\"2011-07-15T00:00:00\",\"2011-07-17T00:00:00\",\"2011-07-18T00:00:00\",\"2011-07-19T00:00:00\",\"2011-07-20T00:00:00\",\"2011-07-21T00:00:00\",\"2011-07-22T00:00:00\",\"2011-07-24T00:00:00\",\"2011-07-26T00:00:00\",\"2011-07-27T00:00:00\",\"2011-07-28T00:00:00\",\"2011-07-29T00:00:00\",\"2011-07-31T00:00:00\",\"2011-08-02T00:00:00\",\"2011-08-03T00:00:00\",\"2011-08-04T00:00:00\",\"2011-08-05T00:00:00\",\"2011-08-07T00:00:00\",\"2011-08-08T00:00:00\",\"2011-08-09T00:00:00\",\"2011-08-10T00:00:00\",\"2011-08-11T00:00:00\",\"2011-08-14T00:00:00\",\"2011-08-15T00:00:00\",\"2011-08-16T00:00:00\",\"2011-08-17T00:00:00\",\"2011-08-18T00:00:00\",\"2011-08-19T00:00:00\",\"2011-08-21T00:00:00\",\"2011-08-22T00:00:00\",\"2011-08-23T00:00:00\",\"2011-08-24T00:00:00\",\"2011-08-25T00:00:00\",\"2011-08-26T00:00:00\",\"2011-08-28T00:00:00\",\"2011-08-30T00:00:00\",\"2011-08-31T00:00:00\",\"2011-09-01T00:00:00\",\"2011-09-02T00:00:00\",\"2011-09-04T00:00:00\",\"2011-09-05T00:00:00\",\"2011-09-06T00:00:00\",\"2011-09-07T00:00:00\",\"2011-09-08T00:00:00\",\"2011-09-09T00:00:00\",\"2011-09-11T00:00:00\",\"2011-09-12T00:00:00\",\"2011-09-13T00:00:00\",\"2011-09-14T00:00:00\",\"2011-09-15T00:00:00\",\"2011-09-16T00:00:00\",\"2011-09-18T00:00:00\",\"2011-09-19T00:00:00\",\"2011-09-20T00:00:00\",\"2011-09-21T00:00:00\",\"2011-09-22T00:00:00\",\"2011-09-23T00:00:00\",\"2011-09-25T00:00:00\",\"2011-09-26T00:00:00\",\"2011-09-27T00:00:00\",\"2011-09-28T00:00:00\",\"2011-09-29T00:00:00\",\"2011-09-30T00:00:00\",\"2011-10-02T00:00:00\",\"2011-10-03T00:00:00\",\"2011-10-04T00:00:00\",\"2011-10-05T00:00:00\",\"2011-10-06T00:00:00\",\"2011-10-07T00:00:00\",\"2011-10-09T00:00:00\",\"2011-10-10T00:00:00\",\"2011-10-11T00:00:00\",\"2011-10-12T00:00:00\",\"2011-10-13T00:00:00\",\"2011-10-14T00:00:00\",\"2011-10-16T00:00:00\",\"2011-10-17T00:00:00\",\"2011-10-18T00:00:00\",\"2011-10-19T00:00:00\",\"2011-10-20T00:00:00\",\"2011-10-21T00:00:00\",\"2011-10-23T00:00:00\",\"2011-10-24T00:00:00\",\"2011-10-25T00:00:00\",\"2011-10-26T00:00:00\",\"2011-10-27T00:00:00\",\"2011-10-28T00:00:00\",\"2011-10-30T00:00:00\",\"2011-10-31T00:00:00\",\"2011-11-01T00:00:00\",\"2011-11-02T00:00:00\",\"2011-11-03T00:00:00\",\"2011-11-04T00:00:00\",\"2011-11-06T00:00:00\",\"2011-11-07T00:00:00\",\"2011-11-08T00:00:00\",\"2011-11-09T00:00:00\",\"2011-11-10T00:00:00\",\"2011-11-11T00:00:00\",\"2011-11-13T00:00:00\",\"2011-11-14T00:00:00\",\"2011-11-15T00:00:00\",\"2011-11-16T00:00:00\",\"2011-11-17T00:00:00\",\"2011-11-18T00:00:00\",\"2011-11-20T00:00:00\",\"2011-11-21T00:00:00\",\"2011-11-22T00:00:00\",\"2011-11-23T00:00:00\",\"2011-11-24T00:00:00\",\"2011-11-25T00:00:00\",\"2011-11-27T00:00:00\",\"2011-11-28T00:00:00\",\"2011-11-29T00:00:00\",\"2011-11-30T00:00:00\",\"2011-12-01T00:00:00\",\"2011-12-02T00:00:00\",\"2011-12-04T00:00:00\",\"2011-12-05T00:00:00\",\"2011-12-06T00:00:00\",\"2011-12-07T00:00:00\",\"2011-12-08T00:00:00\",\"2011-12-09T00:00:00\"],\"y\":[135.03,443.93000000000006,297.25,445.02000000000004,384.69999999999993,304.45,303.6,432.95000000000005,361.09000000000003,269.7,789.6,191.27,194.33,-129.0,21.849999999999998,21.36,40.629999999999995,-37.9,-8.14,10.2,8.5,1.7,7.95,6.25,-4.95,3.4,-2.5,-8.5,-7.52,-19.799999999999997,1.7,15.299999999999999,-10.2,-5.62,8.5,5.9,10.2,6.6,26.7,6.25,102.0,1.7,1.25,2.0300000000000002,10.2,8.850000000000001,-87.15,33.0,17.85,3.75,18.48,4.25,35.400000000000006,0.85,10.2,17.700000000000003,4.25,7.5,0.85,28.45,17.700000000000003,10.4,14.100000000000001,2.9,2.67,5.1,5.76,30.599999999999998,17.34,1.7,11.8,21.15,126.83,247.13,48.0,8.67,15.12,5.05,227.9,2.5,12.58,3.5,81.74000000000001,17.4,23.95,180.25,20.8,1131.7800000000002,15.84,171.53,217.29000000000002,112.50000000000001,112.58000000000001,102.0,33.150000000000006,34.8,41.459999999999994,17.34,840.15,8.850000000000001,57.480000000000004,205.42000000000002,318.5,71.02000000000001,89.6,57.08,128.69,235.62,135.09,45.55,597.45,62.67,12.5,293.81999999999994,882.78,53.74,130.55,371.24000000000007,206.34,117.57000000000001,162.60999999999999,433.84,990.5900000000001,684.89,613.65,287.05,592.32,398.25,139.12,327.85,1418.15,482.19,799.6900000000002,782.0100000000001,661.3500000000001,343.57,618.04,801.6200000000001,888.38,1881.3600000000001,168.23,700.8700000000001,1181.1399999999999,916.81,548.3,551.2199999999999,633.0199999999999,524.91,705.8499999999999,537.7199999999999,631.8400000000001,438.66999999999996,319.28,881.7099999999999,405.93999999999994,456.54999999999995,585.3000000000001,1785.8300000000002,201.79999999999998,790.02,565.23,595.9900000000001,1056.92,953.23,715.84,534.13,453.3999999999999,861.4200000000001,339.50999999999993,794.3500000000001,748.8400000000001,675.22,1234.63,1212.4400000000003,1580.6099999999997,539.6300000000001,541.19,1647.3700000000001,768.38,991.4,870.1500000000001,565.8800000000002,578.6399999999999,515.71,1455.45,1251.88,379.66,368.85999999999996,233.81,790.1899999999998,762.82,978.08,1233.76,679.4100000000001,286.99,726.3700000000001,427.91,1299.6299999999999,606.1899999999999,174.17000000000002],\"type\":\"scatter\"},{\"fill\":\"tozeroy\",\"mode\":\"lines\",\"name\":\"Valentine Items\",\"x\":[\"2010-12-01T00:00:00\",\"2010-12-02T00:00:00\",\"2010-12-03T00:00:00\",\"2010-12-05T00:00:00\",\"2010-12-06T00:00:00\",\"2010-12-07T00:00:00\",\"2010-12-08T00:00:00\",\"2010-12-09T00:00:00\",\"2010-12-10T00:00:00\",\"2010-12-12T00:00:00\",\"2010-12-13T00:00:00\",\"2010-12-14T00:00:00\",\"2010-12-15T00:00:00\",\"2010-12-16T00:00:00\",\"2010-12-17T00:00:00\",\"2010-12-19T00:00:00\",\"2010-12-20T00:00:00\",\"2010-12-21T00:00:00\",\"2010-12-22T00:00:00\",\"2010-12-23T00:00:00\",\"2011-01-04T00:00:00\",\"2011-01-05T00:00:00\",\"2011-01-06T00:00:00\",\"2011-01-07T00:00:00\",\"2011-01-09T00:00:00\",\"2011-01-10T00:00:00\",\"2011-01-11T00:00:00\",\"2011-01-12T00:00:00\",\"2011-01-13T00:00:00\",\"2011-01-14T00:00:00\",\"2011-01-16T00:00:00\",\"2011-01-17T00:00:00\",\"2011-01-18T00:00:00\",\"2011-01-19T00:00:00\",\"2011-01-20T00:00:00\",\"2011-01-21T00:00:00\",\"2011-01-23T00:00:00\",\"2011-01-24T00:00:00\",\"2011-01-25T00:00:00\",\"2011-01-26T00:00:00\",\"2011-01-27T00:00:00\",\"2011-01-28T00:00:00\",\"2011-01-30T00:00:00\",\"2011-01-31T00:00:00\",\"2011-02-01T00:00:00\",\"2011-02-02T00:00:00\",\"2011-02-03T00:00:00\",\"2011-02-04T00:00:00\",\"2011-02-06T00:00:00\",\"2011-02-07T00:00:00\",\"2011-02-08T00:00:00\",\"2011-02-09T00:00:00\",\"2011-02-10T00:00:00\",\"2011-02-11T00:00:00\",\"2011-02-13T00:00:00\",\"2011-02-14T00:00:00\",\"2011-02-15T00:00:00\",\"2011-02-16T00:00:00\",\"2011-02-17T00:00:00\",\"2011-02-18T00:00:00\",\"2011-02-20T00:00:00\",\"2011-02-21T00:00:00\",\"2011-02-22T00:00:00\",\"2011-02-23T00:00:00\",\"2011-02-24T00:00:00\",\"2011-02-25T00:00:00\",\"2011-02-27T00:00:00\",\"2011-02-28T00:00:00\",\"2011-03-01T00:00:00\",\"2011-03-02T00:00:00\",\"2011-03-03T00:00:00\",\"2011-03-04T00:00:00\",\"2011-03-06T00:00:00\",\"2011-03-07T00:00:00\",\"2011-03-08T00:00:00\",\"2011-03-09T00:00:00\",\"2011-03-10T00:00:00\",\"2011-03-11T00:00:00\",\"2011-03-13T00:00:00\",\"2011-03-14T00:00:00\",\"2011-03-15T00:00:00\",\"2011-03-16T00:00:00\",\"2011-03-17T00:00:00\",\"2011-03-18T00:00:00\",\"2011-03-20T00:00:00\",\"2011-03-21T00:00:00\",\"2011-03-22T00:00:00\",\"2011-03-23T00:00:00\",\"2011-03-24T00:00:00\",\"2011-03-25T00:00:00\",\"2011-03-27T00:00:00\",\"2011-03-28T00:00:00\",\"2011-03-29T00:00:00\",\"2011-03-30T00:00:00\",\"2011-03-31T00:00:00\",\"2011-04-01T00:00:00\",\"2011-04-03T00:00:00\",\"2011-04-04T00:00:00\",\"2011-04-05T00:00:00\",\"2011-04-06T00:00:00\",\"2011-04-07T00:00:00\",\"2011-04-08T00:00:00\",\"2011-04-10T00:00:00\",\"2011-04-11T00:00:00\",\"2011-04-12T00:00:00\",\"2011-04-13T00:00:00\",\"2011-04-14T00:00:00\",\"2011-04-15T00:00:00\",\"2011-04-17T00:00:00\",\"2011-04-18T00:00:00\",\"2011-04-19T00:00:00\",\"2011-04-20T00:00:00\",\"2011-04-21T00:00:00\",\"2011-04-26T00:00:00\",\"2011-04-27T00:00:00\",\"2011-04-28T00:00:00\",\"2011-05-01T00:00:00\",\"2011-05-03T00:00:00\",\"2011-05-04T00:00:00\",\"2011-05-05T00:00:00\",\"2011-05-06T00:00:00\",\"2011-05-08T00:00:00\",\"2011-05-09T00:00:00\",\"2011-05-10T00:00:00\",\"2011-05-11T00:00:00\",\"2011-05-12T00:00:00\",\"2011-05-13T00:00:00\",\"2011-05-15T00:00:00\",\"2011-05-16T00:00:00\",\"2011-05-17T00:00:00\",\"2011-05-18T00:00:00\",\"2011-05-19T00:00:00\",\"2011-05-20T00:00:00\",\"2011-05-22T00:00:00\",\"2011-05-23T00:00:00\",\"2011-05-24T00:00:00\",\"2011-05-25T00:00:00\",\"2011-05-26T00:00:00\",\"2011-05-27T00:00:00\",\"2011-05-29T00:00:00\",\"2011-05-31T00:00:00\",\"2011-06-01T00:00:00\",\"2011-06-02T00:00:00\",\"2011-06-03T00:00:00\",\"2011-06-05T00:00:00\",\"2011-06-06T00:00:00\",\"2011-06-07T00:00:00\",\"2011-06-08T00:00:00\",\"2011-06-09T00:00:00\",\"2011-06-10T00:00:00\",\"2011-06-12T00:00:00\",\"2011-06-13T00:00:00\",\"2011-06-14T00:00:00\",\"2011-06-15T00:00:00\",\"2011-06-16T00:00:00\",\"2011-06-17T00:00:00\",\"2011-06-19T00:00:00\",\"2011-06-20T00:00:00\",\"2011-06-21T00:00:00\",\"2011-06-22T00:00:00\",\"2011-06-23T00:00:00\",\"2011-06-24T00:00:00\",\"2011-06-26T00:00:00\",\"2011-06-27T00:00:00\",\"2011-06-28T00:00:00\",\"2011-06-29T00:00:00\",\"2011-06-30T00:00:00\",\"2011-07-01T00:00:00\",\"2011-07-03T00:00:00\",\"2011-07-04T00:00:00\",\"2011-07-05T00:00:00\",\"2011-07-06T00:00:00\",\"2011-07-07T00:00:00\",\"2011-07-08T00:00:00\",\"2011-07-10T00:00:00\",\"2011-07-11T00:00:00\",\"2011-07-12T00:00:00\",\"2011-07-13T00:00:00\",\"2011-07-14T00:00:00\",\"2011-07-15T00:00:00\",\"2011-07-17T00:00:00\",\"2011-07-18T00:00:00\",\"2011-07-19T00:00:00\",\"2011-07-20T00:00:00\",\"2011-07-21T00:00:00\",\"2011-07-22T00:00:00\",\"2011-07-24T00:00:00\",\"2011-07-25T00:00:00\",\"2011-07-26T00:00:00\",\"2011-07-27T00:00:00\",\"2011-07-28T00:00:00\",\"2011-07-29T00:00:00\",\"2011-07-31T00:00:00\",\"2011-08-01T00:00:00\",\"2011-08-02T00:00:00\",\"2011-08-03T00:00:00\",\"2011-08-04T00:00:00\",\"2011-08-05T00:00:00\",\"2011-08-07T00:00:00\",\"2011-08-08T00:00:00\",\"2011-08-09T00:00:00\",\"2011-08-10T00:00:00\",\"2011-08-11T00:00:00\",\"2011-08-12T00:00:00\",\"2011-08-14T00:00:00\",\"2011-08-15T00:00:00\",\"2011-08-16T00:00:00\",\"2011-08-17T00:00:00\",\"2011-08-18T00:00:00\",\"2011-08-19T00:00:00\",\"2011-08-21T00:00:00\",\"2011-08-22T00:00:00\",\"2011-08-23T00:00:00\",\"2011-08-24T00:00:00\",\"2011-08-25T00:00:00\",\"2011-08-26T00:00:00\",\"2011-08-28T00:00:00\",\"2011-08-30T00:00:00\",\"2011-08-31T00:00:00\",\"2011-09-01T00:00:00\",\"2011-09-02T00:00:00\",\"2011-09-04T00:00:00\",\"2011-09-05T00:00:00\",\"2011-09-06T00:00:00\",\"2011-09-07T00:00:00\",\"2011-09-08T00:00:00\",\"2011-09-09T00:00:00\",\"2011-09-11T00:00:00\",\"2011-09-12T00:00:00\",\"2011-09-13T00:00:00\",\"2011-09-14T00:00:00\",\"2011-09-15T00:00:00\",\"2011-09-16T00:00:00\",\"2011-09-18T00:00:00\",\"2011-09-19T00:00:00\",\"2011-09-20T00:00:00\",\"2011-09-21T00:00:00\",\"2011-09-22T00:00:00\",\"2011-09-23T00:00:00\",\"2011-09-25T00:00:00\",\"2011-09-26T00:00:00\",\"2011-09-27T00:00:00\",\"2011-09-28T00:00:00\",\"2011-09-29T00:00:00\",\"2011-09-30T00:00:00\",\"2011-10-02T00:00:00\",\"2011-10-03T00:00:00\",\"2011-10-04T00:00:00\",\"2011-10-05T00:00:00\",\"2011-10-06T00:00:00\",\"2011-10-07T00:00:00\",\"2011-10-09T00:00:00\",\"2011-10-10T00:00:00\",\"2011-10-11T00:00:00\",\"2011-10-12T00:00:00\",\"2011-10-13T00:00:00\",\"2011-10-14T00:00:00\",\"2011-10-16T00:00:00\",\"2011-10-17T00:00:00\",\"2011-10-18T00:00:00\",\"2011-10-19T00:00:00\",\"2011-10-20T00:00:00\",\"2011-10-21T00:00:00\",\"2011-10-23T00:00:00\",\"2011-10-24T00:00:00\",\"2011-10-25T00:00:00\",\"2011-10-26T00:00:00\",\"2011-10-27T00:00:00\",\"2011-10-28T00:00:00\",\"2011-10-30T00:00:00\",\"2011-10-31T00:00:00\",\"2011-11-01T00:00:00\",\"2011-11-02T00:00:00\",\"2011-11-03T00:00:00\",\"2011-11-04T00:00:00\",\"2011-11-06T00:00:00\",\"2011-11-07T00:00:00\",\"2011-11-08T00:00:00\",\"2011-11-09T00:00:00\",\"2011-11-10T00:00:00\",\"2011-11-11T00:00:00\",\"2011-11-13T00:00:00\",\"2011-11-14T00:00:00\",\"2011-11-15T00:00:00\",\"2011-11-16T00:00:00\",\"2011-11-17T00:00:00\",\"2011-11-18T00:00:00\",\"2011-11-20T00:00:00\",\"2011-11-21T00:00:00\",\"2011-11-22T00:00:00\",\"2011-11-23T00:00:00\",\"2011-11-24T00:00:00\",\"2011-11-25T00:00:00\",\"2011-11-27T00:00:00\",\"2011-11-28T00:00:00\",\"2011-11-29T00:00:00\",\"2011-11-30T00:00:00\",\"2011-12-01T00:00:00\",\"2011-12-02T00:00:00\",\"2011-12-04T00:00:00\",\"2011-12-05T00:00:00\",\"2011-12-06T00:00:00\",\"2011-12-07T00:00:00\",\"2011-12-08T00:00:00\",\"2011-12-09T00:00:00\"],\"y\":[1063.69,867.3100000000002,146.95,579.72,369.28000000000003,2370.52,1212.02,907.4399999999999,492.29999999999995,414.09000000000003,1076.6,429.3,827.5299999999999,926.0799999999999,315.70000000000005,388.75,683.05,91.45,50.699999999999996,51.300000000000004,389.83,628.6299999999999,627.97,574.0500000000001,475.30999999999995,390.3,6152.73,513.28,270.16999999999996,620.4000000000001,241.53,680.23,241.90000000000003,1053.39,248.3,632.1900000000002,331.33,378.08000000000004,467.45,898.0999999999999,502.14,339.17,349.77,810.31,963.4800000000001,412.62,1170.11,422.13,78.6,1372.62,367.85,172.25,244.31,543.35,206.67000000000002,312.99999999999994,131.6,377.75,301.38,163.2,162.85,466.95,238.79,460.7,477.61,231.7,276.73,228.79999999999998,343.71000000000004,151.15,183.40000000000003,200.25,272.49,381.09999999999997,257.19000000000005,762.99,471.38,194.05,64.35,260.69999999999993,261.05,838.88,345.25,157.32,362.7,230.42,374.09000000000003,243.37,397.2900000000001,253.73,53.55,240.20999999999995,672.3100000000001,473.40000000000003,622.0100000000001,411.8,72.05000000000001,405.53,142.49,131.45,314.78999999999996,480.6,182.90000000000003,194.46,108.09,238.57999999999996,693.4100000000001,300.99,258.93,378.05000000000007,202.59,439.11,634.66,730.3900000000001,228.45999999999998,461.4200000000001,117.85,356.2099999999999,372.67999999999995,408.77,414.19999999999993,448.79999999999995,511.82000000000005,676.4200000000001,354.73,1247.9199999999998,241.37,328.02000000000004,574.4,1857.88,433.31,451.74000000000007,693.79,512.82,323.24,768.8700000000001,230.50000000000003,262.07000000000005,324.15,88.36,144.19,133.63000000000002,615.21,287.69,546.79,487.86000000000007,523.91,441.81999999999994,1968.51,288.4999999999999,352.0999999999999,242.43,385.55,317.15999999999997,300.37999999999994,237.83,222.39999999999998,296.87,424.23,341.9,85.35000000000005,145.02999999999997,176.41,360.7900000000001,307.86,480.32,281.4200000000001,84.61999999999998,127.05,197.16,657.05,68.27,405.04,329.53000000000003,73.14,1008.6999999999999,1480.02,414.5,332.38,131.51,280.14,101.41,1259.3200000000002,947.3900000000001,662.1099999999999,434.43,573.5299999999999,313.75,379.35,284.5,1526.58,228.69,681.91,598.25,515.77,632.18,832.7499999999999,447.90999999999997,232.25,630.3799999999999,331.09999999999997,391.18999999999994,734.94,463.50000000000006,244.33999999999997,339.41,211.03,864.4,394.51,140.16000000000003,187.82999999999998,299.45000000000005,267.61,590.83,736.87,395.8399999999999,345.4800000000001,151.39999999999998,-18.220000000000034,752.77,412.27000000000004,337.56,305.65000000000003,515.9,306.28,394.32000000000005,208.07999999999998,945.6,692.74,1380.82,248.37,512.28,388.96999999999997,669.6,367.99999999999994,3641.07,312.87,1118.25,767.05,940.05,543.26,1131.41,733.04,946.9100000000001,1183.6500000000003,267.52000000000004,2451.0,679.67,842.6999999999999,711.8900000000001,643.32,262.56,890.2699999999999,505.01,406.65,486.13000000000005,647.6800000000001,564.1,720.77,752.46,659.83,747.6099999999999,630.72,605.0500000000002,606.38,365.54999999999995,550.24,791.1899999999999,673.6700000000001,670.8800000000001,474.46999999999997,951.01,670.6000000000001,1505.88,1493.07,922.3499999999999,320.22,593.5600000000001,1192.6200000000001,1117.39,921.9200000000001,483.04999999999995,918.98,1094.7399999999998,833.7300000000001,657.46,684.5600000000001,864.3799999999999,541.2600000000001,1543.79,1611.0500000000002,732.0500000000001,730.02,255.64999999999998,1002.72,1829.81,709.6700000000001,766.2,461.54999999999995,327.74000000000007,1268.6299999999999,445.38,4858.599999999999,451.14,216.91],\"type\":\"scatter\"}],                        {\"template\":{\"data\":{\"histogram2dcontour\":[{\"type\":\"histogram2dcontour\",\"colorbar\":{\"outlinewidth\":0,\"ticks\":\"\"},\"colorscale\":[[0.0,\"#0d0887\"],[0.1111111111111111,\"#46039f\"],[0.2222222222222222,\"#7201a8\"],[0.3333333333333333,\"#9c179e\"],[0.4444444444444444,\"#bd3786\"],[0.5555555555555556,\"#d8576b\"],[0.6666666666666666,\"#ed7953\"],[0.7777777777777778,\"#fb9f3a\"],[0.8888888888888888,\"#fdca26\"],[1.0,\"#f0f921\"]]}],\"choropleth\":[{\"type\":\"choropleth\",\"colorbar\":{\"outlinewidth\":0,\"ticks\":\"\"}}],\"histogram2d\":[{\"type\":\"histogram2d\",\"colorbar\":{\"outlinewidth\":0,\"ticks\":\"\"},\"colorscale\":[[0.0,\"#0d0887\"],[0.1111111111111111,\"#46039f\"],[0.2222222222222222,\"#7201a8\"],[0.3333333333333333,\"#9c179e\"],[0.4444444444444444,\"#bd3786\"],[0.5555555555555556,\"#d8576b\"],[0.6666666666666666,\"#ed7953\"],[0.7777777777777778,\"#fb9f3a\"],[0.8888888888888888,\"#fdca26\"],[1.0,\"#f0f921\"]]}],\"heatmap\":[{\"type\":\"heatmap\",\"colorbar\":{\"outlinewidth\":0,\"ticks\":\"\"},\"colorscale\":[[0.0,\"#0d0887\"],[0.1111111111111111,\"#46039f\"],[0.2222222222222222,\"#7201a8\"],[0.3333333333333333,\"#9c179e\"],[0.4444444444444444,\"#bd3786\"],[0.5555555555555556,\"#d8576b\"],[0.6666666666666666,\"#ed7953\"],[0.7777777777777778,\"#fb9f3a\"],[0.8888888888888888,\"#fdca26\"],[1.0,\"#f0f921\"]]}],\"heatmapgl\":[{\"type\":\"heatmapgl\",\"colorbar\":{\"outlinewidth\":0,\"ticks\":\"\"},\"colorscale\":[[0.0,\"#0d0887\"],[0.1111111111111111,\"#46039f\"],[0.2222222222222222,\"#7201a8\"],[0.3333333333333333,\"#9c179e\"],[0.4444444444444444,\"#bd3786\"],[0.5555555555555556,\"#d8576b\"],[0.6666666666666666,\"#ed7953\"],[0.7777777777777778,\"#fb9f3a\"],[0.8888888888888888,\"#fdca26\"],[1.0,\"#f0f921\"]]}],\"contourcarpet\":[{\"type\":\"contourcarpet\",\"colorbar\":{\"outlinewidth\":0,\"ticks\":\"\"}}],\"contour\":[{\"type\":\"contour\",\"colorbar\":{\"outlinewidth\":0,\"ticks\":\"\"},\"colorscale\":[[0.0,\"#0d0887\"],[0.1111111111111111,\"#46039f\"],[0.2222222222222222,\"#7201a8\"],[0.3333333333333333,\"#9c179e\"],[0.4444444444444444,\"#bd3786\"],[0.5555555555555556,\"#d8576b\"],[0.6666666666666666,\"#ed7953\"],[0.7777777777777778,\"#fb9f3a\"],[0.8888888888888888,\"#fdca26\"],[1.0,\"#f0f921\"]]}],\"surface\":[{\"type\":\"surface\",\"colorbar\":{\"outlinewidth\":0,\"ticks\":\"\"},\"colorscale\":[[0.0,\"#0d0887\"],[0.1111111111111111,\"#46039f\"],[0.2222222222222222,\"#7201a8\"],[0.3333333333333333,\"#9c179e\"],[0.4444444444444444,\"#bd3786\"],[0.5555555555555556,\"#d8576b\"],[0.6666666666666666,\"#ed7953\"],[0.7777777777777778,\"#fb9f3a\"],[0.8888888888888888,\"#fdca26\"],[1.0,\"#f0f921\"]]}],\"mesh3d\":[{\"type\":\"mesh3d\",\"colorbar\":{\"outlinewidth\":0,\"ticks\":\"\"}}],\"scatter\":[{\"fillpattern\":{\"fillmode\":\"overlay\",\"size\":10,\"solidity\":0.2},\"type\":\"scatter\"}],\"parcoords\":[{\"type\":\"parcoords\",\"line\":{\"colorbar\":{\"outlinewidth\":0,\"ticks\":\"\"}}}],\"scatterpolargl\":[{\"type\":\"scatterpolargl\",\"marker\":{\"colorbar\":{\"outlinewidth\":0,\"ticks\":\"\"}}}],\"bar\":[{\"error_x\":{\"color\":\"#2a3f5f\"},\"error_y\":{\"color\":\"#2a3f5f\"},\"marker\":{\"line\":{\"color\":\"#E5ECF6\",\"width\":0.5},\"pattern\":{\"fillmode\":\"overlay\",\"size\":10,\"solidity\":0.2}},\"type\":\"bar\"}],\"scattergeo\":[{\"type\":\"scattergeo\",\"marker\":{\"colorbar\":{\"outlinewidth\":0,\"ticks\":\"\"}}}],\"scatterpolar\":[{\"type\":\"scatterpolar\",\"marker\":{\"colorbar\":{\"outlinewidth\":0,\"ticks\":\"\"}}}],\"histogram\":[{\"marker\":{\"pattern\":{\"fillmode\":\"overlay\",\"size\":10,\"solidity\":0.2}},\"type\":\"histogram\"}],\"scattergl\":[{\"type\":\"scattergl\",\"marker\":{\"colorbar\":{\"outlinewidth\":0,\"ticks\":\"\"}}}],\"scatter3d\":[{\"type\":\"scatter3d\",\"line\":{\"colorbar\":{\"outlinewidth\":0,\"ticks\":\"\"}},\"marker\":{\"colorbar\":{\"outlinewidth\":0,\"ticks\":\"\"}}}],\"scattermapbox\":[{\"type\":\"scattermapbox\",\"marker\":{\"colorbar\":{\"outlinewidth\":0,\"ticks\":\"\"}}}],\"scatterternary\":[{\"type\":\"scatterternary\",\"marker\":{\"colorbar\":{\"outlinewidth\":0,\"ticks\":\"\"}}}],\"scattercarpet\":[{\"type\":\"scattercarpet\",\"marker\":{\"colorbar\":{\"outlinewidth\":0,\"ticks\":\"\"}}}],\"carpet\":[{\"aaxis\":{\"endlinecolor\":\"#2a3f5f\",\"gridcolor\":\"white\",\"linecolor\":\"white\",\"minorgridcolor\":\"white\",\"startlinecolor\":\"#2a3f5f\"},\"baxis\":{\"endlinecolor\":\"#2a3f5f\",\"gridcolor\":\"white\",\"linecolor\":\"white\",\"minorgridcolor\":\"white\",\"startlinecolor\":\"#2a3f5f\"},\"type\":\"carpet\"}],\"table\":[{\"cells\":{\"fill\":{\"color\":\"#EBF0F8\"},\"line\":{\"color\":\"white\"}},\"header\":{\"fill\":{\"color\":\"#C8D4E3\"},\"line\":{\"color\":\"white\"}},\"type\":\"table\"}],\"barpolar\":[{\"marker\":{\"line\":{\"color\":\"#E5ECF6\",\"width\":0.5},\"pattern\":{\"fillmode\":\"overlay\",\"size\":10,\"solidity\":0.2}},\"type\":\"barpolar\"}],\"pie\":[{\"automargin\":true,\"type\":\"pie\"}]},\"layout\":{\"autotypenumbers\":\"strict\",\"colorway\":[\"#636efa\",\"#EF553B\",\"#00cc96\",\"#ab63fa\",\"#FFA15A\",\"#19d3f3\",\"#FF6692\",\"#B6E880\",\"#FF97FF\",\"#FECB52\"],\"font\":{\"color\":\"#2a3f5f\"},\"hovermode\":\"closest\",\"hoverlabel\":{\"align\":\"left\"},\"paper_bgcolor\":\"white\",\"plot_bgcolor\":\"#E5ECF6\",\"polar\":{\"bgcolor\":\"#E5ECF6\",\"angularaxis\":{\"gridcolor\":\"white\",\"linecolor\":\"white\",\"ticks\":\"\"},\"radialaxis\":{\"gridcolor\":\"white\",\"linecolor\":\"white\",\"ticks\":\"\"}},\"ternary\":{\"bgcolor\":\"#E5ECF6\",\"aaxis\":{\"gridcolor\":\"white\",\"linecolor\":\"white\",\"ticks\":\"\"},\"baxis\":{\"gridcolor\":\"white\",\"linecolor\":\"white\",\"ticks\":\"\"},\"caxis\":{\"gridcolor\":\"white\",\"linecolor\":\"white\",\"ticks\":\"\"}},\"coloraxis\":{\"colorbar\":{\"outlinewidth\":0,\"ticks\":\"\"}},\"colorscale\":{\"sequential\":[[0.0,\"#0d0887\"],[0.1111111111111111,\"#46039f\"],[0.2222222222222222,\"#7201a8\"],[0.3333333333333333,\"#9c179e\"],[0.4444444444444444,\"#bd3786\"],[0.5555555555555556,\"#d8576b\"],[0.6666666666666666,\"#ed7953\"],[0.7777777777777778,\"#fb9f3a\"],[0.8888888888888888,\"#fdca26\"],[1.0,\"#f0f921\"]],\"sequentialminus\":[[0.0,\"#0d0887\"],[0.1111111111111111,\"#46039f\"],[0.2222222222222222,\"#7201a8\"],[0.3333333333333333,\"#9c179e\"],[0.4444444444444444,\"#bd3786\"],[0.5555555555555556,\"#d8576b\"],[0.6666666666666666,\"#ed7953\"],[0.7777777777777778,\"#fb9f3a\"],[0.8888888888888888,\"#fdca26\"],[1.0,\"#f0f921\"]],\"diverging\":[[0,\"#8e0152\"],[0.1,\"#c51b7d\"],[0.2,\"#de77ae\"],[0.3,\"#f1b6da\"],[0.4,\"#fde0ef\"],[0.5,\"#f7f7f7\"],[0.6,\"#e6f5d0\"],[0.7,\"#b8e186\"],[0.8,\"#7fbc41\"],[0.9,\"#4d9221\"],[1,\"#276419\"]]},\"xaxis\":{\"gridcolor\":\"white\",\"linecolor\":\"white\",\"ticks\":\"\",\"title\":{\"standoff\":15},\"zerolinecolor\":\"white\",\"automargin\":true,\"zerolinewidth\":2},\"yaxis\":{\"gridcolor\":\"white\",\"linecolor\":\"white\",\"ticks\":\"\",\"title\":{\"standoff\":15},\"zerolinecolor\":\"white\",\"automargin\":true,\"zerolinewidth\":2},\"scene\":{\"xaxis\":{\"backgroundcolor\":\"#E5ECF6\",\"gridcolor\":\"white\",\"linecolor\":\"white\",\"showbackground\":true,\"ticks\":\"\",\"zerolinecolor\":\"white\",\"gridwidth\":2},\"yaxis\":{\"backgroundcolor\":\"#E5ECF6\",\"gridcolor\":\"white\",\"linecolor\":\"white\",\"showbackground\":true,\"ticks\":\"\",\"zerolinecolor\":\"white\",\"gridwidth\":2},\"zaxis\":{\"backgroundcolor\":\"#E5ECF6\",\"gridcolor\":\"white\",\"linecolor\":\"white\",\"showbackground\":true,\"ticks\":\"\",\"zerolinecolor\":\"white\",\"gridwidth\":2}},\"shapedefaults\":{\"line\":{\"color\":\"#2a3f5f\"}},\"annotationdefaults\":{\"arrowcolor\":\"#2a3f5f\",\"arrowhead\":0,\"arrowwidth\":1},\"geo\":{\"bgcolor\":\"white\",\"landcolor\":\"#E5ECF6\",\"subunitcolor\":\"white\",\"showland\":true,\"showlakes\":true,\"lakecolor\":\"white\"},\"title\":{\"x\":0.05},\"mapbox\":{\"style\":\"light\"}}},\"title\":{\"font\":{\"size\":20,\"color\":\"black\"},\"text\":\"Comparing Item Sales for Valentine's Vs Christmas\",\"y\":0.95,\"x\":0.5,\"xanchor\":\"center\",\"yanchor\":\"top\"},\"legend\":{\"orientation\":\"h\",\"yanchor\":\"bottom\",\"y\":1.02,\"xanchor\":\"right\",\"x\":1}},                        {\"responsive\": true}                    ).then(function(){\n",
       "                            \n",
       "var gd = document.getElementById('5b2c0fc8-7bec-4c5d-a3bc-0f4b00ee06cf');\n",
       "var x = new MutationObserver(function (mutations, observer) {{\n",
       "        var display = window.getComputedStyle(gd).display;\n",
       "        if (!display || display === 'none') {{\n",
       "            console.log([gd, 'removed!']);\n",
       "            Plotly.purge(gd);\n",
       "            observer.disconnect();\n",
       "        }}\n",
       "}});\n",
       "\n",
       "// Listen for the removal of the full notebook cells\n",
       "var notebookContainer = gd.closest('#notebook-container');\n",
       "if (notebookContainer) {{\n",
       "    x.observe(notebookContainer, {childList: true});\n",
       "}}\n",
       "\n",
       "// Listen for the clearing of the current output cell\n",
       "var outputEl = gd.closest('.output');\n",
       "if (outputEl) {{\n",
       "    x.observe(outputEl, {childList: true});\n",
       "}}\n",
       "\n",
       "                        })                };                });            </script>        </div>"
      ]
     },
     "metadata": {},
     "output_type": "display_data"
    }
   ],
   "source": [
    "# Building the DF for Christmas items\n",
    "xmas_items = eu_ecom_df[eu_ecom_df[\"Description\"].str.\n",
    "                        contains(\"CHRISTMAS|xmas\", \n",
    "                                 case=False, \n",
    "                                 regex=True)].groupby(\"Date\").agg({\n",
    "                                     \"Quantity\": pd.Series.sum,\n",
    "                                     \"MoneySpent\": pd.Series.sum\n",
    "                                     })\n",
    "xmas_items.reset_index(inplace=True)\n",
    "xmas_items.sort_values([\"Date\", \"Quantity\"], ascending=[True, False], \n",
    "                       inplace=True)\n",
    "\n",
    "# Building the DF for Valentine items\n",
    "val_items = eu_ecom_df[eu_ecom_df[\"Description\"].str.\n",
    "                       contains(\"heart|love|valentine\", \n",
    "                                case=False, \n",
    "                                regex=True)].groupby([\"Date\"]).agg({\n",
    "                                    \"Quantity\": pd.Series.sum,\n",
    "                                    \"MoneySpent\": pd.Series.sum\n",
    "                                    })\n",
    "val_items.reset_index(inplace=True)\n",
    "val_items.sort_values([\"Date\", \"Quantity\"], ascending=[True, False], \n",
    "                      inplace=True)\n",
    "\n",
    "# Plotting the comparison chart\n",
    "xmas_vs_valentine_items = go.Figure()\n",
    "xmas_vs_valentine_items.add_trace(go.Scatter(x=xmas_items[\"Date\"], y=xmas_items[\"MoneySpent\"],\n",
    "                    mode='lines', fill='tozeroy', name='Christmas Items',\n",
    "                    opacity=1))\n",
    "xmas_vs_valentine_items.add_trace(go.Scatter(x=val_items[\"Date\"], y=val_items[\"MoneySpent\"],\n",
    "                    mode='lines', fill='tozeroy', name='Valentine Items'))\n",
    "\n",
    "xmas_vs_valentine_items.update_layout(titlefont=dict(size=20, color='black'),\n",
    "                      title=dict(\n",
    "                          text = \"Comparing Item Sales for Valentine's Vs Christmas\",\n",
    "                          y = 0.95,\n",
    "                          x = 0.5,\n",
    "                          xanchor =  'center',\n",
    "                          yanchor = 'top'\n",
    "                          ),\n",
    "                      legend=dict(\n",
    "                          orientation = \"h\", \n",
    "                          yanchor = \"bottom\", \n",
    "                          y = 1.02, \n",
    "                          xanchor = \"right\",\n",
    "                          x = 1))\n",
    "\n",
    "xmas_vs_valentine_items.show()"
   ]
  },
  {
   "cell_type": "code",
   "execution_count": 29,
   "id": "ddb151de",
   "metadata": {
    "execution": {
     "iopub.execute_input": "2022-12-29T13:38:41.508110Z",
     "iopub.status.busy": "2022-12-29T13:38:41.507125Z",
     "iopub.status.idle": "2022-12-29T13:38:41.526229Z",
     "shell.execute_reply": "2022-12-29T13:38:41.525117Z"
    },
    "id": "_ZjE94ywxSpy",
    "jupyter": {
     "source_hidden": true
    },
    "outputId": "fc36913c-2f6f-4fc1-896a-94d96006b846",
    "papermill": {
     "duration": 0.043865,
     "end_time": "2022-12-29T13:38:41.528568",
     "exception": false,
     "start_time": "2022-12-29T13:38:41.484703",
     "status": "completed"
    },
    "tags": []
   },
   "outputs": [
    {
     "data": {
      "text/html": [
       "<div>                            <div id=\"f9cc4269-b9d5-4178-8ac2-65abb7653ffb\" class=\"plotly-graph-div\" style=\"height:500px; width:800px;\"></div>            <script type=\"text/javascript\">                require([\"plotly\"], function(Plotly) {                    window.PLOTLYENV=window.PLOTLYENV || {};                                    if (document.getElementById(\"f9cc4269-b9d5-4178-8ac2-65abb7653ffb\")) {                    Plotly.newPlot(                        \"f9cc4269-b9d5-4178-8ac2-65abb7653ffb\",                        [{\"x\":[\"Christmas\",\"Valentine\"],\"y\":[70084.64000000001,173625.56],\"type\":\"bar\"}],                        {\"template\":{\"data\":{\"histogram2dcontour\":[{\"type\":\"histogram2dcontour\",\"colorbar\":{\"outlinewidth\":0,\"ticks\":\"\"},\"colorscale\":[[0.0,\"#0d0887\"],[0.1111111111111111,\"#46039f\"],[0.2222222222222222,\"#7201a8\"],[0.3333333333333333,\"#9c179e\"],[0.4444444444444444,\"#bd3786\"],[0.5555555555555556,\"#d8576b\"],[0.6666666666666666,\"#ed7953\"],[0.7777777777777778,\"#fb9f3a\"],[0.8888888888888888,\"#fdca26\"],[1.0,\"#f0f921\"]]}],\"choropleth\":[{\"type\":\"choropleth\",\"colorbar\":{\"outlinewidth\":0,\"ticks\":\"\"}}],\"histogram2d\":[{\"type\":\"histogram2d\",\"colorbar\":{\"outlinewidth\":0,\"ticks\":\"\"},\"colorscale\":[[0.0,\"#0d0887\"],[0.1111111111111111,\"#46039f\"],[0.2222222222222222,\"#7201a8\"],[0.3333333333333333,\"#9c179e\"],[0.4444444444444444,\"#bd3786\"],[0.5555555555555556,\"#d8576b\"],[0.6666666666666666,\"#ed7953\"],[0.7777777777777778,\"#fb9f3a\"],[0.8888888888888888,\"#fdca26\"],[1.0,\"#f0f921\"]]}],\"heatmap\":[{\"type\":\"heatmap\",\"colorbar\":{\"outlinewidth\":0,\"ticks\":\"\"},\"colorscale\":[[0.0,\"#0d0887\"],[0.1111111111111111,\"#46039f\"],[0.2222222222222222,\"#7201a8\"],[0.3333333333333333,\"#9c179e\"],[0.4444444444444444,\"#bd3786\"],[0.5555555555555556,\"#d8576b\"],[0.6666666666666666,\"#ed7953\"],[0.7777777777777778,\"#fb9f3a\"],[0.8888888888888888,\"#fdca26\"],[1.0,\"#f0f921\"]]}],\"heatmapgl\":[{\"type\":\"heatmapgl\",\"colorbar\":{\"outlinewidth\":0,\"ticks\":\"\"},\"colorscale\":[[0.0,\"#0d0887\"],[0.1111111111111111,\"#46039f\"],[0.2222222222222222,\"#7201a8\"],[0.3333333333333333,\"#9c179e\"],[0.4444444444444444,\"#bd3786\"],[0.5555555555555556,\"#d8576b\"],[0.6666666666666666,\"#ed7953\"],[0.7777777777777778,\"#fb9f3a\"],[0.8888888888888888,\"#fdca26\"],[1.0,\"#f0f921\"]]}],\"contourcarpet\":[{\"type\":\"contourcarpet\",\"colorbar\":{\"outlinewidth\":0,\"ticks\":\"\"}}],\"contour\":[{\"type\":\"contour\",\"colorbar\":{\"outlinewidth\":0,\"ticks\":\"\"},\"colorscale\":[[0.0,\"#0d0887\"],[0.1111111111111111,\"#46039f\"],[0.2222222222222222,\"#7201a8\"],[0.3333333333333333,\"#9c179e\"],[0.4444444444444444,\"#bd3786\"],[0.5555555555555556,\"#d8576b\"],[0.6666666666666666,\"#ed7953\"],[0.7777777777777778,\"#fb9f3a\"],[0.8888888888888888,\"#fdca26\"],[1.0,\"#f0f921\"]]}],\"surface\":[{\"type\":\"surface\",\"colorbar\":{\"outlinewidth\":0,\"ticks\":\"\"},\"colorscale\":[[0.0,\"#0d0887\"],[0.1111111111111111,\"#46039f\"],[0.2222222222222222,\"#7201a8\"],[0.3333333333333333,\"#9c179e\"],[0.4444444444444444,\"#bd3786\"],[0.5555555555555556,\"#d8576b\"],[0.6666666666666666,\"#ed7953\"],[0.7777777777777778,\"#fb9f3a\"],[0.8888888888888888,\"#fdca26\"],[1.0,\"#f0f921\"]]}],\"mesh3d\":[{\"type\":\"mesh3d\",\"colorbar\":{\"outlinewidth\":0,\"ticks\":\"\"}}],\"scatter\":[{\"fillpattern\":{\"fillmode\":\"overlay\",\"size\":10,\"solidity\":0.2},\"type\":\"scatter\"}],\"parcoords\":[{\"type\":\"parcoords\",\"line\":{\"colorbar\":{\"outlinewidth\":0,\"ticks\":\"\"}}}],\"scatterpolargl\":[{\"type\":\"scatterpolargl\",\"marker\":{\"colorbar\":{\"outlinewidth\":0,\"ticks\":\"\"}}}],\"bar\":[{\"error_x\":{\"color\":\"#2a3f5f\"},\"error_y\":{\"color\":\"#2a3f5f\"},\"marker\":{\"line\":{\"color\":\"#E5ECF6\",\"width\":0.5},\"pattern\":{\"fillmode\":\"overlay\",\"size\":10,\"solidity\":0.2}},\"type\":\"bar\"}],\"scattergeo\":[{\"type\":\"scattergeo\",\"marker\":{\"colorbar\":{\"outlinewidth\":0,\"ticks\":\"\"}}}],\"scatterpolar\":[{\"type\":\"scatterpolar\",\"marker\":{\"colorbar\":{\"outlinewidth\":0,\"ticks\":\"\"}}}],\"histogram\":[{\"marker\":{\"pattern\":{\"fillmode\":\"overlay\",\"size\":10,\"solidity\":0.2}},\"type\":\"histogram\"}],\"scattergl\":[{\"type\":\"scattergl\",\"marker\":{\"colorbar\":{\"outlinewidth\":0,\"ticks\":\"\"}}}],\"scatter3d\":[{\"type\":\"scatter3d\",\"line\":{\"colorbar\":{\"outlinewidth\":0,\"ticks\":\"\"}},\"marker\":{\"colorbar\":{\"outlinewidth\":0,\"ticks\":\"\"}}}],\"scattermapbox\":[{\"type\":\"scattermapbox\",\"marker\":{\"colorbar\":{\"outlinewidth\":0,\"ticks\":\"\"}}}],\"scatterternary\":[{\"type\":\"scatterternary\",\"marker\":{\"colorbar\":{\"outlinewidth\":0,\"ticks\":\"\"}}}],\"scattercarpet\":[{\"type\":\"scattercarpet\",\"marker\":{\"colorbar\":{\"outlinewidth\":0,\"ticks\":\"\"}}}],\"carpet\":[{\"aaxis\":{\"endlinecolor\":\"#2a3f5f\",\"gridcolor\":\"white\",\"linecolor\":\"white\",\"minorgridcolor\":\"white\",\"startlinecolor\":\"#2a3f5f\"},\"baxis\":{\"endlinecolor\":\"#2a3f5f\",\"gridcolor\":\"white\",\"linecolor\":\"white\",\"minorgridcolor\":\"white\",\"startlinecolor\":\"#2a3f5f\"},\"type\":\"carpet\"}],\"table\":[{\"cells\":{\"fill\":{\"color\":\"#EBF0F8\"},\"line\":{\"color\":\"white\"}},\"header\":{\"fill\":{\"color\":\"#C8D4E3\"},\"line\":{\"color\":\"white\"}},\"type\":\"table\"}],\"barpolar\":[{\"marker\":{\"line\":{\"color\":\"#E5ECF6\",\"width\":0.5},\"pattern\":{\"fillmode\":\"overlay\",\"size\":10,\"solidity\":0.2}},\"type\":\"barpolar\"}],\"pie\":[{\"automargin\":true,\"type\":\"pie\"}]},\"layout\":{\"autotypenumbers\":\"strict\",\"colorway\":[\"#636efa\",\"#EF553B\",\"#00cc96\",\"#ab63fa\",\"#FFA15A\",\"#19d3f3\",\"#FF6692\",\"#B6E880\",\"#FF97FF\",\"#FECB52\"],\"font\":{\"color\":\"#2a3f5f\"},\"hovermode\":\"closest\",\"hoverlabel\":{\"align\":\"left\"},\"paper_bgcolor\":\"white\",\"plot_bgcolor\":\"#E5ECF6\",\"polar\":{\"bgcolor\":\"#E5ECF6\",\"angularaxis\":{\"gridcolor\":\"white\",\"linecolor\":\"white\",\"ticks\":\"\"},\"radialaxis\":{\"gridcolor\":\"white\",\"linecolor\":\"white\",\"ticks\":\"\"}},\"ternary\":{\"bgcolor\":\"#E5ECF6\",\"aaxis\":{\"gridcolor\":\"white\",\"linecolor\":\"white\",\"ticks\":\"\"},\"baxis\":{\"gridcolor\":\"white\",\"linecolor\":\"white\",\"ticks\":\"\"},\"caxis\":{\"gridcolor\":\"white\",\"linecolor\":\"white\",\"ticks\":\"\"}},\"coloraxis\":{\"colorbar\":{\"outlinewidth\":0,\"ticks\":\"\"}},\"colorscale\":{\"sequential\":[[0.0,\"#0d0887\"],[0.1111111111111111,\"#46039f\"],[0.2222222222222222,\"#7201a8\"],[0.3333333333333333,\"#9c179e\"],[0.4444444444444444,\"#bd3786\"],[0.5555555555555556,\"#d8576b\"],[0.6666666666666666,\"#ed7953\"],[0.7777777777777778,\"#fb9f3a\"],[0.8888888888888888,\"#fdca26\"],[1.0,\"#f0f921\"]],\"sequentialminus\":[[0.0,\"#0d0887\"],[0.1111111111111111,\"#46039f\"],[0.2222222222222222,\"#7201a8\"],[0.3333333333333333,\"#9c179e\"],[0.4444444444444444,\"#bd3786\"],[0.5555555555555556,\"#d8576b\"],[0.6666666666666666,\"#ed7953\"],[0.7777777777777778,\"#fb9f3a\"],[0.8888888888888888,\"#fdca26\"],[1.0,\"#f0f921\"]],\"diverging\":[[0,\"#8e0152\"],[0.1,\"#c51b7d\"],[0.2,\"#de77ae\"],[0.3,\"#f1b6da\"],[0.4,\"#fde0ef\"],[0.5,\"#f7f7f7\"],[0.6,\"#e6f5d0\"],[0.7,\"#b8e186\"],[0.8,\"#7fbc41\"],[0.9,\"#4d9221\"],[1,\"#276419\"]]},\"xaxis\":{\"gridcolor\":\"white\",\"linecolor\":\"white\",\"ticks\":\"\",\"title\":{\"standoff\":15},\"zerolinecolor\":\"white\",\"automargin\":true,\"zerolinewidth\":2},\"yaxis\":{\"gridcolor\":\"white\",\"linecolor\":\"white\",\"ticks\":\"\",\"title\":{\"standoff\":15},\"zerolinecolor\":\"white\",\"automargin\":true,\"zerolinewidth\":2},\"scene\":{\"xaxis\":{\"backgroundcolor\":\"#E5ECF6\",\"gridcolor\":\"white\",\"linecolor\":\"white\",\"showbackground\":true,\"ticks\":\"\",\"zerolinecolor\":\"white\",\"gridwidth\":2},\"yaxis\":{\"backgroundcolor\":\"#E5ECF6\",\"gridcolor\":\"white\",\"linecolor\":\"white\",\"showbackground\":true,\"ticks\":\"\",\"zerolinecolor\":\"white\",\"gridwidth\":2},\"zaxis\":{\"backgroundcolor\":\"#E5ECF6\",\"gridcolor\":\"white\",\"linecolor\":\"white\",\"showbackground\":true,\"ticks\":\"\",\"zerolinecolor\":\"white\",\"gridwidth\":2}},\"shapedefaults\":{\"line\":{\"color\":\"#2a3f5f\"}},\"annotationdefaults\":{\"arrowcolor\":\"#2a3f5f\",\"arrowhead\":0,\"arrowwidth\":1},\"geo\":{\"bgcolor\":\"white\",\"landcolor\":\"#E5ECF6\",\"subunitcolor\":\"white\",\"showland\":true,\"showlakes\":true,\"lakecolor\":\"white\"},\"title\":{\"x\":0.05},\"mapbox\":{\"style\":\"light\"}}},\"title\":{\"font\":{\"size\":20,\"color\":\"black\"},\"text\":\"Total Money Spent on Christmas Items vs Valentine's Items Throughout the Year\",\"y\":0.95,\"x\":0.5,\"xanchor\":\"center\",\"yanchor\":\"top\"},\"yaxis\":{\"title\":{\"text\":\"Total Money Spent\"}},\"autosize\":false,\"width\":800,\"height\":500},                        {\"responsive\": true}                    ).then(function(){\n",
       "                            \n",
       "var gd = document.getElementById('f9cc4269-b9d5-4178-8ac2-65abb7653ffb');\n",
       "var x = new MutationObserver(function (mutations, observer) {{\n",
       "        var display = window.getComputedStyle(gd).display;\n",
       "        if (!display || display === 'none') {{\n",
       "            console.log([gd, 'removed!']);\n",
       "            Plotly.purge(gd);\n",
       "            observer.disconnect();\n",
       "        }}\n",
       "}});\n",
       "\n",
       "// Listen for the removal of the full notebook cells\n",
       "var notebookContainer = gd.closest('#notebook-container');\n",
       "if (notebookContainer) {{\n",
       "    x.observe(notebookContainer, {childList: true});\n",
       "}}\n",
       "\n",
       "// Listen for the clearing of the current output cell\n",
       "var outputEl = gd.closest('.output');\n",
       "if (outputEl) {{\n",
       "    x.observe(outputEl, {childList: true});\n",
       "}}\n",
       "\n",
       "                        })                };                });            </script>        </div>"
      ]
     },
     "metadata": {},
     "output_type": "display_data"
    }
   ],
   "source": [
    "xmas_vs_valentine_spend = go.Figure()\n",
    "xmas_vs_valentine_spend.add_bar(x=[\"Christmas\", \"Valentine\"], \n",
    "                          y=[xmas_items[\"MoneySpent\"].sum(), \n",
    "                             val_items[\"MoneySpent\"].sum()])\n",
    "xmas_vs_valentine_spend.update_layout(autosize=False, width=800, height=500,\n",
    "                                      titlefont=dict(size=20, color='black'),\n",
    "                                      title=dict(\n",
    "                                        text = \"Total Money Spent on Christmas Items vs Valentine's Items Throughout the Year\",\n",
    "                                        y = 0.95,\n",
    "                                        x = 0.5,\n",
    "                                        xanchor =  'center',\n",
    "                                        yanchor = 'top'),\n",
    "                                      yaxis=dict(title_text=\"Total Money Spent\"))\n",
    "xmas_vs_valentine_spend.show()"
   ]
  },
  {
   "cell_type": "markdown",
   "id": "3a2e2655",
   "metadata": {
    "id": "Zg9ZUEHstWpl",
    "papermill": {
     "duration": 0.020679,
     "end_time": "2022-12-29T13:38:41.569909",
     "exception": false,
     "start_time": "2022-12-29T13:38:41.549230",
     "status": "completed"
    },
    "tags": []
   },
   "source": [
    "#### Insights:\n",
    "\n",
    "1. We can see that the there is a steady rise in Christmas items from mid-August and keep increasing till peak Christmas season.\n",
    "2. We expected items like Valentine's Day gifts to be popular mostly around the Valentines Season but looking at the data, that doesn't seem true. They keep selling throughout the year.\n",
    "3. Valentine items defintely bring in consistent and more money than Christmas items so the marketing team should focus more of their attention towards them."
   ]
  },
  {
   "cell_type": "markdown",
   "id": "db43879a",
   "metadata": {
    "id": "sH94GMXkLYwB",
    "papermill": {
     "duration": 0.020003,
     "end_time": "2022-12-29T13:38:41.610275",
     "exception": false,
     "start_time": "2022-12-29T13:38:41.590272",
     "status": "completed"
    },
    "tags": []
   },
   "source": [
    "### Other Holidays"
   ]
  },
  {
   "cell_type": "code",
   "execution_count": 30,
   "id": "18d99391",
   "metadata": {
    "execution": {
     "iopub.execute_input": "2022-12-29T13:38:41.654159Z",
     "iopub.status.busy": "2022-12-29T13:38:41.653729Z",
     "iopub.status.idle": "2022-12-29T13:38:52.833256Z",
     "shell.execute_reply": "2022-12-29T13:38:52.832379Z"
    },
    "id": "jDpLmLf3L0QT",
    "jupyter": {
     "source_hidden": true
    },
    "papermill": {
     "duration": 11.204519,
     "end_time": "2022-12-29T13:38:52.835870",
     "exception": false,
     "start_time": "2022-12-29T13:38:41.631351",
     "status": "completed"
    },
    "tags": []
   },
   "outputs": [],
   "source": [
    "items_df = eu_ecom_df.groupby([\"Date\", \"Description\"]).agg({\"Quantity\": pd.Series.sum,\n",
    "                                                 \"UnitPrice\": pd.Series.sum,\n",
    "                                                 \"MoneySpent\": pd.Series.sum})\n",
    "items_df.sort_values([\"Date\", \"Quantity\"], ascending=[True,False], inplace=True)\n",
    "items_df.reset_index(inplace=True)"
   ]
  },
  {
   "cell_type": "code",
   "execution_count": 31,
   "id": "c831f248",
   "metadata": {
    "execution": {
     "iopub.execute_input": "2022-12-29T13:38:52.881450Z",
     "iopub.status.busy": "2022-12-29T13:38:52.880342Z",
     "iopub.status.idle": "2022-12-29T13:38:53.555303Z",
     "shell.execute_reply": "2022-12-29T13:38:53.554480Z"
    },
    "id": "NM7_KL0GL02B",
    "jupyter": {
     "source_hidden": true
    },
    "papermill": {
     "duration": 0.700253,
     "end_time": "2022-12-29T13:38:53.557842",
     "exception": false,
     "start_time": "2022-12-29T13:38:52.857589",
     "status": "completed"
    },
    "tags": []
   },
   "outputs": [],
   "source": [
    "# Columbus DF\n",
    "columbus_df = items_df[(items_df[\"Date\"] > \"2011-10-05\") & (items_df[\"Date\"] < \"2011-10-11\")].groupby(\"Description\").agg({\n",
    "    \"MoneySpent\": pd.Series.sum,\n",
    "    \"Quantity\": pd.Series.sum\n",
    "})\n",
    "columbus_df.sort_values(\"MoneySpent\", ascending=False, inplace=True)\n",
    "columbus_df.reset_index(inplace=True)\n",
    "\n",
    "\n",
    "# 4th of July DF\n",
    "july_4_df = items_df[(items_df[\"Date\"] > \"2011-06-29\") & (items_df[\"Date\"] <= \"2011-07-04\")].groupby(\"Description\").agg({\n",
    "    \"MoneySpent\": pd.Series.sum,\n",
    "    \"Quantity\": pd.Series.sum\n",
    "})\n",
    "july_4_df.sort_values(\"MoneySpent\", ascending=False, inplace=True)\n",
    "july_4_df.reset_index(inplace=True)\n",
    "\n",
    "\n",
    "# Labor Day DF\n",
    "labor_day_df = items_df[(items_df[\"Date\"] >= \"2011-09-01\") & (items_df[\"Date\"] <= \"2011-09-05\")].groupby(\"Description\").agg({\n",
    "    \"MoneySpent\": pd.Series.sum,\n",
    "    \"Quantity\": pd.Series.sum\n",
    "})\n",
    "labor_day_df.sort_values(\"MoneySpent\", ascending=False, inplace=True)\n",
    "labor_day_df.reset_index(inplace=True)\n",
    "\n",
    "\n",
    "# Thanksgiving DF\n",
    "thanksgiving_df = items_df[(items_df[\"Date\"] >= \"2011-11-20\") & (items_df[\"Date\"] <= \"2011-11-24\")].groupby(\"Description\").agg({\n",
    "    \"MoneySpent\": pd.Series.sum,\n",
    "    \"Quantity\": pd.Series.sum\n",
    "})\n",
    "thanksgiving_df.sort_values(\"MoneySpent\", ascending=False, inplace=True)\n",
    "thanksgiving_df.reset_index(inplace=True)\n",
    "\n",
    "\n",
    "# Memorial Day DF\n",
    "memorial_day_df = items_df[(items_df[\"Date\"] >= \"2011-05-26\") & (items_df[\"Date\"] <= \"2011-05-30\")].groupby(\"Description\").agg({\n",
    "    \"MoneySpent\": pd.Series.sum,\n",
    "    \"Quantity\": pd.Series.sum\n",
    "})\n",
    "memorial_day_df.sort_values(\"MoneySpent\", ascending=False, inplace=True)\n",
    "memorial_day_df.reset_index(inplace=True)\n",
    "\n",
    "\n",
    "# Easter DF\n",
    "easter_df = items_df[(items_df[\"Date\"] >= \"2011-04-20\") & (items_df[\"Date\"] <= \"2011-04-24\")].groupby(\"Description\").agg({\n",
    "    \"MoneySpent\": pd.Series.sum,\n",
    "    \"Quantity\": pd.Series.sum\n",
    "})\n",
    "easter_df.sort_values(\"MoneySpent\", ascending=False, inplace=True)\n",
    "easter_df.reset_index(inplace=True)\n",
    "\n",
    "\n",
    "# Juneteenth DF\n",
    "juneteenth_df = items_df[(items_df[\"Date\"] >= \"2011-06-15\") & (items_df[\"Date\"] <= \"2011-06-19\")].groupby(\"Description\").agg({\n",
    "    \"MoneySpent\": pd.Series.sum,\n",
    "    \"Quantity\": pd.Series.sum\n",
    "})\n",
    "juneteenth_df.sort_values(\"MoneySpent\", ascending=False, inplace=True)\n",
    "juneteenth_df.reset_index(inplace=True)\n",
    "\n",
    "\n",
    "# Veterans DF\n",
    "veterans_df = items_df[(items_df[\"Date\"] >= \"2011-11-07\") & (items_df[\"Date\"] <= \"2011-11-11\")].groupby(\"Description\").agg({\n",
    "    \"MoneySpent\": pd.Series.sum,\n",
    "    \"Quantity\": pd.Series.sum\n",
    "})\n",
    "veterans_df.sort_values(\"MoneySpent\", ascending=False, inplace=True)\n",
    "veterans_df.reset_index(inplace=True)"
   ]
  },
  {
   "cell_type": "code",
   "execution_count": 32,
   "id": "848305a5",
   "metadata": {
    "execution": {
     "iopub.execute_input": "2022-12-29T13:38:53.601745Z",
     "iopub.status.busy": "2022-12-29T13:38:53.600640Z",
     "iopub.status.idle": "2022-12-29T13:38:53.666097Z",
     "shell.execute_reply": "2022-12-29T13:38:53.665041Z"
    },
    "id": "fZSvjy-kM3KZ",
    "jupyter": {
     "source_hidden": true
    },
    "outputId": "f015c5d0-c6e8-4668-eb35-5d78da86c61c",
    "papermill": {
     "duration": 0.089949,
     "end_time": "2022-12-29T13:38:53.668660",
     "exception": false,
     "start_time": "2022-12-29T13:38:53.578711",
     "status": "completed"
    },
    "tags": []
   },
   "outputs": [
    {
     "data": {
      "text/html": [
       "<div>                            <div id=\"a25f8a77-8575-46ae-b8e4-aa757620044e\" class=\"plotly-graph-div\" style=\"height:2150px; width:1000px;\"></div>            <script type=\"text/javascript\">                require([\"plotly\"], function(Plotly) {                    window.PLOTLYENV=window.PLOTLYENV || {};                                    if (document.getElementById(\"a25f8a77-8575-46ae-b8e4-aa757620044e\")) {                    Plotly.newPlot(                        \"a25f8a77-8575-46ae-b8e4-aa757620044e\",                        [{\"labels\":[\"FELTCRAFT DOLL MOLLY\",\"PINK BLUE FELT CRAFT TRINKET BOX\",\"TOY TIDY PINK POLKADOT\",\"DOTCOM POSTAGE\",\"FELTCRAFT 6 FLOWER FRIENDS\"],\"marker\":{\"colors\":[\"rgb(3, 5, 18)\",\"rgb(25, 25, 51)\",\"rgb(44, 42, 87)\",\"rgb(58, 60, 125)\",\"rgb(62, 83, 160)\",\"rgb(62, 109, 178)\",\"rgb(72, 134, 187)\",\"rgb(89, 159, 196)\",\"rgb(114, 184, 205)\",\"rgb(149, 207, 216)\",\"rgb(192, 229, 232)\",\"rgb(234, 252, 253)\"]},\"name\":\"Columbus Day\",\"values\":[1655.9999999999998,1556.4,939.7,635.01,608.73],\"type\":\"pie\",\"domain\":{\"x\":[0.0,0.45],\"y\":[0.7875,1.0]}},{\"labels\":[\"SET OF 3 REGENCY CAKE TINS\",\"DOORMAT RED RETROSPOT\",\"DOORMAT BLACK FLOCK\",\"DOORMAT FANCY FONT HOME SWEET HOME\",\"JUMBO BAG RED RETROSPOT\"],\"marker\":{\"colors\":[\"rgb(3, 5, 18)\",\"rgb(25, 25, 51)\",\"rgb(44, 42, 87)\",\"rgb(58, 60, 125)\",\"rgb(62, 83, 160)\",\"rgb(62, 109, 178)\",\"rgb(72, 134, 187)\",\"rgb(89, 159, 196)\",\"rgb(114, 184, 205)\",\"rgb(149, 207, 216)\",\"rgb(192, 229, 232)\",\"rgb(234, 252, 253)\"]},\"name\":\"4th of July\",\"values\":[2509.2000000000003,1832.0,1381.95,916.0,350.0,250.0,247.10000000000002,207.7,190.8,164.95],\"type\":\"pie\",\"domain\":{\"x\":[0.55,1.0],\"y\":[0.7875,1.0]}},{\"labels\":[\"WOOD BLACK BOARD ANT WHITE FINISH\",\"PLEASE ONE PERSON METAL SIGN\",\"36 DOILIES VINTAGE CHRISTMAS\",\"BINGO SET\",\"Manual\"],\"marker\":{\"colors\":[\"rgb(3, 5, 18)\",\"rgb(25, 25, 51)\",\"rgb(44, 42, 87)\",\"rgb(58, 60, 125)\",\"rgb(62, 83, 160)\",\"rgb(62, 109, 178)\",\"rgb(72, 134, 187)\",\"rgb(89, 159, 196)\",\"rgb(114, 184, 205)\",\"rgb(149, 207, 216)\",\"rgb(192, 229, 232)\",\"rgb(234, 252, 253)\"]},\"name\":\"Labor Day\",\"values\":[1503.6000000000001,693.0,592.1999999999999,540.0,480.0],\"type\":\"pie\",\"domain\":{\"x\":[0.0,0.45],\"y\":[0.525,0.7375]}},{\"labels\":[\"PAPER CHAIN KIT 50'S CHRISTMAS\",\"CHILLI LIGHTS\",\"PARTY BUNTING\",\"WHITE HANGING HEART T-LIGHT HOLDER\",\"POPCORN HOLDER\"],\"marker\":{\"colors\":[\"rgb(3, 5, 18)\",\"rgb(25, 25, 51)\",\"rgb(44, 42, 87)\",\"rgb(58, 60, 125)\",\"rgb(62, 83, 160)\",\"rgb(62, 109, 178)\",\"rgb(72, 134, 187)\",\"rgb(89, 159, 196)\",\"rgb(114, 184, 205)\",\"rgb(149, 207, 216)\",\"rgb(192, 229, 232)\",\"rgb(234, 252, 253)\"]},\"name\":\"Thanksgiving\",\"values\":[1026.7,837.3500000000001,810.99,788.3900000000001,669.25],\"type\":\"pie\",\"domain\":{\"x\":[0.55,1.0],\"y\":[0.525,0.7375]}},{\"labels\":[\"JUMBO BAG APPLES\",\"REGENCY CAKESTAND 3 TIER\",\"TOY TIDY PINK POLKADOT\",\"RED RETROSPOT PICNIC BAG\",\"RED TOADSTOOL LED NIGHT LIGHT\"],\"marker\":{\"colors\":[\"rgb(3, 5, 18)\",\"rgb(25, 25, 51)\",\"rgb(44, 42, 87)\",\"rgb(58, 60, 125)\",\"rgb(62, 83, 160)\",\"rgb(62, 109, 178)\",\"rgb(72, 134, 187)\",\"rgb(89, 159, 196)\",\"rgb(114, 184, 205)\",\"rgb(149, 207, 216)\",\"rgb(192, 229, 232)\",\"rgb(234, 252, 253)\"]},\"name\":\"Memorial Day\",\"values\":[422.48,401.4,370.0,290.4,228.59999999999997],\"type\":\"pie\",\"domain\":{\"x\":[0.0,0.45],\"y\":[0.2625,0.475]}},{\"labels\":[\"PARTY BUNTING\",\"POTTING SHED TWINE\",\"ASSORTED COLOUR BIRD ORNAMENT\",\"BAG 125g SWIRLY MARBLES\",\"POTTERING MUG\"],\"marker\":{\"colors\":[\"rgb(3, 5, 18)\",\"rgb(25, 25, 51)\",\"rgb(44, 42, 87)\",\"rgb(58, 60, 125)\",\"rgb(62, 83, 160)\",\"rgb(62, 109, 178)\",\"rgb(72, 134, 187)\",\"rgb(89, 159, 196)\",\"rgb(114, 184, 205)\",\"rgb(149, 207, 216)\",\"rgb(192, 229, 232)\",\"rgb(234, 252, 253)\"]},\"name\":\"Easter\",\"values\":[370.85,338.40000000000003,272.56,221.76,213.12],\"type\":\"pie\",\"domain\":{\"x\":[0.55,1.0],\"y\":[0.2625,0.475]}},{\"labels\":[\"PARTY BUNTING\",\"ROUND SNACK BOXES SET OF 4 FRUITS\",\"ALARM CLOCK BAKELIKE GREEN\",\"BLACK RECORD COVER FRAME\",\"DOORMAT KEEP CALM AND COME IN\"],\"marker\":{\"colors\":[\"rgb(3, 5, 18)\",\"rgb(25, 25, 51)\",\"rgb(44, 42, 87)\",\"rgb(58, 60, 125)\",\"rgb(62, 83, 160)\",\"rgb(62, 109, 178)\",\"rgb(72, 134, 187)\",\"rgb(89, 159, 196)\",\"rgb(114, 184, 205)\",\"rgb(149, 207, 216)\",\"rgb(192, 229, 232)\",\"rgb(234, 252, 253)\"]},\"name\":\"Juneteenth\",\"values\":[523.9000000000001,315.6,251.25,247.83,230.40000000000003],\"type\":\"pie\",\"domain\":{\"x\":[0.0,0.45],\"y\":[0.0,0.2125]}},{\"labels\":[\"BAKING SET SPACEBOY DESIGN\",\"HAND WARMER SCOTTY DOG DESIGN\",\"JUMBO BAG PAISLEY PARK\",\"BUFFALO BILL TREASURE BOOK BOX\",\"ABC TREASURE BOOK BOX\"],\"marker\":{\"colors\":[\"rgb(3, 5, 18)\",\"rgb(25, 25, 51)\",\"rgb(44, 42, 87)\",\"rgb(58, 60, 125)\",\"rgb(62, 83, 160)\",\"rgb(62, 109, 178)\",\"rgb(72, 134, 187)\",\"rgb(89, 159, 196)\",\"rgb(114, 184, 205)\",\"rgb(149, 207, 216)\",\"rgb(192, 229, 232)\",\"rgb(234, 252, 253)\"]},\"name\":\"Veteran's Day\",\"values\":[1082.96,759.6000000000001,624.36,603.0,591.75],\"type\":\"pie\",\"domain\":{\"x\":[0.55,1.0],\"y\":[0.0,0.2125]}}],                        {\"template\":{\"data\":{\"histogram2dcontour\":[{\"type\":\"histogram2dcontour\",\"colorbar\":{\"outlinewidth\":0,\"ticks\":\"\"},\"colorscale\":[[0.0,\"#0d0887\"],[0.1111111111111111,\"#46039f\"],[0.2222222222222222,\"#7201a8\"],[0.3333333333333333,\"#9c179e\"],[0.4444444444444444,\"#bd3786\"],[0.5555555555555556,\"#d8576b\"],[0.6666666666666666,\"#ed7953\"],[0.7777777777777778,\"#fb9f3a\"],[0.8888888888888888,\"#fdca26\"],[1.0,\"#f0f921\"]]}],\"choropleth\":[{\"type\":\"choropleth\",\"colorbar\":{\"outlinewidth\":0,\"ticks\":\"\"}}],\"histogram2d\":[{\"type\":\"histogram2d\",\"colorbar\":{\"outlinewidth\":0,\"ticks\":\"\"},\"colorscale\":[[0.0,\"#0d0887\"],[0.1111111111111111,\"#46039f\"],[0.2222222222222222,\"#7201a8\"],[0.3333333333333333,\"#9c179e\"],[0.4444444444444444,\"#bd3786\"],[0.5555555555555556,\"#d8576b\"],[0.6666666666666666,\"#ed7953\"],[0.7777777777777778,\"#fb9f3a\"],[0.8888888888888888,\"#fdca26\"],[1.0,\"#f0f921\"]]}],\"heatmap\":[{\"type\":\"heatmap\",\"colorbar\":{\"outlinewidth\":0,\"ticks\":\"\"},\"colorscale\":[[0.0,\"#0d0887\"],[0.1111111111111111,\"#46039f\"],[0.2222222222222222,\"#7201a8\"],[0.3333333333333333,\"#9c179e\"],[0.4444444444444444,\"#bd3786\"],[0.5555555555555556,\"#d8576b\"],[0.6666666666666666,\"#ed7953\"],[0.7777777777777778,\"#fb9f3a\"],[0.8888888888888888,\"#fdca26\"],[1.0,\"#f0f921\"]]}],\"heatmapgl\":[{\"type\":\"heatmapgl\",\"colorbar\":{\"outlinewidth\":0,\"ticks\":\"\"},\"colorscale\":[[0.0,\"#0d0887\"],[0.1111111111111111,\"#46039f\"],[0.2222222222222222,\"#7201a8\"],[0.3333333333333333,\"#9c179e\"],[0.4444444444444444,\"#bd3786\"],[0.5555555555555556,\"#d8576b\"],[0.6666666666666666,\"#ed7953\"],[0.7777777777777778,\"#fb9f3a\"],[0.8888888888888888,\"#fdca26\"],[1.0,\"#f0f921\"]]}],\"contourcarpet\":[{\"type\":\"contourcarpet\",\"colorbar\":{\"outlinewidth\":0,\"ticks\":\"\"}}],\"contour\":[{\"type\":\"contour\",\"colorbar\":{\"outlinewidth\":0,\"ticks\":\"\"},\"colorscale\":[[0.0,\"#0d0887\"],[0.1111111111111111,\"#46039f\"],[0.2222222222222222,\"#7201a8\"],[0.3333333333333333,\"#9c179e\"],[0.4444444444444444,\"#bd3786\"],[0.5555555555555556,\"#d8576b\"],[0.6666666666666666,\"#ed7953\"],[0.7777777777777778,\"#fb9f3a\"],[0.8888888888888888,\"#fdca26\"],[1.0,\"#f0f921\"]]}],\"surface\":[{\"type\":\"surface\",\"colorbar\":{\"outlinewidth\":0,\"ticks\":\"\"},\"colorscale\":[[0.0,\"#0d0887\"],[0.1111111111111111,\"#46039f\"],[0.2222222222222222,\"#7201a8\"],[0.3333333333333333,\"#9c179e\"],[0.4444444444444444,\"#bd3786\"],[0.5555555555555556,\"#d8576b\"],[0.6666666666666666,\"#ed7953\"],[0.7777777777777778,\"#fb9f3a\"],[0.8888888888888888,\"#fdca26\"],[1.0,\"#f0f921\"]]}],\"mesh3d\":[{\"type\":\"mesh3d\",\"colorbar\":{\"outlinewidth\":0,\"ticks\":\"\"}}],\"scatter\":[{\"fillpattern\":{\"fillmode\":\"overlay\",\"size\":10,\"solidity\":0.2},\"type\":\"scatter\"}],\"parcoords\":[{\"type\":\"parcoords\",\"line\":{\"colorbar\":{\"outlinewidth\":0,\"ticks\":\"\"}}}],\"scatterpolargl\":[{\"type\":\"scatterpolargl\",\"marker\":{\"colorbar\":{\"outlinewidth\":0,\"ticks\":\"\"}}}],\"bar\":[{\"error_x\":{\"color\":\"#2a3f5f\"},\"error_y\":{\"color\":\"#2a3f5f\"},\"marker\":{\"line\":{\"color\":\"#E5ECF6\",\"width\":0.5},\"pattern\":{\"fillmode\":\"overlay\",\"size\":10,\"solidity\":0.2}},\"type\":\"bar\"}],\"scattergeo\":[{\"type\":\"scattergeo\",\"marker\":{\"colorbar\":{\"outlinewidth\":0,\"ticks\":\"\"}}}],\"scatterpolar\":[{\"type\":\"scatterpolar\",\"marker\":{\"colorbar\":{\"outlinewidth\":0,\"ticks\":\"\"}}}],\"histogram\":[{\"marker\":{\"pattern\":{\"fillmode\":\"overlay\",\"size\":10,\"solidity\":0.2}},\"type\":\"histogram\"}],\"scattergl\":[{\"type\":\"scattergl\",\"marker\":{\"colorbar\":{\"outlinewidth\":0,\"ticks\":\"\"}}}],\"scatter3d\":[{\"type\":\"scatter3d\",\"line\":{\"colorbar\":{\"outlinewidth\":0,\"ticks\":\"\"}},\"marker\":{\"colorbar\":{\"outlinewidth\":0,\"ticks\":\"\"}}}],\"scattermapbox\":[{\"type\":\"scattermapbox\",\"marker\":{\"colorbar\":{\"outlinewidth\":0,\"ticks\":\"\"}}}],\"scatterternary\":[{\"type\":\"scatterternary\",\"marker\":{\"colorbar\":{\"outlinewidth\":0,\"ticks\":\"\"}}}],\"scattercarpet\":[{\"type\":\"scattercarpet\",\"marker\":{\"colorbar\":{\"outlinewidth\":0,\"ticks\":\"\"}}}],\"carpet\":[{\"aaxis\":{\"endlinecolor\":\"#2a3f5f\",\"gridcolor\":\"white\",\"linecolor\":\"white\",\"minorgridcolor\":\"white\",\"startlinecolor\":\"#2a3f5f\"},\"baxis\":{\"endlinecolor\":\"#2a3f5f\",\"gridcolor\":\"white\",\"linecolor\":\"white\",\"minorgridcolor\":\"white\",\"startlinecolor\":\"#2a3f5f\"},\"type\":\"carpet\"}],\"table\":[{\"cells\":{\"fill\":{\"color\":\"#EBF0F8\"},\"line\":{\"color\":\"white\"}},\"header\":{\"fill\":{\"color\":\"#C8D4E3\"},\"line\":{\"color\":\"white\"}},\"type\":\"table\"}],\"barpolar\":[{\"marker\":{\"line\":{\"color\":\"#E5ECF6\",\"width\":0.5},\"pattern\":{\"fillmode\":\"overlay\",\"size\":10,\"solidity\":0.2}},\"type\":\"barpolar\"}],\"pie\":[{\"automargin\":true,\"type\":\"pie\"}]},\"layout\":{\"autotypenumbers\":\"strict\",\"colorway\":[\"#636efa\",\"#EF553B\",\"#00cc96\",\"#ab63fa\",\"#FFA15A\",\"#19d3f3\",\"#FF6692\",\"#B6E880\",\"#FF97FF\",\"#FECB52\"],\"font\":{\"color\":\"#2a3f5f\"},\"hovermode\":\"closest\",\"hoverlabel\":{\"align\":\"left\"},\"paper_bgcolor\":\"white\",\"plot_bgcolor\":\"#E5ECF6\",\"polar\":{\"bgcolor\":\"#E5ECF6\",\"angularaxis\":{\"gridcolor\":\"white\",\"linecolor\":\"white\",\"ticks\":\"\"},\"radialaxis\":{\"gridcolor\":\"white\",\"linecolor\":\"white\",\"ticks\":\"\"}},\"ternary\":{\"bgcolor\":\"#E5ECF6\",\"aaxis\":{\"gridcolor\":\"white\",\"linecolor\":\"white\",\"ticks\":\"\"},\"baxis\":{\"gridcolor\":\"white\",\"linecolor\":\"white\",\"ticks\":\"\"},\"caxis\":{\"gridcolor\":\"white\",\"linecolor\":\"white\",\"ticks\":\"\"}},\"coloraxis\":{\"colorbar\":{\"outlinewidth\":0,\"ticks\":\"\"}},\"colorscale\":{\"sequential\":[[0.0,\"#0d0887\"],[0.1111111111111111,\"#46039f\"],[0.2222222222222222,\"#7201a8\"],[0.3333333333333333,\"#9c179e\"],[0.4444444444444444,\"#bd3786\"],[0.5555555555555556,\"#d8576b\"],[0.6666666666666666,\"#ed7953\"],[0.7777777777777778,\"#fb9f3a\"],[0.8888888888888888,\"#fdca26\"],[1.0,\"#f0f921\"]],\"sequentialminus\":[[0.0,\"#0d0887\"],[0.1111111111111111,\"#46039f\"],[0.2222222222222222,\"#7201a8\"],[0.3333333333333333,\"#9c179e\"],[0.4444444444444444,\"#bd3786\"],[0.5555555555555556,\"#d8576b\"],[0.6666666666666666,\"#ed7953\"],[0.7777777777777778,\"#fb9f3a\"],[0.8888888888888888,\"#fdca26\"],[1.0,\"#f0f921\"]],\"diverging\":[[0,\"#8e0152\"],[0.1,\"#c51b7d\"],[0.2,\"#de77ae\"],[0.3,\"#f1b6da\"],[0.4,\"#fde0ef\"],[0.5,\"#f7f7f7\"],[0.6,\"#e6f5d0\"],[0.7,\"#b8e186\"],[0.8,\"#7fbc41\"],[0.9,\"#4d9221\"],[1,\"#276419\"]]},\"xaxis\":{\"gridcolor\":\"white\",\"linecolor\":\"white\",\"ticks\":\"\",\"title\":{\"standoff\":15},\"zerolinecolor\":\"white\",\"automargin\":true,\"zerolinewidth\":2},\"yaxis\":{\"gridcolor\":\"white\",\"linecolor\":\"white\",\"ticks\":\"\",\"title\":{\"standoff\":15},\"zerolinecolor\":\"white\",\"automargin\":true,\"zerolinewidth\":2},\"scene\":{\"xaxis\":{\"backgroundcolor\":\"#E5ECF6\",\"gridcolor\":\"white\",\"linecolor\":\"white\",\"showbackground\":true,\"ticks\":\"\",\"zerolinecolor\":\"white\",\"gridwidth\":2},\"yaxis\":{\"backgroundcolor\":\"#E5ECF6\",\"gridcolor\":\"white\",\"linecolor\":\"white\",\"showbackground\":true,\"ticks\":\"\",\"zerolinecolor\":\"white\",\"gridwidth\":2},\"zaxis\":{\"backgroundcolor\":\"#E5ECF6\",\"gridcolor\":\"white\",\"linecolor\":\"white\",\"showbackground\":true,\"ticks\":\"\",\"zerolinecolor\":\"white\",\"gridwidth\":2}},\"shapedefaults\":{\"line\":{\"color\":\"#2a3f5f\"}},\"annotationdefaults\":{\"arrowcolor\":\"#2a3f5f\",\"arrowhead\":0,\"arrowwidth\":1},\"geo\":{\"bgcolor\":\"white\",\"landcolor\":\"#E5ECF6\",\"subunitcolor\":\"white\",\"showland\":true,\"showlakes\":true,\"lakecolor\":\"white\"},\"title\":{\"x\":0.05},\"mapbox\":{\"style\":\"light\"}}},\"annotations\":[{\"font\":{\"size\":16},\"showarrow\":false,\"text\":\"Columbus Day\",\"x\":0.225,\"xanchor\":\"center\",\"xref\":\"paper\",\"y\":1.0,\"yanchor\":\"bottom\",\"yref\":\"paper\"},{\"font\":{\"size\":16},\"showarrow\":false,\"text\":\"4th of July\",\"x\":0.775,\"xanchor\":\"center\",\"xref\":\"paper\",\"y\":1.0,\"yanchor\":\"bottom\",\"yref\":\"paper\"},{\"font\":{\"size\":16},\"showarrow\":false,\"text\":\"Labor Day\",\"x\":0.225,\"xanchor\":\"center\",\"xref\":\"paper\",\"y\":0.7375,\"yanchor\":\"bottom\",\"yref\":\"paper\"},{\"font\":{\"size\":16},\"showarrow\":false,\"text\":\"Thanksgiving\",\"x\":0.775,\"xanchor\":\"center\",\"xref\":\"paper\",\"y\":0.7375,\"yanchor\":\"bottom\",\"yref\":\"paper\"},{\"font\":{\"size\":16},\"showarrow\":false,\"text\":\"Memorial Day\",\"x\":0.225,\"xanchor\":\"center\",\"xref\":\"paper\",\"y\":0.475,\"yanchor\":\"bottom\",\"yref\":\"paper\"},{\"font\":{\"size\":16},\"showarrow\":false,\"text\":\"Easter\",\"x\":0.775,\"xanchor\":\"center\",\"xref\":\"paper\",\"y\":0.475,\"yanchor\":\"bottom\",\"yref\":\"paper\"},{\"font\":{\"size\":16},\"showarrow\":false,\"text\":\"Juneteenth\",\"x\":0.225,\"xanchor\":\"center\",\"xref\":\"paper\",\"y\":0.2125,\"yanchor\":\"bottom\",\"yref\":\"paper\"},{\"font\":{\"size\":16},\"showarrow\":false,\"text\":\"Veteran's Day\",\"x\":0.775,\"xanchor\":\"center\",\"xref\":\"paper\",\"y\":0.2125,\"yanchor\":\"bottom\",\"yref\":\"paper\"}],\"title\":{\"font\":{\"size\":20,\"color\":\"black\"},\"text\":\"<b>Comparing the Top 5 Most Revenue Generating Items During Holidays</b>\",\"y\":0.99,\"x\":0.5,\"xanchor\":\"center\",\"yanchor\":\"top\"},\"autosize\":false,\"width\":1000,\"height\":2150,\"showlegend\":false},                        {\"responsive\": true}                    ).then(function(){\n",
       "                            \n",
       "var gd = document.getElementById('a25f8a77-8575-46ae-b8e4-aa757620044e');\n",
       "var x = new MutationObserver(function (mutations, observer) {{\n",
       "        var display = window.getComputedStyle(gd).display;\n",
       "        if (!display || display === 'none') {{\n",
       "            console.log([gd, 'removed!']);\n",
       "            Plotly.purge(gd);\n",
       "            observer.disconnect();\n",
       "        }}\n",
       "}});\n",
       "\n",
       "// Listen for the removal of the full notebook cells\n",
       "var notebookContainer = gd.closest('#notebook-container');\n",
       "if (notebookContainer) {{\n",
       "    x.observe(notebookContainer, {childList: true});\n",
       "}}\n",
       "\n",
       "// Listen for the clearing of the current output cell\n",
       "var outputEl = gd.closest('.output');\n",
       "if (outputEl) {{\n",
       "    x.observe(outputEl, {childList: true});\n",
       "}}\n",
       "\n",
       "                        })                };                });            </script>        </div>"
      ]
     },
     "metadata": {},
     "output_type": "display_data"
    }
   ],
   "source": [
    "specs = [[{'type':'domain'}, {'type':'domain'}],\n",
    "         [{'type':'domain'}, {'type':'domain'}],\n",
    "         [{'type':'domain'}, {'type':'domain'}],\n",
    "         [{'type':'domain'}, {'type':'domain'}]]\n",
    "\n",
    "most_popular_items = make_subplots(rows=4, cols=2, specs=specs, vertical_spacing=0.05, horizontal_spacing=0.1,\n",
    "                    subplot_titles=[\"Columbus Day\", \"4th of July\", \"Labor Day\", \"Thanksgiving\", \"Memorial Day\", \"Easter\", \"Juneteenth\", \"Veteran's Day\"])\n",
    "\n",
    "most_popular_items.add_trace(go.Pie(labels=columbus_df[\"Description\"][:5], \n",
    "                     values=columbus_df[\"MoneySpent\"][:5], name='Columbus Day',\n",
    "                     marker_colors=px.colors.sequential.ice), 1, 1)\n",
    "\n",
    "most_popular_items.add_trace(go.Pie(labels=july_4_df[\"Description\"][:5], \n",
    "                     values=july_4_df[\"MoneySpent\"][:10], name='4th of July',\n",
    "                     marker_colors=px.colors.sequential.ice), 1, 2)\n",
    "\n",
    "most_popular_items.add_trace(go.Pie(labels=labor_day_df[\"Description\"][:5], \n",
    "                     values=labor_day_df[\"MoneySpent\"][:5], name='Labor Day',\n",
    "                     marker_colors=px.colors.sequential.ice), 2, 1)\n",
    "\n",
    "most_popular_items.add_trace(go.Pie(labels=thanksgiving_df[\"Description\"][:5], \n",
    "                     values=thanksgiving_df[\"MoneySpent\"][:5], name='Thanksgiving',\n",
    "                     marker_colors=px.colors.sequential.ice), 2, 2)\n",
    "\n",
    "most_popular_items.add_trace(go.Pie(labels=memorial_day_df[\"Description\"][:5], \n",
    "                     values=memorial_day_df[\"MoneySpent\"][:5], name='Memorial Day',\n",
    "                     marker_colors=px.colors.sequential.ice), 3, 1)\n",
    "\n",
    "most_popular_items.add_trace(go.Pie(labels=easter_df[\"Description\"][:5], \n",
    "                     values=easter_df[\"MoneySpent\"][:5], name='Easter',\n",
    "                     marker_colors=px.colors.sequential.ice), 3, 2)\n",
    "\n",
    "most_popular_items.add_trace(go.Pie(labels=juneteenth_df[\"Description\"][:5], \n",
    "                     values=juneteenth_df[\"MoneySpent\"][:5], name='Juneteenth',\n",
    "                     marker_colors=px.colors.sequential.ice), 4, 1)\n",
    "\n",
    "most_popular_items.add_trace(go.Pie(labels=veterans_df[\"Description\"][:5], \n",
    "                     values=veterans_df[\"MoneySpent\"][:5], name=\"Veteran's Day\",\n",
    "                     marker_colors=px.colors.sequential.ice), 4, 2)\n",
    "\n",
    "most_popular_items.update_layout(titlefont=dict(size=20, color='black'),\n",
    "                      autosize=False,\n",
    "                      width=1000,\n",
    "                      height=2150,\n",
    "                      title=dict(\n",
    "                          text = \"<b>Comparing the Top 5 Most Revenue Generating Items During Holidays</b>\",\n",
    "                          y = 0.99,\n",
    "                          x = 0.5,\n",
    "                          xanchor = 'center',\n",
    "                          yanchor = 'top'\n",
    "                          ),\n",
    "                      showlegend=False)\n",
    "\n",
    "most_popular_items.show()"
   ]
  },
  {
   "cell_type": "markdown",
   "id": "a82e2993",
   "metadata": {
    "id": "ua2SI68H4jjO",
    "papermill": {
     "duration": 0.020643,
     "end_time": "2022-12-29T13:38:53.710563",
     "exception": false,
     "start_time": "2022-12-29T13:38:53.689920",
     "status": "completed"
    },
    "tags": []
   },
   "source": [
    "#### Insights:\n",
    "\n",
    "1. After checking out the items which were purchased around these holidays, there seems no relation between these purchases.\n",
    "2. The holiday list contains holidays mostly celebrated in the USA but we see that most orders are from the UK. Hence, there is no correlation between most holidays in the given dataset to the items that are purchased with the exception of Valentine's Day and Christmas."
   ]
  },
  {
   "cell_type": "markdown",
   "id": "0b787b40",
   "metadata": {
    "id": "W0pZDQXGOsxX",
    "papermill": {
     "duration": 0.020637,
     "end_time": "2022-12-29T13:38:53.752410",
     "exception": false,
     "start_time": "2022-12-29T13:38:53.731773",
     "status": "completed"
    },
    "tags": []
   },
   "source": [
    "# Insights About the Dataset"
   ]
  },
  {
   "cell_type": "markdown",
   "id": "91ae3c04",
   "metadata": {
    "id": "OQj36gW7zV07",
    "papermill": {
     "duration": 0.020579,
     "end_time": "2022-12-29T13:38:53.793975",
     "exception": false,
     "start_time": "2022-12-29T13:38:53.773396",
     "status": "completed"
    },
    "tags": []
   },
   "source": [
    "1. Both datasets are clean and contain no null values.\n",
    "2. The e-commerce data spans roughly a year while the holiday data spans muliple years.\n",
    "2. There is no data for any Saturday. We must assume that the business remains closed on Saturdays.\n",
    "2. There is also data missing on for most public holidays in the UK for which we can assume that the business remained closed."
   ]
  }
 ],
 "metadata": {
  "kernelspec": {
   "display_name": "Python 3",
   "language": "python",
   "name": "python3"
  },
  "language_info": {
   "codemirror_mode": {
    "name": "ipython",
    "version": 3
   },
   "file_extension": ".py",
   "mimetype": "text/x-python",
   "name": "python",
   "nbconvert_exporter": "python",
   "pygments_lexer": "ipython3",
   "version": "3.7.12"
  },
  "papermill": {
   "default_parameters": {},
   "duration": 29.66829,
   "end_time": "2022-12-29T13:38:54.738081",
   "environment_variables": {},
   "exception": null,
   "input_path": "__notebook__.ipynb",
   "output_path": "__notebook__.ipynb",
   "parameters": {},
   "start_time": "2022-12-29T13:38:25.069791",
   "version": "2.3.4"
  }
 },
 "nbformat": 4,
 "nbformat_minor": 5
}
